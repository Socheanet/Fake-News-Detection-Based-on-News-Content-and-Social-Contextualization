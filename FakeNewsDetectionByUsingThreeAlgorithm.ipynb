{
  "cells": [
    {
      "cell_type": "code",
      "execution_count": 1,
      "metadata": {
        "id": "8tPxVHsDwyFu"
      },
      "outputs": [],
      "source": [
        "import pandas as pd\n",
        "import numpy as np\n",
        "import matplotlib.pyplot as plt\n",
        "import seaborn as sns\n",
        "%matplotlib inline\n",
        "import warnings\n",
        "warnings.filterwarnings(\"ignore\")\n",
        "\n",
        "import nltk\n",
        "from nltk.corpus import stopwords\n",
        "import re\n",
        "\n",
        "from spacy.lang.en import English\n",
        "from spacy.lang.en.stop_words import STOP_WORDS\n",
        "from sklearn.preprocessing import StandardScaler\n",
        "\n",
        "stop_words = STOP_WORDS\n",
        "import string\n",
        "punctuations = string.punctuation\n",
        "from gensim.models import Word2Vec\n",
        "\n",
        "from sklearn.model_selection import GridSearchCV,TimeSeriesSplit\n",
        "from sklearn.metrics import confusion_matrix,f1_score,classification_report\n",
        "from sklearn.naive_bayes import MultinomialNB"
      ]
    },
    {
      "cell_type": "code",
      "execution_count": 2,
      "metadata": {
        "id": "w2aagSuqxBLX"
      },
      "outputs": [],
      "source": [
        "real_news = pd.read_csv('/content/True.csv')"
      ]
    },
    {
      "cell_type": "code",
      "execution_count": 6,
      "metadata": {
        "id": "cH1kXSh22-fu"
      },
      "outputs": [],
      "source": [
        "fake_news = pd.read_csv('/content/Fake.csv')"
      ]
    },
    {
      "cell_type": "code",
      "execution_count": 7,
      "metadata": {
        "colab": {
          "base_uri": "https://localhost:8080/"
        },
        "id": "fYFmq-U33yCX",
        "outputId": "36a3b87f-67af-4225-e5f3-2afd3e73d56a"
      },
      "outputs": [
        {
          "output_type": "execute_result",
          "data": {
            "text/plain": [
              "(3703, 4)"
            ]
          },
          "metadata": {},
          "execution_count": 7
        }
      ],
      "source": [
        "real_news.shape"
      ]
    },
    {
      "cell_type": "code",
      "execution_count": 8,
      "metadata": {
        "colab": {
          "base_uri": "https://localhost:8080/"
        },
        "id": "-4ZM2rnS38bU",
        "outputId": "c7d74b6e-5915-4167-c6ef-b7551f72f88a"
      },
      "outputs": [
        {
          "output_type": "execute_result",
          "data": {
            "text/plain": [
              "(23481, 4)"
            ]
          },
          "metadata": {},
          "execution_count": 8
        }
      ],
      "source": [
        "fake_news.shape"
      ]
    },
    {
      "cell_type": "code",
      "execution_count": 9,
      "metadata": {
        "colab": {
          "base_uri": "https://localhost:8080/",
          "height": 206
        },
        "id": "voBnFws84HwO",
        "outputId": "5340e942-7951-4ac1-91b9-975f4e8dd2e0"
      },
      "outputs": [
        {
          "output_type": "execute_result",
          "data": {
            "text/plain": [
              "                                               title  \\\n",
              "0  As U.S. budget fight looms, Republicans flip t...   \n",
              "1  U.S. military to accept transgender recruits o...   \n",
              "2  Senior U.S. Republican senator: 'Let Mr. Muell...   \n",
              "3  FBI Russia probe helped by Australian diplomat...   \n",
              "4  Trump wants Postal Service to charge 'much mor...   \n",
              "\n",
              "                                                text       subject  \\\n",
              "0  WASHINGTON (Reuters) - The head of a conservat...  politicsNews   \n",
              "1  WASHINGTON (Reuters) - Transgender people will...  politicsNews   \n",
              "2  WASHINGTON (Reuters) - The special counsel inv...  politicsNews   \n",
              "3  WASHINGTON (Reuters) - Trump campaign adviser ...  politicsNews   \n",
              "4  SEATTLE/WASHINGTON (Reuters) - President Donal...  politicsNews   \n",
              "\n",
              "                 date  \n",
              "0  December 31, 2017   \n",
              "1  December 29, 2017   \n",
              "2  December 31, 2017   \n",
              "3  December 30, 2017   \n",
              "4  December 29, 2017   "
            ],
            "text/html": [
              "\n",
              "  <div id=\"df-40f7ea4d-3ce6-46a2-8204-ff4be4fa4457\">\n",
              "    <div class=\"colab-df-container\">\n",
              "      <div>\n",
              "<style scoped>\n",
              "    .dataframe tbody tr th:only-of-type {\n",
              "        vertical-align: middle;\n",
              "    }\n",
              "\n",
              "    .dataframe tbody tr th {\n",
              "        vertical-align: top;\n",
              "    }\n",
              "\n",
              "    .dataframe thead th {\n",
              "        text-align: right;\n",
              "    }\n",
              "</style>\n",
              "<table border=\"1\" class=\"dataframe\">\n",
              "  <thead>\n",
              "    <tr style=\"text-align: right;\">\n",
              "      <th></th>\n",
              "      <th>title</th>\n",
              "      <th>text</th>\n",
              "      <th>subject</th>\n",
              "      <th>date</th>\n",
              "    </tr>\n",
              "  </thead>\n",
              "  <tbody>\n",
              "    <tr>\n",
              "      <th>0</th>\n",
              "      <td>As U.S. budget fight looms, Republicans flip t...</td>\n",
              "      <td>WASHINGTON (Reuters) - The head of a conservat...</td>\n",
              "      <td>politicsNews</td>\n",
              "      <td>December 31, 2017</td>\n",
              "    </tr>\n",
              "    <tr>\n",
              "      <th>1</th>\n",
              "      <td>U.S. military to accept transgender recruits o...</td>\n",
              "      <td>WASHINGTON (Reuters) - Transgender people will...</td>\n",
              "      <td>politicsNews</td>\n",
              "      <td>December 29, 2017</td>\n",
              "    </tr>\n",
              "    <tr>\n",
              "      <th>2</th>\n",
              "      <td>Senior U.S. Republican senator: 'Let Mr. Muell...</td>\n",
              "      <td>WASHINGTON (Reuters) - The special counsel inv...</td>\n",
              "      <td>politicsNews</td>\n",
              "      <td>December 31, 2017</td>\n",
              "    </tr>\n",
              "    <tr>\n",
              "      <th>3</th>\n",
              "      <td>FBI Russia probe helped by Australian diplomat...</td>\n",
              "      <td>WASHINGTON (Reuters) - Trump campaign adviser ...</td>\n",
              "      <td>politicsNews</td>\n",
              "      <td>December 30, 2017</td>\n",
              "    </tr>\n",
              "    <tr>\n",
              "      <th>4</th>\n",
              "      <td>Trump wants Postal Service to charge 'much mor...</td>\n",
              "      <td>SEATTLE/WASHINGTON (Reuters) - President Donal...</td>\n",
              "      <td>politicsNews</td>\n",
              "      <td>December 29, 2017</td>\n",
              "    </tr>\n",
              "  </tbody>\n",
              "</table>\n",
              "</div>\n",
              "      <button class=\"colab-df-convert\" onclick=\"convertToInteractive('df-40f7ea4d-3ce6-46a2-8204-ff4be4fa4457')\"\n",
              "              title=\"Convert this dataframe to an interactive table.\"\n",
              "              style=\"display:none;\">\n",
              "        \n",
              "  <svg xmlns=\"http://www.w3.org/2000/svg\" height=\"24px\"viewBox=\"0 0 24 24\"\n",
              "       width=\"24px\">\n",
              "    <path d=\"M0 0h24v24H0V0z\" fill=\"none\"/>\n",
              "    <path d=\"M18.56 5.44l.94 2.06.94-2.06 2.06-.94-2.06-.94-.94-2.06-.94 2.06-2.06.94zm-11 1L8.5 8.5l.94-2.06 2.06-.94-2.06-.94L8.5 2.5l-.94 2.06-2.06.94zm10 10l.94 2.06.94-2.06 2.06-.94-2.06-.94-.94-2.06-.94 2.06-2.06.94z\"/><path d=\"M17.41 7.96l-1.37-1.37c-.4-.4-.92-.59-1.43-.59-.52 0-1.04.2-1.43.59L10.3 9.45l-7.72 7.72c-.78.78-.78 2.05 0 2.83L4 21.41c.39.39.9.59 1.41.59.51 0 1.02-.2 1.41-.59l7.78-7.78 2.81-2.81c.8-.78.8-2.07 0-2.86zM5.41 20L4 18.59l7.72-7.72 1.47 1.35L5.41 20z\"/>\n",
              "  </svg>\n",
              "      </button>\n",
              "      \n",
              "  <style>\n",
              "    .colab-df-container {\n",
              "      display:flex;\n",
              "      flex-wrap:wrap;\n",
              "      gap: 12px;\n",
              "    }\n",
              "\n",
              "    .colab-df-convert {\n",
              "      background-color: #E8F0FE;\n",
              "      border: none;\n",
              "      border-radius: 50%;\n",
              "      cursor: pointer;\n",
              "      display: none;\n",
              "      fill: #1967D2;\n",
              "      height: 32px;\n",
              "      padding: 0 0 0 0;\n",
              "      width: 32px;\n",
              "    }\n",
              "\n",
              "    .colab-df-convert:hover {\n",
              "      background-color: #E2EBFA;\n",
              "      box-shadow: 0px 1px 2px rgba(60, 64, 67, 0.3), 0px 1px 3px 1px rgba(60, 64, 67, 0.15);\n",
              "      fill: #174EA6;\n",
              "    }\n",
              "\n",
              "    [theme=dark] .colab-df-convert {\n",
              "      background-color: #3B4455;\n",
              "      fill: #D2E3FC;\n",
              "    }\n",
              "\n",
              "    [theme=dark] .colab-df-convert:hover {\n",
              "      background-color: #434B5C;\n",
              "      box-shadow: 0px 1px 3px 1px rgba(0, 0, 0, 0.15);\n",
              "      filter: drop-shadow(0px 1px 2px rgba(0, 0, 0, 0.3));\n",
              "      fill: #FFFFFF;\n",
              "    }\n",
              "  </style>\n",
              "\n",
              "      <script>\n",
              "        const buttonEl =\n",
              "          document.querySelector('#df-40f7ea4d-3ce6-46a2-8204-ff4be4fa4457 button.colab-df-convert');\n",
              "        buttonEl.style.display =\n",
              "          google.colab.kernel.accessAllowed ? 'block' : 'none';\n",
              "\n",
              "        async function convertToInteractive(key) {\n",
              "          const element = document.querySelector('#df-40f7ea4d-3ce6-46a2-8204-ff4be4fa4457');\n",
              "          const dataTable =\n",
              "            await google.colab.kernel.invokeFunction('convertToInteractive',\n",
              "                                                     [key], {});\n",
              "          if (!dataTable) return;\n",
              "\n",
              "          const docLinkHtml = 'Like what you see? Visit the ' +\n",
              "            '<a target=\"_blank\" href=https://colab.research.google.com/notebooks/data_table.ipynb>data table notebook</a>'\n",
              "            + ' to learn more about interactive tables.';\n",
              "          element.innerHTML = '';\n",
              "          dataTable['output_type'] = 'display_data';\n",
              "          await google.colab.output.renderOutput(dataTable, element);\n",
              "          const docLink = document.createElement('div');\n",
              "          docLink.innerHTML = docLinkHtml;\n",
              "          element.appendChild(docLink);\n",
              "        }\n",
              "      </script>\n",
              "    </div>\n",
              "  </div>\n",
              "  "
            ]
          },
          "metadata": {},
          "execution_count": 9
        }
      ],
      "source": [
        "real_news.head()"
      ]
    },
    {
      "cell_type": "code",
      "execution_count": 10,
      "metadata": {
        "colab": {
          "base_uri": "https://localhost:8080/",
          "height": 206
        },
        "id": "f3n-fqfq4NSo",
        "outputId": "c7edf680-758b-45e5-ef69-ba1c6bb06595"
      },
      "outputs": [
        {
          "output_type": "execute_result",
          "data": {
            "text/plain": [
              "                                               title  \\\n",
              "0   Donald Trump Sends Out Embarrassing New Year’...   \n",
              "1   Drunk Bragging Trump Staffer Started Russian ...   \n",
              "2   Sheriff David Clarke Becomes An Internet Joke...   \n",
              "3   Trump Is So Obsessed He Even Has Obama’s Name...   \n",
              "4   Pope Francis Just Called Out Donald Trump Dur...   \n",
              "\n",
              "                                                text subject  \\\n",
              "0  Donald Trump just couldn t wish all Americans ...    News   \n",
              "1  House Intelligence Committee Chairman Devin Nu...    News   \n",
              "2  On Friday, it was revealed that former Milwauk...    News   \n",
              "3  On Christmas day, Donald Trump announced that ...    News   \n",
              "4  Pope Francis used his annual Christmas Day mes...    News   \n",
              "\n",
              "                date  \n",
              "0  December 31, 2017  \n",
              "1  December 31, 2017  \n",
              "2  December 30, 2017  \n",
              "3  December 29, 2017  \n",
              "4  December 25, 2017  "
            ],
            "text/html": [
              "\n",
              "  <div id=\"df-695e24aa-a2e4-40b2-a09c-809134f943ee\">\n",
              "    <div class=\"colab-df-container\">\n",
              "      <div>\n",
              "<style scoped>\n",
              "    .dataframe tbody tr th:only-of-type {\n",
              "        vertical-align: middle;\n",
              "    }\n",
              "\n",
              "    .dataframe tbody tr th {\n",
              "        vertical-align: top;\n",
              "    }\n",
              "\n",
              "    .dataframe thead th {\n",
              "        text-align: right;\n",
              "    }\n",
              "</style>\n",
              "<table border=\"1\" class=\"dataframe\">\n",
              "  <thead>\n",
              "    <tr style=\"text-align: right;\">\n",
              "      <th></th>\n",
              "      <th>title</th>\n",
              "      <th>text</th>\n",
              "      <th>subject</th>\n",
              "      <th>date</th>\n",
              "    </tr>\n",
              "  </thead>\n",
              "  <tbody>\n",
              "    <tr>\n",
              "      <th>0</th>\n",
              "      <td>Donald Trump Sends Out Embarrassing New Year’...</td>\n",
              "      <td>Donald Trump just couldn t wish all Americans ...</td>\n",
              "      <td>News</td>\n",
              "      <td>December 31, 2017</td>\n",
              "    </tr>\n",
              "    <tr>\n",
              "      <th>1</th>\n",
              "      <td>Drunk Bragging Trump Staffer Started Russian ...</td>\n",
              "      <td>House Intelligence Committee Chairman Devin Nu...</td>\n",
              "      <td>News</td>\n",
              "      <td>December 31, 2017</td>\n",
              "    </tr>\n",
              "    <tr>\n",
              "      <th>2</th>\n",
              "      <td>Sheriff David Clarke Becomes An Internet Joke...</td>\n",
              "      <td>On Friday, it was revealed that former Milwauk...</td>\n",
              "      <td>News</td>\n",
              "      <td>December 30, 2017</td>\n",
              "    </tr>\n",
              "    <tr>\n",
              "      <th>3</th>\n",
              "      <td>Trump Is So Obsessed He Even Has Obama’s Name...</td>\n",
              "      <td>On Christmas day, Donald Trump announced that ...</td>\n",
              "      <td>News</td>\n",
              "      <td>December 29, 2017</td>\n",
              "    </tr>\n",
              "    <tr>\n",
              "      <th>4</th>\n",
              "      <td>Pope Francis Just Called Out Donald Trump Dur...</td>\n",
              "      <td>Pope Francis used his annual Christmas Day mes...</td>\n",
              "      <td>News</td>\n",
              "      <td>December 25, 2017</td>\n",
              "    </tr>\n",
              "  </tbody>\n",
              "</table>\n",
              "</div>\n",
              "      <button class=\"colab-df-convert\" onclick=\"convertToInteractive('df-695e24aa-a2e4-40b2-a09c-809134f943ee')\"\n",
              "              title=\"Convert this dataframe to an interactive table.\"\n",
              "              style=\"display:none;\">\n",
              "        \n",
              "  <svg xmlns=\"http://www.w3.org/2000/svg\" height=\"24px\"viewBox=\"0 0 24 24\"\n",
              "       width=\"24px\">\n",
              "    <path d=\"M0 0h24v24H0V0z\" fill=\"none\"/>\n",
              "    <path d=\"M18.56 5.44l.94 2.06.94-2.06 2.06-.94-2.06-.94-.94-2.06-.94 2.06-2.06.94zm-11 1L8.5 8.5l.94-2.06 2.06-.94-2.06-.94L8.5 2.5l-.94 2.06-2.06.94zm10 10l.94 2.06.94-2.06 2.06-.94-2.06-.94-.94-2.06-.94 2.06-2.06.94z\"/><path d=\"M17.41 7.96l-1.37-1.37c-.4-.4-.92-.59-1.43-.59-.52 0-1.04.2-1.43.59L10.3 9.45l-7.72 7.72c-.78.78-.78 2.05 0 2.83L4 21.41c.39.39.9.59 1.41.59.51 0 1.02-.2 1.41-.59l7.78-7.78 2.81-2.81c.8-.78.8-2.07 0-2.86zM5.41 20L4 18.59l7.72-7.72 1.47 1.35L5.41 20z\"/>\n",
              "  </svg>\n",
              "      </button>\n",
              "      \n",
              "  <style>\n",
              "    .colab-df-container {\n",
              "      display:flex;\n",
              "      flex-wrap:wrap;\n",
              "      gap: 12px;\n",
              "    }\n",
              "\n",
              "    .colab-df-convert {\n",
              "      background-color: #E8F0FE;\n",
              "      border: none;\n",
              "      border-radius: 50%;\n",
              "      cursor: pointer;\n",
              "      display: none;\n",
              "      fill: #1967D2;\n",
              "      height: 32px;\n",
              "      padding: 0 0 0 0;\n",
              "      width: 32px;\n",
              "    }\n",
              "\n",
              "    .colab-df-convert:hover {\n",
              "      background-color: #E2EBFA;\n",
              "      box-shadow: 0px 1px 2px rgba(60, 64, 67, 0.3), 0px 1px 3px 1px rgba(60, 64, 67, 0.15);\n",
              "      fill: #174EA6;\n",
              "    }\n",
              "\n",
              "    [theme=dark] .colab-df-convert {\n",
              "      background-color: #3B4455;\n",
              "      fill: #D2E3FC;\n",
              "    }\n",
              "\n",
              "    [theme=dark] .colab-df-convert:hover {\n",
              "      background-color: #434B5C;\n",
              "      box-shadow: 0px 1px 3px 1px rgba(0, 0, 0, 0.15);\n",
              "      filter: drop-shadow(0px 1px 2px rgba(0, 0, 0, 0.3));\n",
              "      fill: #FFFFFF;\n",
              "    }\n",
              "  </style>\n",
              "\n",
              "      <script>\n",
              "        const buttonEl =\n",
              "          document.querySelector('#df-695e24aa-a2e4-40b2-a09c-809134f943ee button.colab-df-convert');\n",
              "        buttonEl.style.display =\n",
              "          google.colab.kernel.accessAllowed ? 'block' : 'none';\n",
              "\n",
              "        async function convertToInteractive(key) {\n",
              "          const element = document.querySelector('#df-695e24aa-a2e4-40b2-a09c-809134f943ee');\n",
              "          const dataTable =\n",
              "            await google.colab.kernel.invokeFunction('convertToInteractive',\n",
              "                                                     [key], {});\n",
              "          if (!dataTable) return;\n",
              "\n",
              "          const docLinkHtml = 'Like what you see? Visit the ' +\n",
              "            '<a target=\"_blank\" href=https://colab.research.google.com/notebooks/data_table.ipynb>data table notebook</a>'\n",
              "            + ' to learn more about interactive tables.';\n",
              "          element.innerHTML = '';\n",
              "          dataTable['output_type'] = 'display_data';\n",
              "          await google.colab.output.renderOutput(dataTable, element);\n",
              "          const docLink = document.createElement('div');\n",
              "          docLink.innerHTML = docLinkHtml;\n",
              "          element.appendChild(docLink);\n",
              "        }\n",
              "      </script>\n",
              "    </div>\n",
              "  </div>\n",
              "  "
            ]
          },
          "metadata": {},
          "execution_count": 10
        }
      ],
      "source": [
        "fake_news.head()"
      ]
    },
    {
      "cell_type": "code",
      "execution_count": 11,
      "metadata": {
        "colab": {
          "base_uri": "https://localhost:8080/"
        },
        "id": "X0iaZmJPnoYx",
        "outputId": "01cb873b-dc55-4bc1-cb97-35c5811b095c"
      },
      "outputs": [
        {
          "output_type": "stream",
          "name": "stdout",
          "text": [
            "<class 'pandas.core.frame.DataFrame'>\n",
            "RangeIndex: 3703 entries, 0 to 3702\n",
            "Data columns (total 4 columns):\n",
            " #   Column   Non-Null Count  Dtype \n",
            "---  ------   --------------  ----- \n",
            " 0   title    3703 non-null   object\n",
            " 1   text     3703 non-null   object\n",
            " 2   subject  3702 non-null   object\n",
            " 3   date     3702 non-null   object\n",
            "dtypes: object(4)\n",
            "memory usage: 115.8+ KB\n"
          ]
        }
      ],
      "source": [
        "real_news.info()"
      ]
    },
    {
      "cell_type": "code",
      "execution_count": 12,
      "metadata": {
        "colab": {
          "base_uri": "https://localhost:8080/"
        },
        "id": "9WFiPky6nyiD",
        "outputId": "4da9451e-6abd-46d5-cb40-e7646260f5cb"
      },
      "outputs": [
        {
          "output_type": "stream",
          "name": "stdout",
          "text": [
            "<class 'pandas.core.frame.DataFrame'>\n",
            "RangeIndex: 23481 entries, 0 to 23480\n",
            "Data columns (total 4 columns):\n",
            " #   Column   Non-Null Count  Dtype \n",
            "---  ------   --------------  ----- \n",
            " 0   title    23481 non-null  object\n",
            " 1   text     23481 non-null  object\n",
            " 2   subject  23481 non-null  object\n",
            " 3   date     23481 non-null  object\n",
            "dtypes: object(4)\n",
            "memory usage: 733.9+ KB\n"
          ]
        }
      ],
      "source": [
        "fake_news.info()"
      ]
    },
    {
      "cell_type": "code",
      "execution_count": 13,
      "metadata": {
        "colab": {
          "base_uri": "https://localhost:8080/",
          "height": 353
        },
        "id": "H9cx7Auhn3zs",
        "outputId": "9da77cba-1e75-4c18-e77f-5405d592bea4"
      },
      "outputs": [
        {
          "output_type": "display_data",
          "data": {
            "text/plain": [
              "<Figure size 720x360 with 1 Axes>"
            ],
            "image/png": "[encoded data removed]"
          },
          "metadata": {
            "needs_background": "light"
          }
        }
      ],
      "source": [
        "real_subject_count=real_news['subject'].value_counts()\n",
        "plt.figure(figsize=(10,5))\n",
        "sns.barplot(real_subject_count.index, real_subject_count.values, alpha=0.8)\n",
        "plt.title('Subject of the Real News')\n",
        "plt.ylabel('Number of Occurrences', fontsize=12)\n",
        "plt.xlabel('Type of News', fontsize=12)\n",
        "plt.show()"
      ]
    },
    {
      "cell_type": "code",
      "execution_count": 14,
      "metadata": {
        "colab": {
          "base_uri": "https://localhost:8080/",
          "height": 354
        },
        "id": "I4jHtkeTn760",
        "outputId": "e761b54a-9cd5-4e95-821c-65ec7cac2d92"
      },
      "outputs": [
        {
          "output_type": "display_data",
          "data": {
            "text/plain": [
              "<Figure size 720x360 with 1 Axes>"
            ],
            "image/png": "[encoded data removed]"
          },
          "metadata": {
            "needs_background": "light"
          }
        }
      ],
      "source": [
        "fake_subject_count=fake_news.subject.value_counts()\n",
        "plt.figure(figsize=(10,5))\n",
        "sns.barplot(fake_subject_count.index, fake_subject_count.values, alpha=0.8)\n",
        "plt.title('Subject of the Fake News')\n",
        "plt.ylabel('Number of Occurrences', fontsize=12)\n",
        "plt.xlabel('Type of News', fontsize=12)\n",
        "plt.show()"
      ]
    },
    {
      "cell_type": "code",
      "execution_count": 15,
      "metadata": {
        "colab": {
          "base_uri": "https://localhost:8080/",
          "height": 514
        },
        "id": "0yHeMJwGoACY",
        "outputId": "259b2b8d-2e0a-48fd-9165-d69ce266f367"
      },
      "outputs": [
        {
          "output_type": "execute_result",
          "data": {
            "text/plain": [
              "<matplotlib.axes._subplots.AxesSubplot at 0x7fd7da599f70>"
            ]
          },
          "metadata": {},
          "execution_count": 15
        },
        {
          "output_type": "display_data",
          "data": {
            "text/plain": [
              "<Figure size 576x576 with 1 Axes>"
            ],
            "image/png": "[encoded data removed]"
          },
          "metadata": {
            "needs_background": "light"
          }
        }
      ],
      "source": [
        "plt.figure(figsize=(8,8))\n",
        "sns.countplot(y='subject', data = fake_news)"
      ]
    },
    {
      "cell_type": "code",
      "execution_count": 16,
      "metadata": {
        "colab": {
          "base_uri": "https://localhost:8080/",
          "height": 514
        },
        "id": "Vrd68petoEC4",
        "outputId": "b4d56dbb-f734-4810-a3f1-69e0b803f1a9"
      },
      "outputs": [
        {
          "output_type": "execute_result",
          "data": {
            "text/plain": [
              "<matplotlib.axes._subplots.AxesSubplot at 0x7fd7da04a430>"
            ]
          },
          "metadata": {},
          "execution_count": 16
        },
        {
          "output_type": "display_data",
          "data": {
            "text/plain": [
              "<Figure size 576x576 with 1 Axes>"
            ],
            "image/png": "[encoded data removed]"
          },
          "metadata": {
            "needs_background": "light"
          }
        }
      ],
      "source": [
        "plt.figure(figsize=(8,8))\n",
        "sns.countplot(y='subject', data = real_news)"
      ]
    },
    {
      "cell_type": "code",
      "execution_count": 17,
      "metadata": {
        "colab": {
          "base_uri": "https://localhost:8080/",
          "height": 215
        },
        "id": "pl_UxR7yoHqP",
        "outputId": "8e072f4e-c8c1-4fdf-8dd6-02dc0e70151c"
      },
      "outputs": [
        {
          "output_type": "execute_result",
          "data": {
            "text/plain": [
              "(-0.5, 399.5, 199.5, -0.5)"
            ]
          },
          "metadata": {},
          "execution_count": 17
        },
        {
          "output_type": "display_data",
          "data": {
            "text/plain": [
              "<Figure size 432x288 with 1 Axes>"
            ],
            "image/png": "[encoded data removed]"
          },
          "metadata": {
            "needs_background": "light"
          }
        }
      ],
      "source": [
        "from wordcloud import WordCloud\n",
        "wc = WordCloud().generate('text'.join(real_news['text']))\n",
        "2\n",
        "plt.imshow(wc, interpolation=\"bilinear\")\n",
        "3\n",
        "plt.axis('off')"
      ]
    },
    {
      "cell_type": "code",
      "execution_count": 18,
      "metadata": {
        "colab": {
          "base_uri": "https://localhost:8080/",
          "height": 215
        },
        "id": "i7DEoMmpoLKD",
        "outputId": "397b4dd5-0134-4984-cdca-42a24481d1b0"
      },
      "outputs": [
        {
          "output_type": "execute_result",
          "data": {
            "text/plain": [
              "(-0.5, 399.5, 199.5, -0.5)"
            ]
          },
          "metadata": {},
          "execution_count": 18
        },
        {
          "output_type": "display_data",
          "data": {
            "text/plain": [
              "<Figure size 432x288 with 1 Axes>"
            ],
            "image/png": "[encoded data removed]"
          },
          "metadata": {
            "needs_background": "light"
          }
        }
      ],
      "source": [
        "from wordcloud import WordCloud\n",
        "wc = WordCloud().generate('text'.join(fake_news['text']))\n",
        "2\n",
        "plt.imshow(wc, interpolation=\"bilinear\")\n",
        "3\n",
        "plt.axis('off')"
      ]
    },
    {
      "cell_type": "code",
      "execution_count": 19,
      "metadata": {
        "id": "2SrP0_kkoYgY"
      },
      "outputs": [],
      "source": [
        "real_news1=real_news[real_news['subject']=='politicsNews']\n",
        "fake_news1=fake_news[fake_news['subject'].isin(['politics','Government News', 'US_News'])].reset_index(drop=True)"
      ]
    },
    {
      "cell_type": "code",
      "execution_count": 20,
      "metadata": {
        "colab": {
          "base_uri": "https://localhost:8080/"
        },
        "id": "-1fhFvxRomA_",
        "outputId": "8632621f-af13-43ad-8511-05d1fe3b02ff"
      },
      "outputs": [
        {
          "output_type": "execute_result",
          "data": {
            "text/plain": [
              "(politics           6841\n",
              " Government News    1570\n",
              " US_News             783\n",
              " Name: subject, dtype: int64, politicsNews    3702\n",
              " Name: subject, dtype: int64)"
            ]
          },
          "metadata": {},
          "execution_count": 20
        }
      ],
      "source": [
        "fake_news1.subject.value_counts(), real_news1.subject.value_counts()"
      ]
    },
    {
      "cell_type": "code",
      "execution_count": 21,
      "metadata": {
        "colab": {
          "base_uri": "https://localhost:8080/",
          "height": 67
        },
        "id": "9r8WadvToonq",
        "outputId": "cbd4ca6e-5d9d-4093-bfbd-f8c013f6e564"
      },
      "outputs": [
        {
          "output_type": "stream",
          "name": "stdout",
          "text": [
            "No of empty rows: 0\n"
          ]
        },
        {
          "output_type": "execute_result",
          "data": {
            "text/plain": [
              "Empty DataFrame\n",
              "Columns: [title, text, subject, date]\n",
              "Index: []"
            ],
            "text/html": [
              "\n",
              "  <div id=\"df-bd1716b4-522e-401e-9185-14650c85ae5f\">\n",
              "    <div class=\"colab-df-container\">\n",
              "      <div>\n",
              "<style scoped>\n",
              "    .dataframe tbody tr th:only-of-type {\n",
              "        vertical-align: middle;\n",
              "    }\n",
              "\n",
              "    .dataframe tbody tr th {\n",
              "        vertical-align: top;\n",
              "    }\n",
              "\n",
              "    .dataframe thead th {\n",
              "        text-align: right;\n",
              "    }\n",
              "</style>\n",
              "<table border=\"1\" class=\"dataframe\">\n",
              "  <thead>\n",
              "    <tr style=\"text-align: right;\">\n",
              "      <th></th>\n",
              "      <th>title</th>\n",
              "      <th>text</th>\n",
              "      <th>subject</th>\n",
              "      <th>date</th>\n",
              "    </tr>\n",
              "  </thead>\n",
              "  <tbody>\n",
              "  </tbody>\n",
              "</table>\n",
              "</div>\n",
              "      <button class=\"colab-df-convert\" onclick=\"convertToInteractive('df-bd1716b4-522e-401e-9185-14650c85ae5f')\"\n",
              "              title=\"Convert this dataframe to an interactive table.\"\n",
              "              style=\"display:none;\">\n",
              "        \n",
              "  <svg xmlns=\"http://www.w3.org/2000/svg\" height=\"24px\"viewBox=\"0 0 24 24\"\n",
              "       width=\"24px\">\n",
              "    <path d=\"M0 0h24v24H0V0z\" fill=\"none\"/>\n",
              "    <path d=\"M18.56 5.44l.94 2.06.94-2.06 2.06-.94-2.06-.94-.94-2.06-.94 2.06-2.06.94zm-11 1L8.5 8.5l.94-2.06 2.06-.94-2.06-.94L8.5 2.5l-.94 2.06-2.06.94zm10 10l.94 2.06.94-2.06 2.06-.94-2.06-.94-.94-2.06-.94 2.06-2.06.94z\"/><path d=\"M17.41 7.96l-1.37-1.37c-.4-.4-.92-.59-1.43-.59-.52 0-1.04.2-1.43.59L10.3 9.45l-7.72 7.72c-.78.78-.78 2.05 0 2.83L4 21.41c.39.39.9.59 1.41.59.51 0 1.02-.2 1.41-.59l7.78-7.78 2.81-2.81c.8-.78.8-2.07 0-2.86zM5.41 20L4 18.59l7.72-7.72 1.47 1.35L5.41 20z\"/>\n",
              "  </svg>\n",
              "      </button>\n",
              "      \n",
              "  <style>\n",
              "    .colab-df-container {\n",
              "      display:flex;\n",
              "      flex-wrap:wrap;\n",
              "      gap: 12px;\n",
              "    }\n",
              "\n",
              "    .colab-df-convert {\n",
              "      background-color: #E8F0FE;\n",
              "      border: none;\n",
              "      border-radius: 50%;\n",
              "      cursor: pointer;\n",
              "      display: none;\n",
              "      fill: #1967D2;\n",
              "      height: 32px;\n",
              "      padding: 0 0 0 0;\n",
              "      width: 32px;\n",
              "    }\n",
              "\n",
              "    .colab-df-convert:hover {\n",
              "      background-color: #E2EBFA;\n",
              "      box-shadow: 0px 1px 2px rgba(60, 64, 67, 0.3), 0px 1px 3px 1px rgba(60, 64, 67, 0.15);\n",
              "      fill: #174EA6;\n",
              "    }\n",
              "\n",
              "    [theme=dark] .colab-df-convert {\n",
              "      background-color: #3B4455;\n",
              "      fill: #D2E3FC;\n",
              "    }\n",
              "\n",
              "    [theme=dark] .colab-df-convert:hover {\n",
              "      background-color: #434B5C;\n",
              "      box-shadow: 0px 1px 3px 1px rgba(0, 0, 0, 0.15);\n",
              "      filter: drop-shadow(0px 1px 2px rgba(0, 0, 0, 0.3));\n",
              "      fill: #FFFFFF;\n",
              "    }\n",
              "  </style>\n",
              "\n",
              "      <script>\n",
              "        const buttonEl =\n",
              "          document.querySelector('#df-bd1716b4-522e-401e-9185-14650c85ae5f button.colab-df-convert');\n",
              "        buttonEl.style.display =\n",
              "          google.colab.kernel.accessAllowed ? 'block' : 'none';\n",
              "\n",
              "        async function convertToInteractive(key) {\n",
              "          const element = document.querySelector('#df-bd1716b4-522e-401e-9185-14650c85ae5f');\n",
              "          const dataTable =\n",
              "            await google.colab.kernel.invokeFunction('convertToInteractive',\n",
              "                                                     [key], {});\n",
              "          if (!dataTable) return;\n",
              "\n",
              "          const docLinkHtml = 'Like what you see? Visit the ' +\n",
              "            '<a target=\"_blank\" href=https://colab.research.google.com/notebooks/data_table.ipynb>data table notebook</a>'\n",
              "            + ' to learn more about interactive tables.';\n",
              "          element.innerHTML = '';\n",
              "          dataTable['output_type'] = 'display_data';\n",
              "          await google.colab.output.renderOutput(dataTable, element);\n",
              "          const docLink = document.createElement('div');\n",
              "          docLink.innerHTML = docLinkHtml;\n",
              "          element.appendChild(docLink);\n",
              "        }\n",
              "      </script>\n",
              "    </div>\n",
              "  </div>\n",
              "  "
            ]
          },
          "metadata": {},
          "execution_count": 21
        }
      ],
      "source": [
        "empty_real_index = [index for index,text in enumerate(real_news1.text.values) if str(text).strip() == '']\n",
        "print(f\"No of empty rows: {len(empty_real_index)}\")\n",
        "real_news1.iloc[empty_real_index].tail()"
      ]
    },
    {
      "cell_type": "code",
      "execution_count": 22,
      "metadata": {
        "colab": {
          "base_uri": "https://localhost:8080/",
          "height": 224
        },
        "id": "WcVTG4mUo09C",
        "outputId": "e6a269d2-d0f5-4806-ac19-8f5bf68896e8"
      },
      "outputs": [
        {
          "output_type": "stream",
          "name": "stdout",
          "text": [
            "No of empty rows: 480\n"
          ]
        },
        {
          "output_type": "execute_result",
          "data": {
            "text/plain": [
              "                                                  title text          subject  \\\n",
              "8312  (VIDEO)MILWAUKEE SHERIFF DAVID CLARKE HAMMERS ...       Government News   \n",
              "8323  BLACK REPUBLICAN AND BRILLIANT NEUROSURGEON AN...       Government News   \n",
              "8325  (VIDEO)INCREDIBLE ACCOUNT FROM SHERIFF MICHAEL...       Government News   \n",
              "8337  (VIDEO) RIOTERS TAKE SELFIES WITH TORCHED POLI...       Government News   \n",
              "8368  TREY GOWDY TO DEA CHIEF ON MISCONDUCT: “WHAT T...       Government News   \n",
              "\n",
              "              date  \n",
              "8312   May 8, 2015  \n",
              "8323   May 5, 2015  \n",
              "8325   May 4, 2015  \n",
              "8337  Apr 27, 2015  \n",
              "8368  Apr 14, 2015  "
            ],
            "text/html": [
              "\n",
              "  <div id=\"df-528660dd-4f62-4e44-bb3c-6d0c3ed9bce6\">\n",
              "    <div class=\"colab-df-container\">\n",
              "      <div>\n",
              "<style scoped>\n",
              "    .dataframe tbody tr th:only-of-type {\n",
              "        vertical-align: middle;\n",
              "    }\n",
              "\n",
              "    .dataframe tbody tr th {\n",
              "        vertical-align: top;\n",
              "    }\n",
              "\n",
              "    .dataframe thead th {\n",
              "        text-align: right;\n",
              "    }\n",
              "</style>\n",
              "<table border=\"1\" class=\"dataframe\">\n",
              "  <thead>\n",
              "    <tr style=\"text-align: right;\">\n",
              "      <th></th>\n",
              "      <th>title</th>\n",
              "      <th>text</th>\n",
              "      <th>subject</th>\n",
              "      <th>date</th>\n",
              "    </tr>\n",
              "  </thead>\n",
              "  <tbody>\n",
              "    <tr>\n",
              "      <th>8312</th>\n",
              "      <td>(VIDEO)MILWAUKEE SHERIFF DAVID CLARKE HAMMERS ...</td>\n",
              "      <td></td>\n",
              "      <td>Government News</td>\n",
              "      <td>May 8, 2015</td>\n",
              "    </tr>\n",
              "    <tr>\n",
              "      <th>8323</th>\n",
              "      <td>BLACK REPUBLICAN AND BRILLIANT NEUROSURGEON AN...</td>\n",
              "      <td></td>\n",
              "      <td>Government News</td>\n",
              "      <td>May 5, 2015</td>\n",
              "    </tr>\n",
              "    <tr>\n",
              "      <th>8325</th>\n",
              "      <td>(VIDEO)INCREDIBLE ACCOUNT FROM SHERIFF MICHAEL...</td>\n",
              "      <td></td>\n",
              "      <td>Government News</td>\n",
              "      <td>May 4, 2015</td>\n",
              "    </tr>\n",
              "    <tr>\n",
              "      <th>8337</th>\n",
              "      <td>(VIDEO) RIOTERS TAKE SELFIES WITH TORCHED POLI...</td>\n",
              "      <td></td>\n",
              "      <td>Government News</td>\n",
              "      <td>Apr 27, 2015</td>\n",
              "    </tr>\n",
              "    <tr>\n",
              "      <th>8368</th>\n",
              "      <td>TREY GOWDY TO DEA CHIEF ON MISCONDUCT: “WHAT T...</td>\n",
              "      <td></td>\n",
              "      <td>Government News</td>\n",
              "      <td>Apr 14, 2015</td>\n",
              "    </tr>\n",
              "  </tbody>\n",
              "</table>\n",
              "</div>\n",
              "      <button class=\"colab-df-convert\" onclick=\"convertToInteractive('df-528660dd-4f62-4e44-bb3c-6d0c3ed9bce6')\"\n",
              "              title=\"Convert this dataframe to an interactive table.\"\n",
              "              style=\"display:none;\">\n",
              "        \n",
              "  <svg xmlns=\"http://www.w3.org/2000/svg\" height=\"24px\"viewBox=\"0 0 24 24\"\n",
              "       width=\"24px\">\n",
              "    <path d=\"M0 0h24v24H0V0z\" fill=\"none\"/>\n",
              "    <path d=\"M18.56 5.44l.94 2.06.94-2.06 2.06-.94-2.06-.94-.94-2.06-.94 2.06-2.06.94zm-11 1L8.5 8.5l.94-2.06 2.06-.94-2.06-.94L8.5 2.5l-.94 2.06-2.06.94zm10 10l.94 2.06.94-2.06 2.06-.94-2.06-.94-.94-2.06-.94 2.06-2.06.94z\"/><path d=\"M17.41 7.96l-1.37-1.37c-.4-.4-.92-.59-1.43-.59-.52 0-1.04.2-1.43.59L10.3 9.45l-7.72 7.72c-.78.78-.78 2.05 0 2.83L4 21.41c.39.39.9.59 1.41.59.51 0 1.02-.2 1.41-.59l7.78-7.78 2.81-2.81c.8-.78.8-2.07 0-2.86zM5.41 20L4 18.59l7.72-7.72 1.47 1.35L5.41 20z\"/>\n",
              "  </svg>\n",
              "      </button>\n",
              "      \n",
              "  <style>\n",
              "    .colab-df-container {\n",
              "      display:flex;\n",
              "      flex-wrap:wrap;\n",
              "      gap: 12px;\n",
              "    }\n",
              "\n",
              "    .colab-df-convert {\n",
              "      background-color: #E8F0FE;\n",
              "      border: none;\n",
              "      border-radius: 50%;\n",
              "      cursor: pointer;\n",
              "      display: none;\n",
              "      fill: #1967D2;\n",
              "      height: 32px;\n",
              "      padding: 0 0 0 0;\n",
              "      width: 32px;\n",
              "    }\n",
              "\n",
              "    .colab-df-convert:hover {\n",
              "      background-color: #E2EBFA;\n",
              "      box-shadow: 0px 1px 2px rgba(60, 64, 67, 0.3), 0px 1px 3px 1px rgba(60, 64, 67, 0.15);\n",
              "      fill: #174EA6;\n",
              "    }\n",
              "\n",
              "    [theme=dark] .colab-df-convert {\n",
              "      background-color: #3B4455;\n",
              "      fill: #D2E3FC;\n",
              "    }\n",
              "\n",
              "    [theme=dark] .colab-df-convert:hover {\n",
              "      background-color: #434B5C;\n",
              "      box-shadow: 0px 1px 3px 1px rgba(0, 0, 0, 0.15);\n",
              "      filter: drop-shadow(0px 1px 2px rgba(0, 0, 0, 0.3));\n",
              "      fill: #FFFFFF;\n",
              "    }\n",
              "  </style>\n",
              "\n",
              "      <script>\n",
              "        const buttonEl =\n",
              "          document.querySelector('#df-528660dd-4f62-4e44-bb3c-6d0c3ed9bce6 button.colab-df-convert');\n",
              "        buttonEl.style.display =\n",
              "          google.colab.kernel.accessAllowed ? 'block' : 'none';\n",
              "\n",
              "        async function convertToInteractive(key) {\n",
              "          const element = document.querySelector('#df-528660dd-4f62-4e44-bb3c-6d0c3ed9bce6');\n",
              "          const dataTable =\n",
              "            await google.colab.kernel.invokeFunction('convertToInteractive',\n",
              "                                                     [key], {});\n",
              "          if (!dataTable) return;\n",
              "\n",
              "          const docLinkHtml = 'Like what you see? Visit the ' +\n",
              "            '<a target=\"_blank\" href=https://colab.research.google.com/notebooks/data_table.ipynb>data table notebook</a>'\n",
              "            + ' to learn more about interactive tables.';\n",
              "          element.innerHTML = '';\n",
              "          dataTable['output_type'] = 'display_data';\n",
              "          await google.colab.output.renderOutput(dataTable, element);\n",
              "          const docLink = document.createElement('div');\n",
              "          docLink.innerHTML = docLinkHtml;\n",
              "          element.appendChild(docLink);\n",
              "        }\n",
              "      </script>\n",
              "    </div>\n",
              "  </div>\n",
              "  "
            ]
          },
          "metadata": {},
          "execution_count": 22
        }
      ],
      "source": [
        "empty_fake_index = [index for index,text in enumerate(fake_news1.text.values) if str(text).strip() == '']\n",
        "print(f\"No of empty rows: {len(empty_fake_index)}\")\n",
        "fake_news1.iloc[empty_fake_index].tail()"
      ]
    },
    {
      "cell_type": "code",
      "execution_count": 159,
      "metadata": {
        "id": "W4_QZUFzo5Qx"
      },
      "outputs": [],
      "source": [
        "#real_news1 = real_news1.drop(8970, axis=0)"
      ]
    },
    {
      "cell_type": "code",
      "source": [
        "#fill the emtpy dataset with the empty string\n",
        "fake_news1 = fake_news1.fillna('')"
      ],
      "metadata": {
        "id": "JLAXk0h_Otx3"
      },
      "execution_count": 161,
      "outputs": []
    },
    {
      "cell_type": "code",
      "source": [
        "fake_news1.isnull().sum()"
      ],
      "metadata": {
        "colab": {
          "base_uri": "https://localhost:8080/"
        },
        "id": "MK6Z3dvYPLuX",
        "outputId": "97e8226b-256c-424c-9177-8f32157f494b"
      },
      "execution_count": 162,
      "outputs": [
        {
          "output_type": "execute_result",
          "data": {
            "text/plain": [
              "title      0\n",
              "text       0\n",
              "subject    0\n",
              "date       0\n",
              "label      0\n",
              "dtype: int64"
            ]
          },
          "metadata": {},
          "execution_count": 162
        }
      ]
    },
    {
      "cell_type": "code",
      "execution_count": 24,
      "metadata": {
        "colab": {
          "base_uri": "https://localhost:8080/",
          "height": 67
        },
        "id": "Hu0KLKeto9cb",
        "outputId": "5f435d4f-d9c1-44b8-806f-33bb7d1acb34"
      },
      "outputs": [
        {
          "output_type": "stream",
          "name": "stdout",
          "text": [
            "No of empty rows: 0\n"
          ]
        },
        {
          "output_type": "execute_result",
          "data": {
            "text/plain": [
              "Empty DataFrame\n",
              "Columns: [title, text, subject, date]\n",
              "Index: []"
            ],
            "text/html": [
              "\n",
              "  <div id=\"df-2a235571-58c6-4441-b259-e2bb8815aae9\">\n",
              "    <div class=\"colab-df-container\">\n",
              "      <div>\n",
              "<style scoped>\n",
              "    .dataframe tbody tr th:only-of-type {\n",
              "        vertical-align: middle;\n",
              "    }\n",
              "\n",
              "    .dataframe tbody tr th {\n",
              "        vertical-align: top;\n",
              "    }\n",
              "\n",
              "    .dataframe thead th {\n",
              "        text-align: right;\n",
              "    }\n",
              "</style>\n",
              "<table border=\"1\" class=\"dataframe\">\n",
              "  <thead>\n",
              "    <tr style=\"text-align: right;\">\n",
              "      <th></th>\n",
              "      <th>title</th>\n",
              "      <th>text</th>\n",
              "      <th>subject</th>\n",
              "      <th>date</th>\n",
              "    </tr>\n",
              "  </thead>\n",
              "  <tbody>\n",
              "  </tbody>\n",
              "</table>\n",
              "</div>\n",
              "      <button class=\"colab-df-convert\" onclick=\"convertToInteractive('df-2a235571-58c6-4441-b259-e2bb8815aae9')\"\n",
              "              title=\"Convert this dataframe to an interactive table.\"\n",
              "              style=\"display:none;\">\n",
              "        \n",
              "  <svg xmlns=\"http://www.w3.org/2000/svg\" height=\"24px\"viewBox=\"0 0 24 24\"\n",
              "       width=\"24px\">\n",
              "    <path d=\"M0 0h24v24H0V0z\" fill=\"none\"/>\n",
              "    <path d=\"M18.56 5.44l.94 2.06.94-2.06 2.06-.94-2.06-.94-.94-2.06-.94 2.06-2.06.94zm-11 1L8.5 8.5l.94-2.06 2.06-.94-2.06-.94L8.5 2.5l-.94 2.06-2.06.94zm10 10l.94 2.06.94-2.06 2.06-.94-2.06-.94-.94-2.06-.94 2.06-2.06.94z\"/><path d=\"M17.41 7.96l-1.37-1.37c-.4-.4-.92-.59-1.43-.59-.52 0-1.04.2-1.43.59L10.3 9.45l-7.72 7.72c-.78.78-.78 2.05 0 2.83L4 21.41c.39.39.9.59 1.41.59.51 0 1.02-.2 1.41-.59l7.78-7.78 2.81-2.81c.8-.78.8-2.07 0-2.86zM5.41 20L4 18.59l7.72-7.72 1.47 1.35L5.41 20z\"/>\n",
              "  </svg>\n",
              "      </button>\n",
              "      \n",
              "  <style>\n",
              "    .colab-df-container {\n",
              "      display:flex;\n",
              "      flex-wrap:wrap;\n",
              "      gap: 12px;\n",
              "    }\n",
              "\n",
              "    .colab-df-convert {\n",
              "      background-color: #E8F0FE;\n",
              "      border: none;\n",
              "      border-radius: 50%;\n",
              "      cursor: pointer;\n",
              "      display: none;\n",
              "      fill: #1967D2;\n",
              "      height: 32px;\n",
              "      padding: 0 0 0 0;\n",
              "      width: 32px;\n",
              "    }\n",
              "\n",
              "    .colab-df-convert:hover {\n",
              "      background-color: #E2EBFA;\n",
              "      box-shadow: 0px 1px 2px rgba(60, 64, 67, 0.3), 0px 1px 3px 1px rgba(60, 64, 67, 0.15);\n",
              "      fill: #174EA6;\n",
              "    }\n",
              "\n",
              "    [theme=dark] .colab-df-convert {\n",
              "      background-color: #3B4455;\n",
              "      fill: #D2E3FC;\n",
              "    }\n",
              "\n",
              "    [theme=dark] .colab-df-convert:hover {\n",
              "      background-color: #434B5C;\n",
              "      box-shadow: 0px 1px 3px 1px rgba(0, 0, 0, 0.15);\n",
              "      filter: drop-shadow(0px 1px 2px rgba(0, 0, 0, 0.3));\n",
              "      fill: #FFFFFF;\n",
              "    }\n",
              "  </style>\n",
              "\n",
              "      <script>\n",
              "        const buttonEl =\n",
              "          document.querySelector('#df-2a235571-58c6-4441-b259-e2bb8815aae9 button.colab-df-convert');\n",
              "        buttonEl.style.display =\n",
              "          google.colab.kernel.accessAllowed ? 'block' : 'none';\n",
              "\n",
              "        async function convertToInteractive(key) {\n",
              "          const element = document.querySelector('#df-2a235571-58c6-4441-b259-e2bb8815aae9');\n",
              "          const dataTable =\n",
              "            await google.colab.kernel.invokeFunction('convertToInteractive',\n",
              "                                                     [key], {});\n",
              "          if (!dataTable) return;\n",
              "\n",
              "          const docLinkHtml = 'Like what you see? Visit the ' +\n",
              "            '<a target=\"_blank\" href=https://colab.research.google.com/notebooks/data_table.ipynb>data table notebook</a>'\n",
              "            + ' to learn more about interactive tables.';\n",
              "          element.innerHTML = '';\n",
              "          dataTable['output_type'] = 'display_data';\n",
              "          await google.colab.output.renderOutput(dataTable, element);\n",
              "          const docLink = document.createElement('div');\n",
              "          docLink.innerHTML = docLinkHtml;\n",
              "          element.appendChild(docLink);\n",
              "        }\n",
              "      </script>\n",
              "    </div>\n",
              "  </div>\n",
              "  "
            ]
          },
          "metadata": {},
          "execution_count": 24
        }
      ],
      "source": [
        "empty_real_index = [index for index,text in enumerate(real_news1.text.values) if str(text).strip() == '']\n",
        "print(f\"No of empty rows: {len(empty_real_index)}\")\n",
        "real_news1.iloc[empty_real_index].tail()"
      ]
    },
    {
      "cell_type": "code",
      "execution_count": 25,
      "metadata": {
        "colab": {
          "base_uri": "https://localhost:8080/"
        },
        "id": "SHIjs6EtpABh",
        "outputId": "8c180393-5f20-445c-ecb2-53fc859a3712"
      },
      "outputs": [
        {
          "output_type": "stream",
          "name": "stdout",
          "text": [
            "                                                  title  \\\n",
            "0     As U.S. budget fight looms, Republicans flip t...   \n",
            "1     U.S. military to accept transgender recruits o...   \n",
            "2     Senior U.S. Republican senator: 'Let Mr. Muell...   \n",
            "3     FBI Russia probe helped by Australian diplomat...   \n",
            "4     Trump wants Postal Service to charge 'much mor...   \n",
            "...                                                 ...   \n",
            "3697  For Trump's defenders, White House turmoil is ...   \n",
            "3698  Democratic attorneys general seek to intervene...   \n",
            "3699  Treasury's Mnuchin concerned about alternate s...   \n",
            "3700  U.S. Treasury vows no special treatment for Tr...   \n",
            "3701  Treasury Secretary says Trump has approved new...   \n",
            "\n",
            "                                                   text       subject  \\\n",
            "0     WASHINGTON (Reuters) - The head of a conservat...  politicsNews   \n",
            "1     WASHINGTON (Reuters) - Transgender people will...  politicsNews   \n",
            "2     WASHINGTON (Reuters) - The special counsel inv...  politicsNews   \n",
            "3     WASHINGTON (Reuters) - Trump campaign adviser ...  politicsNews   \n",
            "4     SEATTLE/WASHINGTON (Reuters) - President Donal...  politicsNews   \n",
            "...                                                 ...           ...   \n",
            "3697  WASHINGTON (Reuters) - In Washington, the chat...  politicsNews   \n",
            "3698  SAN FRANCISCO/WASHINGTON (Reuters) - More than...  politicsNews   \n",
            "3699  WASHINGTON (Reuters) - U.S. Treasury Secretary...  politicsNews   \n",
            "3700  WASHINGTON (Reuters) - U.S. Treasury Secretary...  politicsNews   \n",
            "3701  WASHINGTON (Reuters) - President Donald Trump ...  politicsNews   \n",
            "\n",
            "                    date      source  \n",
            "0     December 31, 2017    (Reuters)  \n",
            "1     December 29, 2017    (Reuters)  \n",
            "2     December 31, 2017    (Reuters)  \n",
            "3     December 30, 2017    (Reuters)  \n",
            "4     December 29, 2017   SHINGTON (  \n",
            "...                  ...         ...  \n",
            "3697       May 18, 2017    (Reuters)  \n",
            "3698       May 18, 2017   SCO/WASHIN  \n",
            "3699       May 18, 2017    (Reuters)  \n",
            "3700       May 18, 2017    (Reuters)  \n",
            "3701       May 18, 2017    (Reuters)  \n",
            "\n",
            "[3702 rows x 5 columns]\n"
          ]
        }
      ],
      "source": [
        "real_news1['source'] =real_news1.text.str.slice(10, 20)\n",
        "print(real_news1)"
      ]
    },
    {
      "cell_type": "code",
      "execution_count": 26,
      "metadata": {
        "colab": {
          "base_uri": "https://localhost:8080/"
        },
        "id": "qf88iIWUpDeR",
        "outputId": "b7c28feb-bf05-4c48-e1ff-c762c6a160c4"
      },
      "outputs": [
        {
          "output_type": "execute_result",
          "data": {
            "text/plain": [
              " (Reuters)    2241\n",
              "Reuters) -     175\n",
              "euters) -      153\n",
              "ing statem      77\n",
              "uters) - T      41\n",
              "              ... \n",
              "- U.S. dem       1\n",
              "ters) - Sa       1\n",
              "- U.S. Hou       1\n",
              "- U.S. leg       1\n",
              "- World ch       1\n",
              "Name: source, Length: 414, dtype: int64"
            ]
          },
          "metadata": {},
          "execution_count": 26
        }
      ],
      "source": [
        "real_news1.source.value_counts()"
      ]
    },
    {
      "cell_type": "code",
      "execution_count": 27,
      "metadata": {
        "colab": {
          "base_uri": "https://localhost:8080/"
        },
        "id": "RSNWwslDpG9K",
        "outputId": "2761cca1-18ca-4061-f5b1-d1531a849d2b"
      },
      "outputs": [
        {
          "output_type": "execute_result",
          "data": {
            "text/plain": [
              "politicsNews    3702\n",
              "Name: subject, dtype: int64"
            ]
          },
          "metadata": {},
          "execution_count": 27
        }
      ],
      "source": [
        "real_news1.subject.value_counts()"
      ]
    },
    {
      "cell_type": "code",
      "execution_count": 28,
      "metadata": {
        "id": "663nAsjUpKum"
      },
      "outputs": [],
      "source": [
        "real_news1['label']=1\n",
        "fake_news1['label']=0"
      ]
    },
    {
      "cell_type": "code",
      "execution_count": 29,
      "metadata": {
        "colab": {
          "base_uri": "https://localhost:8080/",
          "height": 206
        },
        "id": "rkyKA2XnpNmx",
        "outputId": "f117ad74-b0c6-4973-f7bd-4696b98d6f94"
      },
      "outputs": [
        {
          "output_type": "execute_result",
          "data": {
            "text/plain": [
              "                                               title  \\\n",
              "0  As U.S. budget fight looms, Republicans flip t...   \n",
              "1  U.S. military to accept transgender recruits o...   \n",
              "2  Senior U.S. Republican senator: 'Let Mr. Muell...   \n",
              "3  FBI Russia probe helped by Australian diplomat...   \n",
              "4  Trump wants Postal Service to charge 'much mor...   \n",
              "\n",
              "                                                text       subject  \\\n",
              "0  WASHINGTON (Reuters) - The head of a conservat...  politicsNews   \n",
              "1  WASHINGTON (Reuters) - Transgender people will...  politicsNews   \n",
              "2  WASHINGTON (Reuters) - The special counsel inv...  politicsNews   \n",
              "3  WASHINGTON (Reuters) - Trump campaign adviser ...  politicsNews   \n",
              "4  SEATTLE/WASHINGTON (Reuters) - President Donal...  politicsNews   \n",
              "\n",
              "                 date      source  label  \n",
              "0  December 31, 2017    (Reuters)      1  \n",
              "1  December 29, 2017    (Reuters)      1  \n",
              "2  December 31, 2017    (Reuters)      1  \n",
              "3  December 30, 2017    (Reuters)      1  \n",
              "4  December 29, 2017   SHINGTON (      1  "
            ],
            "text/html": [
              "\n",
              "  <div id=\"df-2e320fc1-2c35-4c7a-906b-6e7c57e91e56\">\n",
              "    <div class=\"colab-df-container\">\n",
              "      <div>\n",
              "<style scoped>\n",
              "    .dataframe tbody tr th:only-of-type {\n",
              "        vertical-align: middle;\n",
              "    }\n",
              "\n",
              "    .dataframe tbody tr th {\n",
              "        vertical-align: top;\n",
              "    }\n",
              "\n",
              "    .dataframe thead th {\n",
              "        text-align: right;\n",
              "    }\n",
              "</style>\n",
              "<table border=\"1\" class=\"dataframe\">\n",
              "  <thead>\n",
              "    <tr style=\"text-align: right;\">\n",
              "      <th></th>\n",
              "      <th>title</th>\n",
              "      <th>text</th>\n",
              "      <th>subject</th>\n",
              "      <th>date</th>\n",
              "      <th>source</th>\n",
              "      <th>label</th>\n",
              "    </tr>\n",
              "  </thead>\n",
              "  <tbody>\n",
              "    <tr>\n",
              "      <th>0</th>\n",
              "      <td>As U.S. budget fight looms, Republicans flip t...</td>\n",
              "      <td>WASHINGTON (Reuters) - The head of a conservat...</td>\n",
              "      <td>politicsNews</td>\n",
              "      <td>December 31, 2017</td>\n",
              "      <td>(Reuters)</td>\n",
              "      <td>1</td>\n",
              "    </tr>\n",
              "    <tr>\n",
              "      <th>1</th>\n",
              "      <td>U.S. military to accept transgender recruits o...</td>\n",
              "      <td>WASHINGTON (Reuters) - Transgender people will...</td>\n",
              "      <td>politicsNews</td>\n",
              "      <td>December 29, 2017</td>\n",
              "      <td>(Reuters)</td>\n",
              "      <td>1</td>\n",
              "    </tr>\n",
              "    <tr>\n",
              "      <th>2</th>\n",
              "      <td>Senior U.S. Republican senator: 'Let Mr. Muell...</td>\n",
              "      <td>WASHINGTON (Reuters) - The special counsel inv...</td>\n",
              "      <td>politicsNews</td>\n",
              "      <td>December 31, 2017</td>\n",
              "      <td>(Reuters)</td>\n",
              "      <td>1</td>\n",
              "    </tr>\n",
              "    <tr>\n",
              "      <th>3</th>\n",
              "      <td>FBI Russia probe helped by Australian diplomat...</td>\n",
              "      <td>WASHINGTON (Reuters) - Trump campaign adviser ...</td>\n",
              "      <td>politicsNews</td>\n",
              "      <td>December 30, 2017</td>\n",
              "      <td>(Reuters)</td>\n",
              "      <td>1</td>\n",
              "    </tr>\n",
              "    <tr>\n",
              "      <th>4</th>\n",
              "      <td>Trump wants Postal Service to charge 'much mor...</td>\n",
              "      <td>SEATTLE/WASHINGTON (Reuters) - President Donal...</td>\n",
              "      <td>politicsNews</td>\n",
              "      <td>December 29, 2017</td>\n",
              "      <td>SHINGTON (</td>\n",
              "      <td>1</td>\n",
              "    </tr>\n",
              "  </tbody>\n",
              "</table>\n",
              "</div>\n",
              "      <button class=\"colab-df-convert\" onclick=\"convertToInteractive('df-2e320fc1-2c35-4c7a-906b-6e7c57e91e56')\"\n",
              "              title=\"Convert this dataframe to an interactive table.\"\n",
              "              style=\"display:none;\">\n",
              "        \n",
              "  <svg xmlns=\"http://www.w3.org/2000/svg\" height=\"24px\"viewBox=\"0 0 24 24\"\n",
              "       width=\"24px\">\n",
              "    <path d=\"M0 0h24v24H0V0z\" fill=\"none\"/>\n",
              "    <path d=\"M18.56 5.44l.94 2.06.94-2.06 2.06-.94-2.06-.94-.94-2.06-.94 2.06-2.06.94zm-11 1L8.5 8.5l.94-2.06 2.06-.94-2.06-.94L8.5 2.5l-.94 2.06-2.06.94zm10 10l.94 2.06.94-2.06 2.06-.94-2.06-.94-.94-2.06-.94 2.06-2.06.94z\"/><path d=\"M17.41 7.96l-1.37-1.37c-.4-.4-.92-.59-1.43-.59-.52 0-1.04.2-1.43.59L10.3 9.45l-7.72 7.72c-.78.78-.78 2.05 0 2.83L4 21.41c.39.39.9.59 1.41.59.51 0 1.02-.2 1.41-.59l7.78-7.78 2.81-2.81c.8-.78.8-2.07 0-2.86zM5.41 20L4 18.59l7.72-7.72 1.47 1.35L5.41 20z\"/>\n",
              "  </svg>\n",
              "      </button>\n",
              "      \n",
              "  <style>\n",
              "    .colab-df-container {\n",
              "      display:flex;\n",
              "      flex-wrap:wrap;\n",
              "      gap: 12px;\n",
              "    }\n",
              "\n",
              "    .colab-df-convert {\n",
              "      background-color: #E8F0FE;\n",
              "      border: none;\n",
              "      border-radius: 50%;\n",
              "      cursor: pointer;\n",
              "      display: none;\n",
              "      fill: #1967D2;\n",
              "      height: 32px;\n",
              "      padding: 0 0 0 0;\n",
              "      width: 32px;\n",
              "    }\n",
              "\n",
              "    .colab-df-convert:hover {\n",
              "      background-color: #E2EBFA;\n",
              "      box-shadow: 0px 1px 2px rgba(60, 64, 67, 0.3), 0px 1px 3px 1px rgba(60, 64, 67, 0.15);\n",
              "      fill: #174EA6;\n",
              "    }\n",
              "\n",
              "    [theme=dark] .colab-df-convert {\n",
              "      background-color: #3B4455;\n",
              "      fill: #D2E3FC;\n",
              "    }\n",
              "\n",
              "    [theme=dark] .colab-df-convert:hover {\n",
              "      background-color: #434B5C;\n",
              "      box-shadow: 0px 1px 3px 1px rgba(0, 0, 0, 0.15);\n",
              "      filter: drop-shadow(0px 1px 2px rgba(0, 0, 0, 0.3));\n",
              "      fill: #FFFFFF;\n",
              "    }\n",
              "  </style>\n",
              "\n",
              "      <script>\n",
              "        const buttonEl =\n",
              "          document.querySelector('#df-2e320fc1-2c35-4c7a-906b-6e7c57e91e56 button.colab-df-convert');\n",
              "        buttonEl.style.display =\n",
              "          google.colab.kernel.accessAllowed ? 'block' : 'none';\n",
              "\n",
              "        async function convertToInteractive(key) {\n",
              "          const element = document.querySelector('#df-2e320fc1-2c35-4c7a-906b-6e7c57e91e56');\n",
              "          const dataTable =\n",
              "            await google.colab.kernel.invokeFunction('convertToInteractive',\n",
              "                                                     [key], {});\n",
              "          if (!dataTable) return;\n",
              "\n",
              "          const docLinkHtml = 'Like what you see? Visit the ' +\n",
              "            '<a target=\"_blank\" href=https://colab.research.google.com/notebooks/data_table.ipynb>data table notebook</a>'\n",
              "            + ' to learn more about interactive tables.';\n",
              "          element.innerHTML = '';\n",
              "          dataTable['output_type'] = 'display_data';\n",
              "          await google.colab.output.renderOutput(dataTable, element);\n",
              "          const docLink = document.createElement('div');\n",
              "          docLink.innerHTML = docLinkHtml;\n",
              "          element.appendChild(docLink);\n",
              "        }\n",
              "      </script>\n",
              "    </div>\n",
              "  </div>\n",
              "  "
            ]
          },
          "metadata": {},
          "execution_count": 29
        }
      ],
      "source": [
        "real_news1.head()"
      ]
    },
    {
      "cell_type": "code",
      "execution_count": 30,
      "metadata": {
        "colab": {
          "base_uri": "https://localhost:8080/",
          "height": 206
        },
        "id": "dZOkeROBpP1a",
        "outputId": "f6bf35fd-9a75-4c0c-b721-d542b36fa61c"
      },
      "outputs": [
        {
          "output_type": "execute_result",
          "data": {
            "text/plain": [
              "                                               title  \\\n",
              "0  Democrat Senator Warns Mueller Not To Release ...   \n",
              "1  MSNBC ANCHOR Flabbergasted at What Texas Teach...   \n",
              "2  WATCH: SNOWFLAKES ASKED Communist Party Platfo...   \n",
              "3  JUST IN: BADASS GENERAL JOHN KELLY Shoved Chin...   \n",
              "4  DOJ’s JEFF SESSIONS Opens Investigation Into W...   \n",
              "\n",
              "                                                text   subject       date  \\\n",
              "0  According to The Hill, Democrat Senator Bob Ca...  politics  19-Feb-18   \n",
              "1  If we protect every other government building ...  politics  19-Feb-18   \n",
              "2  Ami Horowitz is fantastic! Check out this man ...  politics  19-Feb-18   \n",
              "3  Just one more reminder of why President Trump ...  politics  18-Feb-18   \n",
              "4  Thank goodnesss Jeff Sessions is moving on fin...  politics  18-Feb-18   \n",
              "\n",
              "   label  \n",
              "0      0  \n",
              "1      0  \n",
              "2      0  \n",
              "3      0  \n",
              "4      0  "
            ],
            "text/html": [
              "\n",
              "  <div id=\"df-db8accb7-84c9-4200-a423-a253fcfe6e48\">\n",
              "    <div class=\"colab-df-container\">\n",
              "      <div>\n",
              "<style scoped>\n",
              "    .dataframe tbody tr th:only-of-type {\n",
              "        vertical-align: middle;\n",
              "    }\n",
              "\n",
              "    .dataframe tbody tr th {\n",
              "        vertical-align: top;\n",
              "    }\n",
              "\n",
              "    .dataframe thead th {\n",
              "        text-align: right;\n",
              "    }\n",
              "</style>\n",
              "<table border=\"1\" class=\"dataframe\">\n",
              "  <thead>\n",
              "    <tr style=\"text-align: right;\">\n",
              "      <th></th>\n",
              "      <th>title</th>\n",
              "      <th>text</th>\n",
              "      <th>subject</th>\n",
              "      <th>date</th>\n",
              "      <th>label</th>\n",
              "    </tr>\n",
              "  </thead>\n",
              "  <tbody>\n",
              "    <tr>\n",
              "      <th>0</th>\n",
              "      <td>Democrat Senator Warns Mueller Not To Release ...</td>\n",
              "      <td>According to The Hill, Democrat Senator Bob Ca...</td>\n",
              "      <td>politics</td>\n",
              "      <td>19-Feb-18</td>\n",
              "      <td>0</td>\n",
              "    </tr>\n",
              "    <tr>\n",
              "      <th>1</th>\n",
              "      <td>MSNBC ANCHOR Flabbergasted at What Texas Teach...</td>\n",
              "      <td>If we protect every other government building ...</td>\n",
              "      <td>politics</td>\n",
              "      <td>19-Feb-18</td>\n",
              "      <td>0</td>\n",
              "    </tr>\n",
              "    <tr>\n",
              "      <th>2</th>\n",
              "      <td>WATCH: SNOWFLAKES ASKED Communist Party Platfo...</td>\n",
              "      <td>Ami Horowitz is fantastic! Check out this man ...</td>\n",
              "      <td>politics</td>\n",
              "      <td>19-Feb-18</td>\n",
              "      <td>0</td>\n",
              "    </tr>\n",
              "    <tr>\n",
              "      <th>3</th>\n",
              "      <td>JUST IN: BADASS GENERAL JOHN KELLY Shoved Chin...</td>\n",
              "      <td>Just one more reminder of why President Trump ...</td>\n",
              "      <td>politics</td>\n",
              "      <td>18-Feb-18</td>\n",
              "      <td>0</td>\n",
              "    </tr>\n",
              "    <tr>\n",
              "      <th>4</th>\n",
              "      <td>DOJ’s JEFF SESSIONS Opens Investigation Into W...</td>\n",
              "      <td>Thank goodnesss Jeff Sessions is moving on fin...</td>\n",
              "      <td>politics</td>\n",
              "      <td>18-Feb-18</td>\n",
              "      <td>0</td>\n",
              "    </tr>\n",
              "  </tbody>\n",
              "</table>\n",
              "</div>\n",
              "      <button class=\"colab-df-convert\" onclick=\"convertToInteractive('df-db8accb7-84c9-4200-a423-a253fcfe6e48')\"\n",
              "              title=\"Convert this dataframe to an interactive table.\"\n",
              "              style=\"display:none;\">\n",
              "        \n",
              "  <svg xmlns=\"http://www.w3.org/2000/svg\" height=\"24px\"viewBox=\"0 0 24 24\"\n",
              "       width=\"24px\">\n",
              "    <path d=\"M0 0h24v24H0V0z\" fill=\"none\"/>\n",
              "    <path d=\"M18.56 5.44l.94 2.06.94-2.06 2.06-.94-2.06-.94-.94-2.06-.94 2.06-2.06.94zm-11 1L8.5 8.5l.94-2.06 2.06-.94-2.06-.94L8.5 2.5l-.94 2.06-2.06.94zm10 10l.94 2.06.94-2.06 2.06-.94-2.06-.94-.94-2.06-.94 2.06-2.06.94z\"/><path d=\"M17.41 7.96l-1.37-1.37c-.4-.4-.92-.59-1.43-.59-.52 0-1.04.2-1.43.59L10.3 9.45l-7.72 7.72c-.78.78-.78 2.05 0 2.83L4 21.41c.39.39.9.59 1.41.59.51 0 1.02-.2 1.41-.59l7.78-7.78 2.81-2.81c.8-.78.8-2.07 0-2.86zM5.41 20L4 18.59l7.72-7.72 1.47 1.35L5.41 20z\"/>\n",
              "  </svg>\n",
              "      </button>\n",
              "      \n",
              "  <style>\n",
              "    .colab-df-container {\n",
              "      display:flex;\n",
              "      flex-wrap:wrap;\n",
              "      gap: 12px;\n",
              "    }\n",
              "\n",
              "    .colab-df-convert {\n",
              "      background-color: #E8F0FE;\n",
              "      border: none;\n",
              "      border-radius: 50%;\n",
              "      cursor: pointer;\n",
              "      display: none;\n",
              "      fill: #1967D2;\n",
              "      height: 32px;\n",
              "      padding: 0 0 0 0;\n",
              "      width: 32px;\n",
              "    }\n",
              "\n",
              "    .colab-df-convert:hover {\n",
              "      background-color: #E2EBFA;\n",
              "      box-shadow: 0px 1px 2px rgba(60, 64, 67, 0.3), 0px 1px 3px 1px rgba(60, 64, 67, 0.15);\n",
              "      fill: #174EA6;\n",
              "    }\n",
              "\n",
              "    [theme=dark] .colab-df-convert {\n",
              "      background-color: #3B4455;\n",
              "      fill: #D2E3FC;\n",
              "    }\n",
              "\n",
              "    [theme=dark] .colab-df-convert:hover {\n",
              "      background-color: #434B5C;\n",
              "      box-shadow: 0px 1px 3px 1px rgba(0, 0, 0, 0.15);\n",
              "      filter: drop-shadow(0px 1px 2px rgba(0, 0, 0, 0.3));\n",
              "      fill: #FFFFFF;\n",
              "    }\n",
              "  </style>\n",
              "\n",
              "      <script>\n",
              "        const buttonEl =\n",
              "          document.querySelector('#df-db8accb7-84c9-4200-a423-a253fcfe6e48 button.colab-df-convert');\n",
              "        buttonEl.style.display =\n",
              "          google.colab.kernel.accessAllowed ? 'block' : 'none';\n",
              "\n",
              "        async function convertToInteractive(key) {\n",
              "          const element = document.querySelector('#df-db8accb7-84c9-4200-a423-a253fcfe6e48');\n",
              "          const dataTable =\n",
              "            await google.colab.kernel.invokeFunction('convertToInteractive',\n",
              "                                                     [key], {});\n",
              "          if (!dataTable) return;\n",
              "\n",
              "          const docLinkHtml = 'Like what you see? Visit the ' +\n",
              "            '<a target=\"_blank\" href=https://colab.research.google.com/notebooks/data_table.ipynb>data table notebook</a>'\n",
              "            + ' to learn more about interactive tables.';\n",
              "          element.innerHTML = '';\n",
              "          dataTable['output_type'] = 'display_data';\n",
              "          await google.colab.output.renderOutput(dataTable, element);\n",
              "          const docLink = document.createElement('div');\n",
              "          docLink.innerHTML = docLinkHtml;\n",
              "          element.appendChild(docLink);\n",
              "        }\n",
              "      </script>\n",
              "    </div>\n",
              "  </div>\n",
              "  "
            ]
          },
          "metadata": {},
          "execution_count": 30
        }
      ],
      "source": [
        "fake_news1.head()"
      ]
    },
    {
      "cell_type": "code",
      "execution_count": 31,
      "metadata": {
        "colab": {
          "base_uri": "https://localhost:8080/",
          "height": 35
        },
        "id": "9zHpBpbhpSfG",
        "outputId": "38240a81-6160-452e-e942-1d0ffa8e6b5f"
      },
      "outputs": [
        {
          "output_type": "execute_result",
          "data": {
            "text/plain": [
              "'MSNBC ANCHOR Flabbergasted at What Texas Teachers Do to Protect Their Students [Video]'"
            ],
            "application/vnd.google.colaboratory.intrinsic+json": {
              "type": "string"
            }
          },
          "metadata": {},
          "execution_count": 31
        }
      ],
      "source": [
        "fake_news1['title'][1]"
      ]
    },
    {
      "cell_type": "code",
      "execution_count": 32,
      "metadata": {
        "colab": {
          "base_uri": "https://localhost:8080/",
          "height": 140
        },
        "id": "9lE1t-USpVbu",
        "outputId": "e702d10e-a625-4ddd-e9b9-cb8ee6a260f5"
      },
      "outputs": [
        {
          "output_type": "execute_result",
          "data": {
            "text/plain": [
              "'If we protect every other government building or public venue with armed guards, why shouldn t our schools be protected with armed teachers? A Texas Sheriff shocked an MSNBC host when he discussed how he prepares local teachers to be armed in the classroom. common sense solution? You betcha!Sheriff Paul Cairney of Argyle, Texas, described the process by which staff members can carry firearms in the school district. The Sheriff said that the staff at the school who choose to carry a firearm go through an intense round of interviews and training before they are allowed to carry on campus. The MSNBC host was flabbergasted at the practice and asked the Sheriff about concerns for the safety of the students in the school when there are firearms around.Sheriff Cairney:  The time to do nothing is over THE PROCESS TO BECOME A SCHOOL MARSHALL:To become a school marshal, those employees must undergo extensive active shooter and firearms training with the state. They must also undergo a mental health evaluation. They receive a school marshal designation by the Texas Commission on Law Enforcement and must renew their license every two years by undergoing the same training and evaluation. Outside of campuses in Keene and Argyle, signs warn visitors that there are staff members who are armed and are prepared to protect children.'"
            ],
            "application/vnd.google.colaboratory.intrinsic+json": {
              "type": "string"
            }
          },
          "metadata": {},
          "execution_count": 32
        }
      ],
      "source": [
        "fake_news1['text'][1]"
      ]
    },
    {
      "cell_type": "code",
      "execution_count": 33,
      "metadata": {
        "id": "ajqsm0FRpXjL"
      },
      "outputs": [],
      "source": [
        "news_df = real_news1.append(fake_news1, ignore_index=True)"
      ]
    },
    {
      "cell_type": "code",
      "execution_count": 34,
      "metadata": {
        "colab": {
          "base_uri": "https://localhost:8080/"
        },
        "id": "TYI09rj0pa-b",
        "outputId": "94ba254e-c1c1-4b10-8e2b-15fff2d97728"
      },
      "outputs": [
        {
          "output_type": "execute_result",
          "data": {
            "text/plain": [
              "(12896, 6)"
            ]
          },
          "metadata": {},
          "execution_count": 34
        }
      ],
      "source": [
        "news_df.shape"
      ]
    },
    {
      "cell_type": "code",
      "execution_count": 35,
      "metadata": {
        "colab": {
          "base_uri": "https://localhost:8080/",
          "height": 206
        },
        "id": "OnAk8C2UpdAg",
        "outputId": "a95971a2-1d9e-4313-e0e1-996ccf155d58"
      },
      "outputs": [
        {
          "output_type": "execute_result",
          "data": {
            "text/plain": [
              "                                               title  \\\n",
              "0  As U.S. budget fight looms, Republicans flip t...   \n",
              "1  U.S. military to accept transgender recruits o...   \n",
              "2  Senior U.S. Republican senator: 'Let Mr. Muell...   \n",
              "3  FBI Russia probe helped by Australian diplomat...   \n",
              "4  Trump wants Postal Service to charge 'much mor...   \n",
              "\n",
              "                                                text       subject  \\\n",
              "0  WASHINGTON (Reuters) - The head of a conservat...  politicsNews   \n",
              "1  WASHINGTON (Reuters) - Transgender people will...  politicsNews   \n",
              "2  WASHINGTON (Reuters) - The special counsel inv...  politicsNews   \n",
              "3  WASHINGTON (Reuters) - Trump campaign adviser ...  politicsNews   \n",
              "4  SEATTLE/WASHINGTON (Reuters) - President Donal...  politicsNews   \n",
              "\n",
              "                 date      source  label  \n",
              "0  December 31, 2017    (Reuters)      1  \n",
              "1  December 29, 2017    (Reuters)      1  \n",
              "2  December 31, 2017    (Reuters)      1  \n",
              "3  December 30, 2017    (Reuters)      1  \n",
              "4  December 29, 2017   SHINGTON (      1  "
            ],
            "text/html": [
              "\n",
              "  <div id=\"df-287340a0-4959-4650-922b-9cb52c8047e6\">\n",
              "    <div class=\"colab-df-container\">\n",
              "      <div>\n",
              "<style scoped>\n",
              "    .dataframe tbody tr th:only-of-type {\n",
              "        vertical-align: middle;\n",
              "    }\n",
              "\n",
              "    .dataframe tbody tr th {\n",
              "        vertical-align: top;\n",
              "    }\n",
              "\n",
              "    .dataframe thead th {\n",
              "        text-align: right;\n",
              "    }\n",
              "</style>\n",
              "<table border=\"1\" class=\"dataframe\">\n",
              "  <thead>\n",
              "    <tr style=\"text-align: right;\">\n",
              "      <th></th>\n",
              "      <th>title</th>\n",
              "      <th>text</th>\n",
              "      <th>subject</th>\n",
              "      <th>date</th>\n",
              "      <th>source</th>\n",
              "      <th>label</th>\n",
              "    </tr>\n",
              "  </thead>\n",
              "  <tbody>\n",
              "    <tr>\n",
              "      <th>0</th>\n",
              "      <td>As U.S. budget fight looms, Republicans flip t...</td>\n",
              "      <td>WASHINGTON (Reuters) - The head of a conservat...</td>\n",
              "      <td>politicsNews</td>\n",
              "      <td>December 31, 2017</td>\n",
              "      <td>(Reuters)</td>\n",
              "      <td>1</td>\n",
              "    </tr>\n",
              "    <tr>\n",
              "      <th>1</th>\n",
              "      <td>U.S. military to accept transgender recruits o...</td>\n",
              "      <td>WASHINGTON (Reuters) - Transgender people will...</td>\n",
              "      <td>politicsNews</td>\n",
              "      <td>December 29, 2017</td>\n",
              "      <td>(Reuters)</td>\n",
              "      <td>1</td>\n",
              "    </tr>\n",
              "    <tr>\n",
              "      <th>2</th>\n",
              "      <td>Senior U.S. Republican senator: 'Let Mr. Muell...</td>\n",
              "      <td>WASHINGTON (Reuters) - The special counsel inv...</td>\n",
              "      <td>politicsNews</td>\n",
              "      <td>December 31, 2017</td>\n",
              "      <td>(Reuters)</td>\n",
              "      <td>1</td>\n",
              "    </tr>\n",
              "    <tr>\n",
              "      <th>3</th>\n",
              "      <td>FBI Russia probe helped by Australian diplomat...</td>\n",
              "      <td>WASHINGTON (Reuters) - Trump campaign adviser ...</td>\n",
              "      <td>politicsNews</td>\n",
              "      <td>December 30, 2017</td>\n",
              "      <td>(Reuters)</td>\n",
              "      <td>1</td>\n",
              "    </tr>\n",
              "    <tr>\n",
              "      <th>4</th>\n",
              "      <td>Trump wants Postal Service to charge 'much mor...</td>\n",
              "      <td>SEATTLE/WASHINGTON (Reuters) - President Donal...</td>\n",
              "      <td>politicsNews</td>\n",
              "      <td>December 29, 2017</td>\n",
              "      <td>SHINGTON (</td>\n",
              "      <td>1</td>\n",
              "    </tr>\n",
              "  </tbody>\n",
              "</table>\n",
              "</div>\n",
              "      <button class=\"colab-df-convert\" onclick=\"convertToInteractive('df-287340a0-4959-4650-922b-9cb52c8047e6')\"\n",
              "              title=\"Convert this dataframe to an interactive table.\"\n",
              "              style=\"display:none;\">\n",
              "        \n",
              "  <svg xmlns=\"http://www.w3.org/2000/svg\" height=\"24px\"viewBox=\"0 0 24 24\"\n",
              "       width=\"24px\">\n",
              "    <path d=\"M0 0h24v24H0V0z\" fill=\"none\"/>\n",
              "    <path d=\"M18.56 5.44l.94 2.06.94-2.06 2.06-.94-2.06-.94-.94-2.06-.94 2.06-2.06.94zm-11 1L8.5 8.5l.94-2.06 2.06-.94-2.06-.94L8.5 2.5l-.94 2.06-2.06.94zm10 10l.94 2.06.94-2.06 2.06-.94-2.06-.94-.94-2.06-.94 2.06-2.06.94z\"/><path d=\"M17.41 7.96l-1.37-1.37c-.4-.4-.92-.59-1.43-.59-.52 0-1.04.2-1.43.59L10.3 9.45l-7.72 7.72c-.78.78-.78 2.05 0 2.83L4 21.41c.39.39.9.59 1.41.59.51 0 1.02-.2 1.41-.59l7.78-7.78 2.81-2.81c.8-.78.8-2.07 0-2.86zM5.41 20L4 18.59l7.72-7.72 1.47 1.35L5.41 20z\"/>\n",
              "  </svg>\n",
              "      </button>\n",
              "      \n",
              "  <style>\n",
              "    .colab-df-container {\n",
              "      display:flex;\n",
              "      flex-wrap:wrap;\n",
              "      gap: 12px;\n",
              "    }\n",
              "\n",
              "    .colab-df-convert {\n",
              "      background-color: #E8F0FE;\n",
              "      border: none;\n",
              "      border-radius: 50%;\n",
              "      cursor: pointer;\n",
              "      display: none;\n",
              "      fill: #1967D2;\n",
              "      height: 32px;\n",
              "      padding: 0 0 0 0;\n",
              "      width: 32px;\n",
              "    }\n",
              "\n",
              "    .colab-df-convert:hover {\n",
              "      background-color: #E2EBFA;\n",
              "      box-shadow: 0px 1px 2px rgba(60, 64, 67, 0.3), 0px 1px 3px 1px rgba(60, 64, 67, 0.15);\n",
              "      fill: #174EA6;\n",
              "    }\n",
              "\n",
              "    [theme=dark] .colab-df-convert {\n",
              "      background-color: #3B4455;\n",
              "      fill: #D2E3FC;\n",
              "    }\n",
              "\n",
              "    [theme=dark] .colab-df-convert:hover {\n",
              "      background-color: #434B5C;\n",
              "      box-shadow: 0px 1px 3px 1px rgba(0, 0, 0, 0.15);\n",
              "      filter: drop-shadow(0px 1px 2px rgba(0, 0, 0, 0.3));\n",
              "      fill: #FFFFFF;\n",
              "    }\n",
              "  </style>\n",
              "\n",
              "      <script>\n",
              "        const buttonEl =\n",
              "          document.querySelector('#df-287340a0-4959-4650-922b-9cb52c8047e6 button.colab-df-convert');\n",
              "        buttonEl.style.display =\n",
              "          google.colab.kernel.accessAllowed ? 'block' : 'none';\n",
              "\n",
              "        async function convertToInteractive(key) {\n",
              "          const element = document.querySelector('#df-287340a0-4959-4650-922b-9cb52c8047e6');\n",
              "          const dataTable =\n",
              "            await google.colab.kernel.invokeFunction('convertToInteractive',\n",
              "                                                     [key], {});\n",
              "          if (!dataTable) return;\n",
              "\n",
              "          const docLinkHtml = 'Like what you see? Visit the ' +\n",
              "            '<a target=\"_blank\" href=https://colab.research.google.com/notebooks/data_table.ipynb>data table notebook</a>'\n",
              "            + ' to learn more about interactive tables.';\n",
              "          element.innerHTML = '';\n",
              "          dataTable['output_type'] = 'display_data';\n",
              "          await google.colab.output.renderOutput(dataTable, element);\n",
              "          const docLink = document.createElement('div');\n",
              "          docLink.innerHTML = docLinkHtml;\n",
              "          element.appendChild(docLink);\n",
              "        }\n",
              "      </script>\n",
              "    </div>\n",
              "  </div>\n",
              "  "
            ]
          },
          "metadata": {},
          "execution_count": 35
        }
      ],
      "source": [
        "news_df.head()"
      ]
    },
    {
      "cell_type": "code",
      "execution_count": 36,
      "metadata": {
        "colab": {
          "base_uri": "https://localhost:8080/",
          "height": 466
        },
        "id": "dBSf7rItpfOV",
        "outputId": "19179c38-497d-49d7-f872-ffd827b0eaa5"
      },
      "outputs": [
        {
          "output_type": "stream",
          "name": "stdout",
          "text": [
            "subject\n",
            "Government News    1570\n",
            "US_News             783\n",
            "politics           6841\n",
            "politicsNews       3702\n",
            "Name: text, dtype: int64\n"
          ]
        },
        {
          "output_type": "display_data",
          "data": {
            "text/plain": [
              "<Figure size 432x288 with 1 Axes>"
            ],
            "image/png": "[encoded data removed]"
          },
          "metadata": {
            "needs_background": "light"
          }
        }
      ],
      "source": [
        "print(news_df.groupby(['subject'])['text'].count())\n",
        "news_df.groupby(['subject'])['text'].count().plot(kind=\"bar\")\n",
        "plt.show()"
      ]
    },
    {
      "cell_type": "code",
      "execution_count": 37,
      "metadata": {
        "colab": {
          "base_uri": "https://localhost:8080/",
          "height": 345
        },
        "id": "ZPgF6yQKpjD5",
        "outputId": "98016dbe-62e6-4d20-e78e-67382fb3edd6"
      },
      "outputs": [
        {
          "output_type": "stream",
          "name": "stdout",
          "text": [
            "label\n",
            "0    9194\n",
            "1    3702\n",
            "Name: text, dtype: int64\n"
          ]
        },
        {
          "output_type": "display_data",
          "data": {
            "text/plain": [
              "<Figure size 432x288 with 1 Axes>"
            ],
            "image/png": "[encoded data removed]"
          },
          "metadata": {
            "needs_background": "light"
          }
        }
      ],
      "source": [
        "print(news_df.groupby(['label'])['text'].count())\n",
        "news_df.groupby(['label'])['text'].count().plot(kind=\"bar\")\n",
        "plt.show()"
      ]
    },
    {
      "cell_type": "code",
      "execution_count": 38,
      "metadata": {
        "colab": {
          "base_uri": "https://localhost:8080/",
          "height": 402
        },
        "id": "2EdJxS8mplz-",
        "outputId": "a5743e63-119d-4e7a-a85b-2e5cff0c375d"
      },
      "outputs": [
        {
          "output_type": "stream",
          "name": "stdout",
          "text": [
            "0    9194\n",
            "1    3702\n",
            "Name: label, dtype: int64\n"
          ]
        },
        {
          "output_type": "display_data",
          "data": {
            "text/plain": [
              "<Figure size 1368x360 with 2 Axes>"
            ],
            "image/png": "[encoded data removed]"
          },
          "metadata": {
            "needs_background": "light"
          }
        }
      ],
      "source": [
        "print(news_df[\"label\"].value_counts())\n",
        "fig, ax = plt.subplots(1,2, figsize=(19, 5))\n",
        "g1 = sns.countplot(news_df.label,ax=ax[0],palette=\"pastel\");\n",
        "g1.set_title(\"Count of real and fake data\")\n",
        "g1.set_ylabel(\"Count\")\n",
        "g1.set_xlabel(\"label\")\n",
        "g2 = plt.pie(news_df[\"label\"].value_counts().values,explode=[0,0],labels=news_df.label.value_counts().index, autopct='%1.1f%%',colors=['SkyBlue','PeachPuff'])\n",
        "fig.show()"
      ]
    },
    {
      "cell_type": "code",
      "execution_count": 39,
      "metadata": {
        "colab": {
          "base_uri": "https://localhost:8080/",
          "height": 455
        },
        "id": "GafUu6vxpoQv",
        "outputId": "839154fe-a38b-4685-84d4-80656f18deab"
      },
      "outputs": [
        {
          "output_type": "stream",
          "name": "stdout",
          "text": [
            "politics           6841\n",
            "politicsNews       3702\n",
            "Government News    1570\n",
            "US_News             783\n",
            "Name: subject, dtype: int64\n"
          ]
        },
        {
          "output_type": "execute_result",
          "data": {
            "text/plain": [
              "Text(0.5, 1.0, 'Distribution of The Subject According to Real and Fake Data')"
            ]
          },
          "metadata": {},
          "execution_count": 39
        },
        {
          "output_type": "display_data",
          "data": {
            "text/plain": [
              "<Figure size 720x360 with 1 Axes>"
            ],
            "image/png": "[encoded data removed]"
          },
          "metadata": {
            "needs_background": "light"
          }
        }
      ],
      "source": [
        "print(news_df.subject.value_counts())\n",
        "plt.figure(figsize=(10, 5))\n",
        "\n",
        "ax = sns.countplot(x=\"subject\",  hue='label', data=news_df, palette=\"pastel\")\n",
        "plt.title(\"Distribution of The Subject According to Real and Fake Data\")"
      ]
    },
    {
      "cell_type": "code",
      "execution_count": 40,
      "metadata": {
        "colab": {
          "base_uri": "https://localhost:8080/"
        },
        "id": "67wNhIHPptcq",
        "outputId": "12c4dc72-8517-4314-ac80-906ef6dc3d43"
      },
      "outputs": [
        {
          "output_type": "execute_result",
          "data": {
            "text/plain": [
              "[('the', 258173),\n",
              " ('to', 147475),\n",
              " ('of', 120816),\n",
              " ('and', 110088),\n",
              " ('a', 105113),\n",
              " ('in', 85502),\n",
              " ('that', 61368),\n",
              " ('on', 47888),\n",
              " ('for', 46670),\n",
              " ('is', 43751)]"
            ]
          },
          "metadata": {},
          "execution_count": 40
        }
      ],
      "source": [
        "import nltk\n",
        "# let's see the 10 most words used in text:\n",
        "freq = nltk.FreqDist(' '.join(news_df['text']).split())\n",
        "\n",
        "freq.most_common(10)"
      ]
    },
    {
      "cell_type": "code",
      "execution_count": 41,
      "metadata": {
        "colab": {
          "base_uri": "https://localhost:8080/",
          "height": 307
        },
        "id": "WjdrVE2xp0fR",
        "outputId": "34c8a5ca-cad9-48c2-99a4-d660f026681c"
      },
      "outputs": [
        {
          "output_type": "display_data",
          "data": {
            "text/plain": [
              "<Figure size 432x288 with 1 Axes>"
            ],
            "image/png": "[encoded data removed]"
          },
          "metadata": {
            "needs_background": "light"
          }
        },
        {
          "output_type": "execute_result",
          "data": {
            "text/plain": [
              "<matplotlib.axes._subplots.AxesSubplot at 0x7fd7d9678ca0>"
            ]
          },
          "metadata": {},
          "execution_count": 41
        }
      ],
      "source": [
        "freq.plot(10)"
      ]
    },
    {
      "cell_type": "code",
      "execution_count": 42,
      "metadata": {
        "colab": {
          "base_uri": "https://localhost:8080/"
        },
        "id": "dEVtb7l8p3OH",
        "outputId": "b2f4e257-13bb-4202-a0f5-72257aae2751"
      },
      "outputs": [
        {
          "output_type": "execute_result",
          "data": {
            "text/plain": [
              "[('To', 2591),\n",
              " ('Trump', 2549),\n",
              " ('to', 2208),\n",
              " ('[Video]', 2065),\n",
              " ('[VIDEO]', 1338),\n",
              " ('In', 1307),\n",
              " ('U.S.', 1306),\n",
              " ('The', 1300),\n",
              " ('For', 1298),\n",
              " ('Of', 1220)]"
            ]
          },
          "metadata": {},
          "execution_count": 42
        }
      ],
      "source": [
        "import nltk\n",
        "# let's see the 10 most words used in title:\n",
        "freq1 = nltk.FreqDist(' '.join(news_df['title']).split())\n",
        "\n",
        "freq1.most_common(10)"
      ]
    },
    {
      "cell_type": "code",
      "execution_count": 43,
      "metadata": {
        "colab": {
          "base_uri": "https://localhost:8080/"
        },
        "id": "89B8FLsyp7Qo",
        "outputId": "55062032-f207-402a-efea-fb390270e499"
      },
      "outputs": [
        {
          "output_type": "execute_result",
          "data": {
            "text/plain": [
              "FreqDist({'Die,': 1, 'die!': 1, '(regardless,': 1, 'scary).': 1, 'DUAL': 1, 'LOYALTIES:': 1, 'Mondoweiss,': 1, 'IDF.': 1, 'towards,': 1, 'overdrive.READ': 1})"
            ]
          },
          "metadata": {},
          "execution_count": 43
        }
      ],
      "source": [
        "from nltk import FreqDist\n",
        "# 10 least used words:\n",
        "last_ten = FreqDist(dict(freq.most_common()[-10:]))\n",
        "last_ten"
      ]
    },
    {
      "cell_type": "code",
      "execution_count": 44,
      "metadata": {
        "colab": {
          "base_uri": "https://localhost:8080/"
        },
        "id": "uyT8jbMsp-DF",
        "outputId": "bb36fb09-80b2-4860-ce27-ad6142ca151e"
      },
      "outputs": [
        {
          "output_type": "execute_result",
          "data": {
            "text/plain": [
              "FreqDist({'Narrative’': 1, 'Burns,': 1, 'Retreat,': 1, '#38': 1, 'Showdown': 1, 'Looms': 1, 'Ranching': 1, 'Bundys': 1, 'Troubled': 1, 'King:': 1})"
            ]
          },
          "metadata": {},
          "execution_count": 44
        }
      ],
      "source": [
        "from nltk import FreqDist\n",
        "# 10 least used words:\n",
        "last_ten1 = FreqDist(dict(freq1.most_common()[-10:]))\n",
        "last_ten1"
      ]
    },
    {
      "cell_type": "code",
      "execution_count": 45,
      "metadata": {
        "colab": {
          "base_uri": "https://localhost:8080/",
          "height": 206
        },
        "id": "MHMpfPfzqAWA",
        "outputId": "12e4524e-df79-4ba2-8203-925276fa0c4f"
      },
      "outputs": [
        {
          "output_type": "execute_result",
          "data": {
            "text/plain": [
              "                                               title  \\\n",
              "0  As U.S. budget fight looms, Republicans flip t...   \n",
              "1  U.S. military to accept transgender recruits o...   \n",
              "2  Senior U.S. Republican senator: 'Let Mr. Muell...   \n",
              "3  FBI Russia probe helped by Australian diplomat...   \n",
              "4  Trump wants Postal Service to charge 'much mor...   \n",
              "\n",
              "                                                text       subject  \\\n",
              "0  WASHINGTON (Reuters) - The head of a conservat...  politicsNews   \n",
              "1  WASHINGTON (Reuters) - Transgender people will...  politicsNews   \n",
              "2  WASHINGTON (Reuters) - The special counsel inv...  politicsNews   \n",
              "3  WASHINGTON (Reuters) - Trump campaign adviser ...  politicsNews   \n",
              "4  SEATTLE/WASHINGTON (Reuters) - President Donal...  politicsNews   \n",
              "\n",
              "                 date      source  label  \n",
              "0  December 31, 2017    (Reuters)      1  \n",
              "1  December 29, 2017    (Reuters)      1  \n",
              "2  December 31, 2017    (Reuters)      1  \n",
              "3  December 30, 2017    (Reuters)      1  \n",
              "4  December 29, 2017   SHINGTON (      1  "
            ],
            "text/html": [
              "\n",
              "  <div id=\"df-d995ce34-4900-45fb-b56d-7047e9fbd4ff\">\n",
              "    <div class=\"colab-df-container\">\n",
              "      <div>\n",
              "<style scoped>\n",
              "    .dataframe tbody tr th:only-of-type {\n",
              "        vertical-align: middle;\n",
              "    }\n",
              "\n",
              "    .dataframe tbody tr th {\n",
              "        vertical-align: top;\n",
              "    }\n",
              "\n",
              "    .dataframe thead th {\n",
              "        text-align: right;\n",
              "    }\n",
              "</style>\n",
              "<table border=\"1\" class=\"dataframe\">\n",
              "  <thead>\n",
              "    <tr style=\"text-align: right;\">\n",
              "      <th></th>\n",
              "      <th>title</th>\n",
              "      <th>text</th>\n",
              "      <th>subject</th>\n",
              "      <th>date</th>\n",
              "      <th>source</th>\n",
              "      <th>label</th>\n",
              "    </tr>\n",
              "  </thead>\n",
              "  <tbody>\n",
              "    <tr>\n",
              "      <th>0</th>\n",
              "      <td>As U.S. budget fight looms, Republicans flip t...</td>\n",
              "      <td>WASHINGTON (Reuters) - The head of a conservat...</td>\n",
              "      <td>politicsNews</td>\n",
              "      <td>December 31, 2017</td>\n",
              "      <td>(Reuters)</td>\n",
              "      <td>1</td>\n",
              "    </tr>\n",
              "    <tr>\n",
              "      <th>1</th>\n",
              "      <td>U.S. military to accept transgender recruits o...</td>\n",
              "      <td>WASHINGTON (Reuters) - Transgender people will...</td>\n",
              "      <td>politicsNews</td>\n",
              "      <td>December 29, 2017</td>\n",
              "      <td>(Reuters)</td>\n",
              "      <td>1</td>\n",
              "    </tr>\n",
              "    <tr>\n",
              "      <th>2</th>\n",
              "      <td>Senior U.S. Republican senator: 'Let Mr. Muell...</td>\n",
              "      <td>WASHINGTON (Reuters) - The special counsel inv...</td>\n",
              "      <td>politicsNews</td>\n",
              "      <td>December 31, 2017</td>\n",
              "      <td>(Reuters)</td>\n",
              "      <td>1</td>\n",
              "    </tr>\n",
              "    <tr>\n",
              "      <th>3</th>\n",
              "      <td>FBI Russia probe helped by Australian diplomat...</td>\n",
              "      <td>WASHINGTON (Reuters) - Trump campaign adviser ...</td>\n",
              "      <td>politicsNews</td>\n",
              "      <td>December 30, 2017</td>\n",
              "      <td>(Reuters)</td>\n",
              "      <td>1</td>\n",
              "    </tr>\n",
              "    <tr>\n",
              "      <th>4</th>\n",
              "      <td>Trump wants Postal Service to charge 'much mor...</td>\n",
              "      <td>SEATTLE/WASHINGTON (Reuters) - President Donal...</td>\n",
              "      <td>politicsNews</td>\n",
              "      <td>December 29, 2017</td>\n",
              "      <td>SHINGTON (</td>\n",
              "      <td>1</td>\n",
              "    </tr>\n",
              "  </tbody>\n",
              "</table>\n",
              "</div>\n",
              "      <button class=\"colab-df-convert\" onclick=\"convertToInteractive('df-d995ce34-4900-45fb-b56d-7047e9fbd4ff')\"\n",
              "              title=\"Convert this dataframe to an interactive table.\"\n",
              "              style=\"display:none;\">\n",
              "        \n",
              "  <svg xmlns=\"http://www.w3.org/2000/svg\" height=\"24px\"viewBox=\"0 0 24 24\"\n",
              "       width=\"24px\">\n",
              "    <path d=\"M0 0h24v24H0V0z\" fill=\"none\"/>\n",
              "    <path d=\"M18.56 5.44l.94 2.06.94-2.06 2.06-.94-2.06-.94-.94-2.06-.94 2.06-2.06.94zm-11 1L8.5 8.5l.94-2.06 2.06-.94-2.06-.94L8.5 2.5l-.94 2.06-2.06.94zm10 10l.94 2.06.94-2.06 2.06-.94-2.06-.94-.94-2.06-.94 2.06-2.06.94z\"/><path d=\"M17.41 7.96l-1.37-1.37c-.4-.4-.92-.59-1.43-.59-.52 0-1.04.2-1.43.59L10.3 9.45l-7.72 7.72c-.78.78-.78 2.05 0 2.83L4 21.41c.39.39.9.59 1.41.59.51 0 1.02-.2 1.41-.59l7.78-7.78 2.81-2.81c.8-.78.8-2.07 0-2.86zM5.41 20L4 18.59l7.72-7.72 1.47 1.35L5.41 20z\"/>\n",
              "  </svg>\n",
              "      </button>\n",
              "      \n",
              "  <style>\n",
              "    .colab-df-container {\n",
              "      display:flex;\n",
              "      flex-wrap:wrap;\n",
              "      gap: 12px;\n",
              "    }\n",
              "\n",
              "    .colab-df-convert {\n",
              "      background-color: #E8F0FE;\n",
              "      border: none;\n",
              "      border-radius: 50%;\n",
              "      cursor: pointer;\n",
              "      display: none;\n",
              "      fill: #1967D2;\n",
              "      height: 32px;\n",
              "      padding: 0 0 0 0;\n",
              "      width: 32px;\n",
              "    }\n",
              "\n",
              "    .colab-df-convert:hover {\n",
              "      background-color: #E2EBFA;\n",
              "      box-shadow: 0px 1px 2px rgba(60, 64, 67, 0.3), 0px 1px 3px 1px rgba(60, 64, 67, 0.15);\n",
              "      fill: #174EA6;\n",
              "    }\n",
              "\n",
              "    [theme=dark] .colab-df-convert {\n",
              "      background-color: #3B4455;\n",
              "      fill: #D2E3FC;\n",
              "    }\n",
              "\n",
              "    [theme=dark] .colab-df-convert:hover {\n",
              "      background-color: #434B5C;\n",
              "      box-shadow: 0px 1px 3px 1px rgba(0, 0, 0, 0.15);\n",
              "      filter: drop-shadow(0px 1px 2px rgba(0, 0, 0, 0.3));\n",
              "      fill: #FFFFFF;\n",
              "    }\n",
              "  </style>\n",
              "\n",
              "      <script>\n",
              "        const buttonEl =\n",
              "          document.querySelector('#df-d995ce34-4900-45fb-b56d-7047e9fbd4ff button.colab-df-convert');\n",
              "        buttonEl.style.display =\n",
              "          google.colab.kernel.accessAllowed ? 'block' : 'none';\n",
              "\n",
              "        async function convertToInteractive(key) {\n",
              "          const element = document.querySelector('#df-d995ce34-4900-45fb-b56d-7047e9fbd4ff');\n",
              "          const dataTable =\n",
              "            await google.colab.kernel.invokeFunction('convertToInteractive',\n",
              "                                                     [key], {});\n",
              "          if (!dataTable) return;\n",
              "\n",
              "          const docLinkHtml = 'Like what you see? Visit the ' +\n",
              "            '<a target=\"_blank\" href=https://colab.research.google.com/notebooks/data_table.ipynb>data table notebook</a>'\n",
              "            + ' to learn more about interactive tables.';\n",
              "          element.innerHTML = '';\n",
              "          dataTable['output_type'] = 'display_data';\n",
              "          await google.colab.output.renderOutput(dataTable, element);\n",
              "          const docLink = document.createElement('div');\n",
              "          docLink.innerHTML = docLinkHtml;\n",
              "          element.appendChild(docLink);\n",
              "        }\n",
              "      </script>\n",
              "    </div>\n",
              "  </div>\n",
              "  "
            ]
          },
          "metadata": {},
          "execution_count": 45
        }
      ],
      "source": [
        "news_df.head()"
      ]
    },
    {
      "cell_type": "code",
      "execution_count": 46,
      "metadata": {
        "id": "bvGlNxIPqCn6"
      },
      "outputs": [],
      "source": [
        "# Removing the un-important columns\n",
        "\n",
        "news_df=news_df[['title','text','label']]"
      ]
    },
    {
      "cell_type": "code",
      "execution_count": 47,
      "metadata": {
        "colab": {
          "base_uri": "https://localhost:8080/",
          "height": 206
        },
        "id": "NNRK7jmJqGGG",
        "outputId": "c6f70502-a103-46be-89d6-1bf548cb3b83"
      },
      "outputs": [
        {
          "output_type": "execute_result",
          "data": {
            "text/plain": [
              "                                               title  \\\n",
              "0  As U.S. budget fight looms, Republicans flip t...   \n",
              "1  U.S. military to accept transgender recruits o...   \n",
              "2  Senior U.S. Republican senator: 'Let Mr. Muell...   \n",
              "3  FBI Russia probe helped by Australian diplomat...   \n",
              "4  Trump wants Postal Service to charge 'much mor...   \n",
              "\n",
              "                                                text  label  \n",
              "0  WASHINGTON (Reuters) - The head of a conservat...      1  \n",
              "1  WASHINGTON (Reuters) - Transgender people will...      1  \n",
              "2  WASHINGTON (Reuters) - The special counsel inv...      1  \n",
              "3  WASHINGTON (Reuters) - Trump campaign adviser ...      1  \n",
              "4  SEATTLE/WASHINGTON (Reuters) - President Donal...      1  "
            ],
            "text/html": [
              "\n",
              "  <div id=\"df-c8760d17-c9e6-44dd-b4fb-277350cde7be\">\n",
              "    <div class=\"colab-df-container\">\n",
              "      <div>\n",
              "<style scoped>\n",
              "    .dataframe tbody tr th:only-of-type {\n",
              "        vertical-align: middle;\n",
              "    }\n",
              "\n",
              "    .dataframe tbody tr th {\n",
              "        vertical-align: top;\n",
              "    }\n",
              "\n",
              "    .dataframe thead th {\n",
              "        text-align: right;\n",
              "    }\n",
              "</style>\n",
              "<table border=\"1\" class=\"dataframe\">\n",
              "  <thead>\n",
              "    <tr style=\"text-align: right;\">\n",
              "      <th></th>\n",
              "      <th>title</th>\n",
              "      <th>text</th>\n",
              "      <th>label</th>\n",
              "    </tr>\n",
              "  </thead>\n",
              "  <tbody>\n",
              "    <tr>\n",
              "      <th>0</th>\n",
              "      <td>As U.S. budget fight looms, Republicans flip t...</td>\n",
              "      <td>WASHINGTON (Reuters) - The head of a conservat...</td>\n",
              "      <td>1</td>\n",
              "    </tr>\n",
              "    <tr>\n",
              "      <th>1</th>\n",
              "      <td>U.S. military to accept transgender recruits o...</td>\n",
              "      <td>WASHINGTON (Reuters) - Transgender people will...</td>\n",
              "      <td>1</td>\n",
              "    </tr>\n",
              "    <tr>\n",
              "      <th>2</th>\n",
              "      <td>Senior U.S. Republican senator: 'Let Mr. Muell...</td>\n",
              "      <td>WASHINGTON (Reuters) - The special counsel inv...</td>\n",
              "      <td>1</td>\n",
              "    </tr>\n",
              "    <tr>\n",
              "      <th>3</th>\n",
              "      <td>FBI Russia probe helped by Australian diplomat...</td>\n",
              "      <td>WASHINGTON (Reuters) - Trump campaign adviser ...</td>\n",
              "      <td>1</td>\n",
              "    </tr>\n",
              "    <tr>\n",
              "      <th>4</th>\n",
              "      <td>Trump wants Postal Service to charge 'much mor...</td>\n",
              "      <td>SEATTLE/WASHINGTON (Reuters) - President Donal...</td>\n",
              "      <td>1</td>\n",
              "    </tr>\n",
              "  </tbody>\n",
              "</table>\n",
              "</div>\n",
              "      <button class=\"colab-df-convert\" onclick=\"convertToInteractive('df-c8760d17-c9e6-44dd-b4fb-277350cde7be')\"\n",
              "              title=\"Convert this dataframe to an interactive table.\"\n",
              "              style=\"display:none;\">\n",
              "        \n",
              "  <svg xmlns=\"http://www.w3.org/2000/svg\" height=\"24px\"viewBox=\"0 0 24 24\"\n",
              "       width=\"24px\">\n",
              "    <path d=\"M0 0h24v24H0V0z\" fill=\"none\"/>\n",
              "    <path d=\"M18.56 5.44l.94 2.06.94-2.06 2.06-.94-2.06-.94-.94-2.06-.94 2.06-2.06.94zm-11 1L8.5 8.5l.94-2.06 2.06-.94-2.06-.94L8.5 2.5l-.94 2.06-2.06.94zm10 10l.94 2.06.94-2.06 2.06-.94-2.06-.94-.94-2.06-.94 2.06-2.06.94z\"/><path d=\"M17.41 7.96l-1.37-1.37c-.4-.4-.92-.59-1.43-.59-.52 0-1.04.2-1.43.59L10.3 9.45l-7.72 7.72c-.78.78-.78 2.05 0 2.83L4 21.41c.39.39.9.59 1.41.59.51 0 1.02-.2 1.41-.59l7.78-7.78 2.81-2.81c.8-.78.8-2.07 0-2.86zM5.41 20L4 18.59l7.72-7.72 1.47 1.35L5.41 20z\"/>\n",
              "  </svg>\n",
              "      </button>\n",
              "      \n",
              "  <style>\n",
              "    .colab-df-container {\n",
              "      display:flex;\n",
              "      flex-wrap:wrap;\n",
              "      gap: 12px;\n",
              "    }\n",
              "\n",
              "    .colab-df-convert {\n",
              "      background-color: #E8F0FE;\n",
              "      border: none;\n",
              "      border-radius: 50%;\n",
              "      cursor: pointer;\n",
              "      display: none;\n",
              "      fill: #1967D2;\n",
              "      height: 32px;\n",
              "      padding: 0 0 0 0;\n",
              "      width: 32px;\n",
              "    }\n",
              "\n",
              "    .colab-df-convert:hover {\n",
              "      background-color: #E2EBFA;\n",
              "      box-shadow: 0px 1px 2px rgba(60, 64, 67, 0.3), 0px 1px 3px 1px rgba(60, 64, 67, 0.15);\n",
              "      fill: #174EA6;\n",
              "    }\n",
              "\n",
              "    [theme=dark] .colab-df-convert {\n",
              "      background-color: #3B4455;\n",
              "      fill: #D2E3FC;\n",
              "    }\n",
              "\n",
              "    [theme=dark] .colab-df-convert:hover {\n",
              "      background-color: #434B5C;\n",
              "      box-shadow: 0px 1px 3px 1px rgba(0, 0, 0, 0.15);\n",
              "      filter: drop-shadow(0px 1px 2px rgba(0, 0, 0, 0.3));\n",
              "      fill: #FFFFFF;\n",
              "    }\n",
              "  </style>\n",
              "\n",
              "      <script>\n",
              "        const buttonEl =\n",
              "          document.querySelector('#df-c8760d17-c9e6-44dd-b4fb-277350cde7be button.colab-df-convert');\n",
              "        buttonEl.style.display =\n",
              "          google.colab.kernel.accessAllowed ? 'block' : 'none';\n",
              "\n",
              "        async function convertToInteractive(key) {\n",
              "          const element = document.querySelector('#df-c8760d17-c9e6-44dd-b4fb-277350cde7be');\n",
              "          const dataTable =\n",
              "            await google.colab.kernel.invokeFunction('convertToInteractive',\n",
              "                                                     [key], {});\n",
              "          if (!dataTable) return;\n",
              "\n",
              "          const docLinkHtml = 'Like what you see? Visit the ' +\n",
              "            '<a target=\"_blank\" href=https://colab.research.google.com/notebooks/data_table.ipynb>data table notebook</a>'\n",
              "            + ' to learn more about interactive tables.';\n",
              "          element.innerHTML = '';\n",
              "          dataTable['output_type'] = 'display_data';\n",
              "          await google.colab.output.renderOutput(dataTable, element);\n",
              "          const docLink = document.createElement('div');\n",
              "          docLink.innerHTML = docLinkHtml;\n",
              "          element.appendChild(docLink);\n",
              "        }\n",
              "      </script>\n",
              "    </div>\n",
              "  </div>\n",
              "  "
            ]
          },
          "metadata": {},
          "execution_count": 47
        }
      ],
      "source": [
        "news_df.head()"
      ]
    },
    {
      "cell_type": "code",
      "execution_count": 48,
      "metadata": {
        "colab": {
          "base_uri": "https://localhost:8080/",
          "height": 424
        },
        "id": "3QUyIa9tqI8J",
        "outputId": "c3512cb1-45a5-4d6b-c765-f77159520f1a"
      },
      "outputs": [
        {
          "output_type": "execute_result",
          "data": {
            "text/plain": [
              "                                                   title  \\\n",
              "0      (VIDEO) LAWYER FOR “Patriot” Gyrocopter Mailma...   \n",
              "1      BREAKING: DNC CHARWOMAN Shouted Down In Chaos ...   \n",
              "2      Is Spicer Flap a Cover for Media to Tie Up Whi...   \n",
              "3      Democrat wins by one vote in Virginia legislat...   \n",
              "4      KID ROCK BAND MEMBER PREDICTS: ‘That F*cker Co...   \n",
              "...                                                  ...   \n",
              "12891  INTEL WHISTLEBLOWER: Trump was likely spied on...   \n",
              "12892  More Americans think wealthy, not middle class...   \n",
              "12893  HOUSE DEMOCRATS MAKE STUNNING Move To Implemen...   \n",
              "12894  BEWARE OF HILLARY CLINTON’S “Smart Power” Fore...   \n",
              "12895  Tillerson says 'no disagreement' between Trump...   \n",
              "\n",
              "                                                    text  label  \n",
              "0       I m Doug Hughes, I m 61 years old and I m a m...      0  \n",
              "1      DNC Chairwoman shouted down during opening rem...      0  \n",
              "2      By The TRUTH HOUNDIn the words of ABC News  an...      0  \n",
              "3       (Corrects spelling of Virginia House of Deleg...      1  \n",
              "4      Kid Rock Keyboardist Jimmie Bones is shocked b...      0  \n",
              "...                                                  ...    ...  \n",
              "12891                                                         0  \n",
              "12892  WASHINGTON (Reuters) - Americans are more like...      1  \n",
              "12893  While US citizens are outraged over the remova...      0  \n",
              "12894  What the heck is Hillary Clinton talking about...      0  \n",
              "12895  BEIJING (Reuters) - U.S. Secretary of State Re...      1  \n",
              "\n",
              "[12896 rows x 3 columns]"
            ],
            "text/html": [
              "\n",
              "  <div id=\"df-8f8e19da-ef44-495c-856c-473193518ebd\">\n",
              "    <div class=\"colab-df-container\">\n",
              "      <div>\n",
              "<style scoped>\n",
              "    .dataframe tbody tr th:only-of-type {\n",
              "        vertical-align: middle;\n",
              "    }\n",
              "\n",
              "    .dataframe tbody tr th {\n",
              "        vertical-align: top;\n",
              "    }\n",
              "\n",
              "    .dataframe thead th {\n",
              "        text-align: right;\n",
              "    }\n",
              "</style>\n",
              "<table border=\"1\" class=\"dataframe\">\n",
              "  <thead>\n",
              "    <tr style=\"text-align: right;\">\n",
              "      <th></th>\n",
              "      <th>title</th>\n",
              "      <th>text</th>\n",
              "      <th>label</th>\n",
              "    </tr>\n",
              "  </thead>\n",
              "  <tbody>\n",
              "    <tr>\n",
              "      <th>0</th>\n",
              "      <td>(VIDEO) LAWYER FOR “Patriot” Gyrocopter Mailma...</td>\n",
              "      <td>I m Doug Hughes, I m 61 years old and I m a m...</td>\n",
              "      <td>0</td>\n",
              "    </tr>\n",
              "    <tr>\n",
              "      <th>1</th>\n",
              "      <td>BREAKING: DNC CHARWOMAN Shouted Down In Chaos ...</td>\n",
              "      <td>DNC Chairwoman shouted down during opening rem...</td>\n",
              "      <td>0</td>\n",
              "    </tr>\n",
              "    <tr>\n",
              "      <th>2</th>\n",
              "      <td>Is Spicer Flap a Cover for Media to Tie Up Whi...</td>\n",
              "      <td>By The TRUTH HOUNDIn the words of ABC News  an...</td>\n",
              "      <td>0</td>\n",
              "    </tr>\n",
              "    <tr>\n",
              "      <th>3</th>\n",
              "      <td>Democrat wins by one vote in Virginia legislat...</td>\n",
              "      <td>(Corrects spelling of Virginia House of Deleg...</td>\n",
              "      <td>1</td>\n",
              "    </tr>\n",
              "    <tr>\n",
              "      <th>4</th>\n",
              "      <td>KID ROCK BAND MEMBER PREDICTS: ‘That F*cker Co...</td>\n",
              "      <td>Kid Rock Keyboardist Jimmie Bones is shocked b...</td>\n",
              "      <td>0</td>\n",
              "    </tr>\n",
              "    <tr>\n",
              "      <th>...</th>\n",
              "      <td>...</td>\n",
              "      <td>...</td>\n",
              "      <td>...</td>\n",
              "    </tr>\n",
              "    <tr>\n",
              "      <th>12891</th>\n",
              "      <td>INTEL WHISTLEBLOWER: Trump was likely spied on...</td>\n",
              "      <td></td>\n",
              "      <td>0</td>\n",
              "    </tr>\n",
              "    <tr>\n",
              "      <th>12892</th>\n",
              "      <td>More Americans think wealthy, not middle class...</td>\n",
              "      <td>WASHINGTON (Reuters) - Americans are more like...</td>\n",
              "      <td>1</td>\n",
              "    </tr>\n",
              "    <tr>\n",
              "      <th>12893</th>\n",
              "      <td>HOUSE DEMOCRATS MAKE STUNNING Move To Implemen...</td>\n",
              "      <td>While US citizens are outraged over the remova...</td>\n",
              "      <td>0</td>\n",
              "    </tr>\n",
              "    <tr>\n",
              "      <th>12894</th>\n",
              "      <td>BEWARE OF HILLARY CLINTON’S “Smart Power” Fore...</td>\n",
              "      <td>What the heck is Hillary Clinton talking about...</td>\n",
              "      <td>0</td>\n",
              "    </tr>\n",
              "    <tr>\n",
              "      <th>12895</th>\n",
              "      <td>Tillerson says 'no disagreement' between Trump...</td>\n",
              "      <td>BEIJING (Reuters) - U.S. Secretary of State Re...</td>\n",
              "      <td>1</td>\n",
              "    </tr>\n",
              "  </tbody>\n",
              "</table>\n",
              "<p>12896 rows × 3 columns</p>\n",
              "</div>\n",
              "      <button class=\"colab-df-convert\" onclick=\"convertToInteractive('df-8f8e19da-ef44-495c-856c-473193518ebd')\"\n",
              "              title=\"Convert this dataframe to an interactive table.\"\n",
              "              style=\"display:none;\">\n",
              "        \n",
              "  <svg xmlns=\"http://www.w3.org/2000/svg\" height=\"24px\"viewBox=\"0 0 24 24\"\n",
              "       width=\"24px\">\n",
              "    <path d=\"M0 0h24v24H0V0z\" fill=\"none\"/>\n",
              "    <path d=\"M18.56 5.44l.94 2.06.94-2.06 2.06-.94-2.06-.94-.94-2.06-.94 2.06-2.06.94zm-11 1L8.5 8.5l.94-2.06 2.06-.94-2.06-.94L8.5 2.5l-.94 2.06-2.06.94zm10 10l.94 2.06.94-2.06 2.06-.94-2.06-.94-.94-2.06-.94 2.06-2.06.94z\"/><path d=\"M17.41 7.96l-1.37-1.37c-.4-.4-.92-.59-1.43-.59-.52 0-1.04.2-1.43.59L10.3 9.45l-7.72 7.72c-.78.78-.78 2.05 0 2.83L4 21.41c.39.39.9.59 1.41.59.51 0 1.02-.2 1.41-.59l7.78-7.78 2.81-2.81c.8-.78.8-2.07 0-2.86zM5.41 20L4 18.59l7.72-7.72 1.47 1.35L5.41 20z\"/>\n",
              "  </svg>\n",
              "      </button>\n",
              "      \n",
              "  <style>\n",
              "    .colab-df-container {\n",
              "      display:flex;\n",
              "      flex-wrap:wrap;\n",
              "      gap: 12px;\n",
              "    }\n",
              "\n",
              "    .colab-df-convert {\n",
              "      background-color: #E8F0FE;\n",
              "      border: none;\n",
              "      border-radius: 50%;\n",
              "      cursor: pointer;\n",
              "      display: none;\n",
              "      fill: #1967D2;\n",
              "      height: 32px;\n",
              "      padding: 0 0 0 0;\n",
              "      width: 32px;\n",
              "    }\n",
              "\n",
              "    .colab-df-convert:hover {\n",
              "      background-color: #E2EBFA;\n",
              "      box-shadow: 0px 1px 2px rgba(60, 64, 67, 0.3), 0px 1px 3px 1px rgba(60, 64, 67, 0.15);\n",
              "      fill: #174EA6;\n",
              "    }\n",
              "\n",
              "    [theme=dark] .colab-df-convert {\n",
              "      background-color: #3B4455;\n",
              "      fill: #D2E3FC;\n",
              "    }\n",
              "\n",
              "    [theme=dark] .colab-df-convert:hover {\n",
              "      background-color: #434B5C;\n",
              "      box-shadow: 0px 1px 3px 1px rgba(0, 0, 0, 0.15);\n",
              "      filter: drop-shadow(0px 1px 2px rgba(0, 0, 0, 0.3));\n",
              "      fill: #FFFFFF;\n",
              "    }\n",
              "  </style>\n",
              "\n",
              "      <script>\n",
              "        const buttonEl =\n",
              "          document.querySelector('#df-8f8e19da-ef44-495c-856c-473193518ebd button.colab-df-convert');\n",
              "        buttonEl.style.display =\n",
              "          google.colab.kernel.accessAllowed ? 'block' : 'none';\n",
              "\n",
              "        async function convertToInteractive(key) {\n",
              "          const element = document.querySelector('#df-8f8e19da-ef44-495c-856c-473193518ebd');\n",
              "          const dataTable =\n",
              "            await google.colab.kernel.invokeFunction('convertToInteractive',\n",
              "                                                     [key], {});\n",
              "          if (!dataTable) return;\n",
              "\n",
              "          const docLinkHtml = 'Like what you see? Visit the ' +\n",
              "            '<a target=\"_blank\" href=https://colab.research.google.com/notebooks/data_table.ipynb>data table notebook</a>'\n",
              "            + ' to learn more about interactive tables.';\n",
              "          element.innerHTML = '';\n",
              "          dataTable['output_type'] = 'display_data';\n",
              "          await google.colab.output.renderOutput(dataTable, element);\n",
              "          const docLink = document.createElement('div');\n",
              "          docLink.innerHTML = docLinkHtml;\n",
              "          element.appendChild(docLink);\n",
              "        }\n",
              "      </script>\n",
              "    </div>\n",
              "  </div>\n",
              "  "
            ]
          },
          "metadata": {},
          "execution_count": 48
        }
      ],
      "source": [
        "# in order to remove bias I will shuffle the data\n",
        "from sklearn.utils import shuffle\n",
        "news_df = shuffle(news_df)\n",
        "news_df = news_df.reset_index(drop=True)\n",
        "news_df"
      ]
    },
    {
      "cell_type": "code",
      "execution_count": 49,
      "metadata": {
        "id": "HKd8vUo0qMfM"
      },
      "outputs": [],
      "source": [
        "news_df['text'] = news_df['text'].apply(lambda x: x.lower())\n",
        "news_df['title'] = news_df['title'].apply(lambda x: x.lower())\n",
        "# Remove punctuation:\n",
        "import string\n",
        "def punctuation_removal(text):\n",
        "    all_list = [char for char in text if char not in string.punctuation]\n",
        "    clean_str = ''.join(all_list)\n",
        "    return clean_str\n",
        "news_df['text'] = news_df['text'].apply(punctuation_removal)"
      ]
    },
    {
      "cell_type": "code",
      "execution_count": 50,
      "metadata": {
        "id": "lnvQId3aqRzc"
      },
      "outputs": [],
      "source": [
        "def punctuation_removal(title):\n",
        "    all_list = [char for char in title if char not in string.punctuation]\n",
        "    clean_str = ''.join(all_list)\n",
        "    return clean_str\n",
        "news_df['title'] = news_df['title'].apply(punctuation_removal)"
      ]
    },
    {
      "cell_type": "code",
      "execution_count": 51,
      "metadata": {
        "colab": {
          "base_uri": "https://localhost:8080/",
          "height": 424
        },
        "id": "d_qcXv75qUaS",
        "outputId": "6b902108-16c2-496f-d3c6-6d29699d8f76"
      },
      "outputs": [
        {
          "output_type": "execute_result",
          "data": {
            "text/plain": [
              "                                                   title  \\\n",
              "0      video lawyer for “patriot” gyrocopter mailman ...   \n",
              "1      breaking dnc charwoman shouted down in chaos d...   \n",
              "2      is spicer flap a cover for media to tie up whi...   \n",
              "3      democrat wins by one vote in virginia legislat...   \n",
              "4      kid rock band member predicts ‘that fcker coul...   \n",
              "...                                                  ...   \n",
              "12891  intel whistleblower trump was likely spied on ...   \n",
              "12892  more americans think wealthy not middle class ...   \n",
              "12893  house democrats make stunning move to implemen...   \n",
              "12894  beware of hillary clinton’s “smart power” fore...   \n",
              "12895  tillerson says no disagreement between trump a...   \n",
              "\n",
              "                                                    text  label  \n",
              "0       i m doug hughes i m 61 years old and i m a ma...      0  \n",
              "1      dnc chairwoman shouted down during opening rem...      0  \n",
              "2      by the truth houndin the words of abc news  an...      0  \n",
              "3       corrects spelling of virginia house of delega...      1  \n",
              "4      kid rock keyboardist jimmie bones is shocked b...      0  \n",
              "...                                                  ...    ...  \n",
              "12891                                                         0  \n",
              "12892  washington reuters  americans are more likely ...      1  \n",
              "12893  while us citizens are outraged over the remova...      0  \n",
              "12894  what the heck is hillary clinton talking about...      0  \n",
              "12895  beijing reuters  us secretary of state rex til...      1  \n",
              "\n",
              "[12896 rows x 3 columns]"
            ],
            "text/html": [
              "\n",
              "  <div id=\"df-b1615921-6aec-41bd-9c8c-b8afbecdc11c\">\n",
              "    <div class=\"colab-df-container\">\n",
              "      <div>\n",
              "<style scoped>\n",
              "    .dataframe tbody tr th:only-of-type {\n",
              "        vertical-align: middle;\n",
              "    }\n",
              "\n",
              "    .dataframe tbody tr th {\n",
              "        vertical-align: top;\n",
              "    }\n",
              "\n",
              "    .dataframe thead th {\n",
              "        text-align: right;\n",
              "    }\n",
              "</style>\n",
              "<table border=\"1\" class=\"dataframe\">\n",
              "  <thead>\n",
              "    <tr style=\"text-align: right;\">\n",
              "      <th></th>\n",
              "      <th>title</th>\n",
              "      <th>text</th>\n",
              "      <th>label</th>\n",
              "    </tr>\n",
              "  </thead>\n",
              "  <tbody>\n",
              "    <tr>\n",
              "      <th>0</th>\n",
              "      <td>video lawyer for “patriot” gyrocopter mailman ...</td>\n",
              "      <td>i m doug hughes i m 61 years old and i m a ma...</td>\n",
              "      <td>0</td>\n",
              "    </tr>\n",
              "    <tr>\n",
              "      <th>1</th>\n",
              "      <td>breaking dnc charwoman shouted down in chaos d...</td>\n",
              "      <td>dnc chairwoman shouted down during opening rem...</td>\n",
              "      <td>0</td>\n",
              "    </tr>\n",
              "    <tr>\n",
              "      <th>2</th>\n",
              "      <td>is spicer flap a cover for media to tie up whi...</td>\n",
              "      <td>by the truth houndin the words of abc news  an...</td>\n",
              "      <td>0</td>\n",
              "    </tr>\n",
              "    <tr>\n",
              "      <th>3</th>\n",
              "      <td>democrat wins by one vote in virginia legislat...</td>\n",
              "      <td>corrects spelling of virginia house of delega...</td>\n",
              "      <td>1</td>\n",
              "    </tr>\n",
              "    <tr>\n",
              "      <th>4</th>\n",
              "      <td>kid rock band member predicts ‘that fcker coul...</td>\n",
              "      <td>kid rock keyboardist jimmie bones is shocked b...</td>\n",
              "      <td>0</td>\n",
              "    </tr>\n",
              "    <tr>\n",
              "      <th>...</th>\n",
              "      <td>...</td>\n",
              "      <td>...</td>\n",
              "      <td>...</td>\n",
              "    </tr>\n",
              "    <tr>\n",
              "      <th>12891</th>\n",
              "      <td>intel whistleblower trump was likely spied on ...</td>\n",
              "      <td></td>\n",
              "      <td>0</td>\n",
              "    </tr>\n",
              "    <tr>\n",
              "      <th>12892</th>\n",
              "      <td>more americans think wealthy not middle class ...</td>\n",
              "      <td>washington reuters  americans are more likely ...</td>\n",
              "      <td>1</td>\n",
              "    </tr>\n",
              "    <tr>\n",
              "      <th>12893</th>\n",
              "      <td>house democrats make stunning move to implemen...</td>\n",
              "      <td>while us citizens are outraged over the remova...</td>\n",
              "      <td>0</td>\n",
              "    </tr>\n",
              "    <tr>\n",
              "      <th>12894</th>\n",
              "      <td>beware of hillary clinton’s “smart power” fore...</td>\n",
              "      <td>what the heck is hillary clinton talking about...</td>\n",
              "      <td>0</td>\n",
              "    </tr>\n",
              "    <tr>\n",
              "      <th>12895</th>\n",
              "      <td>tillerson says no disagreement between trump a...</td>\n",
              "      <td>beijing reuters  us secretary of state rex til...</td>\n",
              "      <td>1</td>\n",
              "    </tr>\n",
              "  </tbody>\n",
              "</table>\n",
              "<p>12896 rows × 3 columns</p>\n",
              "</div>\n",
              "      <button class=\"colab-df-convert\" onclick=\"convertToInteractive('df-b1615921-6aec-41bd-9c8c-b8afbecdc11c')\"\n",
              "              title=\"Convert this dataframe to an interactive table.\"\n",
              "              style=\"display:none;\">\n",
              "        \n",
              "  <svg xmlns=\"http://www.w3.org/2000/svg\" height=\"24px\"viewBox=\"0 0 24 24\"\n",
              "       width=\"24px\">\n",
              "    <path d=\"M0 0h24v24H0V0z\" fill=\"none\"/>\n",
              "    <path d=\"M18.56 5.44l.94 2.06.94-2.06 2.06-.94-2.06-.94-.94-2.06-.94 2.06-2.06.94zm-11 1L8.5 8.5l.94-2.06 2.06-.94-2.06-.94L8.5 2.5l-.94 2.06-2.06.94zm10 10l.94 2.06.94-2.06 2.06-.94-2.06-.94-.94-2.06-.94 2.06-2.06.94z\"/><path d=\"M17.41 7.96l-1.37-1.37c-.4-.4-.92-.59-1.43-.59-.52 0-1.04.2-1.43.59L10.3 9.45l-7.72 7.72c-.78.78-.78 2.05 0 2.83L4 21.41c.39.39.9.59 1.41.59.51 0 1.02-.2 1.41-.59l7.78-7.78 2.81-2.81c.8-.78.8-2.07 0-2.86zM5.41 20L4 18.59l7.72-7.72 1.47 1.35L5.41 20z\"/>\n",
              "  </svg>\n",
              "      </button>\n",
              "      \n",
              "  <style>\n",
              "    .colab-df-container {\n",
              "      display:flex;\n",
              "      flex-wrap:wrap;\n",
              "      gap: 12px;\n",
              "    }\n",
              "\n",
              "    .colab-df-convert {\n",
              "      background-color: #E8F0FE;\n",
              "      border: none;\n",
              "      border-radius: 50%;\n",
              "      cursor: pointer;\n",
              "      display: none;\n",
              "      fill: #1967D2;\n",
              "      height: 32px;\n",
              "      padding: 0 0 0 0;\n",
              "      width: 32px;\n",
              "    }\n",
              "\n",
              "    .colab-df-convert:hover {\n",
              "      background-color: #E2EBFA;\n",
              "      box-shadow: 0px 1px 2px rgba(60, 64, 67, 0.3), 0px 1px 3px 1px rgba(60, 64, 67, 0.15);\n",
              "      fill: #174EA6;\n",
              "    }\n",
              "\n",
              "    [theme=dark] .colab-df-convert {\n",
              "      background-color: #3B4455;\n",
              "      fill: #D2E3FC;\n",
              "    }\n",
              "\n",
              "    [theme=dark] .colab-df-convert:hover {\n",
              "      background-color: #434B5C;\n",
              "      box-shadow: 0px 1px 3px 1px rgba(0, 0, 0, 0.15);\n",
              "      filter: drop-shadow(0px 1px 2px rgba(0, 0, 0, 0.3));\n",
              "      fill: #FFFFFF;\n",
              "    }\n",
              "  </style>\n",
              "\n",
              "      <script>\n",
              "        const buttonEl =\n",
              "          document.querySelector('#df-b1615921-6aec-41bd-9c8c-b8afbecdc11c button.colab-df-convert');\n",
              "        buttonEl.style.display =\n",
              "          google.colab.kernel.accessAllowed ? 'block' : 'none';\n",
              "\n",
              "        async function convertToInteractive(key) {\n",
              "          const element = document.querySelector('#df-b1615921-6aec-41bd-9c8c-b8afbecdc11c');\n",
              "          const dataTable =\n",
              "            await google.colab.kernel.invokeFunction('convertToInteractive',\n",
              "                                                     [key], {});\n",
              "          if (!dataTable) return;\n",
              "\n",
              "          const docLinkHtml = 'Like what you see? Visit the ' +\n",
              "            '<a target=\"_blank\" href=https://colab.research.google.com/notebooks/data_table.ipynb>data table notebook</a>'\n",
              "            + ' to learn more about interactive tables.';\n",
              "          element.innerHTML = '';\n",
              "          dataTable['output_type'] = 'display_data';\n",
              "          await google.colab.output.renderOutput(dataTable, element);\n",
              "          const docLink = document.createElement('div');\n",
              "          docLink.innerHTML = docLinkHtml;\n",
              "          element.appendChild(docLink);\n",
              "        }\n",
              "      </script>\n",
              "    </div>\n",
              "  </div>\n",
              "  "
            ]
          },
          "metadata": {},
          "execution_count": 51
        }
      ],
      "source": [
        "news_df"
      ]
    },
    {
      "cell_type": "code",
      "execution_count": 52,
      "metadata": {
        "colab": {
          "base_uri": "https://localhost:8080/",
          "height": 1000
        },
        "id": "qut_fHFkqWTZ",
        "outputId": "da621577-920f-4ff1-8bf2-bda050c24776"
      },
      "outputs": [
        {
          "output_type": "stream",
          "name": "stderr",
          "text": [
            "[nltk_data] Downloading collection 'all'\n",
            "[nltk_data]    | \n",
            "[nltk_data]    | Downloading package abc to /root/nltk_data...\n",
            "[nltk_data]    |   Unzipping corpora/abc.zip.\n",
            "[nltk_data]    | Downloading package alpino to /root/nltk_data...\n",
            "[nltk_data]    |   Unzipping corpora/alpino.zip.\n",
            "[nltk_data]    | Downloading package averaged_perceptron_tagger to\n",
            "[nltk_data]    |     /root/nltk_data...\n",
            "[nltk_data]    |   Unzipping taggers/averaged_perceptron_tagger.zip.\n",
            "[nltk_data]    | Downloading package averaged_perceptron_tagger_ru to\n",
            "[nltk_data]    |     /root/nltk_data...\n",
            "[nltk_data]    |   Unzipping\n",
            "[nltk_data]    |       taggers/averaged_perceptron_tagger_ru.zip.\n",
            "[nltk_data]    | Downloading package basque_grammars to\n",
            "[nltk_data]    |     /root/nltk_data...\n",
            "[nltk_data]    |   Unzipping grammars/basque_grammars.zip.\n",
            "[nltk_data]    | Downloading package bcp47 to /root/nltk_data...\n",
            "[nltk_data]    | Downloading package biocreative_ppi to\n",
            "[nltk_data]    |     /root/nltk_data...\n",
            "[nltk_data]    |   Unzipping corpora/biocreative_ppi.zip.\n",
            "[nltk_data]    | Downloading package bllip_wsj_no_aux to\n",
            "[nltk_data]    |     /root/nltk_data...\n",
            "[nltk_data]    |   Unzipping models/bllip_wsj_no_aux.zip.\n",
            "[nltk_data]    | Downloading package book_grammars to\n",
            "[nltk_data]    |     /root/nltk_data...\n",
            "[nltk_data]    |   Unzipping grammars/book_grammars.zip.\n",
            "[nltk_data]    | Downloading package brown to /root/nltk_data...\n",
            "[nltk_data]    |   Unzipping corpora/brown.zip.\n",
            "[nltk_data]    | Downloading package brown_tei to /root/nltk_data...\n",
            "[nltk_data]    |   Unzipping corpora/brown_tei.zip.\n",
            "[nltk_data]    | Downloading package cess_cat to /root/nltk_data...\n",
            "[nltk_data]    |   Unzipping corpora/cess_cat.zip.\n",
            "[nltk_data]    | Downloading package cess_esp to /root/nltk_data...\n",
            "[nltk_data]    |   Unzipping corpora/cess_esp.zip.\n",
            "[nltk_data]    | Downloading package chat80 to /root/nltk_data...\n",
            "[nltk_data]    |   Unzipping corpora/chat80.zip.\n",
            "[nltk_data]    | Downloading package city_database to\n",
            "[nltk_data]    |     /root/nltk_data...\n",
            "[nltk_data]    |   Unzipping corpora/city_database.zip.\n",
            "[nltk_data]    | Downloading package cmudict to /root/nltk_data...\n",
            "[nltk_data]    |   Unzipping corpora/cmudict.zip.\n",
            "[nltk_data]    | Downloading package comparative_sentences to\n",
            "[nltk_data]    |     /root/nltk_data...\n",
            "[nltk_data]    |   Unzipping corpora/comparative_sentences.zip.\n",
            "[nltk_data]    | Downloading package comtrans to /root/nltk_data...\n",
            "[nltk_data]    | Downloading package conll2000 to /root/nltk_data...\n",
            "[nltk_data]    |   Unzipping corpora/conll2000.zip.\n",
            "[nltk_data]    | Downloading package conll2002 to /root/nltk_data...\n",
            "[nltk_data]    |   Unzipping corpora/conll2002.zip.\n",
            "[nltk_data]    | Downloading package conll2007 to /root/nltk_data...\n",
            "[nltk_data]    | Downloading package crubadan to /root/nltk_data...\n",
            "[nltk_data]    |   Unzipping corpora/crubadan.zip.\n",
            "[nltk_data]    | Downloading package dependency_treebank to\n",
            "[nltk_data]    |     /root/nltk_data...\n",
            "[nltk_data]    |   Unzipping corpora/dependency_treebank.zip.\n",
            "[nltk_data]    | Downloading package dolch to /root/nltk_data...\n",
            "[nltk_data]    |   Unzipping corpora/dolch.zip.\n",
            "[nltk_data]    | Downloading package europarl_raw to\n",
            "[nltk_data]    |     /root/nltk_data...\n",
            "[nltk_data]    |   Unzipping corpora/europarl_raw.zip.\n",
            "[nltk_data]    | Downloading package extended_omw to\n",
            "[nltk_data]    |     /root/nltk_data...\n",
            "[nltk_data]    | Downloading package floresta to /root/nltk_data...\n",
            "[nltk_data]    |   Unzipping corpora/floresta.zip.\n",
            "[nltk_data]    | Downloading package framenet_v15 to\n",
            "[nltk_data]    |     /root/nltk_data...\n",
            "[nltk_data]    |   Unzipping corpora/framenet_v15.zip.\n",
            "[nltk_data]    | Downloading package framenet_v17 to\n",
            "[nltk_data]    |     /root/nltk_data...\n",
            "[nltk_data]    |   Unzipping corpora/framenet_v17.zip.\n",
            "[nltk_data]    | Downloading package gazetteers to /root/nltk_data...\n",
            "[nltk_data]    |   Unzipping corpora/gazetteers.zip.\n",
            "[nltk_data]    | Downloading package genesis to /root/nltk_data...\n",
            "[nltk_data]    |   Unzipping corpora/genesis.zip.\n",
            "[nltk_data]    | Downloading package gutenberg to /root/nltk_data...\n",
            "[nltk_data]    |   Unzipping corpora/gutenberg.zip.\n",
            "[nltk_data]    | Downloading package ieer to /root/nltk_data...\n",
            "[nltk_data]    |   Unzipping corpora/ieer.zip.\n",
            "[nltk_data]    | Downloading package inaugural to /root/nltk_data...\n",
            "[nltk_data]    |   Unzipping corpora/inaugural.zip.\n",
            "[nltk_data]    | Downloading package indian to /root/nltk_data...\n",
            "[nltk_data]    |   Unzipping corpora/indian.zip.\n",
            "[nltk_data]    | Downloading package jeita to /root/nltk_data...\n",
            "[nltk_data]    | Downloading package kimmo to /root/nltk_data...\n",
            "[nltk_data]    |   Unzipping corpora/kimmo.zip.\n",
            "[nltk_data]    | Downloading package knbc to /root/nltk_data...\n",
            "[nltk_data]    | Downloading package large_grammars to\n",
            "[nltk_data]    |     /root/nltk_data...\n",
            "[nltk_data]    |   Unzipping grammars/large_grammars.zip.\n",
            "[nltk_data]    | Downloading package lin_thesaurus to\n",
            "[nltk_data]    |     /root/nltk_data...\n",
            "[nltk_data]    |   Unzipping corpora/lin_thesaurus.zip.\n",
            "[nltk_data]    | Downloading package mac_morpho to /root/nltk_data...\n",
            "[nltk_data]    |   Unzipping corpora/mac_morpho.zip.\n",
            "[nltk_data]    | Downloading package machado to /root/nltk_data...\n",
            "[nltk_data]    | Downloading package masc_tagged to /root/nltk_data...\n",
            "[nltk_data]    | Downloading package maxent_ne_chunker to\n",
            "[nltk_data]    |     /root/nltk_data...\n",
            "[nltk_data]    |   Unzipping chunkers/maxent_ne_chunker.zip.\n",
            "[nltk_data]    | Downloading package maxent_treebank_pos_tagger to\n",
            "[nltk_data]    |     /root/nltk_data...\n",
            "[nltk_data]    |   Unzipping taggers/maxent_treebank_pos_tagger.zip.\n",
            "[nltk_data]    | Downloading package moses_sample to\n",
            "[nltk_data]    |     /root/nltk_data...\n",
            "[nltk_data]    |   Unzipping models/moses_sample.zip.\n",
            "[nltk_data]    | Downloading package movie_reviews to\n",
            "[nltk_data]    |     /root/nltk_data...\n",
            "[nltk_data]    |   Unzipping corpora/movie_reviews.zip.\n",
            "[nltk_data]    | Downloading package mte_teip5 to /root/nltk_data...\n",
            "[nltk_data]    |   Unzipping corpora/mte_teip5.zip.\n",
            "[nltk_data]    | Downloading package mwa_ppdb to /root/nltk_data...\n",
            "[nltk_data]    |   Unzipping misc/mwa_ppdb.zip.\n",
            "[nltk_data]    | Downloading package names to /root/nltk_data...\n",
            "[nltk_data]    |   Unzipping corpora/names.zip.\n",
            "[nltk_data]    | Downloading package nombank.1.0 to /root/nltk_data...\n",
            "[nltk_data]    | Downloading package nonbreaking_prefixes to\n",
            "[nltk_data]    |     /root/nltk_data...\n",
            "[nltk_data]    |   Unzipping corpora/nonbreaking_prefixes.zip.\n",
            "[nltk_data]    | Downloading package nps_chat to /root/nltk_data...\n",
            "[nltk_data]    |   Unzipping corpora/nps_chat.zip.\n",
            "[nltk_data]    | Downloading package omw to /root/nltk_data...\n",
            "[nltk_data]    | Downloading package omw-1.4 to /root/nltk_data...\n",
            "[nltk_data]    | Downloading package opinion_lexicon to\n",
            "[nltk_data]    |     /root/nltk_data...\n",
            "[nltk_data]    |   Unzipping corpora/opinion_lexicon.zip.\n",
            "[nltk_data]    | Downloading package panlex_swadesh to\n",
            "[nltk_data]    |     /root/nltk_data...\n",
            "[nltk_data]    | Downloading package paradigms to /root/nltk_data...\n",
            "[nltk_data]    |   Unzipping corpora/paradigms.zip.\n",
            "[nltk_data]    | Downloading package pe08 to /root/nltk_data...\n",
            "[nltk_data]    |   Unzipping corpora/pe08.zip.\n",
            "[nltk_data]    | Downloading package perluniprops to\n",
            "[nltk_data]    |     /root/nltk_data...\n",
            "[nltk_data]    |   Unzipping misc/perluniprops.zip.\n",
            "[nltk_data]    | Downloading package pil to /root/nltk_data...\n",
            "[nltk_data]    |   Unzipping corpora/pil.zip.\n",
            "[nltk_data]    | Downloading package pl196x to /root/nltk_data...\n",
            "[nltk_data]    |   Unzipping corpora/pl196x.zip.\n",
            "[nltk_data]    | Downloading package porter_test to /root/nltk_data...\n",
            "[nltk_data]    |   Unzipping stemmers/porter_test.zip.\n",
            "[nltk_data]    | Downloading package ppattach to /root/nltk_data...\n",
            "[nltk_data]    |   Unzipping corpora/ppattach.zip.\n",
            "[nltk_data]    | Downloading package problem_reports to\n",
            "[nltk_data]    |     /root/nltk_data...\n",
            "[nltk_data]    |   Unzipping corpora/problem_reports.zip.\n",
            "[nltk_data]    | Downloading package product_reviews_1 to\n",
            "[nltk_data]    |     /root/nltk_data...\n",
            "[nltk_data]    |   Unzipping corpora/product_reviews_1.zip.\n",
            "[nltk_data]    | Downloading package product_reviews_2 to\n",
            "[nltk_data]    |     /root/nltk_data...\n",
            "[nltk_data]    |   Unzipping corpora/product_reviews_2.zip.\n",
            "[nltk_data]    | Downloading package propbank to /root/nltk_data...\n",
            "[nltk_data]    | Downloading package pros_cons to /root/nltk_data...\n",
            "[nltk_data]    |   Unzipping corpora/pros_cons.zip.\n",
            "[nltk_data]    | Downloading package ptb to /root/nltk_data...\n",
            "[nltk_data]    |   Unzipping corpora/ptb.zip.\n",
            "[nltk_data]    | Downloading package punkt to /root/nltk_data...\n",
            "[nltk_data]    |   Unzipping tokenizers/punkt.zip.\n",
            "[nltk_data]    | Downloading package qc to /root/nltk_data...\n",
            "[nltk_data]    |   Unzipping corpora/qc.zip.\n",
            "[nltk_data]    | Downloading package reuters to /root/nltk_data...\n",
            "[nltk_data]    | Downloading package rslp to /root/nltk_data...\n",
            "[nltk_data]    |   Unzipping stemmers/rslp.zip.\n",
            "[nltk_data]    | Downloading package rte to /root/nltk_data...\n",
            "[nltk_data]    |   Unzipping corpora/rte.zip.\n",
            "[nltk_data]    | Downloading package sample_grammars to\n",
            "[nltk_data]    |     /root/nltk_data...\n",
            "[nltk_data]    |   Unzipping grammars/sample_grammars.zip.\n",
            "[nltk_data]    | Downloading package semcor to /root/nltk_data...\n",
            "[nltk_data]    | Downloading package senseval to /root/nltk_data...\n",
            "[nltk_data]    |   Unzipping corpora/senseval.zip.\n",
            "[nltk_data]    | Downloading package sentence_polarity to\n",
            "[nltk_data]    |     /root/nltk_data...\n",
            "[nltk_data]    |   Unzipping corpora/sentence_polarity.zip.\n",
            "[nltk_data]    | Downloading package sentiwordnet to\n",
            "[nltk_data]    |     /root/nltk_data...\n",
            "[nltk_data]    |   Unzipping corpora/sentiwordnet.zip.\n",
            "[nltk_data]    | Downloading package shakespeare to /root/nltk_data...\n",
            "[nltk_data]    |   Unzipping corpora/shakespeare.zip.\n",
            "[nltk_data]    | Downloading package sinica_treebank to\n",
            "[nltk_data]    |     /root/nltk_data...\n",
            "[nltk_data]    |   Unzipping corpora/sinica_treebank.zip.\n",
            "[nltk_data]    | Downloading package smultron to /root/nltk_data...\n",
            "[nltk_data]    |   Unzipping corpora/smultron.zip.\n",
            "[nltk_data]    | Downloading package snowball_data to\n",
            "[nltk_data]    |     /root/nltk_data...\n",
            "[nltk_data]    | Downloading package spanish_grammars to\n",
            "[nltk_data]    |     /root/nltk_data...\n",
            "[nltk_data]    |   Unzipping grammars/spanish_grammars.zip.\n",
            "[nltk_data]    | Downloading package state_union to /root/nltk_data...\n",
            "[nltk_data]    |   Unzipping corpora/state_union.zip.\n",
            "[nltk_data]    | Downloading package stopwords to /root/nltk_data...\n",
            "[nltk_data]    |   Unzipping corpora/stopwords.zip.\n",
            "[nltk_data]    | Downloading package subjectivity to\n",
            "[nltk_data]    |     /root/nltk_data...\n",
            "[nltk_data]    |   Unzipping corpora/subjectivity.zip.\n",
            "[nltk_data]    | Downloading package swadesh to /root/nltk_data...\n",
            "[nltk_data]    |   Unzipping corpora/swadesh.zip.\n",
            "[nltk_data]    | Downloading package switchboard to /root/nltk_data...\n",
            "[nltk_data]    |   Unzipping corpora/switchboard.zip.\n",
            "[nltk_data]    | Downloading package tagsets to /root/nltk_data...\n",
            "[nltk_data]    |   Unzipping help/tagsets.zip.\n",
            "[nltk_data]    | Downloading package timit to /root/nltk_data...\n",
            "[nltk_data]    |   Unzipping corpora/timit.zip.\n",
            "[nltk_data]    | Downloading package toolbox to /root/nltk_data...\n",
            "[nltk_data]    |   Unzipping corpora/toolbox.zip.\n",
            "[nltk_data]    | Downloading package treebank to /root/nltk_data...\n",
            "[nltk_data]    |   Unzipping corpora/treebank.zip.\n",
            "[nltk_data]    | Downloading package twitter_samples to\n",
            "[nltk_data]    |     /root/nltk_data...\n",
            "[nltk_data]    |   Unzipping corpora/twitter_samples.zip.\n",
            "[nltk_data]    | Downloading package udhr to /root/nltk_data...\n",
            "[nltk_data]    |   Unzipping corpora/udhr.zip.\n",
            "[nltk_data]    | Downloading package udhr2 to /root/nltk_data...\n",
            "[nltk_data]    |   Unzipping corpora/udhr2.zip.\n",
            "[nltk_data]    | Downloading package unicode_samples to\n",
            "[nltk_data]    |     /root/nltk_data...\n",
            "[nltk_data]    |   Unzipping corpora/unicode_samples.zip.\n",
            "[nltk_data]    | Downloading package universal_tagset to\n",
            "[nltk_data]    |     /root/nltk_data...\n",
            "[nltk_data]    |   Unzipping taggers/universal_tagset.zip.\n",
            "[nltk_data]    | Downloading package universal_treebanks_v20 to\n",
            "[nltk_data]    |     /root/nltk_data...\n",
            "[nltk_data]    | Downloading package vader_lexicon to\n",
            "[nltk_data]    |     /root/nltk_data...\n",
            "[nltk_data]    | Downloading package verbnet to /root/nltk_data...\n",
            "[nltk_data]    |   Unzipping corpora/verbnet.zip.\n",
            "[nltk_data]    | Downloading package verbnet3 to /root/nltk_data...\n",
            "[nltk_data]    |   Unzipping corpora/verbnet3.zip.\n",
            "[nltk_data]    | Downloading package webtext to /root/nltk_data...\n",
            "[nltk_data]    |   Unzipping corpora/webtext.zip.\n",
            "[nltk_data]    | Downloading package wmt15_eval to /root/nltk_data...\n",
            "[nltk_data]    |   Unzipping models/wmt15_eval.zip.\n",
            "[nltk_data]    | Downloading package word2vec_sample to\n",
            "[nltk_data]    |     /root/nltk_data...\n",
            "[nltk_data]    |   Unzipping models/word2vec_sample.zip.\n",
            "[nltk_data]    | Downloading package wordnet to /root/nltk_data...\n",
            "[nltk_data]    | Downloading package wordnet2021 to /root/nltk_data...\n",
            "[nltk_data]    | Downloading package wordnet31 to /root/nltk_data...\n",
            "[nltk_data]    | Downloading package wordnet_ic to /root/nltk_data...\n",
            "[nltk_data]    |   Unzipping corpora/wordnet_ic.zip.\n",
            "[nltk_data]    | Downloading package words to /root/nltk_data...\n",
            "[nltk_data]    |   Unzipping corpora/words.zip.\n",
            "[nltk_data]    | Downloading package ycoe to /root/nltk_data...\n",
            "[nltk_data]    |   Unzipping corpora/ycoe.zip.\n",
            "[nltk_data]    | \n",
            "[nltk_data]  Done downloading collection all\n"
          ]
        },
        {
          "output_type": "execute_result",
          "data": {
            "text/plain": [
              "                                               title  \\\n",
              "0  video lawyer for “patriot” gyrocopter mailman ...   \n",
              "1  breaking dnc charwoman shouted down in chaos d...   \n",
              "2  is spicer flap a cover for media to tie up whi...   \n",
              "3  democrat wins by one vote in virginia legislat...   \n",
              "4  kid rock band member predicts ‘that fcker coul...   \n",
              "5  our crybaby community organizer makes a fool o...   \n",
              "6  nervous nancy pelosi gives incoherent response...   \n",
              "7  breaking fbi didn’t record hillary interview d...   \n",
              "8  churchgoers trapped inside cathedral after man...   \n",
              "9  kremlin russia did not use facebook adverts to...   \n",
              "\n",
              "                                                text  label  \n",
              "0  i m doug hughes i m 61 year old and i m a mail...      0  \n",
              "1  dnc chairwoman shouted down during opening rem...      0  \n",
              "2  by the truth houndin the word of abc news anch...      0  \n",
              "3  corrects spelling of virginia house of delegat...      1  \n",
              "4  kid rock keyboardist jimmie bone is shocked bu...      0  \n",
              "5                                                         0  \n",
              "6  a nervous nancy pelosi responded thursday to c...      0  \n",
              "7  no worry fbi director james comey is ha assure...      0  \n",
              "8  france s armed police officer were at least pr...      0  \n",
              "9  moscow reuters russia did not place advert on ...      1  "
            ],
            "text/html": [
              "\n",
              "  <div id=\"df-2f414e52-2a22-4364-b5b9-49ff207209b0\">\n",
              "    <div class=\"colab-df-container\">\n",
              "      <div>\n",
              "<style scoped>\n",
              "    .dataframe tbody tr th:only-of-type {\n",
              "        vertical-align: middle;\n",
              "    }\n",
              "\n",
              "    .dataframe tbody tr th {\n",
              "        vertical-align: top;\n",
              "    }\n",
              "\n",
              "    .dataframe thead th {\n",
              "        text-align: right;\n",
              "    }\n",
              "</style>\n",
              "<table border=\"1\" class=\"dataframe\">\n",
              "  <thead>\n",
              "    <tr style=\"text-align: right;\">\n",
              "      <th></th>\n",
              "      <th>title</th>\n",
              "      <th>text</th>\n",
              "      <th>label</th>\n",
              "    </tr>\n",
              "  </thead>\n",
              "  <tbody>\n",
              "    <tr>\n",
              "      <th>0</th>\n",
              "      <td>video lawyer for “patriot” gyrocopter mailman ...</td>\n",
              "      <td>i m doug hughes i m 61 year old and i m a mail...</td>\n",
              "      <td>0</td>\n",
              "    </tr>\n",
              "    <tr>\n",
              "      <th>1</th>\n",
              "      <td>breaking dnc charwoman shouted down in chaos d...</td>\n",
              "      <td>dnc chairwoman shouted down during opening rem...</td>\n",
              "      <td>0</td>\n",
              "    </tr>\n",
              "    <tr>\n",
              "      <th>2</th>\n",
              "      <td>is spicer flap a cover for media to tie up whi...</td>\n",
              "      <td>by the truth houndin the word of abc news anch...</td>\n",
              "      <td>0</td>\n",
              "    </tr>\n",
              "    <tr>\n",
              "      <th>3</th>\n",
              "      <td>democrat wins by one vote in virginia legislat...</td>\n",
              "      <td>corrects spelling of virginia house of delegat...</td>\n",
              "      <td>1</td>\n",
              "    </tr>\n",
              "    <tr>\n",
              "      <th>4</th>\n",
              "      <td>kid rock band member predicts ‘that fcker coul...</td>\n",
              "      <td>kid rock keyboardist jimmie bone is shocked bu...</td>\n",
              "      <td>0</td>\n",
              "    </tr>\n",
              "    <tr>\n",
              "      <th>5</th>\n",
              "      <td>our crybaby community organizer makes a fool o...</td>\n",
              "      <td></td>\n",
              "      <td>0</td>\n",
              "    </tr>\n",
              "    <tr>\n",
              "      <th>6</th>\n",
              "      <td>nervous nancy pelosi gives incoherent response...</td>\n",
              "      <td>a nervous nancy pelosi responded thursday to c...</td>\n",
              "      <td>0</td>\n",
              "    </tr>\n",
              "    <tr>\n",
              "      <th>7</th>\n",
              "      <td>breaking fbi didn’t record hillary interview d...</td>\n",
              "      <td>no worry fbi director james comey is ha assure...</td>\n",
              "      <td>0</td>\n",
              "    </tr>\n",
              "    <tr>\n",
              "      <th>8</th>\n",
              "      <td>churchgoers trapped inside cathedral after man...</td>\n",
              "      <td>france s armed police officer were at least pr...</td>\n",
              "      <td>0</td>\n",
              "    </tr>\n",
              "    <tr>\n",
              "      <th>9</th>\n",
              "      <td>kremlin russia did not use facebook adverts to...</td>\n",
              "      <td>moscow reuters russia did not place advert on ...</td>\n",
              "      <td>1</td>\n",
              "    </tr>\n",
              "  </tbody>\n",
              "</table>\n",
              "</div>\n",
              "      <button class=\"colab-df-convert\" onclick=\"convertToInteractive('df-2f414e52-2a22-4364-b5b9-49ff207209b0')\"\n",
              "              title=\"Convert this dataframe to an interactive table.\"\n",
              "              style=\"display:none;\">\n",
              "        \n",
              "  <svg xmlns=\"http://www.w3.org/2000/svg\" height=\"24px\"viewBox=\"0 0 24 24\"\n",
              "       width=\"24px\">\n",
              "    <path d=\"M0 0h24v24H0V0z\" fill=\"none\"/>\n",
              "    <path d=\"M18.56 5.44l.94 2.06.94-2.06 2.06-.94-2.06-.94-.94-2.06-.94 2.06-2.06.94zm-11 1L8.5 8.5l.94-2.06 2.06-.94-2.06-.94L8.5 2.5l-.94 2.06-2.06.94zm10 10l.94 2.06.94-2.06 2.06-.94-2.06-.94-.94-2.06-.94 2.06-2.06.94z\"/><path d=\"M17.41 7.96l-1.37-1.37c-.4-.4-.92-.59-1.43-.59-.52 0-1.04.2-1.43.59L10.3 9.45l-7.72 7.72c-.78.78-.78 2.05 0 2.83L4 21.41c.39.39.9.59 1.41.59.51 0 1.02-.2 1.41-.59l7.78-7.78 2.81-2.81c.8-.78.8-2.07 0-2.86zM5.41 20L4 18.59l7.72-7.72 1.47 1.35L5.41 20z\"/>\n",
              "  </svg>\n",
              "      </button>\n",
              "      \n",
              "  <style>\n",
              "    .colab-df-container {\n",
              "      display:flex;\n",
              "      flex-wrap:wrap;\n",
              "      gap: 12px;\n",
              "    }\n",
              "\n",
              "    .colab-df-convert {\n",
              "      background-color: #E8F0FE;\n",
              "      border: none;\n",
              "      border-radius: 50%;\n",
              "      cursor: pointer;\n",
              "      display: none;\n",
              "      fill: #1967D2;\n",
              "      height: 32px;\n",
              "      padding: 0 0 0 0;\n",
              "      width: 32px;\n",
              "    }\n",
              "\n",
              "    .colab-df-convert:hover {\n",
              "      background-color: #E2EBFA;\n",
              "      box-shadow: 0px 1px 2px rgba(60, 64, 67, 0.3), 0px 1px 3px 1px rgba(60, 64, 67, 0.15);\n",
              "      fill: #174EA6;\n",
              "    }\n",
              "\n",
              "    [theme=dark] .colab-df-convert {\n",
              "      background-color: #3B4455;\n",
              "      fill: #D2E3FC;\n",
              "    }\n",
              "\n",
              "    [theme=dark] .colab-df-convert:hover {\n",
              "      background-color: #434B5C;\n",
              "      box-shadow: 0px 1px 3px 1px rgba(0, 0, 0, 0.15);\n",
              "      filter: drop-shadow(0px 1px 2px rgba(0, 0, 0, 0.3));\n",
              "      fill: #FFFFFF;\n",
              "    }\n",
              "  </style>\n",
              "\n",
              "      <script>\n",
              "        const buttonEl =\n",
              "          document.querySelector('#df-2f414e52-2a22-4364-b5b9-49ff207209b0 button.colab-df-convert');\n",
              "        buttonEl.style.display =\n",
              "          google.colab.kernel.accessAllowed ? 'block' : 'none';\n",
              "\n",
              "        async function convertToInteractive(key) {\n",
              "          const element = document.querySelector('#df-2f414e52-2a22-4364-b5b9-49ff207209b0');\n",
              "          const dataTable =\n",
              "            await google.colab.kernel.invokeFunction('convertToInteractive',\n",
              "                                                     [key], {});\n",
              "          if (!dataTable) return;\n",
              "\n",
              "          const docLinkHtml = 'Like what you see? Visit the ' +\n",
              "            '<a target=\"_blank\" href=https://colab.research.google.com/notebooks/data_table.ipynb>data table notebook</a>'\n",
              "            + ' to learn more about interactive tables.';\n",
              "          element.innerHTML = '';\n",
              "          dataTable['output_type'] = 'display_data';\n",
              "          await google.colab.output.renderOutput(dataTable, element);\n",
              "          const docLink = document.createElement('div');\n",
              "          docLink.innerHTML = docLinkHtml;\n",
              "          element.appendChild(docLink);\n",
              "        }\n",
              "      </script>\n",
              "    </div>\n",
              "  </div>\n",
              "  "
            ]
          },
          "metadata": {},
          "execution_count": 52
        }
      ],
      "source": [
        "import nltk\n",
        "from nltk.stem import WordNetLemmatizer\n",
        "nltk.download('all')\n",
        "#establish the lemmatizer\n",
        "wordnet_lemmatizer = WordNetLemmatizer()\n",
        "news_df['text'] = news_df.text.apply(lambda x: \" \".join(wordnet_lemmatizer.lemmatize(w) for w in x.split()))\n",
        "news_df.head(10)\n"
      ]
    },
    {
      "cell_type": "code",
      "execution_count": 53,
      "metadata": {
        "id": "qHSTcQqjqZMx"
      },
      "outputs": [],
      "source": [
        "# genrate the token list:\n",
        "token = ' '.join(news_df.text).split()"
      ]
    },
    {
      "cell_type": "code",
      "execution_count": 54,
      "metadata": {
        "colab": {
          "base_uri": "https://localhost:8080/"
        },
        "id": "EA9VczGhq5vE",
        "outputId": "94451743-a7bd-438a-a355-01e7b9ca2df6"
      },
      "outputs": [
        {
          "output_type": "execute_result",
          "data": {
            "text/plain": [
              "[(('of', 'the'), 28758),\n",
              " (('in', 'the'), 21890),\n",
              " (('to', 'the'), 15137),\n",
              " (('on', 'the'), 10208),\n",
              " (('for', 'the'), 8539),\n",
              " (('in', 'a'), 7590),\n",
              " (('and', 'the'), 7411),\n",
              " (('that', 'the'), 7301),\n",
              " (('at', 'the'), 6875),\n",
              " (('to', 'be'), 6848),\n",
              " (('the', 'u'), 6783),\n",
              " (('with', 'the'), 6668),\n",
              " (('by', 'the'), 6046),\n",
              " (('from', 'the'), 5546),\n",
              " (('it', 's'), 5214),\n",
              " (('white', 'house'), 5036),\n",
              " (('the', 'united'), 5026),\n",
              " (('donald', 'trump'), 4857),\n",
              " (('of', 'a'), 4854),\n",
              " (('a', 'a'), 4627)]"
            ]
          },
          "metadata": {},
          "execution_count": 54
        }
      ],
      "source": [
        "# creating the bigrams\n",
        "ngrams_2 = nltk.bigrams(token)\n",
        "\n",
        "# freq distribution for these\n",
        "freq_2grams = pd.Series(ngrams_2).value_counts().to_dict()\n",
        "list(freq_2grams.items())[:20]"
      ]
    },
    {
      "cell_type": "code",
      "execution_count": 55,
      "metadata": {
        "colab": {
          "base_uri": "https://localhost:8080/"
        },
        "id": "qKnNUrXXsfon",
        "outputId": "d9b655bc-993d-4d7f-a9bd-60a749211728"
      },
      "outputs": [
        {
          "output_type": "execute_result",
          "data": {
            "text/plain": [
              "[(('the', 'united', 'state'), 4256),\n",
              " (('the', 'white', 'house'), 3128),\n",
              " (('president', 'donald', 'trump'), 2295),\n",
              " (('one', 'of', 'the'), 1803),\n",
              " (('said', 'in', 'a'), 1561),\n",
              " (('in', 'a', 'statement'), 1267),\n",
              " (('secretary', 'of', 'state'), 1162),\n",
              " (('a', 'well', 'a'), 1150),\n",
              " (('according', 'to', 'the'), 1081),\n",
              " (('member', 'of', 'the'), 963),\n",
              " (('house', 'of', 'representative'), 963),\n",
              " (('21st', 'century', 'wire'), 954),\n",
              " (('in', 'the', 'u'), 954),\n",
              " (('the', 'obama', 'administration'), 943),\n",
              " (('u', 'president', 'donald'), 910),\n",
              " (('in', 'the', 'united'), 897),\n",
              " (('part', 'of', 'the'), 856),\n",
              " (('the', 'trump', 'administration'), 849),\n",
              " (('the', 'new', 'york'), 794),\n",
              " (('i', 'don', 't'), 779)]"
            ]
          },
          "metadata": {},
          "execution_count": 55
        }
      ],
      "source": [
        "# creating the trigrams\n",
        "ngrams_3 = nltk.trigrams(token)\n",
        "\n",
        "# freq distribution for these\n",
        "freq_3grams = pd.Series(ngrams_3).value_counts().to_dict()\n",
        "list(freq_3grams.items())[:20]"
      ]
    },
    {
      "cell_type": "code",
      "execution_count": 56,
      "metadata": {
        "id": "Q_8QxaYNslj0"
      },
      "outputs": [],
      "source": [
        "from sklearn.model_selection import train_test_split\n",
        "X_train, x_test, Y_train, y_test = train_test_split(news_df[['title','text']], \n",
        "                                                    news_df['label'],  \n",
        "                                                    test_size = 0.2)"
      ]
    },
    {
      "cell_type": "code",
      "execution_count": 57,
      "metadata": {
        "colab": {
          "base_uri": "https://localhost:8080/",
          "height": 206
        },
        "id": "m_UweOplsv-L",
        "outputId": "981f82d5-0954-47c4-94ed-f53922dcb480"
      },
      "outputs": [
        {
          "output_type": "execute_result",
          "data": {
            "text/plain": [
              "                                                   title  \\\n",
              "6389   video staffer pleading fifth on emails ‘anothe...   \n",
              "10039  boiler room ep 119 – zombie disneyland  the de...   \n",
              "12180          bernie sues to allow 17 year olds to vote   \n",
              "174    wow total clown john kasich blasts trump…invit...   \n",
              "2629   assange ‘trump in conflict with cia over syria...   \n",
              "\n",
              "                                                    text  \n",
              "6389   bryan pagliano is in hot water with this and h...  \n",
              "10039  tune in to the alternate current radio network...  \n",
              "12180  next up is a law suit to make it legal for h1b...  \n",
              "174    ohio governor john kasich dreamer didn t choos...  \n",
              "2629   this interview with wikileaks head julian assa...  "
            ],
            "text/html": [
              "\n",
              "  <div id=\"df-32d07bef-159f-4ef4-8d49-a4442eb9b7b2\">\n",
              "    <div class=\"colab-df-container\">\n",
              "      <div>\n",
              "<style scoped>\n",
              "    .dataframe tbody tr th:only-of-type {\n",
              "        vertical-align: middle;\n",
              "    }\n",
              "\n",
              "    .dataframe tbody tr th {\n",
              "        vertical-align: top;\n",
              "    }\n",
              "\n",
              "    .dataframe thead th {\n",
              "        text-align: right;\n",
              "    }\n",
              "</style>\n",
              "<table border=\"1\" class=\"dataframe\">\n",
              "  <thead>\n",
              "    <tr style=\"text-align: right;\">\n",
              "      <th></th>\n",
              "      <th>title</th>\n",
              "      <th>text</th>\n",
              "    </tr>\n",
              "  </thead>\n",
              "  <tbody>\n",
              "    <tr>\n",
              "      <th>6389</th>\n",
              "      <td>video staffer pleading fifth on emails ‘anothe...</td>\n",
              "      <td>bryan pagliano is in hot water with this and h...</td>\n",
              "    </tr>\n",
              "    <tr>\n",
              "      <th>10039</th>\n",
              "      <td>boiler room ep 119 – zombie disneyland  the de...</td>\n",
              "      <td>tune in to the alternate current radio network...</td>\n",
              "    </tr>\n",
              "    <tr>\n",
              "      <th>12180</th>\n",
              "      <td>bernie sues to allow 17 year olds to vote</td>\n",
              "      <td>next up is a law suit to make it legal for h1b...</td>\n",
              "    </tr>\n",
              "    <tr>\n",
              "      <th>174</th>\n",
              "      <td>wow total clown john kasich blasts trump…invit...</td>\n",
              "      <td>ohio governor john kasich dreamer didn t choos...</td>\n",
              "    </tr>\n",
              "    <tr>\n",
              "      <th>2629</th>\n",
              "      <td>assange ‘trump in conflict with cia over syria...</td>\n",
              "      <td>this interview with wikileaks head julian assa...</td>\n",
              "    </tr>\n",
              "  </tbody>\n",
              "</table>\n",
              "</div>\n",
              "      <button class=\"colab-df-convert\" onclick=\"convertToInteractive('df-32d07bef-159f-4ef4-8d49-a4442eb9b7b2')\"\n",
              "              title=\"Convert this dataframe to an interactive table.\"\n",
              "              style=\"display:none;\">\n",
              "        \n",
              "  <svg xmlns=\"http://www.w3.org/2000/svg\" height=\"24px\"viewBox=\"0 0 24 24\"\n",
              "       width=\"24px\">\n",
              "    <path d=\"M0 0h24v24H0V0z\" fill=\"none\"/>\n",
              "    <path d=\"M18.56 5.44l.94 2.06.94-2.06 2.06-.94-2.06-.94-.94-2.06-.94 2.06-2.06.94zm-11 1L8.5 8.5l.94-2.06 2.06-.94-2.06-.94L8.5 2.5l-.94 2.06-2.06.94zm10 10l.94 2.06.94-2.06 2.06-.94-2.06-.94-.94-2.06-.94 2.06-2.06.94z\"/><path d=\"M17.41 7.96l-1.37-1.37c-.4-.4-.92-.59-1.43-.59-.52 0-1.04.2-1.43.59L10.3 9.45l-7.72 7.72c-.78.78-.78 2.05 0 2.83L4 21.41c.39.39.9.59 1.41.59.51 0 1.02-.2 1.41-.59l7.78-7.78 2.81-2.81c.8-.78.8-2.07 0-2.86zM5.41 20L4 18.59l7.72-7.72 1.47 1.35L5.41 20z\"/>\n",
              "  </svg>\n",
              "      </button>\n",
              "      \n",
              "  <style>\n",
              "    .colab-df-container {\n",
              "      display:flex;\n",
              "      flex-wrap:wrap;\n",
              "      gap: 12px;\n",
              "    }\n",
              "\n",
              "    .colab-df-convert {\n",
              "      background-color: #E8F0FE;\n",
              "      border: none;\n",
              "      border-radius: 50%;\n",
              "      cursor: pointer;\n",
              "      display: none;\n",
              "      fill: #1967D2;\n",
              "      height: 32px;\n",
              "      padding: 0 0 0 0;\n",
              "      width: 32px;\n",
              "    }\n",
              "\n",
              "    .colab-df-convert:hover {\n",
              "      background-color: #E2EBFA;\n",
              "      box-shadow: 0px 1px 2px rgba(60, 64, 67, 0.3), 0px 1px 3px 1px rgba(60, 64, 67, 0.15);\n",
              "      fill: #174EA6;\n",
              "    }\n",
              "\n",
              "    [theme=dark] .colab-df-convert {\n",
              "      background-color: #3B4455;\n",
              "      fill: #D2E3FC;\n",
              "    }\n",
              "\n",
              "    [theme=dark] .colab-df-convert:hover {\n",
              "      background-color: #434B5C;\n",
              "      box-shadow: 0px 1px 3px 1px rgba(0, 0, 0, 0.15);\n",
              "      filter: drop-shadow(0px 1px 2px rgba(0, 0, 0, 0.3));\n",
              "      fill: #FFFFFF;\n",
              "    }\n",
              "  </style>\n",
              "\n",
              "      <script>\n",
              "        const buttonEl =\n",
              "          document.querySelector('#df-32d07bef-159f-4ef4-8d49-a4442eb9b7b2 button.colab-df-convert');\n",
              "        buttonEl.style.display =\n",
              "          google.colab.kernel.accessAllowed ? 'block' : 'none';\n",
              "\n",
              "        async function convertToInteractive(key) {\n",
              "          const element = document.querySelector('#df-32d07bef-159f-4ef4-8d49-a4442eb9b7b2');\n",
              "          const dataTable =\n",
              "            await google.colab.kernel.invokeFunction('convertToInteractive',\n",
              "                                                     [key], {});\n",
              "          if (!dataTable) return;\n",
              "\n",
              "          const docLinkHtml = 'Like what you see? Visit the ' +\n",
              "            '<a target=\"_blank\" href=https://colab.research.google.com/notebooks/data_table.ipynb>data table notebook</a>'\n",
              "            + ' to learn more about interactive tables.';\n",
              "          element.innerHTML = '';\n",
              "          dataTable['output_type'] = 'display_data';\n",
              "          await google.colab.output.renderOutput(dataTable, element);\n",
              "          const docLink = document.createElement('div');\n",
              "          docLink.innerHTML = docLinkHtml;\n",
              "          element.appendChild(docLink);\n",
              "        }\n",
              "      </script>\n",
              "    </div>\n",
              "  </div>\n",
              "  "
            ]
          },
          "metadata": {},
          "execution_count": 57
        }
      ],
      "source": [
        "X_train.head()"
      ]
    },
    {
      "cell_type": "code",
      "execution_count": 58,
      "metadata": {
        "colab": {
          "base_uri": "https://localhost:8080/",
          "height": 206
        },
        "id": "mz6NXlUZsyv4",
        "outputId": "9d31439e-e6ce-4eda-e9a7-e4a316d52ded"
      },
      "outputs": [
        {
          "output_type": "execute_result",
          "data": {
            "text/plain": [
              "                                                   title  \\\n",
              "6613   watch and laugh sebastian gorka tells cnn’s ca...   \n",
              "11981  video screaming ‘dreamers’ force a shaken nanc...   \n",
              "9901   hillary plays victim card…here’s why that’s no...   \n",
              "12889  40 years ago ronald reagan warned us about oba...   \n",
              "12735  what’s the leading killer of american adults u...   \n",
              "\n",
              "                                                    text  \n",
              "6613   sebastian gorka doe a mic drop on cnn anchor a...  \n",
              "11981  wow the left ha lost control of their precious...  \n",
              "9901   the clinton always blame somebody else now it ...  \n",
              "12889  i d like to suggest that there is no such thin...  \n",
              "12735  21st century wire say last april the un genera...  "
            ],
            "text/html": [
              "\n",
              "  <div id=\"df-8945ea6a-a235-4210-b824-26b518229667\">\n",
              "    <div class=\"colab-df-container\">\n",
              "      <div>\n",
              "<style scoped>\n",
              "    .dataframe tbody tr th:only-of-type {\n",
              "        vertical-align: middle;\n",
              "    }\n",
              "\n",
              "    .dataframe tbody tr th {\n",
              "        vertical-align: top;\n",
              "    }\n",
              "\n",
              "    .dataframe thead th {\n",
              "        text-align: right;\n",
              "    }\n",
              "</style>\n",
              "<table border=\"1\" class=\"dataframe\">\n",
              "  <thead>\n",
              "    <tr style=\"text-align: right;\">\n",
              "      <th></th>\n",
              "      <th>title</th>\n",
              "      <th>text</th>\n",
              "    </tr>\n",
              "  </thead>\n",
              "  <tbody>\n",
              "    <tr>\n",
              "      <th>6613</th>\n",
              "      <td>watch and laugh sebastian gorka tells cnn’s ca...</td>\n",
              "      <td>sebastian gorka doe a mic drop on cnn anchor a...</td>\n",
              "    </tr>\n",
              "    <tr>\n",
              "      <th>11981</th>\n",
              "      <td>video screaming ‘dreamers’ force a shaken nanc...</td>\n",
              "      <td>wow the left ha lost control of their precious...</td>\n",
              "    </tr>\n",
              "    <tr>\n",
              "      <th>9901</th>\n",
              "      <td>hillary plays victim card…here’s why that’s no...</td>\n",
              "      <td>the clinton always blame somebody else now it ...</td>\n",
              "    </tr>\n",
              "    <tr>\n",
              "      <th>12889</th>\n",
              "      <td>40 years ago ronald reagan warned us about oba...</td>\n",
              "      <td>i d like to suggest that there is no such thin...</td>\n",
              "    </tr>\n",
              "    <tr>\n",
              "      <th>12735</th>\n",
              "      <td>what’s the leading killer of american adults u...</td>\n",
              "      <td>21st century wire say last april the un genera...</td>\n",
              "    </tr>\n",
              "  </tbody>\n",
              "</table>\n",
              "</div>\n",
              "      <button class=\"colab-df-convert\" onclick=\"convertToInteractive('df-8945ea6a-a235-4210-b824-26b518229667')\"\n",
              "              title=\"Convert this dataframe to an interactive table.\"\n",
              "              style=\"display:none;\">\n",
              "        \n",
              "  <svg xmlns=\"http://www.w3.org/2000/svg\" height=\"24px\"viewBox=\"0 0 24 24\"\n",
              "       width=\"24px\">\n",
              "    <path d=\"M0 0h24v24H0V0z\" fill=\"none\"/>\n",
              "    <path d=\"M18.56 5.44l.94 2.06.94-2.06 2.06-.94-2.06-.94-.94-2.06-.94 2.06-2.06.94zm-11 1L8.5 8.5l.94-2.06 2.06-.94-2.06-.94L8.5 2.5l-.94 2.06-2.06.94zm10 10l.94 2.06.94-2.06 2.06-.94-2.06-.94-.94-2.06-.94 2.06-2.06.94z\"/><path d=\"M17.41 7.96l-1.37-1.37c-.4-.4-.92-.59-1.43-.59-.52 0-1.04.2-1.43.59L10.3 9.45l-7.72 7.72c-.78.78-.78 2.05 0 2.83L4 21.41c.39.39.9.59 1.41.59.51 0 1.02-.2 1.41-.59l7.78-7.78 2.81-2.81c.8-.78.8-2.07 0-2.86zM5.41 20L4 18.59l7.72-7.72 1.47 1.35L5.41 20z\"/>\n",
              "  </svg>\n",
              "      </button>\n",
              "      \n",
              "  <style>\n",
              "    .colab-df-container {\n",
              "      display:flex;\n",
              "      flex-wrap:wrap;\n",
              "      gap: 12px;\n",
              "    }\n",
              "\n",
              "    .colab-df-convert {\n",
              "      background-color: #E8F0FE;\n",
              "      border: none;\n",
              "      border-radius: 50%;\n",
              "      cursor: pointer;\n",
              "      display: none;\n",
              "      fill: #1967D2;\n",
              "      height: 32px;\n",
              "      padding: 0 0 0 0;\n",
              "      width: 32px;\n",
              "    }\n",
              "\n",
              "    .colab-df-convert:hover {\n",
              "      background-color: #E2EBFA;\n",
              "      box-shadow: 0px 1px 2px rgba(60, 64, 67, 0.3), 0px 1px 3px 1px rgba(60, 64, 67, 0.15);\n",
              "      fill: #174EA6;\n",
              "    }\n",
              "\n",
              "    [theme=dark] .colab-df-convert {\n",
              "      background-color: #3B4455;\n",
              "      fill: #D2E3FC;\n",
              "    }\n",
              "\n",
              "    [theme=dark] .colab-df-convert:hover {\n",
              "      background-color: #434B5C;\n",
              "      box-shadow: 0px 1px 3px 1px rgba(0, 0, 0, 0.15);\n",
              "      filter: drop-shadow(0px 1px 2px rgba(0, 0, 0, 0.3));\n",
              "      fill: #FFFFFF;\n",
              "    }\n",
              "  </style>\n",
              "\n",
              "      <script>\n",
              "        const buttonEl =\n",
              "          document.querySelector('#df-8945ea6a-a235-4210-b824-26b518229667 button.colab-df-convert');\n",
              "        buttonEl.style.display =\n",
              "          google.colab.kernel.accessAllowed ? 'block' : 'none';\n",
              "\n",
              "        async function convertToInteractive(key) {\n",
              "          const element = document.querySelector('#df-8945ea6a-a235-4210-b824-26b518229667');\n",
              "          const dataTable =\n",
              "            await google.colab.kernel.invokeFunction('convertToInteractive',\n",
              "                                                     [key], {});\n",
              "          if (!dataTable) return;\n",
              "\n",
              "          const docLinkHtml = 'Like what you see? Visit the ' +\n",
              "            '<a target=\"_blank\" href=https://colab.research.google.com/notebooks/data_table.ipynb>data table notebook</a>'\n",
              "            + ' to learn more about interactive tables.';\n",
              "          element.innerHTML = '';\n",
              "          dataTable['output_type'] = 'display_data';\n",
              "          await google.colab.output.renderOutput(dataTable, element);\n",
              "          const docLink = document.createElement('div');\n",
              "          docLink.innerHTML = docLinkHtml;\n",
              "          element.appendChild(docLink);\n",
              "        }\n",
              "      </script>\n",
              "    </div>\n",
              "  </div>\n",
              "  "
            ]
          },
          "metadata": {},
          "execution_count": 58
        }
      ],
      "source": [
        "X_train.tail()"
      ]
    },
    {
      "cell_type": "code",
      "execution_count": 59,
      "metadata": {
        "id": "Oe_nkKtAs0uJ"
      },
      "outputs": [],
      "source": [
        "#Since title is also important so combining it with the text\n",
        "\n",
        "train_data= np.asarray(list(X_train['title']+\" \"+X_train['text']))\n",
        "test_data = np.asarray(list(x_test['title']+\" \"+x_test['text']))"
      ]
    },
    {
      "cell_type": "code",
      "execution_count": 60,
      "metadata": {
        "colab": {
          "base_uri": "https://localhost:8080/",
          "height": 140
        },
        "id": "IZ0KGtuPs3kr",
        "outputId": "ed6bed85-307a-4de6-a2d6-65b4e48d805c"
      },
      "outputs": [
        {
          "output_type": "execute_result",
          "data": {
            "text/plain": [
              "'video staffer pleading fifth on emails ‘another blow’ to hillary bryan pagliano is in hot water with this and he know it is water boarding an option here seriously they need his testimony but he s obviously not going to incriminate himself so he pleads the fifththe state department it worker who managed hillary clinton s private email server while she wa secretary of state will plead the fifth amendment if called to testify about his work on the democratic presidential candidate s mysterious email setup his attorney informed the house select committee on benghazi this week the committee subpoenaed bryan pagliano on aug 11 according to the washington post in addition to testifying on sept 10 committee chairman trey gowdy asked pagliano to produce document related to the server he managed on behalf of clinton pagliano worked on clinton s 2008 presidential campaign before moving over to the state department in may 2009 several month after clinton took office he left the agency at the same time a clinton in feb 2013 but in a letter to the benghazi committee on monday mark macdougall pagliano s attorney said that his client would assert his constitutional right against selfincrimination if called to testify pagliano is one of numerous clinton aide that gowdy s panel intends to interview two of clinton s top aide will testify this week clinton herself is scheduled to publicly testify next month'"
            ],
            "application/vnd.google.colaboratory.intrinsic+json": {
              "type": "string"
            }
          },
          "metadata": {},
          "execution_count": 60
        }
      ],
      "source": [
        "train_data[0]"
      ]
    },
    {
      "cell_type": "code",
      "execution_count": 61,
      "metadata": {
        "id": "REtV6g1ns60E"
      },
      "outputs": [],
      "source": [
        "def decontracted(phrase):\n",
        "    # specific\n",
        "    phrase = re.sub(r\"won't\", \"will not\", phrase)\n",
        "    phrase = re.sub(r\"can\\'t\", \"can not\", phrase)\n",
        "\n",
        "    # general\n",
        "    phrase = re.sub(r\"n\\'t\", \" not\", phrase)\n",
        "    phrase = re.sub(r\"\\'re\", \" are\", phrase)\n",
        "    phrase = re.sub(r\"\\'s\", \" is\", phrase)\n",
        "    phrase = re.sub(r\"\\'d\", \" would\", phrase)\n",
        "    phrase = re.sub(r\"\\'ll\", \" will\", phrase)\n",
        "    phrase = re.sub(r\"\\'t\", \" not\", phrase)\n",
        "    phrase = re.sub(r\"\\'ve\", \" have\", phrase)\n",
        "    phrase = re.sub(r\"\\'m\", \" am\", phrase)\n",
        "    return phrase"
      ]
    },
    {
      "cell_type": "code",
      "execution_count": 62,
      "metadata": {
        "id": "tJ-bupYQtC6t"
      },
      "outputs": [],
      "source": [
        "from tqdm import tqdm\n",
        "# tqdm is for printing the status bar\n",
        "# Getting list of stop words fron nltk\n",
        "en_stops = set(stopwords.words('english'))\n",
        "\n",
        "def process(data):\n",
        "    preprocessed_tweets = []\n",
        "\n",
        "    for sentance in tqdm(data):\n",
        "        sentance = re.sub(r\"http\\S+\", \"\", sentance) # removing the html tags\n",
        "        sentance = decontracted(sentance)\n",
        "        sentance = re.sub(\"\\S*\\d\\S*\", \"\", sentance).strip()\n",
        "        sentance = re.sub('[^A-Za-z]+', ' ', sentance)\n",
        "        # https://gist.github.com/sebleier/554280\n",
        "        sentance = ' '.join(e.lower() for e in sentance.split() if e.lower() not in en_stops)\n",
        "        preprocessed_tweets.append(sentance.strip())\n",
        "        \n",
        "    return preprocessed_tweets"
      ]
    },
    {
      "cell_type": "code",
      "execution_count": 63,
      "metadata": {
        "colab": {
          "base_uri": "https://localhost:8080/"
        },
        "id": "c9qw7PvQtHMc",
        "outputId": "87085c38-b866-4eb8-db52-063e6fb74856"
      },
      "outputs": [
        {
          "output_type": "stream",
          "name": "stderr",
          "text": [
            "100%|██████████| 10316/10316 [00:06<00:00, 1602.43it/s]\n",
            "100%|██████████| 2580/2580 [00:01<00:00, 1722.60it/s]\n"
          ]
        }
      ],
      "source": [
        "preprocess_train_data=process(train_data)\n",
        "preprocess_test_data=process(test_data)"
      ]
    },
    {
      "cell_type": "code",
      "execution_count": 64,
      "metadata": {
        "id": "Z043i0KotKQ2"
      },
      "outputs": [],
      "source": [
        "# Tokenizing the train data sentence\n",
        "\n",
        "cleaned_train_data=[]\n",
        "for sent in preprocess_train_data:\n",
        "    cleaned_train_data.append(sent.split()) "
      ]
    },
    {
      "cell_type": "code",
      "execution_count": 65,
      "metadata": {
        "id": "4E22xSrMtSki"
      },
      "outputs": [],
      "source": [
        "# Tokenizing the test data sentence\n",
        "cleaned_test_data =[]   \n",
        "for sent in preprocess_test_data:\n",
        "    cleaned_test_data.append(sent.split())"
      ]
    },
    {
      "cell_type": "code",
      "execution_count": 66,
      "metadata": {
        "colab": {
          "base_uri": "https://localhost:8080/"
        },
        "id": "3-XEFB5HtUnF",
        "outputId": "2b45f45a-3497-4782-ff86-7fe157237e48"
      },
      "outputs": [
        {
          "output_type": "execute_result",
          "data": {
            "text/plain": [
              "['video',\n",
              " 'staffer',\n",
              " 'pleading',\n",
              " 'fifth',\n",
              " 'emails',\n",
              " 'another',\n",
              " 'blow',\n",
              " 'hillary',\n",
              " 'bryan',\n",
              " 'pagliano']"
            ]
          },
          "metadata": {},
          "execution_count": 66
        }
      ],
      "source": [
        "cleaned_train_data[0][:10]"
      ]
    },
    {
      "cell_type": "code",
      "execution_count": 67,
      "metadata": {
        "id": "Vc6kSmvstWov"
      },
      "outputs": [],
      "source": [
        "# Creating a word2vec model on the dataset\n",
        "# vector_size -Dimensionality of the word vectors. \n",
        "# min_count – Ignores all words with total frequency lower than this.\n",
        "# sg  – Training algorithm: 1 for skip-gram; otherwise CBOW.\n",
        "# window – Maximum distance between the current and predicted word within a sentence\n",
        "\n",
        "word2vec_model=Word2Vec(cleaned_train_data,size=300,min_count=1,workers=3, window =3, sg = 1)"
      ]
    },
    {
      "cell_type": "code",
      "execution_count": 68,
      "metadata": {
        "id": "S0EJulCetY22"
      },
      "outputs": [],
      "source": [
        "#creating function to calculate the average word vectorizer\n",
        "\n",
        "def Word2Vectorizer(data,model,size):\n",
        "    vectors = []\n",
        "    for sent in data:\n",
        "        sent_vec = np.zeros(size)\n",
        "        cnt_words = 0\n",
        "        for word in sent:\n",
        "            try:\n",
        "                vec = model.wv[word]  # getting the vector corresponding to the word\n",
        "                sent_vec += vec       # Adding the vectors of all the words present in sentence\n",
        "                cnt_words += 1        # counting the number of words\n",
        "            except:\n",
        "                pass\n",
        "        if cnt_words!=0:    \n",
        "            sent_vec /= cnt_words\n",
        "        vectors.append(sent_vec)\n",
        "    return np.nan_to_num(vectors)"
      ]
    },
    {
      "cell_type": "code",
      "execution_count": 69,
      "metadata": {
        "id": "nuOmYyOVu7R1"
      },
      "outputs": [],
      "source": [
        "train_av_w2v=Word2Vectorizer(cleaned_train_data,word2vec_model,300)\n",
        "test_av_w2v=Word2Vectorizer(cleaned_test_data,word2vec_model,300)"
      ]
    },
    {
      "cell_type": "code",
      "execution_count": 70,
      "metadata": {
        "colab": {
          "base_uri": "https://localhost:8080/"
        },
        "id": "P1rygh_ju-2u",
        "outputId": "08436692-2f30-46a5-d681-bf774d15357b"
      },
      "outputs": [
        {
          "output_type": "execute_result",
          "data": {
            "text/plain": [
              "[('arabia', 0.9376716613769531),\n",
              " ('qatar', 0.8002569675445557),\n",
              " ('uae', 0.7887697219848633),\n",
              " ('bahrain', 0.7767956256866455),\n",
              " ('qatari', 0.7700132131576538),\n",
              " ('riyadh', 0.7650140523910522),\n",
              " ('arabian', 0.7637085914611816),\n",
              " ('egypt', 0.747124195098877),\n",
              " ('thenadvanced', 0.743314266204834),\n",
              " ('monarch', 0.7415539026260376)]"
            ]
          },
          "metadata": {},
          "execution_count": 70
        }
      ],
      "source": [
        "word2vec_model.wv.most_similar(\"saudi\")"
      ]
    },
    {
      "cell_type": "code",
      "execution_count": 71,
      "metadata": {
        "colab": {
          "base_uri": "https://localhost:8080/"
        },
        "id": "WWrmln-8vKPm",
        "outputId": "7892b3be-c1a6-4020-84e7-f74665fc543d"
      },
      "outputs": [
        {
          "output_type": "execute_result",
          "data": {
            "text/plain": [
              "array([-2.14700921e-01, -6.47407329e-02,  3.10745910e-02, -1.98817005e-01,\n",
              "        1.26875652e-01,  1.12317321e-01,  3.93548528e-02,  2.58624531e-01,\n",
              "       -2.73649015e-01,  1.38162822e-01,  1.67160744e-01, -1.73132746e-01,\n",
              "        3.48619182e-02,  2.63568265e-02,  1.39009765e-01,  9.86827659e-02,\n",
              "        1.96912785e-01, -1.99977395e-03,  1.72004339e-01,  5.41667678e-02,\n",
              "       -1.23247487e-02,  1.15107206e-01,  1.89266057e-01,  3.55181550e-01,\n",
              "       -3.19167294e-05,  3.05867969e-02, -1.32292132e-01,  1.61337155e-01,\n",
              "        1.17793080e-01,  6.26787257e-02, -1.02155284e-02, -1.46153894e-01,\n",
              "        8.45883260e-02, -1.25831406e-01,  4.78503956e-01, -2.72081283e-02,\n",
              "       -1.93323251e-01,  2.35423479e-02, -6.85717146e-02, -1.95994653e-01,\n",
              "       -4.62115133e-02,  7.37899649e-02,  2.59115423e-01,  8.97876467e-02,\n",
              "        1.84008306e-01, -1.16544909e-01, -2.20676909e-02, -1.52556117e-01,\n",
              "       -2.36829256e-01, -8.19178141e-02,  3.68213246e-02, -1.71681876e-01,\n",
              "        1.29091814e-01,  5.37417626e-02,  1.65795456e-01, -1.76427262e-01,\n",
              "        5.83522770e-02,  3.25339038e-02,  1.18708373e-02,  1.03967354e-01,\n",
              "        2.90161757e-01,  3.26202957e-01,  3.40968378e-02,  1.22215005e-01,\n",
              "       -1.05190801e-01, -6.76822273e-02, -4.45787525e-02, -2.00544793e-01,\n",
              "       -1.46751923e-01,  1.28269635e-01,  8.45325740e-03, -1.11333751e-01,\n",
              "        9.00252165e-02,  9.00602257e-02,  3.52380749e-02,  3.14489572e-02,\n",
              "        1.31098548e-01, -2.65471503e-02,  2.34473727e-01,  2.34390698e-01,\n",
              "       -1.26784220e-01,  4.67455462e-02,  1.17177635e-01,  7.23552342e-02,\n",
              "       -1.44635054e-01, -5.01360363e-02, -1.70026941e-02, -1.40372870e-01,\n",
              "        2.33777338e-01, -1.28628858e-01,  1.24607254e-01,  1.71819116e-01,\n",
              "        3.58323667e-02,  8.24618469e-02,  1.28434431e-01, -2.63049295e-02,\n",
              "       -4.88186087e-02,  2.63108694e-02, -8.49394500e-02,  8.44451044e-02,\n",
              "        4.87567811e-01, -1.73616461e-01, -3.17816461e-02, -8.65322979e-02,\n",
              "        7.38231054e-02, -1.59020510e-01,  2.43901725e-01,  3.76945411e-01,\n",
              "       -1.02526277e-01, -3.61316886e-01, -2.03362892e-01, -1.15162759e-01,\n",
              "       -1.64760143e-01,  3.47240287e-02,  6.17404351e-03, -4.18079775e-02,\n",
              "        6.06135330e-02,  7.87049028e-02, -5.62209293e-02, -4.59441565e-03,\n",
              "        1.19714797e-01,  5.58546090e-02,  3.26741784e-01, -1.16986144e-01,\n",
              "        1.14273654e-01,  6.77586276e-02,  3.02386874e-02,  4.54332376e-03,\n",
              "        8.07179253e-02,  1.05909997e-01,  1.68758561e-01, -1.94079573e-01,\n",
              "        5.44055478e-02, -4.22312294e-02, -1.51946769e-03, -8.83278743e-02,\n",
              "        2.94463359e-02, -4.81966858e-02, -1.19226491e-01,  5.75596165e-02,\n",
              "       -8.66582547e-03,  1.32357872e-03,  1.97943276e-02, -1.52446216e-01,\n",
              "       -5.55300349e-02,  1.43750965e-01, -1.69335066e-01, -7.57988788e-02,\n",
              "       -1.65280954e-01, -4.28748005e-01, -1.23325775e-01, -1.44816700e-01,\n",
              "        1.97214099e-01,  7.94046778e-03,  5.84853331e-02,  2.53386494e-01,\n",
              "       -2.10252363e-01, -5.13461870e-02,  5.05824036e-02,  7.01231229e-02,\n",
              "       -7.73092013e-02,  7.63713534e-02, -3.04981330e-01, -2.02071260e-01,\n",
              "       -8.63260636e-02, -5.43406986e-03, -3.76881608e-02, -9.56329312e-02,\n",
              "        3.38825626e-01, -4.33430409e-02,  1.42661715e-02,  2.60509585e-02,\n",
              "        1.28663576e-01, -1.90333363e-01,  2.62848151e-01,  2.06224735e-01,\n",
              "        2.06658187e-01,  1.21557633e-01,  2.44753301e-01,  1.71616044e-01,\n",
              "       -9.06795921e-02,  4.08909234e-01, -2.80638632e-01,  8.09043832e-02,\n",
              "       -2.31155984e-01,  2.30879172e-01, -1.31019910e-01, -9.04189787e-02,\n",
              "        1.83101659e-01,  1.27437647e-01, -6.26838862e-02, -2.26545538e-02,\n",
              "       -4.48330385e-02,  1.48541673e-02,  2.38294648e-01,  2.22469750e-01,\n",
              "        1.74003038e-01, -9.98137408e-02,  8.40711939e-03, -1.82603667e-01,\n",
              "       -1.57361238e-01, -5.21074346e-02, -3.11338509e-02, -2.38296941e-02,\n",
              "        1.82742971e-01,  2.19564305e-02, -1.51805092e-01,  1.52422818e-01,\n",
              "       -8.32756124e-02,  2.35344838e-01,  1.95762492e-01, -3.26968146e-02,\n",
              "        1.81929413e-02,  4.47244436e-02,  2.28133600e-01, -1.17966205e-03,\n",
              "       -6.18235546e-02,  1.19865817e-02, -6.22781100e-02, -2.45990399e-01,\n",
              "       -3.94470315e-01, -6.07118845e-02,  1.18966116e-01, -1.26732501e-02,\n",
              "       -8.89033132e-02,  7.17682983e-02, -1.58991536e-01, -7.47865048e-02,\n",
              "       -9.06069377e-02,  3.39877550e-01, -1.54359031e-01,  4.75113168e-02,\n",
              "        2.13431090e-01,  8.74148686e-02, -1.79761494e-01, -1.62331474e-01,\n",
              "        5.01636304e-02,  8.05519218e-02, -1.03691558e-02,  4.88738597e-02,\n",
              "        2.05050175e-01, -3.40466581e-02, -2.94009490e-02, -3.67478397e-02,\n",
              "        1.58256095e-01,  1.11230476e-01, -3.21353736e-01, -1.64029801e-01,\n",
              "       -1.22848559e-01, -2.51067199e-02,  1.59508285e-01,  4.80011066e-03,\n",
              "       -6.76599821e-02, -1.59011446e-01,  2.17433395e-01,  3.94175346e-02,\n",
              "        7.20853482e-03, -3.35614880e-02, -3.22661785e-01, -1.91966463e-01,\n",
              "       -1.12885682e-01, -6.37424433e-02, -6.32496150e-02,  3.26260339e-03,\n",
              "       -1.17987626e-01,  1.22324254e-01, -2.57972854e-01, -2.83762801e-01,\n",
              "       -1.81374773e-01,  1.63837176e-01, -1.06958898e-01,  2.06687623e-01,\n",
              "       -2.41103012e-01,  2.00851856e-01, -1.91836237e-01,  1.10917199e-02,\n",
              "       -1.41179136e-01, -4.51227117e-02,  1.76213027e-01, -1.77493709e-01,\n",
              "        2.66301852e-02, -1.75165369e-01, -1.54004173e-02, -2.99549722e-01,\n",
              "       -8.52184791e-02,  9.94108722e-02,  2.60446468e-02,  1.47675195e-01,\n",
              "       -1.10041474e-01,  5.05170432e-02, -2.19265031e-01,  7.36999418e-02,\n",
              "        1.37367419e-01, -6.88204179e-02, -1.90509134e-02,  8.86803228e-02,\n",
              "        1.51956014e-01, -3.35658623e-01,  4.35538191e-02,  2.08434211e-01])"
            ]
          },
          "metadata": {},
          "execution_count": 71
        }
      ],
      "source": [
        "train_av_w2v[1]"
      ]
    },
    {
      "cell_type": "code",
      "execution_count": 72,
      "metadata": {
        "id": "ZwivFfJFvPBC"
      },
      "outputs": [],
      "source": [
        "# combining the processed text data with dependent variable\n",
        "processed_data=pd.DataFrame(train_av_w2v)\n",
        "processed_data['label']=news_df['label']"
      ]
    },
    {
      "cell_type": "code",
      "execution_count": 73,
      "metadata": {
        "id": "g5imA_KQvS-M"
      },
      "outputs": [],
      "source": [
        "# Saving the processed train data\n",
        "\n",
        "processed_data.to_csv('final_train.csv',index=False)"
      ]
    },
    {
      "cell_type": "code",
      "execution_count": 74,
      "metadata": {
        "id": "FsS0Lh6BvV6e"
      },
      "outputs": [],
      "source": [
        "X_train=train_av_w2v\n",
        "x_test=test_av_w2v"
      ]
    },
    {
      "cell_type": "code",
      "execution_count": 75,
      "metadata": {
        "id": "YX9aupI0vZ66"
      },
      "outputs": [],
      "source": [
        "def trainconfusionmatrix(model,X_train,y_train):\n",
        "    print(\"Confusion Matrix for Train set\")\n",
        "    cm=confusion_matrix(y_train, model.predict(X_train))\n",
        "    class_label = [\"negative\", \"positive\"]\n",
        "    df_cm = pd.DataFrame(cm, index = class_label, columns = class_label)\n",
        "    sns.heatmap(df_cm, annot = True, fmt = \"d\")\n",
        "    plt.title(\"Train Confusiion Matrix\")\n",
        "    plt.xlabel(\"Predicted Label\")\n",
        "    plt.ylabel(\"True Label\")\n",
        "    plt.show()"
      ]
    },
    {
      "cell_type": "code",
      "execution_count": 76,
      "metadata": {
        "id": "c_rKzUzOvdAp"
      },
      "outputs": [],
      "source": [
        "def testconfusionmatrix(model,X_test,y_test):\n",
        "    print(\"Confusion Matrix for Test set\")\n",
        "    cm=confusion_matrix(y_test, model.predict(X_test))\n",
        "    class_label = [\"negative\", \"positive\"]\n",
        "    df_cm = pd.DataFrame(cm, index = class_label, columns = class_label)\n",
        "    sns.heatmap(df_cm, annot = True, fmt = \"d\")\n",
        "    plt.title(\"Test Confusiion Matrix\")\n",
        "    plt.xlabel(\"Predicted Label\")\n",
        "    plt.ylabel(\"True Label\")\n",
        "    plt.show()"
      ]
    },
    {
      "cell_type": "code",
      "execution_count": 77,
      "metadata": {
        "id": "o55lI7MovfaW"
      },
      "outputs": [],
      "source": [
        "def Grid_SearchCV(model,X_train,Y_train,param_grid):\n",
        "    \n",
        "    tscv = TimeSeriesSplit(n_splits=10)\n",
        "    \n",
        "    gsv=GridSearchCV(model,param_grid,cv=tscv,verbose=1,scoring='f1')\n",
        "    gsv.fit(X_train,Y_train)\n",
        "    \n",
        "    return gsv"
      ]
    },
    {
      "cell_type": "code",
      "execution_count": 78,
      "metadata": {
        "colab": {
          "base_uri": "https://localhost:8080/"
        },
        "id": "hMWLGqMavhij",
        "outputId": "6e0ac9a6-f05e-4906-93b6-33906642cb9a"
      },
      "outputs": [
        {
          "output_type": "stream",
          "name": "stdout",
          "text": [
            "Fitting 10 folds for each of 35 candidates, totalling 350 fits\n",
            "Best HyperParameter:  {'max_depth': 500, 'n_estimators': 100}\n",
            "Best Accuracy: 92.46%\n"
          ]
        }
      ],
      "source": [
        "#Finding the best value Of hyperparameter\n",
        "\n",
        "from sklearn.ensemble import RandomForestClassifier\n",
        "\n",
        "param_grid= {'max_depth':[1,5,10,50,100,500,1000],\n",
        "             'n_estimators' :[5,10,20,50,100]\n",
        "            }\n",
        "\n",
        "gsv=Grid_SearchCV(RandomForestClassifier(class_weight='balanced'),X_train,Y_train,param_grid)\n",
        "\n",
        "print(\"Best HyperParameter: \",gsv.best_params_)\n",
        "print(\"Best Accuracy: %.2f%%\"%(gsv.best_score_*100))"
      ]
    },
    {
      "cell_type": "code",
      "execution_count": 79,
      "metadata": {
        "colab": {
          "base_uri": "https://localhost:8080/"
        },
        "id": "7Ae50Hk-vlW3",
        "outputId": "2bc68364-0a73-44c6-9e89-e95dd46f3d41"
      },
      "outputs": [
        {
          "output_type": "execute_result",
          "data": {
            "text/plain": [
              "RandomForestClassifier(class_weight='balanced', max_depth=500)"
            ]
          },
          "metadata": {},
          "execution_count": 79
        }
      ],
      "source": [
        "Best_Param=gsv.best_params_\n",
        "depth=Best_Param['max_depth']\n",
        "n_estimator =Best_Param['n_estimators']\n",
        "Model_Random_Forest=RandomForestClassifier(max_depth=depth,n_estimators=n_estimator,class_weight=\"balanced\")\n",
        "Model_Random_Forest.fit(X_train,Y_train)"
      ]
    },
    {
      "cell_type": "code",
      "execution_count": 80,
      "metadata": {
        "colab": {
          "base_uri": "https://localhost:8080/",
          "height": 312
        },
        "id": "JboPsp8z1syD",
        "outputId": "57992da7-e46f-4f84-fba3-7e6bd7d8dd6a"
      },
      "outputs": [
        {
          "output_type": "stream",
          "name": "stdout",
          "text": [
            "Confusion Matrix for Train set\n"
          ]
        },
        {
          "output_type": "display_data",
          "data": {
            "text/plain": [
              "<Figure size 432x288 with 2 Axes>"
            ],
            "image/png": "[encoded data removed]"
          },
          "metadata": {
            "needs_background": "light"
          }
        }
      ],
      "source": [
        "trainconfusionmatrix(Model_Random_Forest,X_train,Y_train)"
      ]
    },
    {
      "cell_type": "code",
      "execution_count": 81,
      "metadata": {
        "colab": {
          "base_uri": "https://localhost:8080/",
          "height": 312
        },
        "id": "ZxL1lSt8120I",
        "outputId": "88c7d4b8-4a8a-4aba-d401-181105b838e4"
      },
      "outputs": [
        {
          "output_type": "stream",
          "name": "stdout",
          "text": [
            "Confusion Matrix for Test set\n"
          ]
        },
        {
          "output_type": "display_data",
          "data": {
            "text/plain": [
              "<Figure size 432x288 with 2 Axes>"
            ],
            "image/png": "[encoded data removed]"
          },
          "metadata": {
            "needs_background": "light"
          }
        }
      ],
      "source": [
        "testconfusionmatrix(Model_Random_Forest,x_test,y_test)\n"
      ]
    },
    {
      "cell_type": "code",
      "execution_count": 82,
      "metadata": {
        "colab": {
          "base_uri": "https://localhost:8080/"
        },
        "id": "i98IrQ_c18YO",
        "outputId": "7f709565-319e-4dc1-c3f1-34f147c571fc"
      },
      "outputs": [
        {
          "output_type": "stream",
          "name": "stdout",
          "text": [
            "Train Classification Report: \n",
            "\n",
            "              precision    recall  f1-score   support\n",
            "\n",
            "           0       1.00      1.00      1.00      7344\n",
            "           1       1.00      1.00      1.00      2972\n",
            "\n",
            "    accuracy                           1.00     10316\n",
            "   macro avg       1.00      1.00      1.00     10316\n",
            "weighted avg       1.00      1.00      1.00     10316\n",
            "\n"
          ]
        }
      ],
      "source": [
        "print(\"Train Classification Report: \\n\")\n",
        "y_pred_train=Model_Random_Forest.predict(X_train)\n",
        "print(classification_report(Y_train, y_pred_train))"
      ]
    },
    {
      "cell_type": "code",
      "execution_count": 83,
      "metadata": {
        "colab": {
          "base_uri": "https://localhost:8080/"
        },
        "id": "ghKtmfGg1_6m",
        "outputId": "f9e4c5f1-56be-4bed-b5a5-b4e950b8473e"
      },
      "outputs": [
        {
          "output_type": "stream",
          "name": "stdout",
          "text": [
            "Test Classification Report: \n",
            "\n",
            "              precision    recall  f1-score   support\n",
            "\n",
            "           0       0.96      0.98      0.97      1850\n",
            "           1       0.94      0.91      0.92       730\n",
            "\n",
            "    accuracy                           0.96      2580\n",
            "   macro avg       0.95      0.94      0.95      2580\n",
            "weighted avg       0.96      0.96      0.96      2580\n",
            "\n"
          ]
        }
      ],
      "source": [
        "print(\"Test Classification Report: \\n\")\n",
        "y_pred_test=Model_Random_Forest.predict(x_test)\n",
        "print(classification_report(y_test, y_pred_test))"
      ]
    },
    {
      "cell_type": "code",
      "execution_count": 84,
      "metadata": {
        "colab": {
          "base_uri": "https://localhost:8080/"
        },
        "id": "F8E6EEyB2DdY",
        "outputId": "3cb47182-e320-411e-bf32-2472eb7e0a93"
      },
      "outputs": [
        {
          "output_type": "stream",
          "name": "stdout",
          "text": [
            "Fitting 10 folds for each of 35 candidates, totalling 350 fits\n",
            "Best HyperParameter:  {'max_depth': 5, 'n_estimators': 100}\n",
            "Best Accuracy: 94.47%\n"
          ]
        }
      ],
      "source": [
        "from xgboost import XGBClassifier\n",
        "\n",
        "param_grid= {'max_depth':[1,5,10,50,100,500,1000],\n",
        "              'n_estimators' :[5,10,20,50,100]\n",
        "            }\n",
        "\n",
        "\n",
        "gsv=Grid_SearchCV(XGBClassifier(),X_train,Y_train,param_grid)\n",
        "\n",
        "print(\"Best HyperParameter: \",gsv.best_params_)\n",
        "print(\"Best Accuracy: %.2f%%\"%(gsv.best_score_*100))"
      ]
    },
    {
      "cell_type": "code",
      "execution_count": 85,
      "metadata": {
        "id": "pzLkrSZV2H56",
        "colab": {
          "base_uri": "https://localhost:8080/"
        },
        "outputId": "73ea6f06-fda0-456c-c6b5-2992f5c2ce9c"
      },
      "outputs": [
        {
          "output_type": "execute_result",
          "data": {
            "text/plain": [
              "XGBClassifier(class_weight='balanced', max_depth=5)"
            ]
          },
          "metadata": {},
          "execution_count": 85
        }
      ],
      "source": [
        "Best_Param=gsv.best_params_\n",
        "depth=Best_Param['max_depth']\n",
        "n_estimator =Best_Param['n_estimators']\n",
        "Model_XGB=XGBClassifier(max_depth=depth,n_estimators=n_estimator,class_weight=\"balanced\")\n",
        "Model_XGB.fit(X_train,Y_train)"
      ]
    },
    {
      "cell_type": "code",
      "execution_count": 86,
      "metadata": {
        "id": "dhuxtEds317z",
        "colab": {
          "base_uri": "https://localhost:8080/",
          "height": 312
        },
        "outputId": "8abb32dc-c17f-47f9-de82-6deb8ba18224"
      },
      "outputs": [
        {
          "output_type": "stream",
          "name": "stdout",
          "text": [
            "Confusion Matrix for Train set\n"
          ]
        },
        {
          "output_type": "display_data",
          "data": {
            "text/plain": [
              "<Figure size 432x288 with 2 Axes>"
            ],
            "image/png": "[encoded data removed]"
          },
          "metadata": {
            "needs_background": "light"
          }
        }
      ],
      "source": [
        "trainconfusionmatrix(Model_XGB,X_train,Y_train)"
      ]
    },
    {
      "cell_type": "code",
      "execution_count": 87,
      "metadata": {
        "id": "EOUBgT_A4Av-",
        "colab": {
          "base_uri": "https://localhost:8080/",
          "height": 312
        },
        "outputId": "3a7c932e-d422-4594-b4d6-6b1e2836c1c7"
      },
      "outputs": [
        {
          "output_type": "stream",
          "name": "stdout",
          "text": [
            "Confusion Matrix for Test set\n"
          ]
        },
        {
          "output_type": "display_data",
          "data": {
            "text/plain": [
              "<Figure size 432x288 with 2 Axes>"
            ],
            "image/png": "[encoded data removed]"
          },
          "metadata": {
            "needs_background": "light"
          }
        }
      ],
      "source": [
        "testconfusionmatrix(Model_XGB,x_test,y_test)"
      ]
    },
    {
      "cell_type": "code",
      "execution_count": 88,
      "metadata": {
        "id": "EHixRnSK4FQ4",
        "colab": {
          "base_uri": "https://localhost:8080/"
        },
        "outputId": "c8f5a254-c916-4f8b-936e-e31db1daae3c"
      },
      "outputs": [
        {
          "output_type": "stream",
          "name": "stdout",
          "text": [
            "Train Classification Report: \n",
            "\n",
            "              precision    recall  f1-score   support\n",
            "\n",
            "           0       1.00      1.00      1.00      7344\n",
            "           1       1.00      1.00      1.00      2972\n",
            "\n",
            "    accuracy                           1.00     10316\n",
            "   macro avg       1.00      1.00      1.00     10316\n",
            "weighted avg       1.00      1.00      1.00     10316\n",
            "\n"
          ]
        }
      ],
      "source": [
        "print(\"Train Classification Report: \\n\")\n",
        "y_pred_train=Model_XGB.predict(X_train)\n",
        "print(classification_report(Y_train, y_pred_train))"
      ]
    },
    {
      "cell_type": "code",
      "execution_count": 89,
      "metadata": {
        "id": "jmGDT2iz4I7l",
        "colab": {
          "base_uri": "https://localhost:8080/"
        },
        "outputId": "84cf5a45-7529-4bdf-8e5b-8ef140a66257"
      },
      "outputs": [
        {
          "output_type": "stream",
          "name": "stdout",
          "text": [
            "Test Classification Report: \n",
            "\n",
            "              precision    recall  f1-score   support\n",
            "\n",
            "           0       0.96      0.98      0.97      1850\n",
            "           1       0.94      0.91      0.92       730\n",
            "\n",
            "    accuracy                           0.96      2580\n",
            "   macro avg       0.95      0.94      0.95      2580\n",
            "weighted avg       0.96      0.96      0.96      2580\n",
            "\n"
          ]
        }
      ],
      "source": [
        "print(\"Test Classification Report: \\n\")\n",
        "y_pred_test2=Model_XGB.predict(x_test)\n",
        "print(classification_report(y_test, y_pred_test))"
      ]
    },
    {
      "cell_type": "code",
      "execution_count": 90,
      "metadata": {
        "id": "lf2IZzDV4O2o",
        "colab": {
          "base_uri": "https://localhost:8080/"
        },
        "outputId": "1386517d-d162-4ed4-9c20-4ec614ef145b"
      },
      "outputs": [
        {
          "output_type": "stream",
          "name": "stdout",
          "text": [
            "96.43410852713178\n"
          ]
        }
      ],
      "source": [
        "from sklearn.linear_model import LogisticRegression\n",
        "logreg = LogisticRegression()\n",
        "logreg.fit(X_train, Y_train)\n",
        "Accuracy = logreg.score(x_test, y_test)\n",
        "print(Accuracy*100)"
      ]
    },
    {
      "cell_type": "code",
      "execution_count": 91,
      "metadata": {
        "id": "iQ1M-DhV4SLv",
        "colab": {
          "base_uri": "https://localhost:8080/"
        },
        "outputId": "7bb36b1d-718c-46d6-893e-a85796402234"
      },
      "outputs": [
        {
          "output_type": "stream",
          "name": "stdout",
          "text": [
            "Test Classification Report: \n",
            "\n",
            "              precision    recall  f1-score   support\n",
            "\n",
            "           0       0.97      0.98      0.98      1850\n",
            "           1       0.94      0.93      0.94       730\n",
            "\n",
            "    accuracy                           0.96      2580\n",
            "   macro avg       0.96      0.95      0.96      2580\n",
            "weighted avg       0.96      0.96      0.96      2580\n",
            "\n"
          ]
        }
      ],
      "source": [
        "print(\"Test Classification Report: \\n\")\n",
        "y_pred_test1=logreg.predict(x_test)\n",
        "print(classification_report(y_test, y_pred_test1))"
      ]
    },
    {
      "cell_type": "code",
      "execution_count": 92,
      "metadata": {
        "id": "wtRej07l4VOI",
        "colab": {
          "base_uri": "https://localhost:8080/",
          "height": 312
        },
        "outputId": "7a9f3c11-084a-4a46-b1a9-a0c87fbb55a4"
      },
      "outputs": [
        {
          "output_type": "stream",
          "name": "stdout",
          "text": [
            "Confusion Matrix for Test set\n"
          ]
        },
        {
          "output_type": "display_data",
          "data": {
            "text/plain": [
              "<Figure size 432x288 with 2 Axes>"
            ],
            "image/png": "[encoded data removed]"
          },
          "metadata": {
            "needs_background": "light"
          }
        }
      ],
      "source": [
        "testconfusionmatrix(logreg,x_test,y_test)"
      ]
    },
    {
      "cell_type": "code",
      "execution_count": 93,
      "metadata": {
        "id": "WatGYYav4WlK",
        "colab": {
          "base_uri": "https://localhost:8080/"
        },
        "outputId": "bb8dc6ec-6355-4c61-f47d-7d40f1099410"
      },
      "outputs": [
        {
          "output_type": "execute_result",
          "data": {
            "text/plain": [
              "['Model_Random_Forest.pkl']"
            ]
          },
          "metadata": {},
          "execution_count": 93
        }
      ],
      "source": [
        "from joblib import Parallel, delayed\n",
        "import joblib\n",
        "  \n",
        "joblib.dump(Model_Random_Forest, 'Model_Random_Forest.pkl')"
      ]
    },
    {
      "cell_type": "code",
      "execution_count": 94,
      "metadata": {
        "id": "MW4sGSGr4brw",
        "colab": {
          "base_uri": "https://localhost:8080/"
        },
        "outputId": "e2f884f4-67db-42d8-82ce-b83ec343055d"
      },
      "outputs": [
        {
          "output_type": "execute_result",
          "data": {
            "text/plain": [
              "['Model_XGB.pkl']"
            ]
          },
          "metadata": {},
          "execution_count": 94
        }
      ],
      "source": [
        "joblib.dump(Model_XGB, 'Model_XGB.pkl')"
      ]
    },
    {
      "cell_type": "code",
      "execution_count": 95,
      "metadata": {
        "id": "MC6kuftB4egi",
        "colab": {
          "base_uri": "https://localhost:8080/"
        },
        "outputId": "a67183f4-9da4-415d-df4b-3aa404c3d0ef"
      },
      "outputs": [
        {
          "output_type": "execute_result",
          "data": {
            "text/plain": [
              "['Model_logreg.pkl']"
            ]
          },
          "metadata": {},
          "execution_count": 95
        }
      ],
      "source": [
        "joblib.dump(logreg, 'Model_logreg.pkl')"
      ]
    },
    {
      "cell_type": "code",
      "execution_count": 103,
      "metadata": {
        "id": "xZkbsZhU4lQG"
      },
      "outputs": [],
      "source": [
        "from bs4 import BeautifulSoup\n",
        "from urllib.request import urlopen\n",
        "import requests\n",
        "\n",
        "#url = \"https://edition.cnn.com/2022/09/16/politics/donald-trump-hugh-hewitt-interview-indicted/index.html\"\n",
        "url = \"https://edition.cnn.com/2022/12/07/politics/georgia-senate-runoff-takeaways/index.html\"\n",
        "\n",
        "# To fetch the url\n",
        "#html = requests.get(url)\n",
        "\n",
        "html = urlopen(url)\n",
        "\n",
        "# Using beautiful soup to pull the html data \n",
        "soup = BeautifulSoup(html,\"html.parser\")\n",
        "\n",
        "# finding the tag in which the content is present\n",
        "a = soup.findAll(\"p\",class_=\"paragraph inline-placeholder\")\n",
        "\n",
        "# Adding all the data in a lists\n",
        "l=[]\n",
        "\n",
        "for x in a[2:]:\n",
        "    l.append(x.text.strip(\"\\n\"))\n",
        "    \n",
        "data=pd.DataFrame(l,columns=['text'])"
      ]
    },
    {
      "cell_type": "code",
      "execution_count": 158,
      "metadata": {
        "id": "n-EW-zvt4rZS",
        "colab": {
          "base_uri": "https://localhost:8080/",
          "height": 53
        },
        "outputId": "736dc352-7d20-40f9-a452-6132fa7db555"
      },
      "outputs": [
        {
          "output_type": "execute_result",
          "data": {
            "text/plain": [
              "'His victory in this head-to-head contest with Republican nominee Herschel Walker means Democrats will add to their already-secured Senate majority, with 51 seats to the GOP’s 49, and solidify the Peach State as a potentially decisive 2024 presidential battleground.  \\n  '"
            ],
            "application/vnd.google.colaboratory.intrinsic+json": {
              "type": "string"
            }
          },
          "metadata": {},
          "execution_count": 158
        }
      ],
      "source": [
        "data['text'][1]"
      ]
    },
    {
      "cell_type": "code",
      "execution_count": 105,
      "metadata": {
        "id": "EmWXepC44uMV",
        "colab": {
          "base_uri": "https://localhost:8080/",
          "height": 363
        },
        "outputId": "83f6125f-0d37-4f97-bba2-0aa1aa2e42ac"
      },
      "outputs": [
        {
          "output_type": "execute_result",
          "data": {
            "text/plain": [
              "                                                text\n",
              "0        Since November 2020, Warnock has been th...\n",
              "1  His victory in this head-to-head contest with ...\n",
              "2        As the 2022 midterm cycle spins to its e...\n",
              "3        Democrats had already clinched control o...\n",
              "4        The party will now enter 2023 with a tru...\n",
              "5        For example: The Senate Judiciary Commit...\n",
              "6        Democratic leaders, meanwhile, face a re...\n",
              "7        It’s also an early boost to Democrats ah...\n",
              "8        As long as former President Donald Trump...\n",
              "9        If there was any doubt before Tuesday, i..."
            ],
            "text/html": [
              "\n",
              "  <div id=\"df-d0fa04ee-dc2f-4823-9960-a58c13a229d6\">\n",
              "    <div class=\"colab-df-container\">\n",
              "      <div>\n",
              "<style scoped>\n",
              "    .dataframe tbody tr th:only-of-type {\n",
              "        vertical-align: middle;\n",
              "    }\n",
              "\n",
              "    .dataframe tbody tr th {\n",
              "        vertical-align: top;\n",
              "    }\n",
              "\n",
              "    .dataframe thead th {\n",
              "        text-align: right;\n",
              "    }\n",
              "</style>\n",
              "<table border=\"1\" class=\"dataframe\">\n",
              "  <thead>\n",
              "    <tr style=\"text-align: right;\">\n",
              "      <th></th>\n",
              "      <th>text</th>\n",
              "    </tr>\n",
              "  </thead>\n",
              "  <tbody>\n",
              "    <tr>\n",
              "      <th>0</th>\n",
              "      <td>Since November 2020, Warnock has been th...</td>\n",
              "    </tr>\n",
              "    <tr>\n",
              "      <th>1</th>\n",
              "      <td>His victory in this head-to-head contest with ...</td>\n",
              "    </tr>\n",
              "    <tr>\n",
              "      <th>2</th>\n",
              "      <td>As the 2022 midterm cycle spins to its e...</td>\n",
              "    </tr>\n",
              "    <tr>\n",
              "      <th>3</th>\n",
              "      <td>Democrats had already clinched control o...</td>\n",
              "    </tr>\n",
              "    <tr>\n",
              "      <th>4</th>\n",
              "      <td>The party will now enter 2023 with a tru...</td>\n",
              "    </tr>\n",
              "    <tr>\n",
              "      <th>5</th>\n",
              "      <td>For example: The Senate Judiciary Commit...</td>\n",
              "    </tr>\n",
              "    <tr>\n",
              "      <th>6</th>\n",
              "      <td>Democratic leaders, meanwhile, face a re...</td>\n",
              "    </tr>\n",
              "    <tr>\n",
              "      <th>7</th>\n",
              "      <td>It’s also an early boost to Democrats ah...</td>\n",
              "    </tr>\n",
              "    <tr>\n",
              "      <th>8</th>\n",
              "      <td>As long as former President Donald Trump...</td>\n",
              "    </tr>\n",
              "    <tr>\n",
              "      <th>9</th>\n",
              "      <td>If there was any doubt before Tuesday, i...</td>\n",
              "    </tr>\n",
              "  </tbody>\n",
              "</table>\n",
              "</div>\n",
              "      <button class=\"colab-df-convert\" onclick=\"convertToInteractive('df-d0fa04ee-dc2f-4823-9960-a58c13a229d6')\"\n",
              "              title=\"Convert this dataframe to an interactive table.\"\n",
              "              style=\"display:none;\">\n",
              "        \n",
              "  <svg xmlns=\"http://www.w3.org/2000/svg\" height=\"24px\"viewBox=\"0 0 24 24\"\n",
              "       width=\"24px\">\n",
              "    <path d=\"M0 0h24v24H0V0z\" fill=\"none\"/>\n",
              "    <path d=\"M18.56 5.44l.94 2.06.94-2.06 2.06-.94-2.06-.94-.94-2.06-.94 2.06-2.06.94zm-11 1L8.5 8.5l.94-2.06 2.06-.94-2.06-.94L8.5 2.5l-.94 2.06-2.06.94zm10 10l.94 2.06.94-2.06 2.06-.94-2.06-.94-.94-2.06-.94 2.06-2.06.94z\"/><path d=\"M17.41 7.96l-1.37-1.37c-.4-.4-.92-.59-1.43-.59-.52 0-1.04.2-1.43.59L10.3 9.45l-7.72 7.72c-.78.78-.78 2.05 0 2.83L4 21.41c.39.39.9.59 1.41.59.51 0 1.02-.2 1.41-.59l7.78-7.78 2.81-2.81c.8-.78.8-2.07 0-2.86zM5.41 20L4 18.59l7.72-7.72 1.47 1.35L5.41 20z\"/>\n",
              "  </svg>\n",
              "      </button>\n",
              "      \n",
              "  <style>\n",
              "    .colab-df-container {\n",
              "      display:flex;\n",
              "      flex-wrap:wrap;\n",
              "      gap: 12px;\n",
              "    }\n",
              "\n",
              "    .colab-df-convert {\n",
              "      background-color: #E8F0FE;\n",
              "      border: none;\n",
              "      border-radius: 50%;\n",
              "      cursor: pointer;\n",
              "      display: none;\n",
              "      fill: #1967D2;\n",
              "      height: 32px;\n",
              "      padding: 0 0 0 0;\n",
              "      width: 32px;\n",
              "    }\n",
              "\n",
              "    .colab-df-convert:hover {\n",
              "      background-color: #E2EBFA;\n",
              "      box-shadow: 0px 1px 2px rgba(60, 64, 67, 0.3), 0px 1px 3px 1px rgba(60, 64, 67, 0.15);\n",
              "      fill: #174EA6;\n",
              "    }\n",
              "\n",
              "    [theme=dark] .colab-df-convert {\n",
              "      background-color: #3B4455;\n",
              "      fill: #D2E3FC;\n",
              "    }\n",
              "\n",
              "    [theme=dark] .colab-df-convert:hover {\n",
              "      background-color: #434B5C;\n",
              "      box-shadow: 0px 1px 3px 1px rgba(0, 0, 0, 0.15);\n",
              "      filter: drop-shadow(0px 1px 2px rgba(0, 0, 0, 0.3));\n",
              "      fill: #FFFFFF;\n",
              "    }\n",
              "  </style>\n",
              "\n",
              "      <script>\n",
              "        const buttonEl =\n",
              "          document.querySelector('#df-d0fa04ee-dc2f-4823-9960-a58c13a229d6 button.colab-df-convert');\n",
              "        buttonEl.style.display =\n",
              "          google.colab.kernel.accessAllowed ? 'block' : 'none';\n",
              "\n",
              "        async function convertToInteractive(key) {\n",
              "          const element = document.querySelector('#df-d0fa04ee-dc2f-4823-9960-a58c13a229d6');\n",
              "          const dataTable =\n",
              "            await google.colab.kernel.invokeFunction('convertToInteractive',\n",
              "                                                     [key], {});\n",
              "          if (!dataTable) return;\n",
              "\n",
              "          const docLinkHtml = 'Like what you see? Visit the ' +\n",
              "            '<a target=\"_blank\" href=https://colab.research.google.com/notebooks/data_table.ipynb>data table notebook</a>'\n",
              "            + ' to learn more about interactive tables.';\n",
              "          element.innerHTML = '';\n",
              "          dataTable['output_type'] = 'display_data';\n",
              "          await google.colab.output.renderOutput(dataTable, element);\n",
              "          const docLink = document.createElement('div');\n",
              "          docLink.innerHTML = docLinkHtml;\n",
              "          element.appendChild(docLink);\n",
              "        }\n",
              "      </script>\n",
              "    </div>\n",
              "  </div>\n",
              "  "
            ]
          },
          "metadata": {},
          "execution_count": 105
        }
      ],
      "source": [
        "df1 = pd.DataFrame.from_records(data)\n",
        "df1.head(10)"
      ]
    },
    {
      "cell_type": "code",
      "execution_count": 106,
      "metadata": {
        "id": "Sq996BIx4wz2"
      },
      "outputs": [],
      "source": [
        "# Saving the  data\n",
        "df1.to_csv(\"article1_data.csv\")"
      ]
    },
    {
      "cell_type": "code",
      "execution_count": 107,
      "metadata": {
        "id": "k1XngKXY42aN"
      },
      "outputs": [],
      "source": [
        "# model = trained word2vec model\n",
        "# data= retrieve data from the article\n",
        "# size = the size given at the time of word2vec embedding i.e in this case 300\n",
        "\n",
        "def prediction_data_process(model,data,size):\n",
        "    \n",
        "    prediction_data=np.asarray(list(data['text']))\n",
        "    prediction_data=process(prediction_data)\n",
        "    cleaned_prediction_data=[]\n",
        "    for sent in prediction_data:\n",
        "        cleaned_prediction_data.append(sent.split()) \n",
        "        \n",
        "    vectors = []\n",
        "    for sent in cleaned_prediction_data:\n",
        "        sent_vec = np.zeros(size)\n",
        "        cnt_words = 0\n",
        "        for word in sent:\n",
        "            try:\n",
        "                vec = word2vec_model.wv[word]  # getting the vector corresponding to the word\n",
        "                sent_vec += vec       # Adding the vectors of all the words present in sentence\n",
        "                cnt_words += 1        # counting the number of words\n",
        "            except:\n",
        "                pass\n",
        "        if cnt_words!=0:    \n",
        "            sent_vec /= cnt_words\n",
        "        vectors.append(sent_vec)\n",
        "    \n",
        "    return np.nan_to_num(vectors)"
      ]
    },
    {
      "cell_type": "code",
      "source": [
        "final_prediction_data=prediction_data_process(word2vec_model,data,300)"
      ],
      "metadata": {
        "colab": {
          "base_uri": "https://localhost:8080/"
        },
        "id": "Bhn_TZoID_oQ",
        "outputId": "ef8c83de-6d91-42c2-f8f3-58087f8caff6"
      },
      "execution_count": 108,
      "outputs": [
        {
          "output_type": "stream",
          "name": "stderr",
          "text": [
            "100%|██████████| 27/27 [00:00<00:00, 6815.08it/s]\n"
          ]
        }
      ]
    },
    {
      "cell_type": "code",
      "execution_count": 109,
      "metadata": {
        "id": "A5Q5_Cy348S6",
        "colab": {
          "base_uri": "https://localhost:8080/"
        },
        "outputId": "60681e34-d860-4fb2-b7f1-6cc5e11dc2f2"
      },
      "outputs": [
        {
          "output_type": "execute_result",
          "data": {
            "text/plain": [
              "array([ 0.04934545,  0.08339462, -0.15933673,  0.08425022,  0.04641784,\n",
              "        0.04115702,  0.17008764, -0.18437472,  0.12117721])"
            ]
          },
          "metadata": {},
          "execution_count": 109
        }
      ],
      "source": [
        "final_prediction_data[3][1:10]"
      ]
    },
    {
      "cell_type": "code",
      "execution_count": 110,
      "metadata": {
        "id": "bhncDEHI4_8E",
        "colab": {
          "base_uri": "https://localhost:8080/"
        },
        "outputId": "254bf797-bf03-4f38-f0d4-ddda6dec66f0"
      },
      "outputs": [
        {
          "output_type": "execute_result",
          "data": {
            "text/plain": [
              "27"
            ]
          },
          "metadata": {},
          "execution_count": 110
        }
      ],
      "source": [
        "len(final_prediction_data)"
      ]
    },
    {
      "cell_type": "code",
      "execution_count": 111,
      "metadata": {
        "id": "s5Gzd_fi5CnR"
      },
      "outputs": [],
      "source": [
        "from joblib import Parallel, delayed\n",
        "import joblib\n",
        "# Load the model from the file\n",
        "\n",
        "RF_Model = joblib.load('Model_Random_Forest.pkl')"
      ]
    },
    {
      "cell_type": "code",
      "execution_count": 112,
      "metadata": {
        "id": "cWA5q5EQ5F8C",
        "colab": {
          "base_uri": "https://localhost:8080/"
        },
        "outputId": "2fb99625-52b5-45d3-9cbb-60c8ea79cce1"
      },
      "outputs": [
        {
          "output_type": "execute_result",
          "data": {
            "text/plain": [
              "array([0, 0, 0, 0, 0, 0, 0, 0, 0, 0, 0, 0, 0, 0, 0, 0, 0, 0, 0, 0, 0, 0,\n",
              "       0, 0, 0, 0, 0])"
            ]
          },
          "metadata": {},
          "execution_count": 112
        }
      ],
      "source": [
        "RF_Model.predict(final_prediction_data)"
      ]
    },
    {
      "cell_type": "code",
      "execution_count": 113,
      "metadata": {
        "id": "0CFT82Xy5Osq",
        "colab": {
          "base_uri": "https://localhost:8080/"
        },
        "outputId": "0c55659a-01d6-4cdb-a684-4a7b0be5295c"
      },
      "outputs": [
        {
          "output_type": "execute_result",
          "data": {
            "text/plain": [
              "array([[0.52, 0.48],\n",
              "       [0.69, 0.31],\n",
              "       [0.69, 0.31],\n",
              "       [0.64, 0.36],\n",
              "       [0.75, 0.25],\n",
              "       [0.76, 0.24],\n",
              "       [0.56, 0.44],\n",
              "       [0.5 , 0.5 ],\n",
              "       [0.63, 0.37],\n",
              "       [0.52, 0.48],\n",
              "       [0.69, 0.31],\n",
              "       [0.83, 0.17],\n",
              "       [1.  , 0.  ],\n",
              "       [0.72, 0.28],\n",
              "       [0.74, 0.26],\n",
              "       [0.91, 0.09],\n",
              "       [0.67, 0.33],\n",
              "       [0.76, 0.24],\n",
              "       [0.87, 0.13],\n",
              "       [0.55, 0.45],\n",
              "       [0.88, 0.12],\n",
              "       [0.85, 0.15],\n",
              "       [0.75, 0.25],\n",
              "       [0.66, 0.34],\n",
              "       [0.83, 0.17],\n",
              "       [0.79, 0.21],\n",
              "       [0.9 , 0.1 ]])"
            ]
          },
          "metadata": {},
          "execution_count": 113
        }
      ],
      "source": [
        "RF_Model.predict_proba(final_prediction_data)"
      ]
    },
    {
      "cell_type": "code",
      "execution_count": 115,
      "metadata": {
        "id": "ShFaL2cX5SzB"
      },
      "outputs": [],
      "source": [
        "RF_p = [0, 0, 0, 0, 0, 0, 0, 0, 0, 0, 0, 0, 0, 0, 0, 0, 0, 0, 0, 0, 0, 0,\n",
        "       0, 0, 0, 0, 0]\n",
        "\n",
        "df1['RF_p'] = RF_p"
      ]
    },
    {
      "cell_type": "code",
      "execution_count": 116,
      "metadata": {
        "id": "xvqIn-ZN5W5C",
        "colab": {
          "base_uri": "https://localhost:8080/",
          "height": 896
        },
        "outputId": "717bf45e-38dd-4a04-d801-f90e319d8a05"
      },
      "outputs": [
        {
          "output_type": "execute_result",
          "data": {
            "text/plain": [
              "                                                 text  RF_p\n",
              "0         Since November 2020, Warnock has been th...     0\n",
              "1   His victory in this head-to-head contest with ...     0\n",
              "2         As the 2022 midterm cycle spins to its e...     0\n",
              "3         Democrats had already clinched control o...     0\n",
              "4         The party will now enter 2023 with a tru...     0\n",
              "5         For example: The Senate Judiciary Commit...     0\n",
              "6         Democratic leaders, meanwhile, face a re...     0\n",
              "7         It’s also an early boost to Democrats ah...     0\n",
              "8         As long as former President Donald Trump...     0\n",
              "9         If there was any doubt before Tuesday, i...     0\n",
              "10        Walker was Trump’s hand-picked candidate...     0\n",
              "11        Kemp’s inability to pull Walker over the...     0\n",
              "12                                On now to 2024.\\n       0\n",
              "13        After the 2020 election, Georgia Republi...     0\n",
              "14                            It didn’t matter.  \\n       0\n",
              "15        The Democratic turnout machine in Georgi...     0\n",
              "16        While the ultimate number of votes cast ...     0\n",
              "17        Turnout was especially robust in key Dem...     0\n",
              "18  Trump tried to use the 2022 midterms to pack c...     0\n",
              "19        No Republican presidential candidate had...     0\n",
              "20        The losses have immediate implications: ...     0\n",
              "21        The blame game that began four weeks ago...     0\n",
              "22        Georgia Gov. Brian Kemp kept his distanc...     0\n",
              "23        After his victory, though, Kemp more ful...     0\n",
              "24        Kemp’s goal was to convince some of thos...     0\n",
              "25        It was a stark contrast from the approac...     0\n",
              "26        However, Georgia’s runoff proved a lesso...     0"
            ],
            "text/html": [
              "\n",
              "  <div id=\"df-be204457-847f-4ce3-b732-0f4d4a6c8e4b\">\n",
              "    <div class=\"colab-df-container\">\n",
              "      <div>\n",
              "<style scoped>\n",
              "    .dataframe tbody tr th:only-of-type {\n",
              "        vertical-align: middle;\n",
              "    }\n",
              "\n",
              "    .dataframe tbody tr th {\n",
              "        vertical-align: top;\n",
              "    }\n",
              "\n",
              "    .dataframe thead th {\n",
              "        text-align: right;\n",
              "    }\n",
              "</style>\n",
              "<table border=\"1\" class=\"dataframe\">\n",
              "  <thead>\n",
              "    <tr style=\"text-align: right;\">\n",
              "      <th></th>\n",
              "      <th>text</th>\n",
              "      <th>RF_p</th>\n",
              "    </tr>\n",
              "  </thead>\n",
              "  <tbody>\n",
              "    <tr>\n",
              "      <th>0</th>\n",
              "      <td>Since November 2020, Warnock has been th...</td>\n",
              "      <td>0</td>\n",
              "    </tr>\n",
              "    <tr>\n",
              "      <th>1</th>\n",
              "      <td>His victory in this head-to-head contest with ...</td>\n",
              "      <td>0</td>\n",
              "    </tr>\n",
              "    <tr>\n",
              "      <th>2</th>\n",
              "      <td>As the 2022 midterm cycle spins to its e...</td>\n",
              "      <td>0</td>\n",
              "    </tr>\n",
              "    <tr>\n",
              "      <th>3</th>\n",
              "      <td>Democrats had already clinched control o...</td>\n",
              "      <td>0</td>\n",
              "    </tr>\n",
              "    <tr>\n",
              "      <th>4</th>\n",
              "      <td>The party will now enter 2023 with a tru...</td>\n",
              "      <td>0</td>\n",
              "    </tr>\n",
              "    <tr>\n",
              "      <th>5</th>\n",
              "      <td>For example: The Senate Judiciary Commit...</td>\n",
              "      <td>0</td>\n",
              "    </tr>\n",
              "    <tr>\n",
              "      <th>6</th>\n",
              "      <td>Democratic leaders, meanwhile, face a re...</td>\n",
              "      <td>0</td>\n",
              "    </tr>\n",
              "    <tr>\n",
              "      <th>7</th>\n",
              "      <td>It’s also an early boost to Democrats ah...</td>\n",
              "      <td>0</td>\n",
              "    </tr>\n",
              "    <tr>\n",
              "      <th>8</th>\n",
              "      <td>As long as former President Donald Trump...</td>\n",
              "      <td>0</td>\n",
              "    </tr>\n",
              "    <tr>\n",
              "      <th>9</th>\n",
              "      <td>If there was any doubt before Tuesday, i...</td>\n",
              "      <td>0</td>\n",
              "    </tr>\n",
              "    <tr>\n",
              "      <th>10</th>\n",
              "      <td>Walker was Trump’s hand-picked candidate...</td>\n",
              "      <td>0</td>\n",
              "    </tr>\n",
              "    <tr>\n",
              "      <th>11</th>\n",
              "      <td>Kemp’s inability to pull Walker over the...</td>\n",
              "      <td>0</td>\n",
              "    </tr>\n",
              "    <tr>\n",
              "      <th>12</th>\n",
              "      <td>On now to 2024.\\n</td>\n",
              "      <td>0</td>\n",
              "    </tr>\n",
              "    <tr>\n",
              "      <th>13</th>\n",
              "      <td>After the 2020 election, Georgia Republi...</td>\n",
              "      <td>0</td>\n",
              "    </tr>\n",
              "    <tr>\n",
              "      <th>14</th>\n",
              "      <td>It didn’t matter.  \\n</td>\n",
              "      <td>0</td>\n",
              "    </tr>\n",
              "    <tr>\n",
              "      <th>15</th>\n",
              "      <td>The Democratic turnout machine in Georgi...</td>\n",
              "      <td>0</td>\n",
              "    </tr>\n",
              "    <tr>\n",
              "      <th>16</th>\n",
              "      <td>While the ultimate number of votes cast ...</td>\n",
              "      <td>0</td>\n",
              "    </tr>\n",
              "    <tr>\n",
              "      <th>17</th>\n",
              "      <td>Turnout was especially robust in key Dem...</td>\n",
              "      <td>0</td>\n",
              "    </tr>\n",
              "    <tr>\n",
              "      <th>18</th>\n",
              "      <td>Trump tried to use the 2022 midterms to pack c...</td>\n",
              "      <td>0</td>\n",
              "    </tr>\n",
              "    <tr>\n",
              "      <th>19</th>\n",
              "      <td>No Republican presidential candidate had...</td>\n",
              "      <td>0</td>\n",
              "    </tr>\n",
              "    <tr>\n",
              "      <th>20</th>\n",
              "      <td>The losses have immediate implications: ...</td>\n",
              "      <td>0</td>\n",
              "    </tr>\n",
              "    <tr>\n",
              "      <th>21</th>\n",
              "      <td>The blame game that began four weeks ago...</td>\n",
              "      <td>0</td>\n",
              "    </tr>\n",
              "    <tr>\n",
              "      <th>22</th>\n",
              "      <td>Georgia Gov. Brian Kemp kept his distanc...</td>\n",
              "      <td>0</td>\n",
              "    </tr>\n",
              "    <tr>\n",
              "      <th>23</th>\n",
              "      <td>After his victory, though, Kemp more ful...</td>\n",
              "      <td>0</td>\n",
              "    </tr>\n",
              "    <tr>\n",
              "      <th>24</th>\n",
              "      <td>Kemp’s goal was to convince some of thos...</td>\n",
              "      <td>0</td>\n",
              "    </tr>\n",
              "    <tr>\n",
              "      <th>25</th>\n",
              "      <td>It was a stark contrast from the approac...</td>\n",
              "      <td>0</td>\n",
              "    </tr>\n",
              "    <tr>\n",
              "      <th>26</th>\n",
              "      <td>However, Georgia’s runoff proved a lesso...</td>\n",
              "      <td>0</td>\n",
              "    </tr>\n",
              "  </tbody>\n",
              "</table>\n",
              "</div>\n",
              "      <button class=\"colab-df-convert\" onclick=\"convertToInteractive('df-be204457-847f-4ce3-b732-0f4d4a6c8e4b')\"\n",
              "              title=\"Convert this dataframe to an interactive table.\"\n",
              "              style=\"display:none;\">\n",
              "        \n",
              "  <svg xmlns=\"http://www.w3.org/2000/svg\" height=\"24px\"viewBox=\"0 0 24 24\"\n",
              "       width=\"24px\">\n",
              "    <path d=\"M0 0h24v24H0V0z\" fill=\"none\"/>\n",
              "    <path d=\"M18.56 5.44l.94 2.06.94-2.06 2.06-.94-2.06-.94-.94-2.06-.94 2.06-2.06.94zm-11 1L8.5 8.5l.94-2.06 2.06-.94-2.06-.94L8.5 2.5l-.94 2.06-2.06.94zm10 10l.94 2.06.94-2.06 2.06-.94-2.06-.94-.94-2.06-.94 2.06-2.06.94z\"/><path d=\"M17.41 7.96l-1.37-1.37c-.4-.4-.92-.59-1.43-.59-.52 0-1.04.2-1.43.59L10.3 9.45l-7.72 7.72c-.78.78-.78 2.05 0 2.83L4 21.41c.39.39.9.59 1.41.59.51 0 1.02-.2 1.41-.59l7.78-7.78 2.81-2.81c.8-.78.8-2.07 0-2.86zM5.41 20L4 18.59l7.72-7.72 1.47 1.35L5.41 20z\"/>\n",
              "  </svg>\n",
              "      </button>\n",
              "      \n",
              "  <style>\n",
              "    .colab-df-container {\n",
              "      display:flex;\n",
              "      flex-wrap:wrap;\n",
              "      gap: 12px;\n",
              "    }\n",
              "\n",
              "    .colab-df-convert {\n",
              "      background-color: #E8F0FE;\n",
              "      border: none;\n",
              "      border-radius: 50%;\n",
              "      cursor: pointer;\n",
              "      display: none;\n",
              "      fill: #1967D2;\n",
              "      height: 32px;\n",
              "      padding: 0 0 0 0;\n",
              "      width: 32px;\n",
              "    }\n",
              "\n",
              "    .colab-df-convert:hover {\n",
              "      background-color: #E2EBFA;\n",
              "      box-shadow: 0px 1px 2px rgba(60, 64, 67, 0.3), 0px 1px 3px 1px rgba(60, 64, 67, 0.15);\n",
              "      fill: #174EA6;\n",
              "    }\n",
              "\n",
              "    [theme=dark] .colab-df-convert {\n",
              "      background-color: #3B4455;\n",
              "      fill: #D2E3FC;\n",
              "    }\n",
              "\n",
              "    [theme=dark] .colab-df-convert:hover {\n",
              "      background-color: #434B5C;\n",
              "      box-shadow: 0px 1px 3px 1px rgba(0, 0, 0, 0.15);\n",
              "      filter: drop-shadow(0px 1px 2px rgba(0, 0, 0, 0.3));\n",
              "      fill: #FFFFFF;\n",
              "    }\n",
              "  </style>\n",
              "\n",
              "      <script>\n",
              "        const buttonEl =\n",
              "          document.querySelector('#df-be204457-847f-4ce3-b732-0f4d4a6c8e4b button.colab-df-convert');\n",
              "        buttonEl.style.display =\n",
              "          google.colab.kernel.accessAllowed ? 'block' : 'none';\n",
              "\n",
              "        async function convertToInteractive(key) {\n",
              "          const element = document.querySelector('#df-be204457-847f-4ce3-b732-0f4d4a6c8e4b');\n",
              "          const dataTable =\n",
              "            await google.colab.kernel.invokeFunction('convertToInteractive',\n",
              "                                                     [key], {});\n",
              "          if (!dataTable) return;\n",
              "\n",
              "          const docLinkHtml = 'Like what you see? Visit the ' +\n",
              "            '<a target=\"_blank\" href=https://colab.research.google.com/notebooks/data_table.ipynb>data table notebook</a>'\n",
              "            + ' to learn more about interactive tables.';\n",
              "          element.innerHTML = '';\n",
              "          dataTable['output_type'] = 'display_data';\n",
              "          await google.colab.output.renderOutput(dataTable, element);\n",
              "          const docLink = document.createElement('div');\n",
              "          docLink.innerHTML = docLinkHtml;\n",
              "          element.appendChild(docLink);\n",
              "        }\n",
              "      </script>\n",
              "    </div>\n",
              "  </div>\n",
              "  "
            ]
          },
          "metadata": {},
          "execution_count": 116
        }
      ],
      "source": [
        "df1"
      ]
    },
    {
      "cell_type": "code",
      "execution_count": 117,
      "metadata": {
        "id": "rEeDV-Ck5Z2t",
        "colab": {
          "base_uri": "https://localhost:8080/"
        },
        "outputId": "18a3bdec-fe93-4c4c-8873-d4fa0b1ea9a7"
      },
      "outputs": [
        {
          "output_type": "execute_result",
          "data": {
            "text/plain": [
              "0    27\n",
              "Name: RF_p, dtype: int64"
            ]
          },
          "metadata": {},
          "execution_count": 117
        }
      ],
      "source": [
        "df1['RF_p'].value_counts()"
      ]
    },
    {
      "cell_type": "code",
      "execution_count": 118,
      "metadata": {
        "id": "OrLnyEvU5c8G",
        "colab": {
          "base_uri": "https://localhost:8080/"
        },
        "outputId": "4feec69a-a5ef-4412-e00c-93cd754f0f3e"
      },
      "outputs": [
        {
          "output_type": "execute_result",
          "data": {
            "text/plain": [
              "array([0, 0, 0, 0, 0, 0, 0, 0, 0, 0, 0, 0, 0, 0, 0, 0, 0, 0, 0, 0, 0, 0,\n",
              "       0, 0, 0, 0, 0])"
            ]
          },
          "metadata": {},
          "execution_count": 118
        }
      ],
      "source": [
        "RF_Model.predict(final_prediction_data)"
      ]
    },
    {
      "cell_type": "code",
      "execution_count": 119,
      "metadata": {
        "id": "-vcamB0k5gLA",
        "colab": {
          "base_uri": "https://localhost:8080/"
        },
        "outputId": "870f6a6c-ebd2-4dcf-805f-ed100cf88cf5"
      },
      "outputs": [
        {
          "output_type": "execute_result",
          "data": {
            "text/plain": [
              "LogisticRegression()"
            ]
          },
          "metadata": {},
          "execution_count": 119
        }
      ],
      "source": [
        "logreg"
      ]
    },
    {
      "cell_type": "code",
      "source": [
        "!pip --version"
      ],
      "metadata": {
        "colab": {
          "base_uri": "https://localhost:8080/"
        },
        "id": "jzeDDtH_V097",
        "outputId": "77c7315f-eb33-401b-d39a-4c69c4aac6f2"
      },
      "execution_count": 120,
      "outputs": [
        {
          "output_type": "stream",
          "name": "stdout",
          "text": [
            "pip 21.1.3 from /usr/local/lib/python3.8/dist-packages/pip (python 3.8)\n"
          ]
        }
      ]
    },
    {
      "cell_type": "code",
      "source": [
        "!pip install --user pipenv"
      ],
      "metadata": {
        "colab": {
          "base_uri": "https://localhost:8080/"
        },
        "id": "SngG4A9gYMOU",
        "outputId": "dc0beaf6-e557-439a-e85d-c4a5c3ae8942"
      },
      "execution_count": null,
      "outputs": [
        {
          "output_type": "stream",
          "name": "stdout",
          "text": [
            "Looking in indexes: https://pypi.org/simple, https://us-python.pkg.dev/colab-wheels/public/simple/\n",
            "Requirement already satisfied: pipenv in /root/.local/lib/python3.7/site-packages (2022.11.5)\n",
            "Requirement already satisfied: virtualenv in /root/.local/lib/python3.7/site-packages (from pipenv) (20.16.6)\n",
            "Requirement already satisfied: virtualenv-clone>=0.2.5 in /root/.local/lib/python3.7/site-packages (from pipenv) (0.5.7)\n",
            "Requirement already satisfied: certifi in /usr/local/lib/python3.7/dist-packages (from pipenv) (2022.9.24)\n",
            "Requirement already satisfied: setuptools>=36.2.1 in /usr/local/lib/python3.7/dist-packages (from pipenv) (57.4.0)\n",
            "Requirement already satisfied: filelock<4,>=3.4.1 in /usr/local/lib/python3.7/dist-packages (from virtualenv->pipenv) (3.8.0)\n",
            "Requirement already satisfied: importlib-metadata>=4.8.3 in /usr/local/lib/python3.7/dist-packages (from virtualenv->pipenv) (4.13.0)\n",
            "Requirement already satisfied: platformdirs<3,>=2.4 in /root/.local/lib/python3.7/site-packages (from virtualenv->pipenv) (2.5.3)\n",
            "Requirement already satisfied: distlib<1,>=0.3.6 in /root/.local/lib/python3.7/site-packages (from virtualenv->pipenv) (0.3.6)\n",
            "Requirement already satisfied: typing-extensions>=3.6.4 in /usr/local/lib/python3.7/dist-packages (from importlib-metadata>=4.8.3->virtualenv->pipenv) (4.1.1)\n",
            "Requirement already satisfied: zipp>=0.5 in /usr/local/lib/python3.7/dist-packages (from importlib-metadata>=4.8.3->virtualenv->pipenv) (3.10.0)\n"
          ]
        }
      ]
    },
    {
      "cell_type": "code",
      "source": [
        "!pip3 install praw --upgrade --force-reinstall"
      ],
      "metadata": {
        "colab": {
          "base_uri": "https://localhost:8080/",
          "height": 939
        },
        "id": "V0quFx7UaAia",
        "outputId": "f4e04386-8bea-4e98-dc5c-d93b3aa0a6ff"
      },
      "execution_count": 122,
      "outputs": [
        {
          "output_type": "stream",
          "name": "stdout",
          "text": [
            "Looking in indexes: https://pypi.org/simple, https://us-python.pkg.dev/colab-wheels/public/simple/\n",
            "Collecting praw\n",
            "  Downloading praw-7.6.1-py3-none-any.whl (188 kB)\n",
            "\u001b[K     |████████████████████████████████| 188 kB 40.7 MB/s \n",
            "\u001b[?25hCollecting update-checker>=0.18\n",
            "  Downloading update_checker-0.18.0-py3-none-any.whl (7.0 kB)\n",
            "Collecting prawcore<3,>=2.1\n",
            "  Downloading prawcore-2.3.0-py3-none-any.whl (16 kB)\n",
            "Collecting websocket-client>=0.54.0\n",
            "  Downloading websocket_client-1.4.2-py3-none-any.whl (55 kB)\n",
            "\u001b[K     |████████████████████████████████| 55 kB 3.5 MB/s \n",
            "\u001b[?25hCollecting requests<3.0,>=2.6.0\n",
            "  Downloading requests-2.28.1-py3-none-any.whl (62 kB)\n",
            "\u001b[K     |████████████████████████████████| 62 kB 1.4 MB/s \n",
            "\u001b[?25hCollecting urllib3<1.27,>=1.21.1\n",
            "  Downloading urllib3-1.26.13-py2.py3-none-any.whl (140 kB)\n",
            "\u001b[K     |████████████████████████████████| 140 kB 76.7 MB/s \n",
            "\u001b[?25hCollecting certifi>=2017.4.17\n",
            "  Downloading certifi-2022.9.24-py3-none-any.whl (161 kB)\n",
            "\u001b[K     |████████████████████████████████| 161 kB 84.6 MB/s \n",
            "\u001b[?25hCollecting idna<4,>=2.5\n",
            "  Downloading idna-3.4-py3-none-any.whl (61 kB)\n",
            "\u001b[K     |████████████████████████████████| 61 kB 116 kB/s \n",
            "\u001b[?25hCollecting charset-normalizer<3,>=2\n",
            "  Downloading charset_normalizer-2.1.1-py3-none-any.whl (39 kB)\n",
            "Installing collected packages: urllib3, idna, charset-normalizer, certifi, requests, websocket-client, update-checker, prawcore, praw\n",
            "  Attempting uninstall: urllib3\n",
            "    Found existing installation: urllib3 1.24.3\n",
            "    Uninstalling urllib3-1.24.3:\n",
            "      Successfully uninstalled urllib3-1.24.3\n",
            "  Attempting uninstall: idna\n",
            "    Found existing installation: idna 2.10\n",
            "    Uninstalling idna-2.10:\n",
            "      Successfully uninstalled idna-2.10\n",
            "  Attempting uninstall: charset-normalizer\n",
            "    Found existing installation: charset-normalizer 2.1.1\n",
            "    Uninstalling charset-normalizer-2.1.1:\n",
            "      Successfully uninstalled charset-normalizer-2.1.1\n",
            "  Attempting uninstall: certifi\n",
            "    Found existing installation: certifi 2022.9.24\n",
            "    Uninstalling certifi-2022.9.24:\n",
            "      Successfully uninstalled certifi-2022.9.24\n",
            "  Attempting uninstall: requests\n",
            "    Found existing installation: requests 2.23.0\n",
            "    Uninstalling requests-2.23.0:\n",
            "      Successfully uninstalled requests-2.23.0\n",
            "Successfully installed certifi-2022.9.24 charset-normalizer-2.1.1 idna-3.4 praw-7.6.1 prawcore-2.3.0 requests-2.28.1 update-checker-0.18.0 urllib3-1.26.13 websocket-client-1.4.2\n"
          ]
        },
        {
          "output_type": "display_data",
          "data": {
            "application/vnd.colab-display-data+json": {
              "pip_warning": {
                "packages": [
                  "certifi",
                  "requests",
                  "urllib3"
                ]
              }
            }
          },
          "metadata": {}
        }
      ]
    },
    {
      "cell_type": "code",
      "execution_count": 123,
      "metadata": {
        "id": "ZySfMo9N5mtD"
      },
      "outputs": [],
      "source": [
        "import praw\n",
        "import seaborn as sns\n",
        "from IPython import display\n",
        "from pprint import pprint\n",
        "reddit = praw.Reddit(client_id='2m_a1sswWSJ39HqeuZR5Mg',\n",
        "client_secret='rMo3CffExs3fve6qQKxf7XAU8SBE1g',\n",
        "user_agent='Independent_Bread887') "
      ]
    },
    {
      "cell_type": "code",
      "execution_count": 124,
      "metadata": {
        "id": "ylvrFmLx5rih",
        "colab": {
          "base_uri": "https://localhost:8080/"
        },
        "outputId": "74d9113a-b440-4bf4-a7d9-0ebea4d9fa43"
      },
      "outputs": [
        {
          "output_type": "stream",
          "name": "stderr",
          "text": [
            "WARNING:praw:It appears that you are using PRAW in an asynchronous environment.\n",
            "It is strongly recommended to use Async PRAW: https://asyncpraw.readthedocs.io.\n",
            "See https://praw.readthedocs.io/en/latest/getting_started/multiple_instances.html#discord-bots-and-asynchronous-environments for more info.\n",
            "\n",
            "WARNING:praw:It appears that you are using PRAW in an asynchronous environment.\n",
            "It is strongly recommended to use Async PRAW: https://asyncpraw.readthedocs.io.\n",
            "See https://praw.readthedocs.io/en/latest/getting_started/multiple_instances.html#discord-bots-and-asynchronous-environments for more info.\n",
            "\n",
            "WARNING:praw:It appears that you are using PRAW in an asynchronous environment.\n",
            "It is strongly recommended to use Async PRAW: https://asyncpraw.readthedocs.io.\n",
            "See https://praw.readthedocs.io/en/latest/getting_started/multiple_instances.html#discord-bots-and-asynchronous-environments for more info.\n",
            "\n",
            "WARNING:praw:It appears that you are using PRAW in an asynchronous environment.\n",
            "It is strongly recommended to use Async PRAW: https://asyncpraw.readthedocs.io.\n",
            "See https://praw.readthedocs.io/en/latest/getting_started/multiple_instances.html#discord-bots-and-asynchronous-environments for more info.\n",
            "\n"
          ]
        },
        {
          "output_type": "stream",
          "name": "stdout",
          "text": [
            "399\n"
          ]
        }
      ],
      "source": [
        "news = set() \n",
        "for sub in reddit.subreddit('politics').new(limit=400):\n",
        "    news.add(sub.title)\n",
        "print(len(news))"
      ]
    },
    {
      "cell_type": "code",
      "execution_count": 125,
      "metadata": {
        "id": "wL9v-O3y5wWQ",
        "colab": {
          "base_uri": "https://localhost:8080/"
        },
        "outputId": "a3552f9f-8d1d-4602-a600-83a45c3781f7"
      },
      "outputs": [
        {
          "output_type": "execute_result",
          "data": {
            "text/plain": [
              "{'19 Times Trump Promised Worthless Rewards for Your Political Contribution',\n",
              " '8 bad things that have happened to Trump in the 3 weeks since he launched his presidential campaign',\n",
              " '9 Ways the Supreme Court’s Decision in Moore v. Harper Could Harm Democracy',\n",
              " '9 million Americans were wrongly told they were approved for student debt forgiveness',\n",
              " 'A Billionaire Got the Chicago Mayor’s Support to Lease Public Land. Then He Wrote Her Campaign a $25,000 Check.',\n",
              " 'A Redistricting Case at the Supreme Court May Overhaul Elections',\n",
              " 'A former Florida congressman is arrested on charges of lobbying for Venezuela',\n",
              " 'A new day? Voters stood up for democracy — and now we have the data|America has a long way to go in redeeming democracy — but the midterm exit polls tell a story of hope',\n",
              " 'ABC’s George Stephanopoulos Leaves GOP Rep Fumbling Over Trump 2024 Defense',\n",
              " 'After Constitution idiocy, Trump is weaker than ever. GOP, dump this loser for good',\n",
              " \"Alito's mentions of Ashley Madison and children wearing KKK costumes cap an awkward Supreme Court day\",\n",
              " 'Alito’s Quip About Children, KKK Creates Awkward Supreme Court Moment',\n",
              " 'America underwater: Extreme floods expose the flaws in FEMA’s risk maps',\n",
              " 'American Law’s Worst Moment(s), 2022',\n",
              " \"Andy Biggs: Arizona Republican announces run for speaker, making McCarthy's path to win speakership on first ballot even more challenging\",\n",
              " 'Anti-LGBTQ+ far right activist questioned in NC power outage',\n",
              " 'Arizona Certifies Midterm Results After G.O.P. Resistance',\n",
              " 'Arizona certifies 2022 election results amid threat of more GOP challenges',\n",
              " 'Arizona certifies midterm election results',\n",
              " 'As fatal police shootings increase, more go unreported',\n",
              " 'Attacks on US power grid have been subject of extremist chatter for years. DHS bulletin warns of attacks on critical infrastructure amid other targets.',\n",
              " 'Bail reform is working. Why are Democrats running away from it?',\n",
              " 'Benjamin Netanyahu hopes Trump will condemn antisemitism',\n",
              " 'Bennie Thompson: Jan. 6 Panel Will Make Criminal Referrals Based on Its Findings',\n",
              " 'Bernie Sanders to Bring Yemen War Powers Resolution to the Floor as Soon as Next Week',\n",
              " 'Biden Administration Considers Migrant Restrictions Similar to Trump Policies',\n",
              " 'Biden Backs Adding Manchin Energy Bill to Must-Pass Defense Measure',\n",
              " 'Biden Could Be Missing Out On His Biggest Conservation Opportunity',\n",
              " 'Biden Is Right to Question Big Oil’s Stock Buybacks',\n",
              " 'Biden administration will expand, extend temporary status for Haitians',\n",
              " \"Biden administration working with Congress on 'deterrence' over Taiwan - White House\",\n",
              " 'Biden blasted as court dismisses Khashoggi lawsuit against saudi crown prince Mohammed Bin Salman',\n",
              " \"Biden defends skipping border visit while in Arizona, says there are 'more important things'\",\n",
              " 'Biden is right to be cautiously optimistic about the economy',\n",
              " 'Biden plays Scrooge, takes your Christmas cash with high inflation',\n",
              " 'Biden says ‘more important things’ than border visit, despite 59 trips to Delaware, 8 stops for ice cream',\n",
              " 'Biden visits Arizona computer chip site, highlights jobs',\n",
              " 'Biden visits Arizona semiconductor factory site, highlights chip industry jobs',\n",
              " \"Biden's student-debt relief reform plans are paving the way for an 'untold amount about to be billed to the American people,' GOP House lawmakers say\",\n",
              " \"Biden's student-loan forgiveness might not be doomed if the Supreme Court strikes it down — he could take another legal path\",\n",
              " 'Big cats: US Senate unanimously passes bill to curb private ownership',\n",
              " 'Bill restricting big cat ownership made famous by ‘Tiger King’ heads to Biden’s desk',\n",
              " 'Blinken vows US support for Israel despite unease over govt',\n",
              " 'Borat targets Trump, Ye and antisemitism at Kennedy Center Honors',\n",
              " 'Budowsky: Joe Biden seeks ‘Morning in America’',\n",
              " \"Can Arizona's 1864 anti-abortion law coexist with newer statute? Judges grill attorneys\",\n",
              " 'Candidates make final push in Georgia with critical Senate seat on the line',\n",
              " \"Capitol Police chief: Jan. 6 failures 'largely' fixed but extremism threat persists\",\n",
              " 'Cheney calls Trump ‘enemy of the Constitution’ after he proposes terminating it',\n",
              " 'Cherokee Nation wants to send a delegate to the House – it’s an idea older than Congress itself',\n",
              " 'Cigarette companies ordered to display health warning signs at retailers',\n",
              " 'Civil rights groups question Biden’s counterterrorism strategy',\n",
              " 'Colorado is among least conservative states: cpac analysis',\n",
              " 'Commerce Secretary Raimondo Meets With One Corporate Executive per Day',\n",
              " 'Con Law: How a Fake Document Could Help the Supreme Court Diminish our Democracy They’ve adopted alternative facts, but are the conservative justices ready to embrace fraud?',\n",
              " 'Congress Awards Highest Honor to Officers Who Protected the Capitol on Jan. 6',\n",
              " 'Congress dropped a controversial media bill which saw Facebook threaten to ax news in the US if the act passed, report says',\n",
              " 'Congress reveals plan to increase defense budget by 8%',\n",
              " 'Congressional Democrats have a new plan to combat plastic pollution: Proposed legislation would limit plastic production and restrict new petrochemical facilities.',\n",
              " 'Conservative justices come to same-sex marriage controversy with minds made up',\n",
              " 'Conservative justices seem poised to side with web designer who opposes same-sex marriage',\n",
              " 'Corruption Charges Dismissed Against Ex-Lt. Gov. Brian Benjamin',\n",
              " 'Court Implodes Trump’s Mar-a-Lago Defense (and the Errant Judge Who Bought It)',\n",
              " 'Criminals, Cheaters, and Cartels: 4 Batshit Crazy Moments From the Maricopa County Election Canvass',\n",
              " 'DOJ subpoenas Wis., other state election officials for Trump documents',\n",
              " 'DOJ subpoenas election officials in states Trump disputed',\n",
              " 'DOJ subpoenas officials in Wisconsin, Michigan and Arizona for communications with Trump around 2020 election',\n",
              " 'DeSantis to offer VIP access to his inauguration — for between $50K to $1 million',\n",
              " 'DeSantis-backed school boards begin ousting Florida educators',\n",
              " 'Democrats aim to seize outright Senate majority in Georgia runoff',\n",
              " 'Democrats ditch Manchin’s ‘dirty deal’ after opposition from climate activists',\n",
              " 'Democrats ramp up investigation of Kushner family business dealings',\n",
              " 'Did uncontested races cost the Democrats the House popular vote?',\n",
              " 'Discussion Thread: Georgia Runoff Election for US Senate',\n",
              " 'Donald Trump Demands To Be Restored To Power After Americans Deprived Of Constitutional Right To See Hunter Biden Dick Pics',\n",
              " \"Donald Trump Has 'Proved His Criminal Intent'—Kirschner\",\n",
              " \"Donald Trump condemned for 'anti-American and fascist' proposal to terminate the Constitution\",\n",
              " 'Donald Trump ridiculed after suffering three major blows in one disaster day: ‘Ketchup on the walls’',\n",
              " 'Don’t Blame Republicans. “Amtrak Joe” Biden Is the One Who Defeated the Railworkers.',\n",
              " 'Drag storytime organizers, police offer different explanations amid Proud Boys protest',\n",
              " 'Ducey endorses an Election Day plan that could help tally votes faster, but at a cost',\n",
              " 'Elon Musk says Constitution is greater than any president',\n",
              " \"Elon Musk's 'Twitter Files' drop revealed some of the tweets the Biden campaign asked the social app to remove were nude photos of Hunter Biden spread without his consent\",\n",
              " \"Emhoff: 'Epidemic of Hate' Exists in US, Can't Be Normalized\",\n",
              " \"Emhoff: 'Epidemic of hate' exists in US, can't be normalized\",\n",
              " \"Ethics panel directs Madison Cawthorn to donate $15K for improperly promoting Let's Go Brandon cryptocurrency\",\n",
              " \"Every Day Is Jan. 6 For Donald Trump's 2024 Presidential Campaign\",\n",
              " 'Ex-Miami US Rep. David Rivera arrested in Venezuela probe',\n",
              " 'Ex-RNC Chair Makes Stark Prediction About Rep. Marjorie Taylor Greene',\n",
              " 'FBI ramps up spending to fight MAGA terrorism',\n",
              " \"Factbox: What is at stake in Georgia's U.S. Senate runoff?\",\n",
              " 'Factbox: What legal problems does U.S. presidential candidate Trump face?',\n",
              " 'Family of Jan. 6 officer declines GOP leaders’ handshakes at ceremony',\n",
              " 'Family of fallen Capitol Police officer refuses to shake hands with McCarthy, McConnell at medal ceremony',\n",
              " 'Family of fallen officer snubs McCarthy and McConnell as Congress honors law enforcement who defended the Capitol on Jan. 6',\n",
              " 'Far-right extremists turn on Marjorie Taylor Greene & call her a “slave” to Democrats',\n",
              " 'Fearing scandal, Air Force blocked generals’ foreign consulting deals',\n",
              " 'Federal Judge denies filed injunction motion against Measure 114',\n",
              " \"Federal appeals court considers Trump's plea to grant him immunity from Capitol riot lawsuits\",\n",
              " 'Federal judge throws out bribery, fraud charges against former New York lieutenant governor',\n",
              " 'Feds arrest former Miami Congressman Rep. David Rivera',\n",
              " 'Feds to award Mich. $90M+ to boost public health staffing, infrastructure',\n",
              " 'Final push for votes in Ga. runoff tests parties’ sway in battleground',\n",
              " \"Florida Gov. Ron DeSantis faces legal challenge after sneaking $12M for 'unauthorized alien' relocation into 2022 appropriations bill\",\n",
              " 'Florida watchdog group’s report raises questions about use of ‘ghost candidates’',\n",
              " \"Former Miami Congressman Rivera's indictment underscores Sen. Rubio's connection\",\n",
              " \"Former RNC chair Michael Steele says MTG 'will be the most powerful speaker of the House' if McCarthy wins the speakership, arguing she'll be able to 'control what comes out of Kevin's mouth'\",\n",
              " 'Friends to the left of him, critics to the right: McCarthy’s stuck in the chase',\n",
              " 'Full Panel: Republicans ‘have consistently underestimated’ Joe Biden',\n",
              " 'GAO releases report blasting colleges for misleading financial aid letters',\n",
              " 'GOP Election Losers Are Getting Even Weirder on Twitter',\n",
              " 'GOP Leadership Silent on Trump’s Calls to Terminate Constitution',\n",
              " \"GOP Silence on Trump's Call to Axe Constitution Reveals 'Full Embrace of Fascism': House Dem\",\n",
              " 'GOP faces further Trump reckoning in Georgia and beyond',\n",
              " 'GOP lawmakers largely silent after Trump suggests ‘termination’ of Constitution',\n",
              " 'GOP seeks to play hardball on annual defense bill',\n",
              " \"GOP senators tune out House conservatives' impeachment calls\",\n",
              " 'GOP slowly begins to condemn Trump’s call to terminate Constitution, but many remain silent',\n",
              " 'GOP-led states ban TikTok on government devices',\n",
              " 'Gay congressional staffer speaks out after being attacked by Marjorie Taylor Greene & her followers | Tim Hysom says he has been inundated with anti-LGBTQ+ threats and slurs.',\n",
              " 'Georgia Candidate Who Thinks 2020 Was Stolen Apparently Voted Illegally 9 Times',\n",
              " 'Georgia Democrats Are Going Into Overdrive to Reelect Raphael Warnock',\n",
              " 'Georgia Republicans are losing faith in Herschel Walker as runoff election concludes, report says',\n",
              " 'Georgia Senate runoff smashes early voting records — and attracts new voters',\n",
              " 'Georgia Senate voters have a moral choice. White Christians are choosing hypocrisy',\n",
              " 'Georgia run-off should rightly be no contest (Editorial)',\n",
              " 'Georgia voters once again have the last word during election season',\n",
              " \"Georgia's Early Voting Turnout Far Lower Than Last Runoff After State Changes Election Laws\",\n",
              " 'Georgia’s runoff elections have segregationist roots',\n",
              " 'Georgia’s runoff system was created to dilute Black voting power',\n",
              " 'Giuliani faces D.C. ethics charges over 2020 election lawsuit',\n",
              " 'Good Riddance to the Iowa Caucuses: The Democrats should have pushed the Hawkeye State to the back of the line decades ago.',\n",
              " 'Gov. Greg Abbott says he will nominate retiring state Sen. Jane Nelson to be secretary of state',\n",
              " 'Gov. Ron DeSantis oversaw torture in Guantánamo as a military lawyer',\n",
              " 'Governor Green promises ‘new beginnings’ during first day in office',\n",
              " \"Groups Warn Pelosi, Schumer Against Allowing Manchin 'Dirty Deal' in Pentagon Spending Bill\",\n",
              " 'Growing number of Republicans view Trump unfavourably and want new leadership for GOP, poll finds | Trump’s effect on the GOP’s midterm results has not gone unnoticed by voters',\n",
              " 'Gаs suррlу аt сеntеr of nеw US-UК еnеrgу расt',\n",
              " 'Hackers linked to Chinese government stole millions in Covid benefits, Secret Service says',\n",
              " 'Hakeem Jeffries Casts Doubt On Dems Supporting Kevin McCarthy Speaker Challenger',\n",
              " 'Harris to swear in Karen Bass as first female Los Angeles mayor',\n",
              " 'Hawley, Cruz, Rubio emerge as champions of GOP populism amid Trump’s decline',\n",
              " \"Herschel Walker Concedes Senate Race: 'No Excuses'\",\n",
              " 'Herschel Walker Could Defeat Raphael Warnock In This Scenario',\n",
              " 'Herschel Walker Is Happy to Use Anti-Trans Hate to Get Elected',\n",
              " 'Herschel Walker Lost, But the GOP Is Still Poisoned By MAGA Loonies',\n",
              " 'Herschel Walker Seems Unclear on What Chamber of Congress He’s Running For',\n",
              " 'Herschel Walker concedes and says, ‘we put up one heck of a fight’',\n",
              " \"Herschel Walker's son says Trump called his father for months demanding that he run, while 'everyone with a brain' begged him not to\",\n",
              " 'House Delays Passage of Same-Sex Marriage Bill',\n",
              " 'House Ethics Committee admonishes Rep. Madison Cawthorn over crypto promotion, failure to disclose stake',\n",
              " 'House Jan. 6 Committee to Issue Criminal Referrals, Chairman Says',\n",
              " 'House January 6 committee has decided to make criminal referrals, chairman says',\n",
              " 'House Republicans ‘May Dig Their Own Grave’ With Fringe Political Investigations',\n",
              " 'How North Carolina’s Political Warfare Could Impact The Entire Country',\n",
              " 'How Right-Wing Groups Set the Stage for the Supreme Court to Rig Future Elections',\n",
              " \"How Trump's legacy became 'pure poison' for independents\",\n",
              " 'How a bipartisan group of senators got same-sex marriage protections passed',\n",
              " 'How some state legislatures are preparing to further limit reproductive rights',\n",
              " \"Incoming House Democratic leader Hakeem Jeffries says there's 'a real risk' that the new GOP majority in the chamber will be 'hijacked by the extremists'\",\n",
              " 'Inside the fight for an end-of-year deal on the child tax credit',\n",
              " 'Is It Possible To Get Fair Coverage Of The Link Tax Bill When The News Orgs Covering It Are The Main Beneficiaries?',\n",
              " \"It's official: Kari Lake, Kelli Ward and the Arizona GOP have lost their minds\",\n",
              " 'I’m the Governor of North Carolina. This Fringe Claim Before the Supreme Court Would Upend Democracy.',\n",
              " 'Jan. 6 Congressional Gold Medal Honorees Snub Kevin McCarthy, Mitch McConnell',\n",
              " 'Jan. 6 committee chair expects panel to issue criminal referrals to DOJ',\n",
              " 'Jan. 6 committee to issue criminal referrals, chairman says',\n",
              " 'Jan. 6 committee will make criminal referrals, chair Bennie Thompson says',\n",
              " 'January 6 Committee will make criminal referrals',\n",
              " 'John Bolton says he may launch presidential bid to stop Trump',\n",
              " 'John Bolton ‘going to seriously consider’ challenging Trump',\n",
              " 'Justice Dept. subpoenas Ariz., Mich., Wis. officials for Trump communications',\n",
              " \"Kanye West's road to Trump's dinner table was paved by GOP and Fox News hype\",\n",
              " 'Karen Bass to be sworn in as L.A. mayor by Vice President Kamala Harris',\n",
              " \"Kari Lake goes out with a whimper: She couldn't galvanize Trump's Jan. 6 army\",\n",
              " 'Kevin McCarthy Threatens to Defund Military If Vaccine Mandate Not Lifted',\n",
              " 'Kevin McCarthy receives backlash from right after attending Biden dinner',\n",
              " \"Kevin McCarthy's speaker bid is rapidly accelerating toward chaos\",\n",
              " 'LGBTQ Youth Are Under Attack. Why Are Democrats Pushing a Bill That Hurts Them Even More?',\n",
              " 'Lauren Boebert Still Hasn’t Deleted Tweet Defending Kanye',\n",
              " 'Lauren Boebert finally said something right about LGBTQ+ issues | Even a stopped clock is right twice a day.',\n",
              " 'Law to require job postings include salary ranges in Washington',\n",
              " \"Lawmakers condemn Trump's call to suspend Constitution\",\n",
              " 'Lawmakers press Pentagon for answers about veterans’ foreign jobs',\n",
              " 'Longtime Arizona GOP Rep. Jim Kolbe dies at 80',\n",
              " 'Maggie Hassan and Jeanne Shaheen, N.H. senators, skip White House ball to protest 2024 primary plan',\n",
              " 'Mainstream Republicans back Marjorie Taylor Greene audit of Ukraine aid',\n",
              " \"Man who helped steal Nancy Pelosi's laptop while storming the Capitol with his mother pleads guilty\",\n",
              " 'Manchin spat with energy regulator could be self-sabotage, experts say',\n",
              " \"Manchin: DOE official Sam Brinton in 'big trouble' but shouldn't be fired yet for snatching $2K bag\",\n",
              " 'Manhattan D.A. Hires Ex-D.O.J. Official to Help Lead Trump Investigation',\n",
              " \"Manhattan DA's office hires attorney with extensive experience investigating Trump, suing his administration\",\n",
              " 'Marjorie Taylor Greene called “divorced woman girlboss” by white supremacist buddy Nick Fuentes',\n",
              " 'Marjorie Taylor Greene mocked over lacklustre reception at parade walk',\n",
              " 'Mary Peltola will not toe the party line, in the nicest way possible',\n",
              " 'McCarthy says GOP holdouts on Speakership vote would be ‘squandering this majority’',\n",
              " 'McCarthy’s struggle to lock down House Speaker roils GOP caucus, delays key committee assignments',\n",
              " \"McConnell criticizes Trump's calls to terminate the Constitution\",\n",
              " 'Meet the Idaho Christians pushing for greater LGBTQ representation in government',\n",
              " 'Megathread: Raphael Warnock Wins Re-Election in Georgia Runoff',\n",
              " 'Mike Lee is raising money for Herschel Walker’s campaign — and keeping half of the cash for himself. The Utah senator joins other Republicans, including Donald Trump, who are using Walker’s campaign to boost their own campaign coffers.',\n",
              " 'Millions of Americans Lack Adequate Health Coverage, But the Pentagon Has a New Nuclear Bomber to Flaunt',\n",
              " 'Milo Yiannopoulos Out at Kanye West Campaign After Infighting',\n",
              " \"Mitch McConnell Says Trump Would Have 'A Very Hard Time' Becoming President Again\",\n",
              " \"Mitch McConnell criticizes year-end push for cannabis banking bill, and it's left out of big defense package\",\n",
              " \"Mitt Romney Mocks 'RINO' Trump Over His Call To Torch Constitution\",\n",
              " 'More than 500 Labor Historians Condemn Biden’s Intervention in Freight Rail Dispute',\n",
              " 'More than 70% of voters in poll want Biden to release JFK assassination records',\n",
              " 'Musk blasts Trump: \"Constitution is greater than any President\"',\n",
              " 'My God, Herschel Walker, What Have You Become?',\n",
              " 'National civil rights groups urge US House to pass resolution condemning Insular Cases - Pasquines',\n",
              " 'Navajo women make historic gains in elections, increase influence on tribal council',\n",
              " 'Netanyahu asked about Trump 2024: ‘Keep me out of it’',\n",
              " 'New DOJ Special Counsel Jack Smith Subpoenas Trump Records In 4 States',\n",
              " 'New House Democratic Leader Defends Calling Trump ‘Illegitimate’ President',\n",
              " 'New Mexico voted a child care guarantee into its constitution. For one mom, it means her 8-year-old doesn’t worry about money anymore',\n",
              " 'Newly Elected Broward School Board Member Attends Rally Against \"Radicalized Sexual Curriculum\"',\n",
              " 'Newsom unveils plan to cap oil refinery profits, accusing industry of gas price gouging',\n",
              " 'OK state lawmaker files controversial bills on guns, gender',\n",
              " 'Of Course You Should Be Required To Serve LGBTQ Customers | On the ludicrous idea that “pluralism” and “free speech” require us to give homophobes an exemption to anti-discrimination laws.',\n",
              " 'Officers to receive Congressional Gold Medals for Jan. 6',\n",
              " 'Officers who defended Capitol from Trump supporters honored',\n",
              " 'Opinion | Finally, a bipartisan deal to help the ‘dreamers’ is within reach',\n",
              " 'Opinion: Arizonans aren’t buying what Kari Lake is peddling',\n",
              " 'Oral Argument Preview: Blassingame v. Trump',\n",
              " 'Oregon Association Chiefs of Police Challenges Measure 114',\n",
              " 'Oregon Measure 114 temporarily blocked by Harney County judge in separate challenge',\n",
              " 'Oregon Measure 114: Sheriffs, police chiefs tell judge their agencies are ‘unprepared’ to support gun permit program',\n",
              " 'Oregon’s attorney general concedes state unable to put permit-to-purchase gun program in place by date Measure 114 becomes law',\n",
              " 'Ousted Woonsocket mayor to be sworn back in after reelection',\n",
              " 'Outgoing elections chief in Nevada county details threats',\n",
              " 'Patient Groups Push Congress to Combat Big Pharma Greed in Spending Bill',\n",
              " \"Pence Makes Absurd Claim: Trump Was 'Genuinely Remorseful' After Jan. 6\",\n",
              " 'Police officers receive Congressional Gold Medals for defending the U.S. Capitol on Jan. 6',\n",
              " 'Police snub McConnell and McCarthy at Jan. 6 gold medal ceremony',\n",
              " 'President Biden coming to Arizona for semiconductor manufacturing plant visit',\n",
              " 'Progressives push back on effort to put Manchin permitting deal in NDAA',\n",
              " \"Proud Boys Leader Enrique Tarrio Wants Jan. 6 Seditious Conspiracy Charge Dropped Because Feds Won't Give Immunity to Defense Witness\",\n",
              " 'Psaki says Trump’s ‘evil charisma’ shouldn’t be underestimated',\n",
              " 'REAL ID enforcement is delayed again to 2025',\n",
              " 'RNC chief on criticism of early voting: ‘We need to stop that’',\n",
              " 'Rail strike bill: Both sides do it — wage relentless war against the working class, that is',\n",
              " 'Rail workers warn of exodus after Congress forces through deal',\n",
              " 'Railroad Workers Slam Biden for Siding With Bosses to Avoid Strike - Frustrated railroad workers consider allying with a third party after a push for paid sick leave failed in Congress.',\n",
              " 'Representative Democracy Got Us Into This Mess. Participatory Democracy Can Get Us Out.',\n",
              " 'Representatives of Congressional Gold Medal Recipients Decline to Shake Hands with Republican Leaders',\n",
              " 'Republican Who Took Oath to Defend Constitution Totally OK With Trump Saying He’d Terminate It | “You know, he says a lot of things, you have to take him in context,\" Rep. Dave Joyce said of the former president',\n",
              " \"Republican hopes fade as Warnock momentum picks up in Georgia | Republicans are hoping for a surprise in the closely divided state, but their mood has turned grim about Herschel Walker's chances.\",\n",
              " 'Republican moderate refuses to disown Trump over constitution threat',\n",
              " 'Republican senators are turning on Trump',\n",
              " 'Republicans Begin Speaking Against Trump’s Call To Terminate Democracy',\n",
              " 'Republicans should have booted Trump long before he threatened the Constitution',\n",
              " 'Revealing He Too Had Manning Leaks, Ellsberg Dares DOJ to Prosecute Him Like Assange',\n",
              " 'Ronna McDaniel set to get new opponent for RNC post',\n",
              " 'Rudy Giuliani ‘Weaponized His Law License’ to Attack Constitution He Swore to Uphold, D.C. Bar Says as Attorney Misconduct Hearing Begins',\n",
              " 'Rudy Giuliani: Ethics charges for election fraud claims take major step forward with trial-like hearing in DC',\n",
              " 'SCOTUS Arguments in Anti-Gay Marriage Web Designer’s Case Filled with Questions About ‘Hamilton,’ JDate, Black Santa, and Kids in KKK Outfits',\n",
              " 'Same-sex couples wary despite federal marriage rights bill',\n",
              " 'Same-sex marriage fight continues Monday at the Supreme Court with challenge from website designer',\n",
              " 'San Francisco election director to be replaced after 20 years for racial diversity: reports',\n",
              " 'San Francisco supervisors abruptly reverse lethal police robot policy',\n",
              " 'San Francisco supervisors bar police robots from using deadly force for now',\n",
              " 'Sanders Says He Has Enough Support to Pass Yemen War Powers Resolution',\n",
              " 'Santa Clara D.A. says he’s leaving Twitter over rise of hate speech',\n",
              " 'Santa Cruz County Sheriff threatening action against people working on shipping container border wall',\n",
              " 'Secretary Haaland Announces New Steps to Accelerate Solar Energy Development on Public Lands in the West | BLM kicks off process to develop new West-wide solar plan; Initiates reviews for three solar projects in Arizona totaling 1 gigawatt of clean energy',\n",
              " 'Senate Republicans turn on Trump over suspend-the-Constitution talk',\n",
              " 'Senate conservatives plot their second act after taking on McConnell',\n",
              " 'Senators draft bipartisan framework to legalize DACA recipients and extend Trump-era border policy',\n",
              " 'Shelved since 2018, this WA gun law may finally be implemented soon',\n",
              " 'Slotkin Statement on Anniversary of Oxford High School Shooting',\n",
              " 'So Republicans want to read the Constitution? They should look at these parts.',\n",
              " 'Some signs of Trump voters snapping out of it',\n",
              " 'Someone Threatened To Kill A California Lawmaker After Charlie Kirk And Marjorie Taylor Greene Criticized His Work Supporting Trans Kids And Called Him A \"Groomer\"',\n",
              " 'Special counsel subpoenas Trump-related documents from state and local election officials',\n",
              " 'State judge places hold on Oregon’s gun law, state to appeal',\n",
              " 'Statement from President Joe Biden on Bipartisan Senate Passage of the Respect for Marriage Act',\n",
              " \"Supreme Court Appears to Lean Toward Ruling for Antigay Web Designer. The court's conservative majority seemed to sympathize with a designer who argues she has a legal right to turn away same-sex couples who seek wedding websites.\",\n",
              " 'Supreme Court Justice Alito jokes about Black Santa and Ashley Madison during arguments in same-sex weddings case',\n",
              " 'Supreme Court asks to hear from state in Arkansas Times challenge of anti-boycott law',\n",
              " 'Supreme Court grapples with ‘independent state legislature’ theory in blockbuster case',\n",
              " 'Supreme Court hears Republican bid to transform U.S. elections',\n",
              " 'Supreme Court hears case that could reshape US election laws',\n",
              " 'Supreme Court likely to rule that Biden student loan plan is illegal, experts say. Here’s what that means for borrowers',\n",
              " 'Supreme Court seems to side with web designer opposed to same-sex marriage',\n",
              " 'Supreme Court set to hear North Carolina case that argues only lawmakers can draw congressional maps',\n",
              " 'Supreme Court taking up clash of religion and gay rights',\n",
              " 'Supreme Court to decide if a Christian business owner can turn away gay weddings',\n",
              " 'Supreme Court to hear controversial election-law case',\n",
              " 'Supreme Court weighs GOP bid to give state lawmakers free rein over election rules',\n",
              " 'Supreme Court weighs web designer’s refusal to work on same-sex weddings',\n",
              " 'TSA now wants to scan your face at security. Here are your rights.',\n",
              " 'Talk show host and Georgia House candidate accused of illegal voting',\n",
              " \"Tampa Police Chief Mary O'Connor resigns after flashing badge and asking to be let go from a traffic stop\",\n",
              " 'Tennessee roads plan mulls toll lanes, electric car fee hike',\n",
              " 'The \"What happened in your state last week?\" Megathread, Week 49',\n",
              " 'The Averted National Rail Strike Is a Parable of Contemporary American Capitalism | Railroads are prioritizing payments to Wall Street stockholders over everything else, including serving the public interest.',\n",
              " 'The Biden Administration Will Allow Agencies to Appoint Some Employees Into 10-Year Temporary Jobs',\n",
              " 'The Defense Department Finally Has a Permanent Watchdog',\n",
              " 'The Far Right Is Dumping Marjorie Taylor Greene',\n",
              " 'The Freight Rail Labor Dispute Was Never About ‘Sick Days’',\n",
              " 'The GOP has a big problem beyond Trump: It lacks compelling alternatives',\n",
              " 'The GOP’s ‘stolen-election’ fever has dropped, for now',\n",
              " 'The Georgia GOP may have made things harder for Herschel',\n",
              " 'The Iowa Caucuses Had to Go. But Democrats Shouldn’t Put South Carolina First.',\n",
              " 'The NLRB Protects Workers’ Right To Organize, Yet Remains Underfunded',\n",
              " 'The Supreme Court Could Chop Away at Anti-Discrimination Law Based on Literally Nothing',\n",
              " 'The Supreme Court Is Turning Into a Court of First Resort',\n",
              " 'The Supreme Court Needs Real Oversight',\n",
              " \"The Supreme Court Will Consider A 'Dangerous' Theory That Could Break American Democracy\",\n",
              " 'The Terminator',\n",
              " 'The Texas Group Waging a National Crusade Against Climate Action',\n",
              " 'The Untold Story of the Insular Texas Family That Invaded the U.S. Capitol',\n",
              " 'The White House hosts Jewish leaders to discuss rising antisemitism',\n",
              " 'The biggest losers in the US midterm elections? Republican mega-donors',\n",
              " 'The incredibly unsubtle Amy Coney Barrett response that should worry LGBTQ Americans The Supreme Court has delivered a consistent chilling message over the past year: Facts and precedent don’t matter if they obstruct conservative justices’ ideological extremist ends.',\n",
              " 'The looming debt ceiling fight could be the messiest since 2011, Goldman Sachs says',\n",
              " 'The number of undocumented immigrants in detention centers has increased by more than 50% since Biden took office',\n",
              " 'There’s Nothing Stranger Than the Right’s Fixation With Hunter Biden',\n",
              " 'There’s a way for Biden to break through the gridlock',\n",
              " 'These Georgia Precincts Were Red. Then Blue. Now They Are Purple.',\n",
              " 'This kind of week could break Donald Trump',\n",
              " 'Thompson says Jan. 6 committee has made decision on criminal referrals',\n",
              " 'Threats against LGBTQ community spark domestic terrorism warning, Homeland Security says',\n",
              " 'To address wealth gap, WA to consider $4,000 ‘baby bonds’',\n",
              " 'Top House Intel Republican condemns Trump’s calls to suspend Constitution over 2020 election',\n",
              " 'Top Republicans stay silent on Trump’s call to terminate the Constitution',\n",
              " 'Top US conservatives pushing Russia’s spin on Ukraine war, experts say',\n",
              " 'Transgender State Employees Win Obamacare Claim in Insurance Row',\n",
              " 'Trump \"paying for the silence\" of Mar-a-Lago witnesses—Former prosecutor',\n",
              " 'Trump Bedeviled by Company’s Conviction and Senate Candidate’s Defeat',\n",
              " 'Trump Call to Terminate Constitution Is ‘Disqualifying’: Harvard Professor',\n",
              " 'Trump Faces New Danger as Jan. 6 Committee Announces Criminal Referrals',\n",
              " 'Trump Had Hidden $19.8 Million Loan From North Korea-Linked Company As President: Report',\n",
              " 'Trump Hired Team to Search His Properties for Classified Material',\n",
              " 'Trump Says New York ‘Hard Place To Be A Trump’ After Company Convicted Of Tax Fraud',\n",
              " 'Trump did not disclose $19.8m loan while president, documents show',\n",
              " 'Trump digs deeper hole with Constitution comments',\n",
              " 'Trump faces peril in docs probe after decades of scrutiny',\n",
              " 'Trump falsely claims he never called to ‘terminate’ US constitution despite having said exactly that',\n",
              " 'Trump insists he doesn’t want to ‘terminate’ Constitution',\n",
              " \"Trump is losing altitude after GOP's midterm disappointment\",\n",
              " 'Trump lawyers hire outside team to search four properties for classified info',\n",
              " 'Trump lawyers ordered ‘outside firm’ to search his other homes for classified documents, report says',\n",
              " 'Trump team searches two of his properties amid court battle with DOJ',\n",
              " \"Trump's legal team should have known better - Requesting a special master to review records that were lawfully seized from Mar-a-Lago ignores the separation of powers and the law\",\n",
              " \"Trump's slow 2024 start worries allies\",\n",
              " 'Trump’s Constitution remarks put McConnell, GOP on defense',\n",
              " 'Trump’s Criminal Nightmare Officially Begins',\n",
              " 'Trump’s PAC Is Paying the Legal Bills for Key Classified-Docs Witnesses, and There’s Definitely Nothing Slippery About That, No Siree',\n",
              " 'Trump’s call for suspending the Constitution is too dangerous to ignore',\n",
              " 'Trump’s call to set aside the Constitution raises a question: Why now?',\n",
              " 'Trump’s committee paying for lawyers of key Mar-a-Lago witnesses',\n",
              " \"Twitter Users Shocked By Justice Alito's Joke About Black Kids In KKK Robes\",\n",
              " 'U.S. Court Dismisses Suit Against Saudi Ruler in Khashoggi Killing | The court followed the Biden administration’s guidance that Crown Prince Mohammed bin Salman has immunity as a head of government in a case over the death of Jamal Khashoggi.',\n",
              " 'U.S. DOJ subpoenas Wisconsin county election officials for Trump communications',\n",
              " 'U.S. House Jan. 6 committee chairman says panel to make criminal referrals',\n",
              " 'U.S. House expected to pass same-sex marriage bill, showing shift in attitudes',\n",
              " 'U.S. Supreme Court leans toward web designer with anti-gay marriage stance , article with video',\n",
              " 'U.S. lawmakers authorize $800 million more for Ukraine in defense bill',\n",
              " 'U.S. lawmakers ease proposed curbs on Chinese chips amid corporate pushback',\n",
              " \"U.S. military says no 'hard data' showing vaccine mandate hurts recruiting\",\n",
              " 'U.S. railroad investor resolutions urge paid sick leave for workers',\n",
              " 'US supreme court hears case that could radically reshape elections',\n",
              " 'US supreme court to hear case with critical consequences for voting rights',\n",
              " 'Under fire, Trump denies writing what he wrote about Constitution',\n",
              " 'Universal free lunch for NJ students? Officials asking Congress for funding',\n",
              " 'Vows to reject corporate PAC money on the rise for incoming Congress',\n",
              " \"Walker Says He Doesn't Know What Pronouns Are, Hours Before Election\",\n",
              " 'Warnock Claims Momentum in Georgia, as Walker Banks on Election Day Turnout',\n",
              " 'Warnock Win Seals Perfect 2022 for Senators Seeking Re-election',\n",
              " 'Warnock and Walker are closing out Georgia Senate race at their own pace',\n",
              " 'Warnock fights for moderate-leaning voters in final stretch of GA Senate runoff',\n",
              " 'Warnock or Walker? Georgia runoff to settle last Senate seat',\n",
              " 'Warnock parties at a brewery and Walker at a gun range in Georgia runoff’s final hours',\n",
              " 'Warnock’s Victory Forges Democrats’ Path Through the New Battlegrounds',\n",
              " 'What Georgia’s past two Senate contests tell us about the runoff',\n",
              " 'What Trump Did In The Counties That The Special Counsel Subpoenaed',\n",
              " 'What a horrible way to run a country',\n",
              " 'What is the compelled speech doctrine?',\n",
              " 'What to watch in Tuesday’s Georgia Senate runoff election',\n",
              " 'White House looks to accelerate AI in government through its ‘Bill of Rights’',\n",
              " 'Why 1 in 10 Texas hospitals could be at risk of closing',\n",
              " \"Why Canada won't say a word about Trump's return to politics\",\n",
              " 'Why is Marjorie Taylor Greene like this? On the ground in the Georgia congresswoman’s alternate universe',\n",
              " \"Why the Right Can’t Quit Hunter Biden: Elon Musk and Matt Taibbi's flashy revival of Laptopgate hasn't illuminated much beyond the right's desperation to salvage something from their October Surprise.\",\n",
              " \"Will the GOP's razor-thin House majority empower its shrinking centrist wing?\",\n",
              " 'Will the Supreme Court Help the Radical Right Unravel Democracy?',\n",
              " 'Wisconsin Republicans ask Democrat Evers to ban TikTok',\n",
              " 'Wisconsin school board member sues over new sex-ed curriculum. Moms for Liberty and Gays Against Groomers have made the tiny school district a focus of their national efforts protesting against the \"sexualization and indoctrination of children.\"',\n",
              " 'With call to terminate Constitution, Trump drives bulldozer into guard rail of U.S. law',\n",
              " \"Yes, plenty of Republicans want to topple the king — but he won't go easily\",\n",
              " 'Youngkin vows to reimburse shutdown violators who paid ‘unjust’ fines',\n",
              " '‘Finally!’: Herschel Walker’s Exes Rejoice at His Defeat',\n",
              " '‘Hatred has a great grip on the heart’: election denialism lives on in US battleground',\n",
              " '‘We Will Fucking Kill You:’ Gay Lawmaker Targeted With Bomb Threat, Called ‘Groomer’',\n",
              " '‘We’re doubling down’: how abortion advocates are building on midterm wins',\n",
              " '“Fuck Biden,” “Don’t Tread on Me,” and a Wisconsin Death Trip for Our Times',\n",
              " '“It Appears All Hope Is Lost,” House Republicans Warn'}"
            ]
          },
          "metadata": {},
          "execution_count": 125
        }
      ],
      "source": [
        "news"
      ]
    },
    {
      "cell_type": "code",
      "execution_count": 126,
      "metadata": {
        "id": "ZK8k-lMV5xch",
        "colab": {
          "base_uri": "https://localhost:8080/",
          "height": 589
        },
        "outputId": "2afd02c4-9cc3-4ee3-9903-4d5f066304a3"
      },
      "outputs": [
        {
          "output_type": "stream",
          "name": "stderr",
          "text": [
            "WARNING:praw:It appears that you are using PRAW in an asynchronous environment.\n",
            "It is strongly recommended to use Async PRAW: https://asyncpraw.readthedocs.io.\n",
            "See https://praw.readthedocs.io/en/latest/getting_started/multiple_instances.html#discord-bots-and-asynchronous-environments for more info.\n",
            "\n",
            "WARNING:praw:It appears that you are using PRAW in an asynchronous environment.\n",
            "It is strongly recommended to use Async PRAW: https://asyncpraw.readthedocs.io.\n",
            "See https://praw.readthedocs.io/en/latest/getting_started/multiple_instances.html#discord-bots-and-asynchronous-environments for more info.\n",
            "\n",
            "WARNING:praw:It appears that you are using PRAW in an asynchronous environment.\n",
            "It is strongly recommended to use Async PRAW: https://asyncpraw.readthedocs.io.\n",
            "See https://praw.readthedocs.io/en/latest/getting_started/multiple_instances.html#discord-bots-and-asynchronous-environments for more info.\n",
            "\n"
          ]
        },
        {
          "output_type": "stream",
          "name": "stdout",
          "text": [
            "(300, 3)\n"
          ]
        },
        {
          "output_type": "execute_result",
          "data": {
            "text/plain": [
              "                                               Title      Id   posts\n",
              "0  Megathread: Joe Biden Projected to Defeat Pres...  jptq5n  214320\n",
              "1  Mitch McConnell Will Lose Control Of The Senat...  krntg6  156754\n",
              "2  Megathread: House Votes to Impeach President D...  ecm1zg  147741\n",
              "3  Trump Threatens to ‘Leave the Country’ if He L...  jcm5dz  135309\n",
              "4  Demands for Kushner to Resign Over 'Staggering...  i19sjg  129733\n",
              "5  Over A million people sign petition calling fo...  h7ic8s  129210\n",
              "6  Report: Biden Admin Discovers Trump Had Zero P...  l1ynt4  127953\n",
              "7  Biden's Pennsylvania lead is now big enough to...  jsi48r  125940\n",
              "8  Donald Trump Has Just Left the White House—Thi...  l1902k  125231\n",
              "9  Virginia governor makes Election Day a holiday...  g03uny  124065"
            ],
            "text/html": [
              "\n",
              "  <div id=\"df-2ea97af0-89aa-4aa5-8902-2c48067384b8\">\n",
              "    <div class=\"colab-df-container\">\n",
              "      <div>\n",
              "<style scoped>\n",
              "    .dataframe tbody tr th:only-of-type {\n",
              "        vertical-align: middle;\n",
              "    }\n",
              "\n",
              "    .dataframe tbody tr th {\n",
              "        vertical-align: top;\n",
              "    }\n",
              "\n",
              "    .dataframe thead th {\n",
              "        text-align: right;\n",
              "    }\n",
              "</style>\n",
              "<table border=\"1\" class=\"dataframe\">\n",
              "  <thead>\n",
              "    <tr style=\"text-align: right;\">\n",
              "      <th></th>\n",
              "      <th>Title</th>\n",
              "      <th>Id</th>\n",
              "      <th>posts</th>\n",
              "    </tr>\n",
              "  </thead>\n",
              "  <tbody>\n",
              "    <tr>\n",
              "      <th>0</th>\n",
              "      <td>Megathread: Joe Biden Projected to Defeat Pres...</td>\n",
              "      <td>jptq5n</td>\n",
              "      <td>214320</td>\n",
              "    </tr>\n",
              "    <tr>\n",
              "      <th>1</th>\n",
              "      <td>Mitch McConnell Will Lose Control Of The Senat...</td>\n",
              "      <td>krntg6</td>\n",
              "      <td>156754</td>\n",
              "    </tr>\n",
              "    <tr>\n",
              "      <th>2</th>\n",
              "      <td>Megathread: House Votes to Impeach President D...</td>\n",
              "      <td>ecm1zg</td>\n",
              "      <td>147741</td>\n",
              "    </tr>\n",
              "    <tr>\n",
              "      <th>3</th>\n",
              "      <td>Trump Threatens to ‘Leave the Country’ if He L...</td>\n",
              "      <td>jcm5dz</td>\n",
              "      <td>135309</td>\n",
              "    </tr>\n",
              "    <tr>\n",
              "      <th>4</th>\n",
              "      <td>Demands for Kushner to Resign Over 'Staggering...</td>\n",
              "      <td>i19sjg</td>\n",
              "      <td>129733</td>\n",
              "    </tr>\n",
              "    <tr>\n",
              "      <th>5</th>\n",
              "      <td>Over A million people sign petition calling fo...</td>\n",
              "      <td>h7ic8s</td>\n",
              "      <td>129210</td>\n",
              "    </tr>\n",
              "    <tr>\n",
              "      <th>6</th>\n",
              "      <td>Report: Biden Admin Discovers Trump Had Zero P...</td>\n",
              "      <td>l1ynt4</td>\n",
              "      <td>127953</td>\n",
              "    </tr>\n",
              "    <tr>\n",
              "      <th>7</th>\n",
              "      <td>Biden's Pennsylvania lead is now big enough to...</td>\n",
              "      <td>jsi48r</td>\n",
              "      <td>125940</td>\n",
              "    </tr>\n",
              "    <tr>\n",
              "      <th>8</th>\n",
              "      <td>Donald Trump Has Just Left the White House—Thi...</td>\n",
              "      <td>l1902k</td>\n",
              "      <td>125231</td>\n",
              "    </tr>\n",
              "    <tr>\n",
              "      <th>9</th>\n",
              "      <td>Virginia governor makes Election Day a holiday...</td>\n",
              "      <td>g03uny</td>\n",
              "      <td>124065</td>\n",
              "    </tr>\n",
              "  </tbody>\n",
              "</table>\n",
              "</div>\n",
              "      <button class=\"colab-df-convert\" onclick=\"convertToInteractive('df-2ea97af0-89aa-4aa5-8902-2c48067384b8')\"\n",
              "              title=\"Convert this dataframe to an interactive table.\"\n",
              "              style=\"display:none;\">\n",
              "        \n",
              "  <svg xmlns=\"http://www.w3.org/2000/svg\" height=\"24px\"viewBox=\"0 0 24 24\"\n",
              "       width=\"24px\">\n",
              "    <path d=\"M0 0h24v24H0V0z\" fill=\"none\"/>\n",
              "    <path d=\"M18.56 5.44l.94 2.06.94-2.06 2.06-.94-2.06-.94-.94-2.06-.94 2.06-2.06.94zm-11 1L8.5 8.5l.94-2.06 2.06-.94-2.06-.94L8.5 2.5l-.94 2.06-2.06.94zm10 10l.94 2.06.94-2.06 2.06-.94-2.06-.94-.94-2.06-.94 2.06-2.06.94z\"/><path d=\"M17.41 7.96l-1.37-1.37c-.4-.4-.92-.59-1.43-.59-.52 0-1.04.2-1.43.59L10.3 9.45l-7.72 7.72c-.78.78-.78 2.05 0 2.83L4 21.41c.39.39.9.59 1.41.59.51 0 1.02-.2 1.41-.59l7.78-7.78 2.81-2.81c.8-.78.8-2.07 0-2.86zM5.41 20L4 18.59l7.72-7.72 1.47 1.35L5.41 20z\"/>\n",
              "  </svg>\n",
              "      </button>\n",
              "      \n",
              "  <style>\n",
              "    .colab-df-container {\n",
              "      display:flex;\n",
              "      flex-wrap:wrap;\n",
              "      gap: 12px;\n",
              "    }\n",
              "\n",
              "    .colab-df-convert {\n",
              "      background-color: #E8F0FE;\n",
              "      border: none;\n",
              "      border-radius: 50%;\n",
              "      cursor: pointer;\n",
              "      display: none;\n",
              "      fill: #1967D2;\n",
              "      height: 32px;\n",
              "      padding: 0 0 0 0;\n",
              "      width: 32px;\n",
              "    }\n",
              "\n",
              "    .colab-df-convert:hover {\n",
              "      background-color: #E2EBFA;\n",
              "      box-shadow: 0px 1px 2px rgba(60, 64, 67, 0.3), 0px 1px 3px 1px rgba(60, 64, 67, 0.15);\n",
              "      fill: #174EA6;\n",
              "    }\n",
              "\n",
              "    [theme=dark] .colab-df-convert {\n",
              "      background-color: #3B4455;\n",
              "      fill: #D2E3FC;\n",
              "    }\n",
              "\n",
              "    [theme=dark] .colab-df-convert:hover {\n",
              "      background-color: #434B5C;\n",
              "      box-shadow: 0px 1px 3px 1px rgba(0, 0, 0, 0.15);\n",
              "      filter: drop-shadow(0px 1px 2px rgba(0, 0, 0, 0.3));\n",
              "      fill: #FFFFFF;\n",
              "    }\n",
              "  </style>\n",
              "\n",
              "      <script>\n",
              "        const buttonEl =\n",
              "          document.querySelector('#df-2ea97af0-89aa-4aa5-8902-2c48067384b8 button.colab-df-convert');\n",
              "        buttonEl.style.display =\n",
              "          google.colab.kernel.accessAllowed ? 'block' : 'none';\n",
              "\n",
              "        async function convertToInteractive(key) {\n",
              "          const element = document.querySelector('#df-2ea97af0-89aa-4aa5-8902-2c48067384b8');\n",
              "          const dataTable =\n",
              "            await google.colab.kernel.invokeFunction('convertToInteractive',\n",
              "                                                     [key], {});\n",
              "          if (!dataTable) return;\n",
              "\n",
              "          const docLinkHtml = 'Like what you see? Visit the ' +\n",
              "            '<a target=\"_blank\" href=https://colab.research.google.com/notebooks/data_table.ipynb>data table notebook</a>'\n",
              "            + ' to learn more about interactive tables.';\n",
              "          element.innerHTML = '';\n",
              "          dataTable['output_type'] = 'display_data';\n",
              "          await google.colab.output.renderOutput(dataTable, element);\n",
              "          const docLink = document.createElement('div');\n",
              "          docLink.innerHTML = docLinkHtml;\n",
              "          element.appendChild(docLink);\n",
              "        }\n",
              "      </script>\n",
              "    </div>\n",
              "  </div>\n",
              "  "
            ]
          },
          "metadata": {},
          "execution_count": 126
        }
      ],
      "source": [
        "# Create sub-reddit instance\n",
        "subreddit_name = \"politics\"\n",
        "subreddit = reddit.subreddit(subreddit_name)\n",
        "\n",
        "df = pd.DataFrame() # creating dataframe for displaying scraped data\n",
        "\n",
        "# creating lists for storing scraped data\n",
        "titles=[]\n",
        "posts=[]\n",
        "ids=[]\n",
        "\n",
        "# looping over posts and scraping it\n",
        "for submission in subreddit.top(limit=300):\n",
        "    titles.append(submission.title)\n",
        "    posts.append(submission.score) #upvotes\n",
        "    ids.append(submission.id)\n",
        "    \n",
        "    \n",
        "df['Title'] = titles\n",
        "df['Id'] = ids\n",
        "df['posts'] = posts #upvotes\n",
        "\n",
        "print(df.shape)\n",
        "df.head(10)"
      ]
    },
    {
      "cell_type": "code",
      "execution_count": 127,
      "metadata": {
        "id": "Fr4ckljj57VC"
      },
      "outputs": [],
      "source": [
        "# Removing the un-important columns\n",
        "df=df[['Title']]"
      ]
    },
    {
      "cell_type": "code",
      "execution_count": 128,
      "metadata": {
        "id": "GCKsTnsG5-sU",
        "colab": {
          "base_uri": "https://localhost:8080/",
          "height": 35
        },
        "outputId": "37544c10-2554-4bc2-eae6-b4b92a5a5303"
      },
      "outputs": [
        {
          "output_type": "execute_result",
          "data": {
            "text/plain": [
              "'Megathread: Joe Biden Projected to Defeat President Donald Trump and Win the 2020 US Presidential Election'"
            ],
            "application/vnd.google.colaboratory.intrinsic+json": {
              "type": "string"
            }
          },
          "metadata": {},
          "execution_count": 128
        }
      ],
      "source": [
        "df['Title'][0]"
      ]
    },
    {
      "cell_type": "code",
      "execution_count": 129,
      "metadata": {
        "id": "vSZ5MuuC6BFI",
        "colab": {
          "base_uri": "https://localhost:8080/"
        },
        "outputId": "16851c65-9d1b-4837-bdf2-75c029cb37e0"
      },
      "outputs": [
        {
          "output_type": "execute_result",
          "data": {
            "text/plain": [
              "Title    0\n",
              "dtype: int64"
            ]
          },
          "metadata": {},
          "execution_count": 129
        }
      ],
      "source": [
        "df.isnull().sum()"
      ]
    },
    {
      "cell_type": "code",
      "execution_count": 130,
      "metadata": {
        "id": "H1lyDGUR6EjU",
        "colab": {
          "base_uri": "https://localhost:8080/",
          "height": 67
        },
        "outputId": "d0a586ef-c8e0-40b9-ce9e-3455e9e9b069"
      },
      "outputs": [
        {
          "output_type": "stream",
          "name": "stdout",
          "text": [
            "No of empty rows: 0\n"
          ]
        },
        {
          "output_type": "execute_result",
          "data": {
            "text/plain": [
              "Empty DataFrame\n",
              "Columns: [Title]\n",
              "Index: []"
            ],
            "text/html": [
              "\n",
              "  <div id=\"df-3de583bb-9f55-4592-9faa-cd216ca77c20\">\n",
              "    <div class=\"colab-df-container\">\n",
              "      <div>\n",
              "<style scoped>\n",
              "    .dataframe tbody tr th:only-of-type {\n",
              "        vertical-align: middle;\n",
              "    }\n",
              "\n",
              "    .dataframe tbody tr th {\n",
              "        vertical-align: top;\n",
              "    }\n",
              "\n",
              "    .dataframe thead th {\n",
              "        text-align: right;\n",
              "    }\n",
              "</style>\n",
              "<table border=\"1\" class=\"dataframe\">\n",
              "  <thead>\n",
              "    <tr style=\"text-align: right;\">\n",
              "      <th></th>\n",
              "      <th>Title</th>\n",
              "    </tr>\n",
              "  </thead>\n",
              "  <tbody>\n",
              "  </tbody>\n",
              "</table>\n",
              "</div>\n",
              "      <button class=\"colab-df-convert\" onclick=\"convertToInteractive('df-3de583bb-9f55-4592-9faa-cd216ca77c20')\"\n",
              "              title=\"Convert this dataframe to an interactive table.\"\n",
              "              style=\"display:none;\">\n",
              "        \n",
              "  <svg xmlns=\"http://www.w3.org/2000/svg\" height=\"24px\"viewBox=\"0 0 24 24\"\n",
              "       width=\"24px\">\n",
              "    <path d=\"M0 0h24v24H0V0z\" fill=\"none\"/>\n",
              "    <path d=\"M18.56 5.44l.94 2.06.94-2.06 2.06-.94-2.06-.94-.94-2.06-.94 2.06-2.06.94zm-11 1L8.5 8.5l.94-2.06 2.06-.94-2.06-.94L8.5 2.5l-.94 2.06-2.06.94zm10 10l.94 2.06.94-2.06 2.06-.94-2.06-.94-.94-2.06-.94 2.06-2.06.94z\"/><path d=\"M17.41 7.96l-1.37-1.37c-.4-.4-.92-.59-1.43-.59-.52 0-1.04.2-1.43.59L10.3 9.45l-7.72 7.72c-.78.78-.78 2.05 0 2.83L4 21.41c.39.39.9.59 1.41.59.51 0 1.02-.2 1.41-.59l7.78-7.78 2.81-2.81c.8-.78.8-2.07 0-2.86zM5.41 20L4 18.59l7.72-7.72 1.47 1.35L5.41 20z\"/>\n",
              "  </svg>\n",
              "      </button>\n",
              "      \n",
              "  <style>\n",
              "    .colab-df-container {\n",
              "      display:flex;\n",
              "      flex-wrap:wrap;\n",
              "      gap: 12px;\n",
              "    }\n",
              "\n",
              "    .colab-df-convert {\n",
              "      background-color: #E8F0FE;\n",
              "      border: none;\n",
              "      border-radius: 50%;\n",
              "      cursor: pointer;\n",
              "      display: none;\n",
              "      fill: #1967D2;\n",
              "      height: 32px;\n",
              "      padding: 0 0 0 0;\n",
              "      width: 32px;\n",
              "    }\n",
              "\n",
              "    .colab-df-convert:hover {\n",
              "      background-color: #E2EBFA;\n",
              "      box-shadow: 0px 1px 2px rgba(60, 64, 67, 0.3), 0px 1px 3px 1px rgba(60, 64, 67, 0.15);\n",
              "      fill: #174EA6;\n",
              "    }\n",
              "\n",
              "    [theme=dark] .colab-df-convert {\n",
              "      background-color: #3B4455;\n",
              "      fill: #D2E3FC;\n",
              "    }\n",
              "\n",
              "    [theme=dark] .colab-df-convert:hover {\n",
              "      background-color: #434B5C;\n",
              "      box-shadow: 0px 1px 3px 1px rgba(0, 0, 0, 0.15);\n",
              "      filter: drop-shadow(0px 1px 2px rgba(0, 0, 0, 0.3));\n",
              "      fill: #FFFFFF;\n",
              "    }\n",
              "  </style>\n",
              "\n",
              "      <script>\n",
              "        const buttonEl =\n",
              "          document.querySelector('#df-3de583bb-9f55-4592-9faa-cd216ca77c20 button.colab-df-convert');\n",
              "        buttonEl.style.display =\n",
              "          google.colab.kernel.accessAllowed ? 'block' : 'none';\n",
              "\n",
              "        async function convertToInteractive(key) {\n",
              "          const element = document.querySelector('#df-3de583bb-9f55-4592-9faa-cd216ca77c20');\n",
              "          const dataTable =\n",
              "            await google.colab.kernel.invokeFunction('convertToInteractive',\n",
              "                                                     [key], {});\n",
              "          if (!dataTable) return;\n",
              "\n",
              "          const docLinkHtml = 'Like what you see? Visit the ' +\n",
              "            '<a target=\"_blank\" href=https://colab.research.google.com/notebooks/data_table.ipynb>data table notebook</a>'\n",
              "            + ' to learn more about interactive tables.';\n",
              "          element.innerHTML = '';\n",
              "          dataTable['output_type'] = 'display_data';\n",
              "          await google.colab.output.renderOutput(dataTable, element);\n",
              "          const docLink = document.createElement('div');\n",
              "          docLink.innerHTML = docLinkHtml;\n",
              "          element.appendChild(docLink);\n",
              "        }\n",
              "      </script>\n",
              "    </div>\n",
              "  </div>\n",
              "  "
            ]
          },
          "metadata": {},
          "execution_count": 130
        }
      ],
      "source": [
        "empty_index = [index for index,Title in enumerate(df.Title.values) if str(Title).strip() == '']\n",
        "print(f\"No of empty rows: {len(empty_index)}\")\n",
        "df.iloc[empty_index].tail()"
      ]
    },
    {
      "cell_type": "code",
      "execution_count": 131,
      "metadata": {
        "id": "0eXtCtri6HzB",
        "colab": {
          "base_uri": "https://localhost:8080/",
          "height": 398
        },
        "outputId": "b56a522f-9e23-4e88-eca7-094bef96ec1c"
      },
      "outputs": [
        {
          "output_type": "stream",
          "name": "stderr",
          "text": [
            "[nltk_data] Downloading package wordnet to /root/nltk_data...\n",
            "[nltk_data]   Package wordnet is already up-to-date!\n"
          ]
        },
        {
          "output_type": "execute_result",
          "data": {
            "text/plain": [
              "                                               Title\n",
              "0  Megathread: Joe Biden Projected to Defeat Pres...\n",
              "1  Mitch McConnell Will Lose Control Of The Senat...\n",
              "2  Megathread: House Votes to Impeach President D...\n",
              "3  Trump Threatens to ‘Leave the Country’ if He L...\n",
              "4  Demands for Kushner to Resign Over 'Staggering...\n",
              "5  Over A million people sign petition calling fo...\n",
              "6  Report: Biden Admin Discovers Trump Had Zero P...\n",
              "7  Biden's Pennsylvania lead is now big enough to...\n",
              "8  Donald Trump Has Just Left the White House—Thi...\n",
              "9  Virginia governor make Election Day a holiday ..."
            ],
            "text/html": [
              "\n",
              "  <div id=\"df-b4e193b5-afd9-4588-ba6f-1a41f3b5fa76\">\n",
              "    <div class=\"colab-df-container\">\n",
              "      <div>\n",
              "<style scoped>\n",
              "    .dataframe tbody tr th:only-of-type {\n",
              "        vertical-align: middle;\n",
              "    }\n",
              "\n",
              "    .dataframe tbody tr th {\n",
              "        vertical-align: top;\n",
              "    }\n",
              "\n",
              "    .dataframe thead th {\n",
              "        text-align: right;\n",
              "    }\n",
              "</style>\n",
              "<table border=\"1\" class=\"dataframe\">\n",
              "  <thead>\n",
              "    <tr style=\"text-align: right;\">\n",
              "      <th></th>\n",
              "      <th>Title</th>\n",
              "    </tr>\n",
              "  </thead>\n",
              "  <tbody>\n",
              "    <tr>\n",
              "      <th>0</th>\n",
              "      <td>Megathread: Joe Biden Projected to Defeat Pres...</td>\n",
              "    </tr>\n",
              "    <tr>\n",
              "      <th>1</th>\n",
              "      <td>Mitch McConnell Will Lose Control Of The Senat...</td>\n",
              "    </tr>\n",
              "    <tr>\n",
              "      <th>2</th>\n",
              "      <td>Megathread: House Votes to Impeach President D...</td>\n",
              "    </tr>\n",
              "    <tr>\n",
              "      <th>3</th>\n",
              "      <td>Trump Threatens to ‘Leave the Country’ if He L...</td>\n",
              "    </tr>\n",
              "    <tr>\n",
              "      <th>4</th>\n",
              "      <td>Demands for Kushner to Resign Over 'Staggering...</td>\n",
              "    </tr>\n",
              "    <tr>\n",
              "      <th>5</th>\n",
              "      <td>Over A million people sign petition calling fo...</td>\n",
              "    </tr>\n",
              "    <tr>\n",
              "      <th>6</th>\n",
              "      <td>Report: Biden Admin Discovers Trump Had Zero P...</td>\n",
              "    </tr>\n",
              "    <tr>\n",
              "      <th>7</th>\n",
              "      <td>Biden's Pennsylvania lead is now big enough to...</td>\n",
              "    </tr>\n",
              "    <tr>\n",
              "      <th>8</th>\n",
              "      <td>Donald Trump Has Just Left the White House—Thi...</td>\n",
              "    </tr>\n",
              "    <tr>\n",
              "      <th>9</th>\n",
              "      <td>Virginia governor make Election Day a holiday ...</td>\n",
              "    </tr>\n",
              "  </tbody>\n",
              "</table>\n",
              "</div>\n",
              "      <button class=\"colab-df-convert\" onclick=\"convertToInteractive('df-b4e193b5-afd9-4588-ba6f-1a41f3b5fa76')\"\n",
              "              title=\"Convert this dataframe to an interactive table.\"\n",
              "              style=\"display:none;\">\n",
              "        \n",
              "  <svg xmlns=\"http://www.w3.org/2000/svg\" height=\"24px\"viewBox=\"0 0 24 24\"\n",
              "       width=\"24px\">\n",
              "    <path d=\"M0 0h24v24H0V0z\" fill=\"none\"/>\n",
              "    <path d=\"M18.56 5.44l.94 2.06.94-2.06 2.06-.94-2.06-.94-.94-2.06-.94 2.06-2.06.94zm-11 1L8.5 8.5l.94-2.06 2.06-.94-2.06-.94L8.5 2.5l-.94 2.06-2.06.94zm10 10l.94 2.06.94-2.06 2.06-.94-2.06-.94-.94-2.06-.94 2.06-2.06.94z\"/><path d=\"M17.41 7.96l-1.37-1.37c-.4-.4-.92-.59-1.43-.59-.52 0-1.04.2-1.43.59L10.3 9.45l-7.72 7.72c-.78.78-.78 2.05 0 2.83L4 21.41c.39.39.9.59 1.41.59.51 0 1.02-.2 1.41-.59l7.78-7.78 2.81-2.81c.8-.78.8-2.07 0-2.86zM5.41 20L4 18.59l7.72-7.72 1.47 1.35L5.41 20z\"/>\n",
              "  </svg>\n",
              "      </button>\n",
              "      \n",
              "  <style>\n",
              "    .colab-df-container {\n",
              "      display:flex;\n",
              "      flex-wrap:wrap;\n",
              "      gap: 12px;\n",
              "    }\n",
              "\n",
              "    .colab-df-convert {\n",
              "      background-color: #E8F0FE;\n",
              "      border: none;\n",
              "      border-radius: 50%;\n",
              "      cursor: pointer;\n",
              "      display: none;\n",
              "      fill: #1967D2;\n",
              "      height: 32px;\n",
              "      padding: 0 0 0 0;\n",
              "      width: 32px;\n",
              "    }\n",
              "\n",
              "    .colab-df-convert:hover {\n",
              "      background-color: #E2EBFA;\n",
              "      box-shadow: 0px 1px 2px rgba(60, 64, 67, 0.3), 0px 1px 3px 1px rgba(60, 64, 67, 0.15);\n",
              "      fill: #174EA6;\n",
              "    }\n",
              "\n",
              "    [theme=dark] .colab-df-convert {\n",
              "      background-color: #3B4455;\n",
              "      fill: #D2E3FC;\n",
              "    }\n",
              "\n",
              "    [theme=dark] .colab-df-convert:hover {\n",
              "      background-color: #434B5C;\n",
              "      box-shadow: 0px 1px 3px 1px rgba(0, 0, 0, 0.15);\n",
              "      filter: drop-shadow(0px 1px 2px rgba(0, 0, 0, 0.3));\n",
              "      fill: #FFFFFF;\n",
              "    }\n",
              "  </style>\n",
              "\n",
              "      <script>\n",
              "        const buttonEl =\n",
              "          document.querySelector('#df-b4e193b5-afd9-4588-ba6f-1a41f3b5fa76 button.colab-df-convert');\n",
              "        buttonEl.style.display =\n",
              "          google.colab.kernel.accessAllowed ? 'block' : 'none';\n",
              "\n",
              "        async function convertToInteractive(key) {\n",
              "          const element = document.querySelector('#df-b4e193b5-afd9-4588-ba6f-1a41f3b5fa76');\n",
              "          const dataTable =\n",
              "            await google.colab.kernel.invokeFunction('convertToInteractive',\n",
              "                                                     [key], {});\n",
              "          if (!dataTable) return;\n",
              "\n",
              "          const docLinkHtml = 'Like what you see? Visit the ' +\n",
              "            '<a target=\"_blank\" href=https://colab.research.google.com/notebooks/data_table.ipynb>data table notebook</a>'\n",
              "            + ' to learn more about interactive tables.';\n",
              "          element.innerHTML = '';\n",
              "          dataTable['output_type'] = 'display_data';\n",
              "          await google.colab.output.renderOutput(dataTable, element);\n",
              "          const docLink = document.createElement('div');\n",
              "          docLink.innerHTML = docLinkHtml;\n",
              "          element.appendChild(docLink);\n",
              "        }\n",
              "      </script>\n",
              "    </div>\n",
              "  </div>\n",
              "  "
            ]
          },
          "metadata": {},
          "execution_count": 131
        }
      ],
      "source": [
        "nltk.download('wordnet')\n",
        "#establish the lemmatizer\n",
        "wordnet_lemmatizer = WordNetLemmatizer()\n",
        "df['Title'] = df.Title.apply(lambda x: \" \".join(wordnet_lemmatizer.lemmatize(w) for w in x.split()))\n",
        "df.head(10)"
      ]
    },
    {
      "cell_type": "code",
      "execution_count": 132,
      "metadata": {
        "id": "Lsa75N0a6M-1"
      },
      "outputs": [],
      "source": [
        "# in order to remove bias I will shuffle the data\n",
        "from sklearn.utils import shuffle\n",
        "df = shuffle(df)\n",
        "df = df.reset_index(drop=True)\n",
        "df\n",
        "# Convert the text to lowercase:\n",
        "df['Title'] = df['Title'].apply(lambda x: x.lower())\n",
        "# Remove punctuation:\n",
        "import string\n",
        "def punctuation_removal(Title):\n",
        "    all_list = [char for char in Title if char not in string.punctuation]\n",
        "    clean_str = ''.join(all_list)\n",
        "    return clean_str\n",
        "df['Title'] = df['Title'].apply(punctuation_removal)"
      ]
    },
    {
      "cell_type": "code",
      "execution_count": 133,
      "metadata": {
        "id": "Gs2IVE8T6RFP",
        "colab": {
          "base_uri": "https://localhost:8080/",
          "height": 363
        },
        "outputId": "51413d40-1657-40f4-c969-14abf34e139e"
      },
      "outputs": [
        {
          "output_type": "execute_result",
          "data": {
            "text/plain": [
              "                                               Title\n",
              "0  trump falsely claim ha election demand supreme...\n",
              "1  democrat raphael warnock defeated republican k...\n",
              "2  fbi opened inquiry whether trump secretly work...\n",
              "3  petition impeach clarence thomas pass 300000 s...\n",
              "4  impeach justice clarence thomas petition pass ...\n",
              "5  anonymous source tells times reporter jr worri...\n",
              "6  bernie sanders becomes first candidate democra...\n",
              "7  dont kid trump contradicts aide insists meant ...\n",
              "8  japan shocked furious us major coronavirus out...\n",
              "9  donald trump tell supporter ha never lost elec..."
            ],
            "text/html": [
              "\n",
              "  <div id=\"df-db34b57d-383c-43a5-b78d-6d8dd6694a09\">\n",
              "    <div class=\"colab-df-container\">\n",
              "      <div>\n",
              "<style scoped>\n",
              "    .dataframe tbody tr th:only-of-type {\n",
              "        vertical-align: middle;\n",
              "    }\n",
              "\n",
              "    .dataframe tbody tr th {\n",
              "        vertical-align: top;\n",
              "    }\n",
              "\n",
              "    .dataframe thead th {\n",
              "        text-align: right;\n",
              "    }\n",
              "</style>\n",
              "<table border=\"1\" class=\"dataframe\">\n",
              "  <thead>\n",
              "    <tr style=\"text-align: right;\">\n",
              "      <th></th>\n",
              "      <th>Title</th>\n",
              "    </tr>\n",
              "  </thead>\n",
              "  <tbody>\n",
              "    <tr>\n",
              "      <th>0</th>\n",
              "      <td>trump falsely claim ha election demand supreme...</td>\n",
              "    </tr>\n",
              "    <tr>\n",
              "      <th>1</th>\n",
              "      <td>democrat raphael warnock defeated republican k...</td>\n",
              "    </tr>\n",
              "    <tr>\n",
              "      <th>2</th>\n",
              "      <td>fbi opened inquiry whether trump secretly work...</td>\n",
              "    </tr>\n",
              "    <tr>\n",
              "      <th>3</th>\n",
              "      <td>petition impeach clarence thomas pass 300000 s...</td>\n",
              "    </tr>\n",
              "    <tr>\n",
              "      <th>4</th>\n",
              "      <td>impeach justice clarence thomas petition pass ...</td>\n",
              "    </tr>\n",
              "    <tr>\n",
              "      <th>5</th>\n",
              "      <td>anonymous source tells times reporter jr worri...</td>\n",
              "    </tr>\n",
              "    <tr>\n",
              "      <th>6</th>\n",
              "      <td>bernie sanders becomes first candidate democra...</td>\n",
              "    </tr>\n",
              "    <tr>\n",
              "      <th>7</th>\n",
              "      <td>dont kid trump contradicts aide insists meant ...</td>\n",
              "    </tr>\n",
              "    <tr>\n",
              "      <th>8</th>\n",
              "      <td>japan shocked furious us major coronavirus out...</td>\n",
              "    </tr>\n",
              "    <tr>\n",
              "      <th>9</th>\n",
              "      <td>donald trump tell supporter ha never lost elec...</td>\n",
              "    </tr>\n",
              "  </tbody>\n",
              "</table>\n",
              "</div>\n",
              "      <button class=\"colab-df-convert\" onclick=\"convertToInteractive('df-db34b57d-383c-43a5-b78d-6d8dd6694a09')\"\n",
              "              title=\"Convert this dataframe to an interactive table.\"\n",
              "              style=\"display:none;\">\n",
              "        \n",
              "  <svg xmlns=\"http://www.w3.org/2000/svg\" height=\"24px\"viewBox=\"0 0 24 24\"\n",
              "       width=\"24px\">\n",
              "    <path d=\"M0 0h24v24H0V0z\" fill=\"none\"/>\n",
              "    <path d=\"M18.56 5.44l.94 2.06.94-2.06 2.06-.94-2.06-.94-.94-2.06-.94 2.06-2.06.94zm-11 1L8.5 8.5l.94-2.06 2.06-.94-2.06-.94L8.5 2.5l-.94 2.06-2.06.94zm10 10l.94 2.06.94-2.06 2.06-.94-2.06-.94-.94-2.06-.94 2.06-2.06.94z\"/><path d=\"M17.41 7.96l-1.37-1.37c-.4-.4-.92-.59-1.43-.59-.52 0-1.04.2-1.43.59L10.3 9.45l-7.72 7.72c-.78.78-.78 2.05 0 2.83L4 21.41c.39.39.9.59 1.41.59.51 0 1.02-.2 1.41-.59l7.78-7.78 2.81-2.81c.8-.78.8-2.07 0-2.86zM5.41 20L4 18.59l7.72-7.72 1.47 1.35L5.41 20z\"/>\n",
              "  </svg>\n",
              "      </button>\n",
              "      \n",
              "  <style>\n",
              "    .colab-df-container {\n",
              "      display:flex;\n",
              "      flex-wrap:wrap;\n",
              "      gap: 12px;\n",
              "    }\n",
              "\n",
              "    .colab-df-convert {\n",
              "      background-color: #E8F0FE;\n",
              "      border: none;\n",
              "      border-radius: 50%;\n",
              "      cursor: pointer;\n",
              "      display: none;\n",
              "      fill: #1967D2;\n",
              "      height: 32px;\n",
              "      padding: 0 0 0 0;\n",
              "      width: 32px;\n",
              "    }\n",
              "\n",
              "    .colab-df-convert:hover {\n",
              "      background-color: #E2EBFA;\n",
              "      box-shadow: 0px 1px 2px rgba(60, 64, 67, 0.3), 0px 1px 3px 1px rgba(60, 64, 67, 0.15);\n",
              "      fill: #174EA6;\n",
              "    }\n",
              "\n",
              "    [theme=dark] .colab-df-convert {\n",
              "      background-color: #3B4455;\n",
              "      fill: #D2E3FC;\n",
              "    }\n",
              "\n",
              "    [theme=dark] .colab-df-convert:hover {\n",
              "      background-color: #434B5C;\n",
              "      box-shadow: 0px 1px 3px 1px rgba(0, 0, 0, 0.15);\n",
              "      filter: drop-shadow(0px 1px 2px rgba(0, 0, 0, 0.3));\n",
              "      fill: #FFFFFF;\n",
              "    }\n",
              "  </style>\n",
              "\n",
              "      <script>\n",
              "        const buttonEl =\n",
              "          document.querySelector('#df-db34b57d-383c-43a5-b78d-6d8dd6694a09 button.colab-df-convert');\n",
              "        buttonEl.style.display =\n",
              "          google.colab.kernel.accessAllowed ? 'block' : 'none';\n",
              "\n",
              "        async function convertToInteractive(key) {\n",
              "          const element = document.querySelector('#df-db34b57d-383c-43a5-b78d-6d8dd6694a09');\n",
              "          const dataTable =\n",
              "            await google.colab.kernel.invokeFunction('convertToInteractive',\n",
              "                                                     [key], {});\n",
              "          if (!dataTable) return;\n",
              "\n",
              "          const docLinkHtml = 'Like what you see? Visit the ' +\n",
              "            '<a target=\"_blank\" href=https://colab.research.google.com/notebooks/data_table.ipynb>data table notebook</a>'\n",
              "            + ' to learn more about interactive tables.';\n",
              "          element.innerHTML = '';\n",
              "          dataTable['output_type'] = 'display_data';\n",
              "          await google.colab.output.renderOutput(dataTable, element);\n",
              "          const docLink = document.createElement('div');\n",
              "          docLink.innerHTML = docLinkHtml;\n",
              "          element.appendChild(docLink);\n",
              "        }\n",
              "      </script>\n",
              "    </div>\n",
              "  </div>\n",
              "  "
            ]
          },
          "metadata": {},
          "execution_count": 133
        }
      ],
      "source": [
        "stop = stopwords.words('english')\n",
        "df['Title'] = df.Title.apply(lambda x: \" \".join(w for w in x.split() if w not in stop))\n",
        "df.head(10)"
      ]
    },
    {
      "cell_type": "code",
      "source": [
        "df.tail()"
      ],
      "metadata": {
        "colab": {
          "base_uri": "https://localhost:8080/",
          "height": 206
        },
        "id": "TPwm6aA0Y66g",
        "outputId": "5340bb53-d907-4712-be0d-04da6b2b8f30"
      },
      "execution_count": 164,
      "outputs": [
        {
          "output_type": "execute_result",
          "data": {
            "text/plain": [
              "                                                 Title  RF_pred  XGB_pred  \\\n",
              "295  surprise surprise offduty cops country dc capi...        0         0   \n",
              "296  fbi looking ‘classified nuclear documents’ sea...        0         0   \n",
              "297  trump thought could convince pence overthrow e...        0         0   \n",
              "298  biggest question twitter user debate mute mics...        0         0   \n",
              "299          biden urge congress codify roe v wade law        0         0   \n",
              "\n",
              "     LR_pred  \n",
              "295        0  \n",
              "296        0  \n",
              "297        0  \n",
              "298        0  \n",
              "299        0  "
            ],
            "text/html": [
              "\n",
              "  <div id=\"df-379b6e8a-6725-4a0c-8cbe-7eeffc238918\">\n",
              "    <div class=\"colab-df-container\">\n",
              "      <div>\n",
              "<style scoped>\n",
              "    .dataframe tbody tr th:only-of-type {\n",
              "        vertical-align: middle;\n",
              "    }\n",
              "\n",
              "    .dataframe tbody tr th {\n",
              "        vertical-align: top;\n",
              "    }\n",
              "\n",
              "    .dataframe thead th {\n",
              "        text-align: right;\n",
              "    }\n",
              "</style>\n",
              "<table border=\"1\" class=\"dataframe\">\n",
              "  <thead>\n",
              "    <tr style=\"text-align: right;\">\n",
              "      <th></th>\n",
              "      <th>Title</th>\n",
              "      <th>RF_pred</th>\n",
              "      <th>XGB_pred</th>\n",
              "      <th>LR_pred</th>\n",
              "    </tr>\n",
              "  </thead>\n",
              "  <tbody>\n",
              "    <tr>\n",
              "      <th>295</th>\n",
              "      <td>surprise surprise offduty cops country dc capi...</td>\n",
              "      <td>0</td>\n",
              "      <td>0</td>\n",
              "      <td>0</td>\n",
              "    </tr>\n",
              "    <tr>\n",
              "      <th>296</th>\n",
              "      <td>fbi looking ‘classified nuclear documents’ sea...</td>\n",
              "      <td>0</td>\n",
              "      <td>0</td>\n",
              "      <td>0</td>\n",
              "    </tr>\n",
              "    <tr>\n",
              "      <th>297</th>\n",
              "      <td>trump thought could convince pence overthrow e...</td>\n",
              "      <td>0</td>\n",
              "      <td>0</td>\n",
              "      <td>0</td>\n",
              "    </tr>\n",
              "    <tr>\n",
              "      <th>298</th>\n",
              "      <td>biggest question twitter user debate mute mics...</td>\n",
              "      <td>0</td>\n",
              "      <td>0</td>\n",
              "      <td>0</td>\n",
              "    </tr>\n",
              "    <tr>\n",
              "      <th>299</th>\n",
              "      <td>biden urge congress codify roe v wade law</td>\n",
              "      <td>0</td>\n",
              "      <td>0</td>\n",
              "      <td>0</td>\n",
              "    </tr>\n",
              "  </tbody>\n",
              "</table>\n",
              "</div>\n",
              "      <button class=\"colab-df-convert\" onclick=\"convertToInteractive('df-379b6e8a-6725-4a0c-8cbe-7eeffc238918')\"\n",
              "              title=\"Convert this dataframe to an interactive table.\"\n",
              "              style=\"display:none;\">\n",
              "        \n",
              "  <svg xmlns=\"http://www.w3.org/2000/svg\" height=\"24px\"viewBox=\"0 0 24 24\"\n",
              "       width=\"24px\">\n",
              "    <path d=\"M0 0h24v24H0V0z\" fill=\"none\"/>\n",
              "    <path d=\"M18.56 5.44l.94 2.06.94-2.06 2.06-.94-2.06-.94-.94-2.06-.94 2.06-2.06.94zm-11 1L8.5 8.5l.94-2.06 2.06-.94-2.06-.94L8.5 2.5l-.94 2.06-2.06.94zm10 10l.94 2.06.94-2.06 2.06-.94-2.06-.94-.94-2.06-.94 2.06-2.06.94z\"/><path d=\"M17.41 7.96l-1.37-1.37c-.4-.4-.92-.59-1.43-.59-.52 0-1.04.2-1.43.59L10.3 9.45l-7.72 7.72c-.78.78-.78 2.05 0 2.83L4 21.41c.39.39.9.59 1.41.59.51 0 1.02-.2 1.41-.59l7.78-7.78 2.81-2.81c.8-.78.8-2.07 0-2.86zM5.41 20L4 18.59l7.72-7.72 1.47 1.35L5.41 20z\"/>\n",
              "  </svg>\n",
              "      </button>\n",
              "      \n",
              "  <style>\n",
              "    .colab-df-container {\n",
              "      display:flex;\n",
              "      flex-wrap:wrap;\n",
              "      gap: 12px;\n",
              "    }\n",
              "\n",
              "    .colab-df-convert {\n",
              "      background-color: #E8F0FE;\n",
              "      border: none;\n",
              "      border-radius: 50%;\n",
              "      cursor: pointer;\n",
              "      display: none;\n",
              "      fill: #1967D2;\n",
              "      height: 32px;\n",
              "      padding: 0 0 0 0;\n",
              "      width: 32px;\n",
              "    }\n",
              "\n",
              "    .colab-df-convert:hover {\n",
              "      background-color: #E2EBFA;\n",
              "      box-shadow: 0px 1px 2px rgba(60, 64, 67, 0.3), 0px 1px 3px 1px rgba(60, 64, 67, 0.15);\n",
              "      fill: #174EA6;\n",
              "    }\n",
              "\n",
              "    [theme=dark] .colab-df-convert {\n",
              "      background-color: #3B4455;\n",
              "      fill: #D2E3FC;\n",
              "    }\n",
              "\n",
              "    [theme=dark] .colab-df-convert:hover {\n",
              "      background-color: #434B5C;\n",
              "      box-shadow: 0px 1px 3px 1px rgba(0, 0, 0, 0.15);\n",
              "      filter: drop-shadow(0px 1px 2px rgba(0, 0, 0, 0.3));\n",
              "      fill: #FFFFFF;\n",
              "    }\n",
              "  </style>\n",
              "\n",
              "      <script>\n",
              "        const buttonEl =\n",
              "          document.querySelector('#df-379b6e8a-6725-4a0c-8cbe-7eeffc238918 button.colab-df-convert');\n",
              "        buttonEl.style.display =\n",
              "          google.colab.kernel.accessAllowed ? 'block' : 'none';\n",
              "\n",
              "        async function convertToInteractive(key) {\n",
              "          const element = document.querySelector('#df-379b6e8a-6725-4a0c-8cbe-7eeffc238918');\n",
              "          const dataTable =\n",
              "            await google.colab.kernel.invokeFunction('convertToInteractive',\n",
              "                                                     [key], {});\n",
              "          if (!dataTable) return;\n",
              "\n",
              "          const docLinkHtml = 'Like what you see? Visit the ' +\n",
              "            '<a target=\"_blank\" href=https://colab.research.google.com/notebooks/data_table.ipynb>data table notebook</a>'\n",
              "            + ' to learn more about interactive tables.';\n",
              "          element.innerHTML = '';\n",
              "          dataTable['output_type'] = 'display_data';\n",
              "          await google.colab.output.renderOutput(dataTable, element);\n",
              "          const docLink = document.createElement('div');\n",
              "          docLink.innerHTML = docLinkHtml;\n",
              "          element.appendChild(docLink);\n",
              "        }\n",
              "      </script>\n",
              "    </div>\n",
              "  </div>\n",
              "  "
            ]
          },
          "metadata": {},
          "execution_count": 164
        }
      ]
    },
    {
      "cell_type": "code",
      "execution_count": 134,
      "metadata": {
        "id": "48zq-c456UGU",
        "colab": {
          "base_uri": "https://localhost:8080/",
          "height": 215
        },
        "outputId": "383d1fd4-d06f-4994-a5d0-6fcae9eae7d9"
      },
      "outputs": [
        {
          "output_type": "execute_result",
          "data": {
            "text/plain": [
              "(-0.5, 399.5, 199.5, -0.5)"
            ]
          },
          "metadata": {},
          "execution_count": 134
        },
        {
          "output_type": "display_data",
          "data": {
            "text/plain": [
              "<Figure size 432x288 with 1 Axes>"
            ],
            "image/png": "[encoded data removed]"
          },
          "metadata": {
            "needs_background": "light"
          }
        }
      ],
      "source": [
        "wc = WordCloud().generate('Title'.join(df['Title']))\n",
        "plt.imshow(wc, interpolation=\"bilinear\")\n",
        "plt.axis('off')"
      ]
    },
    {
      "cell_type": "code",
      "execution_count": 135,
      "metadata": {
        "id": "gK4nlQn56XKK"
      },
      "outputs": [],
      "source": [
        "# genrate the token list:\n",
        "token1 = ' '.join(df.Title).split()"
      ]
    },
    {
      "cell_type": "code",
      "execution_count": 136,
      "metadata": {
        "id": "wMioiVOw6aXL",
        "colab": {
          "base_uri": "https://localhost:8080/"
        },
        "outputId": "d8ab0207-3f82-4810-e7e0-0b9aa6f1a1ae"
      },
      "outputs": [
        {
          "output_type": "execute_result",
          "data": {
            "text/plain": [
              "[(('joe', 'biden'), 11),\n",
              " (('donald', 'trump'), 9),\n",
              " (('bernie', 'sanders'), 9),\n",
              " (('supreme', 'court'), 6),\n",
              " (('alexandria', 'ocasiocortez'), 5),\n",
              " (('ted', 'cruz'), 5),\n",
              " (('marjorie', 'taylor'), 4),\n",
              " (('trump', 'administration'), 4),\n",
              " (('trump', 'campaign'), 4),\n",
              " (('ban', 'stock'), 4),\n",
              " (('president', 'trump'), 4),\n",
              " (('taylor', 'greene'), 4),\n",
              " (('capitol', 'riot'), 4),\n",
              " (('member', 'congress'), 4),\n",
              " (('president', 'donald'), 4),\n",
              " (('elizabeth', 'warren'), 4),\n",
              " (('bill', 'would'), 3),\n",
              " (('president', 'trump’s'), 3),\n",
              " (('report', 'say'), 3),\n",
              " (('stacey', 'abrams'), 3)]"
            ]
          },
          "metadata": {},
          "execution_count": 136
        }
      ],
      "source": [
        "# creating the bigrams\n",
        "ngrams_2 = nltk.bigrams(token1)\n",
        "\n",
        "# freq distribution for these\n",
        "freq_2grams = pd.Series(ngrams_2).value_counts().to_dict()\n",
        "list(freq_2grams.items())[:20]"
      ]
    },
    {
      "cell_type": "code",
      "execution_count": 137,
      "metadata": {
        "id": "aYXmLa3O6eV6",
        "colab": {
          "base_uri": "https://localhost:8080/"
        },
        "outputId": "6764c5e6-bd64-40ee-de93-6541b08fdf5f"
      },
      "outputs": [
        {
          "output_type": "execute_result",
          "data": {
            "text/plain": [
              "[(('marjorie', 'taylor', 'greene'), 4),\n",
              " (('make', 'election', 'day'), 3),\n",
              " (('ban', 'stock', 'trading'), 2),\n",
              " (('lawsuit', 'produced', 'exactly'), 2),\n",
              " (('us', 'election', 'biden'), 2),\n",
              " (('votes', 'impeach', 'president'), 2),\n",
              " (('impeach', 'president', 'donald'), 2),\n",
              " (('president', 'donald', 'j'), 2),\n",
              " (('donald', 'j', 'trump'), 2),\n",
              " (('zero', 'evidence', 'fraud'), 2),\n",
              " (('exactly', 'zero', 'evidence'), 2),\n",
              " (('produced', 'exactly', 'zero'), 2),\n",
              " (('campaign', 'lawsuit', 'produced'), 2),\n",
              " (('house', 'votes', 'impeach'), 2),\n",
              " (('trump', 'campaign', 'lawsuit'), 2),\n",
              " (('throws', 'trump', 'campaign'), 2),\n",
              " (('judge', 'throws', 'trump'), 2),\n",
              " (('georgia', 'judge', 'throws'), 2),\n",
              " (('election', 'day', 'holiday'), 2),\n",
              " (('elizabeth', 'warren', 'want'), 2)]"
            ]
          },
          "metadata": {},
          "execution_count": 137
        }
      ],
      "source": [
        "# creating the trigrams\n",
        "ngrams_3 = nltk.trigrams(token1)\n",
        "\n",
        "# freq distribution for these\n",
        "freq_3grams = pd.Series(ngrams_3).value_counts().to_dict()\n",
        "list(freq_3grams.items())[:20]"
      ]
    },
    {
      "cell_type": "code",
      "execution_count": 138,
      "metadata": {
        "id": "2Kq7TYrM6iTJ"
      },
      "outputs": [],
      "source": [
        "# model = trained word2vec model\n",
        "# data= retrieved data from Reddit\n",
        "# size = the size given at the time of word2vec embedding i.e in this case 300\n",
        "\n",
        "def prediction_data_process(model,df,size):\n",
        "    \n",
        "    prediction_data=np.asarray(list(df['Title']))\n",
        "    prediction_data=process(prediction_data)\n",
        "    cleaned_prediction_data=[]\n",
        "    for sent in prediction_data:\n",
        "        cleaned_prediction_data.append(sent.split()) \n",
        "        \n",
        "    vectors = []\n",
        "    for sent in cleaned_prediction_data:\n",
        "        sent_vec = np.zeros(size)\n",
        "        cnt_words = 0\n",
        "        for word in sent:\n",
        "            try:\n",
        "                vec = word2vec_model.wv[word]  # getting the vector corresponding to the word\n",
        "                sent_vec += vec       # Adding the vectors of all the words present in sentence\n",
        "                cnt_words += 1        # counting the number of words\n",
        "            except:\n",
        "                pass\n",
        "        if cnt_words!=0:    \n",
        "            sent_vec /= cnt_words\n",
        "        vectors.append(sent_vec)\n",
        "    \n",
        "    return np.nan_to_num(vectors)"
      ]
    },
    {
      "cell_type": "code",
      "execution_count": 139,
      "metadata": {
        "id": "m7SQJhF26nq1",
        "colab": {
          "base_uri": "https://localhost:8080/"
        },
        "outputId": "dd0c7377-9376-4a25-a216-0be74bd5eebe"
      },
      "outputs": [
        {
          "output_type": "stream",
          "name": "stderr",
          "text": [
            "100%|██████████| 300/300 [00:00<00:00, 17857.47it/s]\n"
          ]
        }
      ],
      "source": [
        "final_prediction_data1=prediction_data_process(word2vec_model,df,300)"
      ]
    },
    {
      "cell_type": "code",
      "execution_count": 140,
      "metadata": {
        "id": "aSQuD6-v6q9O"
      },
      "outputs": [],
      "source": [
        "# Saving the processed data\n",
        "\n",
        "pd.DataFrame(final_prediction_data1).to_csv(\"Reddit_data.csv\")"
      ]
    },
    {
      "cell_type": "code",
      "execution_count": 141,
      "metadata": {
        "id": "lhjzeLHI6upD",
        "colab": {
          "base_uri": "https://localhost:8080/"
        },
        "outputId": "13ced467-c527-432d-c541-4e2d82340e56"
      },
      "outputs": [
        {
          "output_type": "execute_result",
          "data": {
            "text/plain": [
              "array([ 0.06015838,  0.11977232, -0.07718683,  0.13571634,  0.12343043,\n",
              "        0.12982076,  0.13431885, -0.2572505 ,  0.21326768])"
            ]
          },
          "metadata": {},
          "execution_count": 141
        }
      ],
      "source": [
        "final_prediction_data1[3][1:10]"
      ]
    },
    {
      "cell_type": "code",
      "execution_count": 142,
      "metadata": {
        "id": "ZqTkxhjl727F"
      },
      "outputs": [],
      "source": [
        "from joblib import Parallel, delayed\n",
        "import joblib\n",
        "  \n",
        "  \n",
        "# Load the model from the file\n",
        "\n",
        "RF_Model = joblib.load('Model_Random_Forest.pkl')"
      ]
    },
    {
      "cell_type": "code",
      "execution_count": 143,
      "metadata": {
        "id": "9RL4h1B363NK",
        "colab": {
          "base_uri": "https://localhost:8080/"
        },
        "outputId": "f2af5129-8e37-459c-ed6c-ec6923886a63"
      },
      "outputs": [
        {
          "output_type": "execute_result",
          "data": {
            "text/plain": [
              "array([0, 0, 0, 0, 0, 0, 0, 0, 0, 0, 0, 0, 0, 0, 0, 0, 0, 0, 0, 0, 0, 0,\n",
              "       1, 0, 0, 0, 0, 0, 0, 0, 0, 1, 0, 0, 0, 0, 0, 0, 0, 0, 0, 0, 0, 0,\n",
              "       0, 0, 0, 0, 0, 0, 0, 0, 0, 0, 0, 0, 1, 0, 0, 0, 0, 0, 0, 1, 0, 1,\n",
              "       0, 0, 0, 0, 0, 0, 0, 0, 0, 0, 0, 0, 1, 0, 0, 0, 0, 0, 1, 0, 0, 0,\n",
              "       0, 0, 0, 0, 0, 0, 0, 0, 0, 0, 0, 0, 0, 0, 0, 0, 0, 0, 0, 0, 0, 0,\n",
              "       0, 0, 0, 0, 0, 0, 0, 0, 0, 0, 0, 0, 0, 0, 0, 0, 0, 0, 0, 0, 0, 0,\n",
              "       0, 0, 0, 0, 0, 0, 0, 0, 0, 0, 0, 0, 0, 0, 0, 0, 0, 0, 0, 0, 0, 0,\n",
              "       0, 0, 0, 0, 0, 0, 0, 0, 0, 0, 1, 0, 0, 0, 0, 0, 0, 0, 0, 1, 0, 0,\n",
              "       0, 0, 0, 0, 0, 0, 0, 0, 0, 0, 0, 0, 0, 0, 0, 0, 0, 0, 0, 0, 0, 0,\n",
              "       1, 0, 0, 0, 0, 0, 0, 0, 1, 0, 0, 0, 0, 0, 0, 0, 0, 0, 0, 0, 1, 0,\n",
              "       0, 0, 0, 0, 0, 0, 0, 0, 0, 0, 0, 0, 0, 0, 0, 0, 0, 0, 1, 0, 0, 0,\n",
              "       0, 0, 0, 0, 0, 1, 0, 0, 0, 0, 0, 0, 0, 0, 0, 0, 0, 0, 0, 0, 0, 0,\n",
              "       0, 0, 0, 0, 0, 0, 0, 0, 0, 0, 1, 0, 0, 0, 0, 0, 0, 0, 0, 0, 0, 0,\n",
              "       0, 0, 0, 0, 0, 0, 0, 0, 0, 0, 0, 0, 0, 0])"
            ]
          },
          "metadata": {},
          "execution_count": 143
        }
      ],
      "source": [
        "RF_Model.predict(final_prediction_data1)"
      ]
    },
    {
      "cell_type": "code",
      "execution_count": 144,
      "metadata": {
        "id": "FlW8_hOW74hN"
      },
      "outputs": [],
      "source": [
        "# creating a list for new column\n",
        "RF_pred = [0, 0, 0, 0, 0, 0, 0, 0, 0, 0, 0, 0, 0, 0, 0, 0, 0, 0, 0, 0, 0, 0,\n",
        "       1, 0, 0, 0, 0, 0, 0, 0, 0, 1, 0, 0, 0, 0, 0, 0, 0, 0, 0, 0, 0, 0,\n",
        "       0, 0, 0, 0, 0, 0, 0, 0, 0, 0, 0, 0, 1, 0, 0, 0, 0, 0, 0, 1, 0, 1,\n",
        "       0, 0, 0, 0, 0, 0, 0, 0, 0, 0, 0, 0, 1, 0, 0, 0, 0, 0, 1, 0, 0, 0,\n",
        "       0, 0, 0, 0, 0, 0, 0, 0, 0, 0, 0, 0, 0, 0, 0, 0, 0, 0, 0, 0, 0, 0,\n",
        "       0, 0, 0, 0, 0, 0, 0, 0, 0, 0, 0, 0, 0, 0, 0, 0, 0, 0, 0, 0, 0, 0,\n",
        "       0, 0, 0, 0, 0, 0, 0, 0, 0, 0, 0, 0, 0, 0, 0, 0, 0, 0, 0, 0, 0, 0,\n",
        "       0, 0, 0, 0, 0, 0, 0, 0, 0, 0, 1, 0, 0, 0, 0, 0, 0, 0, 0, 1, 0, 0,\n",
        "       0, 0, 0, 0, 0, 0, 0, 0, 0, 0, 0, 0, 0, 0, 0, 0, 0, 0, 0, 0, 0, 0,\n",
        "       1, 0, 0, 0, 0, 0, 0, 0, 1, 0, 0, 0, 0, 0, 0, 0, 0, 0, 0, 0, 1, 0,\n",
        "       0, 0, 0, 0, 0, 0, 0, 0, 0, 0, 0, 0, 0, 0, 0, 0, 0, 0, 1, 0, 0, 0,\n",
        "       0, 0, 0, 0, 0, 1, 0, 0, 0, 0, 0, 0, 0, 0, 0, 0, 0, 0, 0, 0, 0, 0,\n",
        "       0, 0, 0, 0, 0, 0, 0, 0, 0, 0, 1, 0, 0, 0, 0, 0, 0, 0, 0, 0, 0, 0,\n",
        "       0, 0, 0, 0, 0, 0, 0, 0, 0, 0, 0, 0, 0, 0]\n",
        "df['RF_pred'] = RF_pred"
      ]
    },
    {
      "cell_type": "code",
      "execution_count": 145,
      "metadata": {
        "id": "VGrA0cto6y8l",
        "colab": {
          "base_uri": "https://localhost:8080/",
          "height": 424
        },
        "outputId": "03a45cf7-8b89-466d-adac-7d4a1d611e1b"
      },
      "outputs": [
        {
          "output_type": "execute_result",
          "data": {
            "text/plain": [
              "                                                 Title  RF_pred\n",
              "0    trump falsely claim ha election demand supreme...        0\n",
              "1    democrat raphael warnock defeated republican k...        0\n",
              "2    fbi opened inquiry whether trump secretly work...        0\n",
              "3    petition impeach clarence thomas pass 300000 s...        0\n",
              "4    impeach justice clarence thomas petition pass ...        0\n",
              "..                                                 ...      ...\n",
              "295  surprise surprise offduty cops country dc capi...        0\n",
              "296  fbi looking ‘classified nuclear documents’ sea...        0\n",
              "297  trump thought could convince pence overthrow e...        0\n",
              "298  biggest question twitter user debate mute mics...        0\n",
              "299          biden urge congress codify roe v wade law        0\n",
              "\n",
              "[300 rows x 2 columns]"
            ],
            "text/html": [
              "\n",
              "  <div id=\"df-8645df55-8172-46ad-af45-1082c8d7fa8f\">\n",
              "    <div class=\"colab-df-container\">\n",
              "      <div>\n",
              "<style scoped>\n",
              "    .dataframe tbody tr th:only-of-type {\n",
              "        vertical-align: middle;\n",
              "    }\n",
              "\n",
              "    .dataframe tbody tr th {\n",
              "        vertical-align: top;\n",
              "    }\n",
              "\n",
              "    .dataframe thead th {\n",
              "        text-align: right;\n",
              "    }\n",
              "</style>\n",
              "<table border=\"1\" class=\"dataframe\">\n",
              "  <thead>\n",
              "    <tr style=\"text-align: right;\">\n",
              "      <th></th>\n",
              "      <th>Title</th>\n",
              "      <th>RF_pred</th>\n",
              "    </tr>\n",
              "  </thead>\n",
              "  <tbody>\n",
              "    <tr>\n",
              "      <th>0</th>\n",
              "      <td>trump falsely claim ha election demand supreme...</td>\n",
              "      <td>0</td>\n",
              "    </tr>\n",
              "    <tr>\n",
              "      <th>1</th>\n",
              "      <td>democrat raphael warnock defeated republican k...</td>\n",
              "      <td>0</td>\n",
              "    </tr>\n",
              "    <tr>\n",
              "      <th>2</th>\n",
              "      <td>fbi opened inquiry whether trump secretly work...</td>\n",
              "      <td>0</td>\n",
              "    </tr>\n",
              "    <tr>\n",
              "      <th>3</th>\n",
              "      <td>petition impeach clarence thomas pass 300000 s...</td>\n",
              "      <td>0</td>\n",
              "    </tr>\n",
              "    <tr>\n",
              "      <th>4</th>\n",
              "      <td>impeach justice clarence thomas petition pass ...</td>\n",
              "      <td>0</td>\n",
              "    </tr>\n",
              "    <tr>\n",
              "      <th>...</th>\n",
              "      <td>...</td>\n",
              "      <td>...</td>\n",
              "    </tr>\n",
              "    <tr>\n",
              "      <th>295</th>\n",
              "      <td>surprise surprise offduty cops country dc capi...</td>\n",
              "      <td>0</td>\n",
              "    </tr>\n",
              "    <tr>\n",
              "      <th>296</th>\n",
              "      <td>fbi looking ‘classified nuclear documents’ sea...</td>\n",
              "      <td>0</td>\n",
              "    </tr>\n",
              "    <tr>\n",
              "      <th>297</th>\n",
              "      <td>trump thought could convince pence overthrow e...</td>\n",
              "      <td>0</td>\n",
              "    </tr>\n",
              "    <tr>\n",
              "      <th>298</th>\n",
              "      <td>biggest question twitter user debate mute mics...</td>\n",
              "      <td>0</td>\n",
              "    </tr>\n",
              "    <tr>\n",
              "      <th>299</th>\n",
              "      <td>biden urge congress codify roe v wade law</td>\n",
              "      <td>0</td>\n",
              "    </tr>\n",
              "  </tbody>\n",
              "</table>\n",
              "<p>300 rows × 2 columns</p>\n",
              "</div>\n",
              "      <button class=\"colab-df-convert\" onclick=\"convertToInteractive('df-8645df55-8172-46ad-af45-1082c8d7fa8f')\"\n",
              "              title=\"Convert this dataframe to an interactive table.\"\n",
              "              style=\"display:none;\">\n",
              "        \n",
              "  <svg xmlns=\"http://www.w3.org/2000/svg\" height=\"24px\"viewBox=\"0 0 24 24\"\n",
              "       width=\"24px\">\n",
              "    <path d=\"M0 0h24v24H0V0z\" fill=\"none\"/>\n",
              "    <path d=\"M18.56 5.44l.94 2.06.94-2.06 2.06-.94-2.06-.94-.94-2.06-.94 2.06-2.06.94zm-11 1L8.5 8.5l.94-2.06 2.06-.94-2.06-.94L8.5 2.5l-.94 2.06-2.06.94zm10 10l.94 2.06.94-2.06 2.06-.94-2.06-.94-.94-2.06-.94 2.06-2.06.94z\"/><path d=\"M17.41 7.96l-1.37-1.37c-.4-.4-.92-.59-1.43-.59-.52 0-1.04.2-1.43.59L10.3 9.45l-7.72 7.72c-.78.78-.78 2.05 0 2.83L4 21.41c.39.39.9.59 1.41.59.51 0 1.02-.2 1.41-.59l7.78-7.78 2.81-2.81c.8-.78.8-2.07 0-2.86zM5.41 20L4 18.59l7.72-7.72 1.47 1.35L5.41 20z\"/>\n",
              "  </svg>\n",
              "      </button>\n",
              "      \n",
              "  <style>\n",
              "    .colab-df-container {\n",
              "      display:flex;\n",
              "      flex-wrap:wrap;\n",
              "      gap: 12px;\n",
              "    }\n",
              "\n",
              "    .colab-df-convert {\n",
              "      background-color: #E8F0FE;\n",
              "      border: none;\n",
              "      border-radius: 50%;\n",
              "      cursor: pointer;\n",
              "      display: none;\n",
              "      fill: #1967D2;\n",
              "      height: 32px;\n",
              "      padding: 0 0 0 0;\n",
              "      width: 32px;\n",
              "    }\n",
              "\n",
              "    .colab-df-convert:hover {\n",
              "      background-color: #E2EBFA;\n",
              "      box-shadow: 0px 1px 2px rgba(60, 64, 67, 0.3), 0px 1px 3px 1px rgba(60, 64, 67, 0.15);\n",
              "      fill: #174EA6;\n",
              "    }\n",
              "\n",
              "    [theme=dark] .colab-df-convert {\n",
              "      background-color: #3B4455;\n",
              "      fill: #D2E3FC;\n",
              "    }\n",
              "\n",
              "    [theme=dark] .colab-df-convert:hover {\n",
              "      background-color: #434B5C;\n",
              "      box-shadow: 0px 1px 3px 1px rgba(0, 0, 0, 0.15);\n",
              "      filter: drop-shadow(0px 1px 2px rgba(0, 0, 0, 0.3));\n",
              "      fill: #FFFFFF;\n",
              "    }\n",
              "  </style>\n",
              "\n",
              "      <script>\n",
              "        const buttonEl =\n",
              "          document.querySelector('#df-8645df55-8172-46ad-af45-1082c8d7fa8f button.colab-df-convert');\n",
              "        buttonEl.style.display =\n",
              "          google.colab.kernel.accessAllowed ? 'block' : 'none';\n",
              "\n",
              "        async function convertToInteractive(key) {\n",
              "          const element = document.querySelector('#df-8645df55-8172-46ad-af45-1082c8d7fa8f');\n",
              "          const dataTable =\n",
              "            await google.colab.kernel.invokeFunction('convertToInteractive',\n",
              "                                                     [key], {});\n",
              "          if (!dataTable) return;\n",
              "\n",
              "          const docLinkHtml = 'Like what you see? Visit the ' +\n",
              "            '<a target=\"_blank\" href=https://colab.research.google.com/notebooks/data_table.ipynb>data table notebook</a>'\n",
              "            + ' to learn more about interactive tables.';\n",
              "          element.innerHTML = '';\n",
              "          dataTable['output_type'] = 'display_data';\n",
              "          await google.colab.output.renderOutput(dataTable, element);\n",
              "          const docLink = document.createElement('div');\n",
              "          docLink.innerHTML = docLinkHtml;\n",
              "          element.appendChild(docLink);\n",
              "        }\n",
              "      </script>\n",
              "    </div>\n",
              "  </div>\n",
              "  "
            ]
          },
          "metadata": {},
          "execution_count": 145
        }
      ],
      "source": [
        "df"
      ]
    },
    {
      "cell_type": "code",
      "execution_count": 146,
      "metadata": {
        "id": "b9RUHVHC8ITI"
      },
      "outputs": [],
      "source": [
        "Model_XGB = joblib.load('Model_XGB.pkl')"
      ]
    },
    {
      "cell_type": "code",
      "execution_count": 147,
      "metadata": {
        "id": "wlhFHRfo8L-G",
        "colab": {
          "base_uri": "https://localhost:8080/"
        },
        "outputId": "8827a00d-6213-43b8-bbdf-f0ca65abd83f"
      },
      "outputs": [
        {
          "output_type": "execute_result",
          "data": {
            "text/plain": [
              "array([0, 0, 1, 0, 0, 0, 1, 0, 0, 0, 0, 0, 0, 0, 0, 0, 0, 0, 0, 0, 0, 0,\n",
              "       1, 0, 0, 0, 0, 0, 0, 1, 0, 1, 0, 0, 0, 0, 0, 0, 0, 0, 0, 1, 0, 0,\n",
              "       1, 0, 0, 0, 0, 0, 0, 0, 0, 0, 0, 0, 1, 0, 0, 0, 0, 0, 0, 1, 0, 1,\n",
              "       0, 0, 0, 0, 0, 0, 1, 0, 0, 0, 0, 0, 1, 1, 0, 0, 0, 0, 1, 0, 1, 0,\n",
              "       0, 0, 0, 0, 0, 0, 0, 0, 0, 0, 0, 0, 0, 0, 0, 0, 1, 0, 0, 0, 0, 0,\n",
              "       0, 0, 0, 0, 0, 0, 0, 0, 1, 1, 1, 0, 0, 0, 0, 0, 1, 0, 0, 0, 0, 0,\n",
              "       0, 0, 0, 1, 1, 0, 1, 0, 0, 0, 0, 0, 0, 0, 0, 0, 1, 0, 0, 0, 0, 0,\n",
              "       1, 0, 0, 0, 0, 0, 0, 0, 0, 0, 1, 0, 0, 0, 0, 0, 0, 0, 0, 1, 1, 0,\n",
              "       0, 1, 0, 1, 0, 0, 1, 1, 0, 0, 0, 0, 1, 0, 0, 0, 0, 0, 0, 0, 0, 0,\n",
              "       1, 0, 0, 1, 0, 1, 0, 0, 1, 1, 0, 0, 0, 0, 0, 0, 0, 0, 0, 1, 1, 0,\n",
              "       0, 0, 0, 0, 0, 1, 0, 0, 0, 0, 0, 0, 0, 0, 0, 0, 1, 0, 1, 0, 0, 0,\n",
              "       0, 0, 0, 0, 0, 1, 0, 0, 0, 0, 1, 0, 0, 0, 0, 0, 0, 1, 0, 0, 0, 0,\n",
              "       0, 0, 0, 0, 1, 0, 0, 0, 0, 0, 1, 0, 0, 0, 0, 0, 0, 0, 0, 0, 1, 1,\n",
              "       0, 0, 0, 0, 0, 1, 0, 0, 0, 0, 0, 0, 0, 0])"
            ]
          },
          "metadata": {},
          "execution_count": 147
        }
      ],
      "source": [
        "Model_XGB.predict(final_prediction_data1)"
      ]
    },
    {
      "cell_type": "code",
      "execution_count": 149,
      "metadata": {
        "id": "TKlwoeNk8OgW"
      },
      "outputs": [],
      "source": [
        "XGB_pred = [0, 0, 1, 0, 0, 0, 1, 0, 0, 0, 0, 0, 0, 0, 0, 0, 0, 0, 0, 0, 0, 0,\n",
        "       1, 0, 0, 0, 0, 0, 0, 1, 0, 1, 0, 0, 0, 0, 0, 0, 0, 0, 0, 1, 0, 0,\n",
        "       1, 0, 0, 0, 0, 0, 0, 0, 0, 0, 0, 0, 1, 0, 0, 0, 0, 0, 0, 1, 0, 1,\n",
        "       0, 0, 0, 0, 0, 0, 1, 0, 0, 0, 0, 0, 1, 1, 0, 0, 0, 0, 1, 0, 1, 0,\n",
        "       0, 0, 0, 0, 0, 0, 0, 0, 0, 0, 0, 0, 0, 0, 0, 0, 1, 0, 0, 0, 0, 0,\n",
        "       0, 0, 0, 0, 0, 0, 0, 0, 1, 1, 1, 0, 0, 0, 0, 0, 1, 0, 0, 0, 0, 0,\n",
        "       0, 0, 0, 1, 1, 0, 1, 0, 0, 0, 0, 0, 0, 0, 0, 0, 1, 0, 0, 0, 0, 0,\n",
        "       1, 0, 0, 0, 0, 0, 0, 0, 0, 0, 1, 0, 0, 0, 0, 0, 0, 0, 0, 1, 1, 0,\n",
        "       0, 1, 0, 1, 0, 0, 1, 1, 0, 0, 0, 0, 1, 0, 0, 0, 0, 0, 0, 0, 0, 0,\n",
        "       1, 0, 0, 1, 0, 1, 0, 0, 1, 1, 0, 0, 0, 0, 0, 0, 0, 0, 0, 1, 1, 0,\n",
        "       0, 0, 0, 0, 0, 1, 0, 0, 0, 0, 0, 0, 0, 0, 0, 0, 1, 0, 1, 0, 0, 0,\n",
        "       0, 0, 0, 0, 0, 1, 0, 0, 0, 0, 1, 0, 0, 0, 0, 0, 0, 1, 0, 0, 0, 0,\n",
        "       0, 0, 0, 0, 1, 0, 0, 0, 0, 0, 1, 0, 0, 0, 0, 0, 0, 0, 0, 0, 1, 1,\n",
        "       0, 0, 0, 0, 0, 1, 0, 0, 0, 0, 0, 0, 0, 0]\n",
        "df['XGB_pred'] = XGB_pred"
      ]
    },
    {
      "cell_type": "code",
      "execution_count": 150,
      "metadata": {
        "id": "CD6j9HdL8TVW",
        "colab": {
          "base_uri": "https://localhost:8080/",
          "height": 424
        },
        "outputId": "791e99bd-bcdd-4422-f0f4-8d92fb554170"
      },
      "outputs": [
        {
          "output_type": "execute_result",
          "data": {
            "text/plain": [
              "                                                 Title  RF_pred  XGB_pred\n",
              "0    trump falsely claim ha election demand supreme...        0         0\n",
              "1    democrat raphael warnock defeated republican k...        0         0\n",
              "2    fbi opened inquiry whether trump secretly work...        0         1\n",
              "3    petition impeach clarence thomas pass 300000 s...        0         0\n",
              "4    impeach justice clarence thomas petition pass ...        0         0\n",
              "..                                                 ...      ...       ...\n",
              "295  surprise surprise offduty cops country dc capi...        0         0\n",
              "296  fbi looking ‘classified nuclear documents’ sea...        0         0\n",
              "297  trump thought could convince pence overthrow e...        0         0\n",
              "298  biggest question twitter user debate mute mics...        0         0\n",
              "299          biden urge congress codify roe v wade law        0         0\n",
              "\n",
              "[300 rows x 3 columns]"
            ],
            "text/html": [
              "\n",
              "  <div id=\"df-3576eb33-44d9-494c-b55f-b9b203ebc777\">\n",
              "    <div class=\"colab-df-container\">\n",
              "      <div>\n",
              "<style scoped>\n",
              "    .dataframe tbody tr th:only-of-type {\n",
              "        vertical-align: middle;\n",
              "    }\n",
              "\n",
              "    .dataframe tbody tr th {\n",
              "        vertical-align: top;\n",
              "    }\n",
              "\n",
              "    .dataframe thead th {\n",
              "        text-align: right;\n",
              "    }\n",
              "</style>\n",
              "<table border=\"1\" class=\"dataframe\">\n",
              "  <thead>\n",
              "    <tr style=\"text-align: right;\">\n",
              "      <th></th>\n",
              "      <th>Title</th>\n",
              "      <th>RF_pred</th>\n",
              "      <th>XGB_pred</th>\n",
              "    </tr>\n",
              "  </thead>\n",
              "  <tbody>\n",
              "    <tr>\n",
              "      <th>0</th>\n",
              "      <td>trump falsely claim ha election demand supreme...</td>\n",
              "      <td>0</td>\n",
              "      <td>0</td>\n",
              "    </tr>\n",
              "    <tr>\n",
              "      <th>1</th>\n",
              "      <td>democrat raphael warnock defeated republican k...</td>\n",
              "      <td>0</td>\n",
              "      <td>0</td>\n",
              "    </tr>\n",
              "    <tr>\n",
              "      <th>2</th>\n",
              "      <td>fbi opened inquiry whether trump secretly work...</td>\n",
              "      <td>0</td>\n",
              "      <td>1</td>\n",
              "    </tr>\n",
              "    <tr>\n",
              "      <th>3</th>\n",
              "      <td>petition impeach clarence thomas pass 300000 s...</td>\n",
              "      <td>0</td>\n",
              "      <td>0</td>\n",
              "    </tr>\n",
              "    <tr>\n",
              "      <th>4</th>\n",
              "      <td>impeach justice clarence thomas petition pass ...</td>\n",
              "      <td>0</td>\n",
              "      <td>0</td>\n",
              "    </tr>\n",
              "    <tr>\n",
              "      <th>...</th>\n",
              "      <td>...</td>\n",
              "      <td>...</td>\n",
              "      <td>...</td>\n",
              "    </tr>\n",
              "    <tr>\n",
              "      <th>295</th>\n",
              "      <td>surprise surprise offduty cops country dc capi...</td>\n",
              "      <td>0</td>\n",
              "      <td>0</td>\n",
              "    </tr>\n",
              "    <tr>\n",
              "      <th>296</th>\n",
              "      <td>fbi looking ‘classified nuclear documents’ sea...</td>\n",
              "      <td>0</td>\n",
              "      <td>0</td>\n",
              "    </tr>\n",
              "    <tr>\n",
              "      <th>297</th>\n",
              "      <td>trump thought could convince pence overthrow e...</td>\n",
              "      <td>0</td>\n",
              "      <td>0</td>\n",
              "    </tr>\n",
              "    <tr>\n",
              "      <th>298</th>\n",
              "      <td>biggest question twitter user debate mute mics...</td>\n",
              "      <td>0</td>\n",
              "      <td>0</td>\n",
              "    </tr>\n",
              "    <tr>\n",
              "      <th>299</th>\n",
              "      <td>biden urge congress codify roe v wade law</td>\n",
              "      <td>0</td>\n",
              "      <td>0</td>\n",
              "    </tr>\n",
              "  </tbody>\n",
              "</table>\n",
              "<p>300 rows × 3 columns</p>\n",
              "</div>\n",
              "      <button class=\"colab-df-convert\" onclick=\"convertToInteractive('df-3576eb33-44d9-494c-b55f-b9b203ebc777')\"\n",
              "              title=\"Convert this dataframe to an interactive table.\"\n",
              "              style=\"display:none;\">\n",
              "        \n",
              "  <svg xmlns=\"http://www.w3.org/2000/svg\" height=\"24px\"viewBox=\"0 0 24 24\"\n",
              "       width=\"24px\">\n",
              "    <path d=\"M0 0h24v24H0V0z\" fill=\"none\"/>\n",
              "    <path d=\"M18.56 5.44l.94 2.06.94-2.06 2.06-.94-2.06-.94-.94-2.06-.94 2.06-2.06.94zm-11 1L8.5 8.5l.94-2.06 2.06-.94-2.06-.94L8.5 2.5l-.94 2.06-2.06.94zm10 10l.94 2.06.94-2.06 2.06-.94-2.06-.94-.94-2.06-.94 2.06-2.06.94z\"/><path d=\"M17.41 7.96l-1.37-1.37c-.4-.4-.92-.59-1.43-.59-.52 0-1.04.2-1.43.59L10.3 9.45l-7.72 7.72c-.78.78-.78 2.05 0 2.83L4 21.41c.39.39.9.59 1.41.59.51 0 1.02-.2 1.41-.59l7.78-7.78 2.81-2.81c.8-.78.8-2.07 0-2.86zM5.41 20L4 18.59l7.72-7.72 1.47 1.35L5.41 20z\"/>\n",
              "  </svg>\n",
              "      </button>\n",
              "      \n",
              "  <style>\n",
              "    .colab-df-container {\n",
              "      display:flex;\n",
              "      flex-wrap:wrap;\n",
              "      gap: 12px;\n",
              "    }\n",
              "\n",
              "    .colab-df-convert {\n",
              "      background-color: #E8F0FE;\n",
              "      border: none;\n",
              "      border-radius: 50%;\n",
              "      cursor: pointer;\n",
              "      display: none;\n",
              "      fill: #1967D2;\n",
              "      height: 32px;\n",
              "      padding: 0 0 0 0;\n",
              "      width: 32px;\n",
              "    }\n",
              "\n",
              "    .colab-df-convert:hover {\n",
              "      background-color: #E2EBFA;\n",
              "      box-shadow: 0px 1px 2px rgba(60, 64, 67, 0.3), 0px 1px 3px 1px rgba(60, 64, 67, 0.15);\n",
              "      fill: #174EA6;\n",
              "    }\n",
              "\n",
              "    [theme=dark] .colab-df-convert {\n",
              "      background-color: #3B4455;\n",
              "      fill: #D2E3FC;\n",
              "    }\n",
              "\n",
              "    [theme=dark] .colab-df-convert:hover {\n",
              "      background-color: #434B5C;\n",
              "      box-shadow: 0px 1px 3px 1px rgba(0, 0, 0, 0.15);\n",
              "      filter: drop-shadow(0px 1px 2px rgba(0, 0, 0, 0.3));\n",
              "      fill: #FFFFFF;\n",
              "    }\n",
              "  </style>\n",
              "\n",
              "      <script>\n",
              "        const buttonEl =\n",
              "          document.querySelector('#df-3576eb33-44d9-494c-b55f-b9b203ebc777 button.colab-df-convert');\n",
              "        buttonEl.style.display =\n",
              "          google.colab.kernel.accessAllowed ? 'block' : 'none';\n",
              "\n",
              "        async function convertToInteractive(key) {\n",
              "          const element = document.querySelector('#df-3576eb33-44d9-494c-b55f-b9b203ebc777');\n",
              "          const dataTable =\n",
              "            await google.colab.kernel.invokeFunction('convertToInteractive',\n",
              "                                                     [key], {});\n",
              "          if (!dataTable) return;\n",
              "\n",
              "          const docLinkHtml = 'Like what you see? Visit the ' +\n",
              "            '<a target=\"_blank\" href=https://colab.research.google.com/notebooks/data_table.ipynb>data table notebook</a>'\n",
              "            + ' to learn more about interactive tables.';\n",
              "          element.innerHTML = '';\n",
              "          dataTable['output_type'] = 'display_data';\n",
              "          await google.colab.output.renderOutput(dataTable, element);\n",
              "          const docLink = document.createElement('div');\n",
              "          docLink.innerHTML = docLinkHtml;\n",
              "          element.appendChild(docLink);\n",
              "        }\n",
              "      </script>\n",
              "    </div>\n",
              "  </div>\n",
              "  "
            ]
          },
          "metadata": {},
          "execution_count": 150
        }
      ],
      "source": [
        "df"
      ]
    },
    {
      "cell_type": "code",
      "execution_count": 151,
      "metadata": {
        "id": "PBtA0xvl8W2v"
      },
      "outputs": [],
      "source": [
        "logreg = joblib.load('Model_logreg.pkl')"
      ]
    },
    {
      "cell_type": "code",
      "execution_count": 152,
      "metadata": {
        "id": "-GJXY89z8eb7",
        "colab": {
          "base_uri": "https://localhost:8080/"
        },
        "outputId": "429ce9e2-25db-4ddb-c1f5-2ded8cce547a"
      },
      "outputs": [
        {
          "output_type": "execute_result",
          "data": {
            "text/plain": [
              "array([0, 0, 1, 0, 0, 0, 0, 0, 0, 1, 0, 0, 0, 0, 0, 0, 0, 0, 0, 0, 0, 0,\n",
              "       1, 0, 0, 0, 0, 0, 0, 1, 0, 1, 0, 0, 0, 0, 0, 0, 0, 0, 0, 1, 0, 0,\n",
              "       1, 0, 0, 0, 0, 0, 0, 0, 0, 0, 0, 0, 1, 0, 1, 0, 0, 0, 0, 1, 1, 1,\n",
              "       0, 0, 0, 0, 0, 0, 1, 0, 0, 0, 0, 0, 1, 1, 0, 0, 0, 0, 1, 0, 1, 1,\n",
              "       0, 0, 0, 0, 0, 0, 0, 0, 0, 0, 0, 0, 0, 0, 0, 0, 1, 0, 0, 0, 0, 1,\n",
              "       0, 0, 0, 1, 0, 0, 0, 0, 1, 1, 1, 1, 1, 0, 0, 0, 1, 1, 0, 1, 0, 0,\n",
              "       0, 0, 0, 1, 1, 1, 1, 0, 0, 0, 0, 0, 0, 0, 0, 0, 1, 0, 0, 0, 0, 0,\n",
              "       1, 0, 0, 1, 0, 0, 0, 0, 1, 0, 1, 1, 0, 1, 0, 0, 0, 1, 0, 1, 0, 0,\n",
              "       0, 1, 0, 0, 0, 0, 1, 1, 0, 1, 0, 0, 1, 0, 0, 0, 0, 1, 0, 0, 0, 1,\n",
              "       1, 0, 1, 0, 0, 0, 1, 0, 1, 1, 0, 0, 0, 0, 0, 0, 0, 0, 0, 1, 1, 0,\n",
              "       0, 0, 0, 0, 0, 0, 0, 0, 0, 0, 0, 0, 0, 0, 0, 0, 1, 0, 0, 0, 0, 0,\n",
              "       0, 0, 0, 0, 0, 1, 0, 0, 0, 0, 1, 0, 0, 0, 0, 1, 0, 1, 0, 1, 0, 0,\n",
              "       1, 0, 0, 0, 1, 1, 0, 0, 0, 0, 1, 0, 0, 0, 1, 0, 1, 0, 0, 0, 1, 1,\n",
              "       0, 0, 0, 0, 0, 1, 0, 0, 0, 0, 0, 0, 0, 0])"
            ]
          },
          "metadata": {},
          "execution_count": 152
        }
      ],
      "source": [
        "logreg.predict(final_prediction_data1)"
      ]
    },
    {
      "cell_type": "code",
      "execution_count": 153,
      "metadata": {
        "id": "0vt223nt8hgq"
      },
      "outputs": [],
      "source": [
        "LR_pred = [0, 0, 1, 0, 0, 0, 0, 0, 0, 1, 0, 0, 0, 0, 0, 0, 0, 0, 0, 0, 0, 0,\n",
        "       1, 0, 0, 0, 0, 0, 0, 1, 0, 1, 0, 0, 0, 0, 0, 0, 0, 0, 0, 1, 0, 0,\n",
        "       1, 0, 0, 0, 0, 0, 0, 0, 0, 0, 0, 0, 1, 0, 1, 0, 0, 0, 0, 1, 1, 1,\n",
        "       0, 0, 0, 0, 0, 0, 1, 0, 0, 0, 0, 0, 1, 1, 0, 0, 0, 0, 1, 0, 1, 1,\n",
        "       0, 0, 0, 0, 0, 0, 0, 0, 0, 0, 0, 0, 0, 0, 0, 0, 1, 0, 0, 0, 0, 1,\n",
        "       0, 0, 0, 1, 0, 0, 0, 0, 1, 1, 1, 1, 1, 0, 0, 0, 1, 1, 0, 1, 0, 0,\n",
        "       0, 0, 0, 1, 1, 1, 1, 0, 0, 0, 0, 0, 0, 0, 0, 0, 1, 0, 0, 0, 0, 0,\n",
        "       1, 0, 0, 1, 0, 0, 0, 0, 1, 0, 1, 1, 0, 1, 0, 0, 0, 1, 0, 1, 0, 0,\n",
        "       0, 1, 0, 0, 0, 0, 1, 1, 0, 1, 0, 0, 1, 0, 0, 0, 0, 1, 0, 0, 0, 1,\n",
        "       1, 0, 1, 0, 0, 0, 1, 0, 1, 1, 0, 0, 0, 0, 0, 0, 0, 0, 0, 1, 1, 0,\n",
        "       0, 0, 0, 0, 0, 0, 0, 0, 0, 0, 0, 0, 0, 0, 0, 0, 1, 0, 0, 0, 0, 0,\n",
        "       0, 0, 0, 0, 0, 1, 0, 0, 0, 0, 1, 0, 0, 0, 0, 1, 0, 1, 0, 1, 0, 0,\n",
        "       1, 0, 0, 0, 1, 1, 0, 0, 0, 0, 1, 0, 0, 0, 1, 0, 1, 0, 0, 0, 1, 1,\n",
        "       0, 0, 0, 0, 0, 1, 0, 0, 0, 0, 0, 0, 0, 0]\n",
        "df['LR_pred'] = LR_pred"
      ]
    },
    {
      "cell_type": "code",
      "execution_count": 154,
      "metadata": {
        "id": "0T5ZMpK28mOD",
        "colab": {
          "base_uri": "https://localhost:8080/",
          "height": 424
        },
        "outputId": "11db0431-eb33-4c6a-f141-650f2211ad20"
      },
      "outputs": [
        {
          "output_type": "execute_result",
          "data": {
            "text/plain": [
              "                                                 Title  RF_pred  XGB_pred  \\\n",
              "0    trump falsely claim ha election demand supreme...        0         0   \n",
              "1    democrat raphael warnock defeated republican k...        0         0   \n",
              "2    fbi opened inquiry whether trump secretly work...        0         1   \n",
              "3    petition impeach clarence thomas pass 300000 s...        0         0   \n",
              "4    impeach justice clarence thomas petition pass ...        0         0   \n",
              "..                                                 ...      ...       ...   \n",
              "295  surprise surprise offduty cops country dc capi...        0         0   \n",
              "296  fbi looking ‘classified nuclear documents’ sea...        0         0   \n",
              "297  trump thought could convince pence overthrow e...        0         0   \n",
              "298  biggest question twitter user debate mute mics...        0         0   \n",
              "299          biden urge congress codify roe v wade law        0         0   \n",
              "\n",
              "     LR_pred  \n",
              "0          0  \n",
              "1          0  \n",
              "2          1  \n",
              "3          0  \n",
              "4          0  \n",
              "..       ...  \n",
              "295        0  \n",
              "296        0  \n",
              "297        0  \n",
              "298        0  \n",
              "299        0  \n",
              "\n",
              "[300 rows x 4 columns]"
            ],
            "text/html": [
              "\n",
              "  <div id=\"df-01c5b1a6-7464-44ce-a78e-451e45680d07\">\n",
              "    <div class=\"colab-df-container\">\n",
              "      <div>\n",
              "<style scoped>\n",
              "    .dataframe tbody tr th:only-of-type {\n",
              "        vertical-align: middle;\n",
              "    }\n",
              "\n",
              "    .dataframe tbody tr th {\n",
              "        vertical-align: top;\n",
              "    }\n",
              "\n",
              "    .dataframe thead th {\n",
              "        text-align: right;\n",
              "    }\n",
              "</style>\n",
              "<table border=\"1\" class=\"dataframe\">\n",
              "  <thead>\n",
              "    <tr style=\"text-align: right;\">\n",
              "      <th></th>\n",
              "      <th>Title</th>\n",
              "      <th>RF_pred</th>\n",
              "      <th>XGB_pred</th>\n",
              "      <th>LR_pred</th>\n",
              "    </tr>\n",
              "  </thead>\n",
              "  <tbody>\n",
              "    <tr>\n",
              "      <th>0</th>\n",
              "      <td>trump falsely claim ha election demand supreme...</td>\n",
              "      <td>0</td>\n",
              "      <td>0</td>\n",
              "      <td>0</td>\n",
              "    </tr>\n",
              "    <tr>\n",
              "      <th>1</th>\n",
              "      <td>democrat raphael warnock defeated republican k...</td>\n",
              "      <td>0</td>\n",
              "      <td>0</td>\n",
              "      <td>0</td>\n",
              "    </tr>\n",
              "    <tr>\n",
              "      <th>2</th>\n",
              "      <td>fbi opened inquiry whether trump secretly work...</td>\n",
              "      <td>0</td>\n",
              "      <td>1</td>\n",
              "      <td>1</td>\n",
              "    </tr>\n",
              "    <tr>\n",
              "      <th>3</th>\n",
              "      <td>petition impeach clarence thomas pass 300000 s...</td>\n",
              "      <td>0</td>\n",
              "      <td>0</td>\n",
              "      <td>0</td>\n",
              "    </tr>\n",
              "    <tr>\n",
              "      <th>4</th>\n",
              "      <td>impeach justice clarence thomas petition pass ...</td>\n",
              "      <td>0</td>\n",
              "      <td>0</td>\n",
              "      <td>0</td>\n",
              "    </tr>\n",
              "    <tr>\n",
              "      <th>...</th>\n",
              "      <td>...</td>\n",
              "      <td>...</td>\n",
              "      <td>...</td>\n",
              "      <td>...</td>\n",
              "    </tr>\n",
              "    <tr>\n",
              "      <th>295</th>\n",
              "      <td>surprise surprise offduty cops country dc capi...</td>\n",
              "      <td>0</td>\n",
              "      <td>0</td>\n",
              "      <td>0</td>\n",
              "    </tr>\n",
              "    <tr>\n",
              "      <th>296</th>\n",
              "      <td>fbi looking ‘classified nuclear documents’ sea...</td>\n",
              "      <td>0</td>\n",
              "      <td>0</td>\n",
              "      <td>0</td>\n",
              "    </tr>\n",
              "    <tr>\n",
              "      <th>297</th>\n",
              "      <td>trump thought could convince pence overthrow e...</td>\n",
              "      <td>0</td>\n",
              "      <td>0</td>\n",
              "      <td>0</td>\n",
              "    </tr>\n",
              "    <tr>\n",
              "      <th>298</th>\n",
              "      <td>biggest question twitter user debate mute mics...</td>\n",
              "      <td>0</td>\n",
              "      <td>0</td>\n",
              "      <td>0</td>\n",
              "    </tr>\n",
              "    <tr>\n",
              "      <th>299</th>\n",
              "      <td>biden urge congress codify roe v wade law</td>\n",
              "      <td>0</td>\n",
              "      <td>0</td>\n",
              "      <td>0</td>\n",
              "    </tr>\n",
              "  </tbody>\n",
              "</table>\n",
              "<p>300 rows × 4 columns</p>\n",
              "</div>\n",
              "      <button class=\"colab-df-convert\" onclick=\"convertToInteractive('df-01c5b1a6-7464-44ce-a78e-451e45680d07')\"\n",
              "              title=\"Convert this dataframe to an interactive table.\"\n",
              "              style=\"display:none;\">\n",
              "        \n",
              "  <svg xmlns=\"http://www.w3.org/2000/svg\" height=\"24px\"viewBox=\"0 0 24 24\"\n",
              "       width=\"24px\">\n",
              "    <path d=\"M0 0h24v24H0V0z\" fill=\"none\"/>\n",
              "    <path d=\"M18.56 5.44l.94 2.06.94-2.06 2.06-.94-2.06-.94-.94-2.06-.94 2.06-2.06.94zm-11 1L8.5 8.5l.94-2.06 2.06-.94-2.06-.94L8.5 2.5l-.94 2.06-2.06.94zm10 10l.94 2.06.94-2.06 2.06-.94-2.06-.94-.94-2.06-.94 2.06-2.06.94z\"/><path d=\"M17.41 7.96l-1.37-1.37c-.4-.4-.92-.59-1.43-.59-.52 0-1.04.2-1.43.59L10.3 9.45l-7.72 7.72c-.78.78-.78 2.05 0 2.83L4 21.41c.39.39.9.59 1.41.59.51 0 1.02-.2 1.41-.59l7.78-7.78 2.81-2.81c.8-.78.8-2.07 0-2.86zM5.41 20L4 18.59l7.72-7.72 1.47 1.35L5.41 20z\"/>\n",
              "  </svg>\n",
              "      </button>\n",
              "      \n",
              "  <style>\n",
              "    .colab-df-container {\n",
              "      display:flex;\n",
              "      flex-wrap:wrap;\n",
              "      gap: 12px;\n",
              "    }\n",
              "\n",
              "    .colab-df-convert {\n",
              "      background-color: #E8F0FE;\n",
              "      border: none;\n",
              "      border-radius: 50%;\n",
              "      cursor: pointer;\n",
              "      display: none;\n",
              "      fill: #1967D2;\n",
              "      height: 32px;\n",
              "      padding: 0 0 0 0;\n",
              "      width: 32px;\n",
              "    }\n",
              "\n",
              "    .colab-df-convert:hover {\n",
              "      background-color: #E2EBFA;\n",
              "      box-shadow: 0px 1px 2px rgba(60, 64, 67, 0.3), 0px 1px 3px 1px rgba(60, 64, 67, 0.15);\n",
              "      fill: #174EA6;\n",
              "    }\n",
              "\n",
              "    [theme=dark] .colab-df-convert {\n",
              "      background-color: #3B4455;\n",
              "      fill: #D2E3FC;\n",
              "    }\n",
              "\n",
              "    [theme=dark] .colab-df-convert:hover {\n",
              "      background-color: #434B5C;\n",
              "      box-shadow: 0px 1px 3px 1px rgba(0, 0, 0, 0.15);\n",
              "      filter: drop-shadow(0px 1px 2px rgba(0, 0, 0, 0.3));\n",
              "      fill: #FFFFFF;\n",
              "    }\n",
              "  </style>\n",
              "\n",
              "      <script>\n",
              "        const buttonEl =\n",
              "          document.querySelector('#df-01c5b1a6-7464-44ce-a78e-451e45680d07 button.colab-df-convert');\n",
              "        buttonEl.style.display =\n",
              "          google.colab.kernel.accessAllowed ? 'block' : 'none';\n",
              "\n",
              "        async function convertToInteractive(key) {\n",
              "          const element = document.querySelector('#df-01c5b1a6-7464-44ce-a78e-451e45680d07');\n",
              "          const dataTable =\n",
              "            await google.colab.kernel.invokeFunction('convertToInteractive',\n",
              "                                                     [key], {});\n",
              "          if (!dataTable) return;\n",
              "\n",
              "          const docLinkHtml = 'Like what you see? Visit the ' +\n",
              "            '<a target=\"_blank\" href=https://colab.research.google.com/notebooks/data_table.ipynb>data table notebook</a>'\n",
              "            + ' to learn more about interactive tables.';\n",
              "          element.innerHTML = '';\n",
              "          dataTable['output_type'] = 'display_data';\n",
              "          await google.colab.output.renderOutput(dataTable, element);\n",
              "          const docLink = document.createElement('div');\n",
              "          docLink.innerHTML = docLinkHtml;\n",
              "          element.appendChild(docLink);\n",
              "        }\n",
              "      </script>\n",
              "    </div>\n",
              "  </div>\n",
              "  "
            ]
          },
          "metadata": {},
          "execution_count": 154
        }
      ],
      "source": [
        "df"
      ]
    },
    {
      "cell_type": "code",
      "execution_count": 155,
      "metadata": {
        "id": "NHkyFu_A8pUj",
        "colab": {
          "base_uri": "https://localhost:8080/",
          "height": 403
        },
        "outputId": "791b92ae-2f84-476a-9356-3fbeeae8ae7c"
      },
      "outputs": [
        {
          "output_type": "stream",
          "name": "stdout",
          "text": [
            "0    285\n",
            "1     15\n",
            "Name: RF_pred, dtype: int64\n"
          ]
        },
        {
          "output_type": "display_data",
          "data": {
            "text/plain": [
              "<Figure size 1368x360 with 2 Axes>"
            ],
            "image/png": "[encoded data removed]"
          },
          "metadata": {
            "needs_background": "light"
          }
        }
      ],
      "source": [
        "print(df[\"RF_pred\"].value_counts())\n",
        "fig, ax = plt.subplots(1,2, figsize=(19, 5))\n",
        "g1 = sns.countplot(df.RF_pred,ax=ax[0],palette=\"pastel\");\n",
        "g1.set_title(\"Count of real and fake data\")\n",
        "g1.set_ylabel(\"Count\")\n",
        "g1.set_xlabel(\"RF_model\")\n",
        "g2 = plt.pie(df[\"RF_pred\"].value_counts().values,explode=[0,0],labels=df.RF_pred.value_counts().index, autopct='%1.1f%%',colors=['SkyBlue','PeachPuff'])\n",
        "fig.show()"
      ]
    },
    {
      "cell_type": "code",
      "execution_count": 156,
      "metadata": {
        "id": "nfZuB-qc8uCf",
        "colab": {
          "base_uri": "https://localhost:8080/",
          "height": 403
        },
        "outputId": "185a6035-400a-4329-c095-422511c033ed"
      },
      "outputs": [
        {
          "output_type": "stream",
          "name": "stdout",
          "text": [
            "0    249\n",
            "1     51\n",
            "Name: XGB_pred, dtype: int64\n"
          ]
        },
        {
          "output_type": "display_data",
          "data": {
            "text/plain": [
              "<Figure size 1368x360 with 2 Axes>"
            ],
            "image/png": "[encoded data removed]"
          },
          "metadata": {
            "needs_background": "light"
          }
        }
      ],
      "source": [
        "print(df[\"XGB_pred\"].value_counts())\n",
        "fig, ax = plt.subplots(1,2, figsize=(19, 5))\n",
        "g1 = sns.countplot(df.XGB_pred,ax=ax[0],palette=\"pastel\");\n",
        "g1.set_title(\"Count of real and fake data\")\n",
        "g1.set_ylabel(\"Count\")\n",
        "g1.set_xlabel(\"XGB_pred\")\n",
        "g2 = plt.pie(df[\"XGB_pred\"].value_counts().values,explode=[0,0],labels=df.XGB_pred.value_counts().index, autopct='%1.1f%%',colors=['Blue','PeachPuff'])\n",
        "fig.show()"
      ]
    },
    {
      "cell_type": "code",
      "execution_count": 157,
      "metadata": {
        "id": "RCAesTSZ8x5_",
        "colab": {
          "base_uri": "https://localhost:8080/",
          "height": 403
        },
        "outputId": "370cb29b-36f1-4c66-8e5f-eb5b7b86a25e"
      },
      "outputs": [
        {
          "output_type": "stream",
          "name": "stdout",
          "text": [
            "0    229\n",
            "1     71\n",
            "Name: LR_pred, dtype: int64\n"
          ]
        },
        {
          "output_type": "display_data",
          "data": {
            "text/plain": [
              "<Figure size 1368x360 with 2 Axes>"
            ],
            "image/png": "[encoded data removed]"
          },
          "metadata": {
            "needs_background": "light"
          }
        }
      ],
      "source": [
        "print(df[\"LR_pred\"].value_counts())\n",
        "fig, ax = plt.subplots(1,2, figsize=(19, 5))\n",
        "g1 = sns.countplot(df.XGB_pred,ax=ax[0],palette=\"pastel\");\n",
        "g1.set_title(\"Count of real and fake data\")\n",
        "g1.set_ylabel(\"Count\")\n",
        "g1.set_xlabel(\"LR_pred\")\n",
        "g2 = plt.pie(df[\"LR_pred\"].value_counts().values,explode=[0,0],labels=df.LR_pred.value_counts().index, autopct='%1.1f%%',colors=['Red','PeachPuff'])\n",
        "fig.show()"
      ]
    },
    {
      "cell_type": "code",
      "source": [],
      "metadata": {
        "id": "VfNKnep_JRvB"
      },
      "execution_count": null,
      "outputs": []
    }
  ],
  "metadata": {
    "colab": {
      "provenance": []
    },
    "kernelspec": {
      "display_name": "Python 3",
      "name": "python3"
    },
    "language_info": {
      "name": "python"
    }
  },
  "nbformat": 4,
  "nbformat_minor": 0
}